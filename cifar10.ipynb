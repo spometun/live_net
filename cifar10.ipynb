{
 "cells": [
  {
   "cell_type": "code",
   "metadata": {
    "collapsed": true,
    "ExecuteTime": {
     "end_time": "2025-05-11T14:37:35.484303Z",
     "start_time": "2025-05-11T14:37:35.465410Z"
    }
   },
   "source": [
    "# TODO:\n",
    "# reprodicible results driven by seed\n",
    "# correlation of features output for two networks. Or even FC training from from to other with L1/L2 norm?\n",
    "# start develop liveconv\n",
    "# don't forger penalise for operation, not (just) weight. Add stats on operations\n",
    "# why features' weights small but not zero? should I try depth-separable conv?\n",
    "# manual livenet for cifar10, and then think on auto?\n",
    "\n",
    "%load_ext autoreload\n",
    "%autoreload 2\n",
    "import torch\n",
    "import torch.utils\n",
    "import torch.utils.data\n",
    "import torchsummary\n",
    "import numpy as np\n",
    "import gc\n",
    "from livenet.utils import set_seed\n",
    "import onnx\n",
    "import livenet\n",
    "device = \"cuda\"\n",
    "#device = \"cpu\"\n",
    "#torch.set_default_device(device)\n",
    "from ai_libs.simple_log import LOG\n"
   ],
   "outputs": [
    {
     "name": "stdout",
     "output_type": "stream",
     "text": [
      "The autoreload extension is already loaded. To reload it, use:\n",
      "  %reload_ext autoreload\n"
     ]
    }
   ],
   "execution_count": 38
  },
  {
   "metadata": {
    "ExecuteTime": {
     "end_time": "2025-05-11T22:33:44.363288Z",
     "start_time": "2025-05-11T22:33:39.243913Z"
    }
   },
   "cell_type": "code",
   "source": [
    "batch_size = 256\n",
    "from livenet.datasets import TransformDataset\n",
    "test_x, test_y = livenet.datasets.get_cifar10_test()\n",
    "test = torch.utils.data.TensorDataset(test_x, test_y)\n",
    "test_aug = TransformDataset(test, livenet.datasets.cifar10_test_transform)\n",
    "test_loader = torch.utils.data.DataLoader(test_aug, batch_size=batch_size, drop_last=True, shuffle=True, num_workers=4, pin_memory=True)\n",
    "\n",
    "train_x, train_y = livenet.datasets.get_cifar10_train()\n",
    "train = torch.utils.data.TensorDataset(train_x, train_y)\n",
    "train_aug = TransformDataset(train, livenet.datasets.cifar10_train_transform)\n",
    "train_loader = torch.utils.data.DataLoader(train_aug, batch_size=batch_size, drop_last=True, shuffle=True, num_workers=16, pin_memory=True, prefetch_factor=2)\n",
    "\n"
   ],
   "outputs": [],
   "execution_count": 143
  },
  {
   "metadata": {
    "ExecuteTime": {
     "end_time": "2025-05-10T20:39:15.501728Z",
     "start_time": "2025-05-10T20:39:15.481505Z"
    }
   },
   "cell_type": "code",
   "source": [
    "\n",
    "train_aug = TransformDataset(train, livenet.datasets.cifar10_train_transform)\n"
   ],
   "outputs": [],
   "execution_count": 3
  },
  {
   "metadata": {
    "ExecuteTime": {
     "end_time": "2025-05-10T20:39:19.962165Z",
     "start_time": "2025-05-10T20:39:19.905073Z"
    }
   },
   "cell_type": "code",
   "source": [
    "img = train_aug[4][0].numpy()\n",
    "img = img.transpose(1, 2, 0)\n",
    "from matplotlib import pyplot as plt\n",
    "#img = livenet.datasets._elastic_transform(img, (-4, 0))\n",
    "img = (img * 128 + 127).astype(np.uint8)\n",
    "\n",
    "#plt.imsave(\"/home/spometun/img.png\", img)\n",
    "plt.imshow( img )"
   ],
   "outputs": [
    {
     "data": {
      "text/plain": [
       "<matplotlib.image.AxesImage at 0x74ec743dc080>"
      ]
     },
     "execution_count": 7,
     "metadata": {},
     "output_type": "execute_result"
    },
    {
     "data": {
      "text/plain": [
       "<Figure size 640x480 with 1 Axes>"
      ],
      "image/png": "[encoded data removed]"
     },
     "metadata": {},
     "output_type": "display_data"
    }
   ],
   "execution_count": 7
  },
  {
   "cell_type": "code",
   "metadata": {
    "collapsed": false,
    "ExecuteTime": {
     "end_time": "2025-05-12T01:35:58.126987Z",
     "start_time": "2025-05-12T01:35:58.067993Z"
    }
   },
   "source": [
    "from cifar_arch import EffNet, ResNet9, ResNet9Small\n",
    "\n",
    "set_seed(2)\n",
    "\n",
    "# network = EffNet(device)\n",
    "network = ResNet9Small(3, 10, device)\n",
    "torchsummary.summary(network, (3, 32, 32), device=device)\n",
    "\n"
   ],
   "outputs": [
    {
     "name": "stdout",
     "output_type": "stream",
     "text": [
      "----------------------------------------------------------------\n",
      "        Layer (type)               Output Shape         Param #\n",
      "================================================================\n",
      "            Conv2d-1           [-1, 16, 32, 32]             448\n",
      "       BatchNorm2d-2           [-1, 16, 32, 32]              32\n",
      "             ReLU6-3           [-1, 16, 32, 32]               0\n",
      "            Conv2d-4           [-1, 32, 32, 32]           4,640\n",
      "       BatchNorm2d-5           [-1, 32, 32, 32]              64\n",
      "             ReLU6-6           [-1, 32, 32, 32]               0\n",
      "         MaxPool2d-7           [-1, 32, 16, 16]               0\n",
      "            Conv2d-8           [-1, 32, 16, 16]           9,248\n",
      "       BatchNorm2d-9           [-1, 32, 16, 16]              64\n",
      "            ReLU6-10           [-1, 32, 16, 16]               0\n",
      "           Conv2d-11           [-1, 32, 16, 16]           9,248\n",
      "      BatchNorm2d-12           [-1, 32, 16, 16]              64\n",
      "            ReLU6-13           [-1, 32, 16, 16]               0\n",
      "           Conv2d-14           [-1, 32, 16, 16]              32\n",
      "           Conv2d-15           [-1, 64, 16, 16]          18,496\n",
      "      BatchNorm2d-16           [-1, 64, 16, 16]             128\n",
      "            ReLU6-17           [-1, 64, 16, 16]               0\n",
      "        MaxPool2d-18             [-1, 64, 8, 8]               0\n",
      "           Conv2d-19            [-1, 128, 8, 8]          73,856\n",
      "      BatchNorm2d-20            [-1, 128, 8, 8]             256\n",
      "            ReLU6-21            [-1, 128, 8, 8]               0\n",
      "        MaxPool2d-22            [-1, 128, 4, 4]               0\n",
      "           Conv2d-23            [-1, 128, 4, 4]         147,584\n",
      "      BatchNorm2d-24            [-1, 128, 4, 4]             256\n",
      "            ReLU6-25            [-1, 128, 4, 4]               0\n",
      "           Conv2d-26            [-1, 128, 4, 4]         147,584\n",
      "      BatchNorm2d-27            [-1, 128, 4, 4]             256\n",
      "            ReLU6-28            [-1, 128, 4, 4]               0\n",
      "           Conv2d-29            [-1, 128, 4, 4]             128\n",
      "        MaxPool2d-30            [-1, 128, 1, 1]               0\n",
      "           Conv2d-31             [-1, 10, 1, 1]           1,290\n",
      "          Flatten-32                   [-1, 10]               0\n",
      "================================================================\n",
      "Total params: 413,674\n",
      "Trainable params: 413,674\n",
      "Non-trainable params: 0\n",
      "----------------------------------------------------------------\n",
      "Input size (MB): 0.01\n",
      "Forward/backward pass size (MB): 2.34\n",
      "Params size (MB): 1.58\n",
      "Estimated Total Size (MB): 3.93\n",
      "----------------------------------------------------------------\n"
     ]
    }
   ],
   "execution_count": 165
  },
  {
   "metadata": {
    "ExecuteTime": {
     "end_time": "2025-05-11T22:34:14.088154Z",
     "start_time": "2025-05-11T22:34:14.063417Z"
    }
   },
   "cell_type": "code",
   "source": [
    "np.set_printoptions(precision=1)\n",
    "vals = list(network.parameters())[33].data.cpu().numpy().squeeze()\n",
    "LOG(f\"{np.min(vals):.2f} {np.max(vals):.2f}\")\n",
    "print(np.sum(vals < 0.01), np.sum(vals > 0.2))\n",
    "vals"
   ],
   "outputs": [
    {
     "name": "stdout",
     "output_type": "stream",
     "text": [
      "Iˈ0.000 -0.99 0.98 \n",
      "65 51\n"
     ]
    },
    {
     "data": {
      "text/plain": [
       "array([-0.4,  0.4,  0.1,  0.9, -0. , -0. ,  0.4, -0.4, -0.6, -0.5,  0.7,\n",
       "        0.1, -0.9,  0.7, -0.6,  0.2, -0.3,  0.5, -0.3,  0.5,  0.2, -0.6,\n",
       "        0.6, -0.3, -0.3,  0.7, -0. , -0.7, -0. ,  0.7,  0.4,  0.8,  0.1,\n",
       "        0.8, -0.4, -0.3, -0.3, -0.7, -0.6,  0.6, -0.3, -0.1, -0.1, -0.1,\n",
       "       -0.4,  0.9, -0.3,  0.3, -0.9, -0.9,  0.8, -0.2, -0.3, -1. ,  0.1,\n",
       "       -0.4, -0. ,  0. , -1. ,  0.3,  0.7,  0.7,  0.8,  0.9,  0.1,  0.9,\n",
       "        0.5,  1. , -0.6, -0.5, -0.2,  0.9,  0.6,  0.5, -0.8,  0.3, -0. ,\n",
       "        0.8, -0.1, -0.2, -0.9, -0.1, -0. ,  0.9, -0.3,  0.4,  0.8,  0.7,\n",
       "        0.1, -0.5, -0. , -0.2, -0.6, -0.8,  0.4,  0.8,  0.1, -0.2, -0.5,\n",
       "        0.7, -0.6,  0.4, -0.3, -0.8, -0.9, -0.1,  0.8,  0.8, -0. ,  0.2,\n",
       "        0.7,  0.3, -0.6,  0.5, -0.4, -0.2,  0.5,  0.1, -0.3,  0.4,  0.9,\n",
       "        0.1, -0.8,  0.3,  0.5, -0.2,  0.8,  0.9], dtype=float32)"
      ]
     },
     "execution_count": 145,
     "metadata": {},
     "output_type": "execute_result"
    }
   ],
   "execution_count": 145
  },
  {
   "cell_type": "code",
   "metadata": {
    "collapsed": false,
    "ExecuteTime": {
     "end_time": "2025-05-12T01:36:02.954302Z",
     "start_time": "2025-05-12T01:36:02.308188Z"
    }
   },
   "source": [
    "criterion = livenet.nets.criterion_classification_n\n",
    "optimizer = livenet.nets.create_optimizer(network)\n",
    "trainer = livenet.net_trainer.NetTrainer(network, train_loader, criterion, optimizer)\n",
    "trainer.adaptive_lr = True\n",
    "optimizer.learning_rate = 0.01\n",
    "\n"
   ],
   "outputs": [
    {
     "name": "stdout",
     "output_type": "stream",
     "text": [
      "Adam\n"
     ]
    }
   ],
   "execution_count": 166
  },
  {
   "cell_type": "code",
   "metadata": {
    "ExecuteTime": {
     "end_time": "2025-05-12T01:56:28.740787Z",
     "start_time": "2025-05-12T01:36:04.567156Z"
    }
   },
   "source": [
    "network.train()\n",
    "#trainer._need_to_stop = False\n",
    "#trainer.optimizer.learning_rate = 0.01 / 2 / 2 / 2 / 2 /2/2\n",
    "network._alpha = 0.01 * 1e-6\n",
    "trainer.step(30000)\n"
   ],
   "outputs": [
    {
     "name": "stdout",
     "output_type": "stream",
     "text": [
      "Iˈ0.000 194 2.909+0.012reg params=36 lr=0.01000 livenet/net_trainer.py:134\n",
      "Iˈ6.502 389 2.161+0.025reg params=36 lr=0.01000 livenet/net_trainer.py:134\n",
      "Iˈ13.336 584 1.784+0.034reg params=36 lr=0.01000 livenet/net_trainer.py:134\n",
      "Iˈ20.147 779 1.563+0.041reg params=36 lr=0.01000 livenet/net_trainer.py:134\n",
      "Iˈ27.062 974 1.430+0.046reg params=36 lr=0.01000 livenet/net_trainer.py:134\n",
      "Iˈ34.102 1169 1.338+0.051reg params=36 lr=0.01000 livenet/net_trainer.py:134\n",
      "Iˈ41.245 1364 1.264+0.055reg params=36 lr=0.01000 livenet/net_trainer.py:134\n",
      "Iˈ48.265 1559 1.212+0.059reg params=36 lr=0.01000 livenet/net_trainer.py:134\n",
      "Iˈ55.523 1754 1.161+0.062reg params=36 lr=0.01000 livenet/net_trainer.py:134\n",
      "Iˈ62.913 1949 1.128+0.066reg params=36 lr=0.01000 livenet/net_trainer.py:134\n",
      "Iˈ70.475 2144 1.100+0.069reg params=36 lr=0.01000 livenet/net_trainer.py:134\n",
      "Iˈ78.041 2339 1.049+0.072reg params=36 lr=0.01000 livenet/net_trainer.py:134\n",
      "Iˈ85.716 2534 1.034+0.074reg params=36 lr=0.01000 livenet/net_trainer.py:134\n",
      "Iˈ93.076 2729 1.015+0.077reg params=36 lr=0.01000 livenet/net_trainer.py:134\n",
      "Iˈ100.465 2924 0.999+0.079reg params=36 lr=0.01000 livenet/net_trainer.py:134\n",
      "Iˈ108.214 3119 0.967+0.082reg params=36 lr=0.01000 livenet/net_trainer.py:134\n",
      "Iˈ115.598 3314 0.950+0.084reg params=36 lr=0.01000 livenet/net_trainer.py:134\n",
      "Iˈ123.055 3509 0.936+0.086reg params=36 lr=0.01000 livenet/net_trainer.py:134\n",
      "Iˈ130.912 3704 0.925+0.088reg params=36 lr=0.01000 livenet/net_trainer.py:134\n",
      "Iˈ138.714 3899 0.904+0.090reg params=36 lr=0.01000 livenet/net_trainer.py:134\n",
      "Iˈ146.783 4094 0.891+0.091reg params=36 lr=0.01000 livenet/net_trainer.py:134\n",
      "Iˈ154.776 4289 0.883+0.093reg params=36 lr=0.01000 livenet/net_trainer.py:134\n",
      "Iˈ162.466 4484 0.871+0.095reg params=36 lr=0.01000 livenet/net_trainer.py:134\n",
      "Iˈ170.485 4679 0.857+0.097reg params=36 lr=0.01000 livenet/net_trainer.py:134\n",
      "Iˈ178.116 4874 0.846+0.098reg params=36 lr=0.01000 livenet/net_trainer.py:134\n",
      "Iˈ185.785 5069 0.833+0.100reg params=36 lr=0.01000 livenet/net_trainer.py:134\n",
      "Iˈ193.696 5264 0.828+0.101reg params=36 lr=0.01000 livenet/net_trainer.py:134\n",
      "Iˈ201.729 5459 0.820+0.103reg params=36 lr=0.01000 livenet/net_trainer.py:134\n",
      "Iˈ209.669 5654 0.809+0.104reg params=36 lr=0.01000 livenet/net_trainer.py:134\n",
      "Iˈ217.869 5849 0.801+0.106reg params=36 lr=0.01000 livenet/net_trainer.py:134\n",
      "Iˈ225.851 6044 0.792+0.107reg params=36 lr=0.01000 livenet/net_trainer.py:134\n",
      "Iˈ233.773 6239 0.793+0.108reg params=36 lr=0.01000 livenet/net_trainer.py:134\n",
      "Iˈ242.213 6434 0.785+0.109reg params=36 lr=0.01000 livenet/net_trainer.py:134\n",
      "Iˈ250.069 6629 0.776+0.111reg params=36 lr=0.01000 livenet/net_trainer.py:134\n",
      "Iˈ258.284 6824 0.763+0.112reg params=36 lr=0.01000 livenet/net_trainer.py:134\n",
      "Iˈ266.377 7019 0.763+0.113reg params=36 lr=0.01000 livenet/net_trainer.py:134\n",
      "Iˈ274.249 7214 0.755+0.114reg params=36 lr=0.01000 livenet/net_trainer.py:134\n",
      "Iˈ282.395 7409 0.755+0.116reg params=36 lr=0.01000 livenet/net_trainer.py:134\n",
      "Iˈ290.471 7604 0.750+0.117reg params=36 lr=0.01000 livenet/net_trainer.py:134\n",
      "Iˈ298.767 7799 0.739+0.118reg params=36 lr=0.01000 livenet/net_trainer.py:134\n",
      "Iˈ307.079 7994 0.739+0.119reg params=36 lr=0.01000 livenet/net_trainer.py:134\n",
      "Iˈ314.996 8189 0.727+0.120reg params=36 lr=0.01000 livenet/net_trainer.py:134\n",
      "Iˈ323.440 8384 0.730+0.121reg params=36 lr=0.01000 livenet/net_trainer.py:134\n",
      "Iˈ331.366 8579 0.718+0.122reg params=36 lr=0.01000 livenet/net_trainer.py:134\n",
      "Iˈ339.306 8774 0.718+0.123reg params=36 lr=0.01000 livenet/net_trainer.py:134\n",
      "Iˈ347.048 8969 0.707+0.124reg params=36 lr=0.01000 livenet/net_trainer.py:134\n",
      "Iˈ354.850 9164 0.708+0.125reg params=36 lr=0.01000 livenet/net_trainer.py:134\n",
      "Iˈ363.049 9359 0.705+0.125reg params=36 lr=0.01000 livenet/net_trainer.py:134\n",
      "Iˈ371.150 9554 0.700+0.126reg params=36 lr=0.01000 livenet/net_trainer.py:134\n",
      "Iˈ379.295 9749 0.703+0.127reg params=36 lr=0.01000 livenet/net_trainer.py:134\n",
      "Iˈ387.129 9944 0.682+0.128reg params=36 lr=0.01000 livenet/net_trainer.py:134\n",
      "Iˈ394.975 10139 0.687+0.129reg params=36 lr=0.01000 livenet/net_trainer.py:134\n",
      "Iˈ402.862 10334 0.690+0.130reg params=36 lr=0.01000 livenet/net_trainer.py:134\n",
      "Iˈ410.751 10529 0.687+0.131reg params=36 lr=0.00500 livenet/net_trainer.py:134\n",
      "Iˈ418.915 10724 0.610+0.131reg params=36 lr=0.00500 livenet/net_trainer.py:134\n",
      "Iˈ426.695 10919 0.594+0.131reg params=36 lr=0.00500 livenet/net_trainer.py:134\n",
      "Iˈ435.041 11114 0.598+0.130reg params=36 lr=0.00500 livenet/net_trainer.py:134\n",
      "Iˈ443.063 11309 0.592+0.130reg params=36 lr=0.00500 livenet/net_trainer.py:134\n",
      "Iˈ450.803 11504 0.583+0.130reg params=36 lr=0.00500 livenet/net_trainer.py:134\n",
      "Iˈ459.053 11699 0.578+0.130reg params=36 lr=0.00500 livenet/net_trainer.py:134\n",
      "Iˈ467.188 11894 0.578+0.130reg params=36 lr=0.00500 livenet/net_trainer.py:134\n",
      "Iˈ475.305 12089 0.571+0.130reg params=36 lr=0.00500 livenet/net_trainer.py:134\n",
      "Iˈ483.742 12284 0.573+0.130reg params=36 lr=0.00500 livenet/net_trainer.py:134\n",
      "Iˈ491.395 12479 0.567+0.130reg params=36 lr=0.00500 livenet/net_trainer.py:134\n",
      "Iˈ499.411 12674 0.567+0.130reg params=36 lr=0.00500 livenet/net_trainer.py:134\n",
      "Iˈ507.739 12869 0.563+0.130reg params=36 lr=0.00500 livenet/net_trainer.py:134\n",
      "Iˈ516.007 13064 0.560+0.130reg params=36 lr=0.00500 livenet/net_trainer.py:134\n",
      "Iˈ523.762 13259 0.566+0.130reg params=36 lr=0.00500 livenet/net_trainer.py:134\n",
      "Iˈ531.703 13454 0.557+0.129reg params=36 lr=0.00500 livenet/net_trainer.py:134\n",
      "Iˈ539.675 13649 0.554+0.129reg params=36 lr=0.00500 livenet/net_trainer.py:134\n",
      "Iˈ547.901 13844 0.553+0.129reg params=36 lr=0.00500 livenet/net_trainer.py:134\n",
      "Iˈ555.998 14039 0.562+0.129reg params=36 lr=0.00500 livenet/net_trainer.py:134\n",
      "Iˈ563.968 14234 0.554+0.129reg params=36 lr=0.00500 livenet/net_trainer.py:134\n",
      "Iˈ572.231 14429 0.558+0.130reg params=36 lr=0.00250 livenet/net_trainer.py:134\n",
      "Iˈ580.469 14624 0.520+0.129reg params=36 lr=0.00250 livenet/net_trainer.py:134\n",
      "Iˈ588.417 14819 0.502+0.129reg params=36 lr=0.00250 livenet/net_trainer.py:134\n",
      "Iˈ596.550 15014 0.508+0.129reg params=36 lr=0.00250 livenet/net_trainer.py:134\n",
      "Iˈ604.814 15209 0.502+0.129reg params=36 lr=0.00250 livenet/net_trainer.py:134\n",
      "Iˈ612.879 15404 0.502+0.129reg params=36 lr=0.00250 livenet/net_trainer.py:134\n",
      "Iˈ620.733 15599 0.503+0.128reg params=36 lr=0.00250 livenet/net_trainer.py:134\n",
      "Iˈ628.609 15794 0.495+0.128reg params=36 lr=0.00250 livenet/net_trainer.py:134\n",
      "Iˈ636.470 15989 0.497+0.128reg params=36 lr=0.00250 livenet/net_trainer.py:134\n",
      "Iˈ644.783 16184 0.495+0.128reg params=36 lr=0.00250 livenet/net_trainer.py:134\n",
      "Iˈ652.701 16379 0.493+0.128reg params=36 lr=0.00250 livenet/net_trainer.py:134\n",
      "Iˈ660.653 16574 0.491+0.128reg params=36 lr=0.00250 livenet/net_trainer.py:134\n",
      "Iˈ668.669 16769 0.494+0.128reg params=36 lr=0.00250 livenet/net_trainer.py:134\n",
      "Iˈ676.853 16964 0.490+0.127reg params=36 lr=0.00250 livenet/net_trainer.py:134\n",
      "Iˈ684.781 17159 0.489+0.127reg params=36 lr=0.00250 livenet/net_trainer.py:134\n",
      "Iˈ692.821 17354 0.487+0.127reg params=36 lr=0.00250 livenet/net_trainer.py:134\n",
      "Iˈ701.202 17549 0.494+0.127reg params=36 lr=0.00250 livenet/net_trainer.py:134\n",
      "Iˈ709.054 17744 0.491+0.127reg params=36 lr=0.00250 livenet/net_trainer.py:134\n",
      "Iˈ716.882 17939 0.483+0.127reg params=36 lr=0.00250 livenet/net_trainer.py:134\n",
      "Iˈ724.712 18134 0.475+0.127reg params=36 lr=0.00250 livenet/net_trainer.py:134\n",
      "Iˈ732.718 18329 0.481+0.127reg params=36 lr=0.00250 livenet/net_trainer.py:134\n",
      "Iˈ740.785 18524 0.479+0.127reg params=36 lr=0.00250 livenet/net_trainer.py:134\n",
      "Iˈ748.757 18719 0.475+0.126reg params=36 lr=0.00250 livenet/net_trainer.py:134\n",
      "Iˈ756.903 18914 0.489+0.126reg params=36 lr=0.00250 livenet/net_trainer.py:134\n",
      "Iˈ765.354 19109 0.475+0.126reg params=36 lr=0.00250 livenet/net_trainer.py:134\n",
      "Iˈ773.457 19304 0.482+0.126reg params=36 lr=0.00250 livenet/net_trainer.py:134\n",
      "Iˈ781.418 19499 0.477+0.126reg params=36 lr=0.00250 livenet/net_trainer.py:134\n",
      "Iˈ789.712 19694 0.473+0.126reg params=36 lr=0.00250 livenet/net_trainer.py:134\n",
      "Iˈ797.779 19889 0.480+0.126reg params=36 lr=0.00250 livenet/net_trainer.py:134\n",
      "Iˈ805.897 20084 0.467+0.126reg params=36 lr=0.00250 livenet/net_trainer.py:134\n",
      "Iˈ814.101 20279 0.474+0.126reg params=36 lr=0.00250 livenet/net_trainer.py:134\n",
      "Iˈ822.688 20474 0.465+0.126reg params=36 lr=0.00250 livenet/net_trainer.py:134\n",
      "Iˈ830.612 20669 0.472+0.125reg params=36 lr=0.00250 livenet/net_trainer.py:134\n",
      "Iˈ838.689 20864 0.460+0.125reg params=36 lr=0.00250 livenet/net_trainer.py:134\n",
      "Iˈ846.841 21059 0.473+0.125reg params=36 lr=0.00250 livenet/net_trainer.py:134\n",
      "Iˈ854.841 21254 0.467+0.125reg params=36 lr=0.00250 livenet/net_trainer.py:134\n",
      "Iˈ863.049 21449 0.466+0.125reg params=36 lr=0.00125 livenet/net_trainer.py:134\n",
      "Iˈ871.087 21644 0.451+0.125reg params=36 lr=0.00125 livenet/net_trainer.py:134\n",
      "Iˈ879.336 21839 0.448+0.125reg params=36 lr=0.00125 livenet/net_trainer.py:134\n",
      "Iˈ887.125 22034 0.443+0.125reg params=36 lr=0.00125 livenet/net_trainer.py:134\n",
      "Iˈ895.079 22229 0.447+0.125reg params=36 lr=0.00125 livenet/net_trainer.py:134\n",
      "Iˈ903.033 22424 0.445+0.125reg params=36 lr=0.00125 livenet/net_trainer.py:134\n",
      "Iˈ911.041 22619 0.443+0.124reg params=36 lr=0.00125 livenet/net_trainer.py:134\n",
      "Iˈ919.478 22814 0.440+0.124reg params=36 lr=0.00125 livenet/net_trainer.py:134\n",
      "Iˈ927.562 23009 0.446+0.124reg params=36 lr=0.00125 livenet/net_trainer.py:134\n",
      "Iˈ935.584 23204 0.440+0.124reg params=36 lr=0.00125 livenet/net_trainer.py:134\n",
      "Iˈ943.788 23399 0.441+0.124reg params=36 lr=0.00125 livenet/net_trainer.py:134\n",
      "Iˈ951.808 23594 0.441+0.124reg params=36 lr=0.00125 livenet/net_trainer.py:134\n",
      "Iˈ959.738 23789 0.440+0.124reg params=36 lr=0.00063 livenet/net_trainer.py:134\n",
      "Iˈ967.945 23984 0.431+0.124reg params=36 lr=0.00063 livenet/net_trainer.py:134\n",
      "Iˈ975.806 24179 0.434+0.124reg params=36 lr=0.00063 livenet/net_trainer.py:134\n",
      "Iˈ984.099 24374 0.437+0.124reg params=36 lr=0.00063 livenet/net_trainer.py:134\n",
      "Iˈ992.240 24569 0.427+0.124reg params=36 lr=0.00063 livenet/net_trainer.py:134\n",
      "Iˈ1000.463 24764 0.427+0.124reg params=36 lr=0.00063 livenet/net_trainer.py:134\n",
      "Iˈ1008.589 24959 0.426+0.124reg params=36 lr=0.00063 livenet/net_trainer.py:134\n",
      "Iˈ1016.999 25154 0.430+0.123reg params=36 lr=0.00063 livenet/net_trainer.py:134\n",
      "Iˈ1024.870 25349 0.422+0.123reg params=36 lr=0.00063 livenet/net_trainer.py:134\n",
      "Iˈ1033.247 25544 0.421+0.123reg params=36 lr=0.00063 livenet/net_trainer.py:134\n",
      "Iˈ1041.448 25739 0.425+0.123reg params=36 lr=0.00063 livenet/net_trainer.py:134\n",
      "Iˈ1049.559 25934 0.429+0.123reg params=36 lr=0.00063 livenet/net_trainer.py:134\n",
      "Iˈ1057.734 26129 0.429+0.123reg params=36 lr=0.00031 livenet/net_trainer.py:134\n",
      "Iˈ1065.877 26324 0.420+0.123reg params=36 lr=0.00031 livenet/net_trainer.py:134\n",
      "Iˈ1074.098 26519 0.417+0.123reg params=36 lr=0.00031 livenet/net_trainer.py:134\n",
      "Iˈ1082.268 26714 0.421+0.123reg params=36 lr=0.00031 livenet/net_trainer.py:134\n",
      "Iˈ1090.224 26909 0.420+0.123reg params=36 lr=0.00031 livenet/net_trainer.py:134\n",
      "Iˈ1098.257 27104 0.419+0.123reg params=36 lr=0.00031 livenet/net_trainer.py:134\n",
      "Iˈ1106.562 27299 0.422+0.123reg params=36 lr=0.00016 livenet/net_trainer.py:134\n",
      "Iˈ1114.594 27494 0.419+0.123reg params=36 lr=0.00016 livenet/net_trainer.py:134\n",
      "Iˈ1122.694 27689 0.416+0.123reg params=36 lr=0.00016 livenet/net_trainer.py:134\n",
      "Iˈ1130.676 27884 0.420+0.123reg params=36 lr=0.00016 livenet/net_trainer.py:134\n",
      "Iˈ1139.055 28079 0.412+0.123reg params=36 lr=0.00016 livenet/net_trainer.py:134\n",
      "Iˈ1147.154 28274 0.419+0.123reg params=36 lr=0.00016 livenet/net_trainer.py:134\n",
      "Iˈ1155.293 28469 0.414+0.123reg params=36 lr=0.00016 livenet/net_trainer.py:134\n",
      "Iˈ1163.281 28664 0.409+0.123reg params=36 lr=0.00016 livenet/net_trainer.py:134\n",
      "Iˈ1171.507 28859 0.422+0.123reg params=36 lr=0.00016 livenet/net_trainer.py:134\n",
      "Iˈ1179.490 29054 0.413+0.123reg params=36 lr=0.00016 livenet/net_trainer.py:134\n",
      "Iˈ1187.729 29249 0.423+0.123reg params=36 lr=0.00008 livenet/net_trainer.py:134\n",
      "Iˈ1195.948 29444 0.415+0.123reg params=36 lr=0.00008 livenet/net_trainer.py:134\n",
      "Iˈ1203.824 29639 0.415+0.123reg params=36 lr=0.00008 livenet/net_trainer.py:134\n",
      "Iˈ1211.967 29834 0.414+0.123reg params=36 lr=0.00008 livenet/net_trainer.py:134\n"
     ]
    }
   ],
   "execution_count": 167
  },
  {
   "metadata": {
    "ExecuteTime": {
     "end_time": "2025-05-12T11:23:56.149483Z",
     "start_time": "2025-05-12T11:23:55.805884Z"
    }
   },
   "cell_type": "code",
   "source": [
    "gc.collect()\n",
    "torch.cuda.empty_cache()\n",
    "\n",
    "def _infer_epoch(network, loader):\n",
    "    preds = []\n",
    "    ys = []\n",
    "    with torch.no_grad():\n",
    "        for x, y in iter(loader):\n",
    "            x = x.to(network.device)\n",
    "            pred = network(x)\n",
    "            pred = pred.cpu()\n",
    "            preds.append(pred)\n",
    "            ys.append(y.cpu())\n",
    "    pred = torch.concatenate(preds)\n",
    "    y = torch.concatenate(ys)\n",
    "    return pred, y\n",
    "\n",
    "\n",
    "network.train()\n",
    "#train_pred, train_labels = _infer_epoch(network, train_loader)\n",
    "test_pred, test_labels = _infer_epoch(network, test_loader)\n",
    "\n",
    "network.eval()\n",
    "test_pred, test_labels = _infer_epoch(network, test_loader)\n",
    "train_pred, train_labels = _infer_epoch(network, train_loader)\n",
    "\n",
    "def calc_accuracy(predictions, labels):\n",
    "    _, predicted = torch.max(predictions.data, 1)\n",
    "    labels = labels.numpy()\n",
    "    labels = np.squeeze(labels, 1)\n",
    "    predicted = predicted.numpy()\n",
    "    correct = np.sum(predicted == labels)\n",
    "    total = len(labels)\n",
    "    accuracy = correct / total\n",
    "    return accuracy\n",
    "\n",
    "\n",
    "# test_y_tensor = torch.tensor(test_y, device=\"cpu\")\n",
    "# train_y_tensor = torch.tensor(train_y, device=\"cpu\")\n",
    "test_loss = trainer.criterion(test_pred, test_labels).item()\n",
    "train_loss = trainer.criterion(train_pred, train_labels).item()\n",
    "LOG(f\"loss: train: {train_loss:.3f} test: {test_loss:.3f}\")\n",
    "\n",
    "test_accuracy = calc_accuracy(test_pred, test_labels)\n",
    "train_accuracy = calc_accuracy(train_pred, train_labels)\n",
    "LOG(f\"accuracy, train: {100 * train_accuracy:.1f}% test: {100 * test_accuracy:.1f}%\")"
   ],
   "outputs": [
    {
     "ename": "RuntimeError",
     "evalue": "CUDA error: unknown error\nCUDA kernel errors might be asynchronously reported at some other API call, so the stacktrace below might be incorrect.\nFor debugging consider passing CUDA_LAUNCH_BLOCKING=1\nCompile with `TORCH_USE_CUDA_DSA` to enable device-side assertions.\n",
     "output_type": "error",
     "traceback": [
      "\u001B[31m---------------------------------------------------------------------------\u001B[39m",
      "\u001B[31mRuntimeError\u001B[39m                              Traceback (most recent call last)",
      "\u001B[36mCell\u001B[39m\u001B[36m \u001B[39m\u001B[32mIn[168]\u001B[39m\u001B[32m, line 21\u001B[39m\n\u001B[32m     19\u001B[39m network.train()\n\u001B[32m     20\u001B[39m \u001B[38;5;66;03m#train_pred, train_labels = _infer_epoch(network, train_loader)\u001B[39;00m\n\u001B[32m---> \u001B[39m\u001B[32m21\u001B[39m test_pred, test_labels = \u001B[43m_infer_epoch\u001B[49m\u001B[43m(\u001B[49m\u001B[43mnetwork\u001B[49m\u001B[43m,\u001B[49m\u001B[43m \u001B[49m\u001B[43mtest_loader\u001B[49m\u001B[43m)\u001B[49m\n\u001B[32m     23\u001B[39m network.eval()\n\u001B[32m     24\u001B[39m test_pred, test_labels = _infer_epoch(network, test_loader)\n",
      "\u001B[36mCell\u001B[39m\u001B[36m \u001B[39m\u001B[32mIn[168]\u001B[39m\u001B[32m, line 9\u001B[39m, in \u001B[36m_infer_epoch\u001B[39m\u001B[34m(network, loader)\u001B[39m\n\u001B[32m      7\u001B[39m \u001B[38;5;28;01mwith\u001B[39;00m torch.no_grad():\n\u001B[32m      8\u001B[39m     \u001B[38;5;28;01mfor\u001B[39;00m x, y \u001B[38;5;129;01min\u001B[39;00m \u001B[38;5;28miter\u001B[39m(loader):\n\u001B[32m----> \u001B[39m\u001B[32m9\u001B[39m         x = \u001B[43mx\u001B[49m\u001B[43m.\u001B[49m\u001B[43mto\u001B[49m\u001B[43m(\u001B[49m\u001B[43mnetwork\u001B[49m\u001B[43m.\u001B[49m\u001B[43mdevice\u001B[49m\u001B[43m)\u001B[49m\n\u001B[32m     10\u001B[39m         pred = network(x)\n\u001B[32m     11\u001B[39m         pred = pred.cpu()\n",
      "\u001B[31mRuntimeError\u001B[39m: CUDA error: unknown error\nCUDA kernel errors might be asynchronously reported at some other API call, so the stacktrace below might be incorrect.\nFor debugging consider passing CUDA_LAUNCH_BLOCKING=1\nCompile with `TORCH_USE_CUDA_DSA` to enable device-side assertions.\n"
     ]
    }
   ],
   "execution_count": 168
  },
  {
   "metadata": {
    "ExecuteTime": {
     "end_time": "2025-05-12T11:25:09.593366Z",
     "start_time": "2025-05-12T11:25:09.506572Z"
    }
   },
   "cell_type": "code",
   "source": "network.to(\"cpu\")",
   "outputs": [
    {
     "ename": "RuntimeError",
     "evalue": "CUDA error: unspecified launch failure\nCUDA kernel errors might be asynchronously reported at some other API call, so the stacktrace below might be incorrect.\nFor debugging consider passing CUDA_LAUNCH_BLOCKING=1\nCompile with `TORCH_USE_CUDA_DSA` to enable device-side assertions.\n",
     "output_type": "error",
     "traceback": [
      "\u001B[31m---------------------------------------------------------------------------\u001B[39m",
      "\u001B[31mRuntimeError\u001B[39m                              Traceback (most recent call last)",
      "\u001B[36mCell\u001B[39m\u001B[36m \u001B[39m\u001B[32mIn[169]\u001B[39m\u001B[32m, line 1\u001B[39m\n\u001B[32m----> \u001B[39m\u001B[32m1\u001B[39m \u001B[43mnetwork\u001B[49m\u001B[43m.\u001B[49m\u001B[43mto\u001B[49m\u001B[43m(\u001B[49m\u001B[33;43m\"\u001B[39;49m\u001B[33;43mcpu\u001B[39;49m\u001B[33;43m\"\u001B[39;49m\u001B[43m)\u001B[49m\n",
      "\u001B[36mFile \u001B[39m\u001B[32m~/miniconda3/envs/home/lib/python3.12/site-packages/torch/nn/modules/module.py:1355\u001B[39m, in \u001B[36mModule.to\u001B[39m\u001B[34m(self, *args, **kwargs)\u001B[39m\n\u001B[32m   1352\u001B[39m         \u001B[38;5;28;01melse\u001B[39;00m:\n\u001B[32m   1353\u001B[39m             \u001B[38;5;28;01mraise\u001B[39;00m\n\u001B[32m-> \u001B[39m\u001B[32m1355\u001B[39m \u001B[38;5;28;01mreturn\u001B[39;00m \u001B[38;5;28;43mself\u001B[39;49m\u001B[43m.\u001B[49m\u001B[43m_apply\u001B[49m\u001B[43m(\u001B[49m\u001B[43mconvert\u001B[49m\u001B[43m)\u001B[49m\n",
      "\u001B[36mFile \u001B[39m\u001B[32m~/miniconda3/envs/home/lib/python3.12/site-packages/torch/nn/modules/module.py:915\u001B[39m, in \u001B[36mModule._apply\u001B[39m\u001B[34m(self, fn, recurse)\u001B[39m\n\u001B[32m    913\u001B[39m \u001B[38;5;28;01mif\u001B[39;00m recurse:\n\u001B[32m    914\u001B[39m     \u001B[38;5;28;01mfor\u001B[39;00m module \u001B[38;5;129;01min\u001B[39;00m \u001B[38;5;28mself\u001B[39m.children():\n\u001B[32m--> \u001B[39m\u001B[32m915\u001B[39m         \u001B[43mmodule\u001B[49m\u001B[43m.\u001B[49m\u001B[43m_apply\u001B[49m\u001B[43m(\u001B[49m\u001B[43mfn\u001B[49m\u001B[43m)\u001B[49m\n\u001B[32m    917\u001B[39m \u001B[38;5;28;01mdef\u001B[39;00m\u001B[38;5;250m \u001B[39m\u001B[34mcompute_should_use_set_data\u001B[39m(tensor, tensor_applied):\n\u001B[32m    918\u001B[39m     \u001B[38;5;28;01mif\u001B[39;00m torch._has_compatible_shallow_copy_type(tensor, tensor_applied):\n\u001B[32m    919\u001B[39m         \u001B[38;5;66;03m# If the new tensor has compatible tensor type as the existing tensor,\u001B[39;00m\n\u001B[32m    920\u001B[39m         \u001B[38;5;66;03m# the current behavior is to change the tensor in-place using `.data =`,\u001B[39;00m\n\u001B[32m   (...)\u001B[39m\u001B[32m    925\u001B[39m         \u001B[38;5;66;03m# global flag to let the user control whether they want the future\u001B[39;00m\n\u001B[32m    926\u001B[39m         \u001B[38;5;66;03m# behavior of overwriting the existing tensor or not.\u001B[39;00m\n",
      "\u001B[36mFile \u001B[39m\u001B[32m~/miniconda3/envs/home/lib/python3.12/site-packages/torch/nn/modules/module.py:915\u001B[39m, in \u001B[36mModule._apply\u001B[39m\u001B[34m(self, fn, recurse)\u001B[39m\n\u001B[32m    913\u001B[39m \u001B[38;5;28;01mif\u001B[39;00m recurse:\n\u001B[32m    914\u001B[39m     \u001B[38;5;28;01mfor\u001B[39;00m module \u001B[38;5;129;01min\u001B[39;00m \u001B[38;5;28mself\u001B[39m.children():\n\u001B[32m--> \u001B[39m\u001B[32m915\u001B[39m         \u001B[43mmodule\u001B[49m\u001B[43m.\u001B[49m\u001B[43m_apply\u001B[49m\u001B[43m(\u001B[49m\u001B[43mfn\u001B[49m\u001B[43m)\u001B[49m\n\u001B[32m    917\u001B[39m \u001B[38;5;28;01mdef\u001B[39;00m\u001B[38;5;250m \u001B[39m\u001B[34mcompute_should_use_set_data\u001B[39m(tensor, tensor_applied):\n\u001B[32m    918\u001B[39m     \u001B[38;5;28;01mif\u001B[39;00m torch._has_compatible_shallow_copy_type(tensor, tensor_applied):\n\u001B[32m    919\u001B[39m         \u001B[38;5;66;03m# If the new tensor has compatible tensor type as the existing tensor,\u001B[39;00m\n\u001B[32m    920\u001B[39m         \u001B[38;5;66;03m# the current behavior is to change the tensor in-place using `.data =`,\u001B[39;00m\n\u001B[32m   (...)\u001B[39m\u001B[32m    925\u001B[39m         \u001B[38;5;66;03m# global flag to let the user control whether they want the future\u001B[39;00m\n\u001B[32m    926\u001B[39m         \u001B[38;5;66;03m# behavior of overwriting the existing tensor or not.\u001B[39;00m\n",
      "\u001B[36mFile \u001B[39m\u001B[32m~/miniconda3/envs/home/lib/python3.12/site-packages/torch/nn/modules/module.py:942\u001B[39m, in \u001B[36mModule._apply\u001B[39m\u001B[34m(self, fn, recurse)\u001B[39m\n\u001B[32m    938\u001B[39m \u001B[38;5;66;03m# Tensors stored in modules are graph leaves, and we don't want to\u001B[39;00m\n\u001B[32m    939\u001B[39m \u001B[38;5;66;03m# track autograd history of `param_applied`, so we have to use\u001B[39;00m\n\u001B[32m    940\u001B[39m \u001B[38;5;66;03m# `with torch.no_grad():`\u001B[39;00m\n\u001B[32m    941\u001B[39m \u001B[38;5;28;01mwith\u001B[39;00m torch.no_grad():\n\u001B[32m--> \u001B[39m\u001B[32m942\u001B[39m     param_applied = \u001B[43mfn\u001B[49m\u001B[43m(\u001B[49m\u001B[43mparam\u001B[49m\u001B[43m)\u001B[49m\n\u001B[32m    943\u001B[39m p_should_use_set_data = compute_should_use_set_data(param, param_applied)\n\u001B[32m    945\u001B[39m \u001B[38;5;66;03m# subclasses may have multiple child tensors so we need to use swap_tensors\u001B[39;00m\n",
      "\u001B[36mFile \u001B[39m\u001B[32m~/miniconda3/envs/home/lib/python3.12/site-packages/torch/nn/modules/module.py:1341\u001B[39m, in \u001B[36mModule.to.<locals>.convert\u001B[39m\u001B[34m(t)\u001B[39m\n\u001B[32m   1334\u001B[39m     \u001B[38;5;28;01mif\u001B[39;00m convert_to_format \u001B[38;5;129;01mis\u001B[39;00m \u001B[38;5;129;01mnot\u001B[39;00m \u001B[38;5;28;01mNone\u001B[39;00m \u001B[38;5;129;01mand\u001B[39;00m t.dim() \u001B[38;5;129;01min\u001B[39;00m (\u001B[32m4\u001B[39m, \u001B[32m5\u001B[39m):\n\u001B[32m   1335\u001B[39m         \u001B[38;5;28;01mreturn\u001B[39;00m t.to(\n\u001B[32m   1336\u001B[39m             device,\n\u001B[32m   1337\u001B[39m             dtype \u001B[38;5;28;01mif\u001B[39;00m t.is_floating_point() \u001B[38;5;129;01mor\u001B[39;00m t.is_complex() \u001B[38;5;28;01melse\u001B[39;00m \u001B[38;5;28;01mNone\u001B[39;00m,\n\u001B[32m   1338\u001B[39m             non_blocking,\n\u001B[32m   1339\u001B[39m             memory_format=convert_to_format,\n\u001B[32m   1340\u001B[39m         )\n\u001B[32m-> \u001B[39m\u001B[32m1341\u001B[39m     \u001B[38;5;28;01mreturn\u001B[39;00m \u001B[43mt\u001B[49m\u001B[43m.\u001B[49m\u001B[43mto\u001B[49m\u001B[43m(\u001B[49m\n\u001B[32m   1342\u001B[39m \u001B[43m        \u001B[49m\u001B[43mdevice\u001B[49m\u001B[43m,\u001B[49m\n\u001B[32m   1343\u001B[39m \u001B[43m        \u001B[49m\u001B[43mdtype\u001B[49m\u001B[43m \u001B[49m\u001B[38;5;28;43;01mif\u001B[39;49;00m\u001B[43m \u001B[49m\u001B[43mt\u001B[49m\u001B[43m.\u001B[49m\u001B[43mis_floating_point\u001B[49m\u001B[43m(\u001B[49m\u001B[43m)\u001B[49m\u001B[43m \u001B[49m\u001B[38;5;129;43;01mor\u001B[39;49;00m\u001B[43m \u001B[49m\u001B[43mt\u001B[49m\u001B[43m.\u001B[49m\u001B[43mis_complex\u001B[49m\u001B[43m(\u001B[49m\u001B[43m)\u001B[49m\u001B[43m \u001B[49m\u001B[38;5;28;43;01melse\u001B[39;49;00m\u001B[43m \u001B[49m\u001B[38;5;28;43;01mNone\u001B[39;49;00m\u001B[43m,\u001B[49m\n\u001B[32m   1344\u001B[39m \u001B[43m        \u001B[49m\u001B[43mnon_blocking\u001B[49m\u001B[43m,\u001B[49m\n\u001B[32m   1345\u001B[39m \u001B[43m    \u001B[49m\u001B[43m)\u001B[49m\n\u001B[32m   1346\u001B[39m \u001B[38;5;28;01mexcept\u001B[39;00m \u001B[38;5;167;01mNotImplementedError\u001B[39;00m \u001B[38;5;28;01mas\u001B[39;00m e:\n\u001B[32m   1347\u001B[39m     \u001B[38;5;28;01mif\u001B[39;00m \u001B[38;5;28mstr\u001B[39m(e) == \u001B[33m\"\u001B[39m\u001B[33mCannot copy out of meta tensor; no data!\u001B[39m\u001B[33m\"\u001B[39m:\n",
      "\u001B[31mRuntimeError\u001B[39m: CUDA error: unspecified launch failure\nCUDA kernel errors might be asynchronously reported at some other API call, so the stacktrace below might be incorrect.\nFor debugging consider passing CUDA_LAUNCH_BLOCKING=1\nCompile with `TORCH_USE_CUDA_DSA` to enable device-side assertions.\n"
     ]
    }
   ],
   "execution_count": 169
  },
  {
   "metadata": {
    "ExecuteTime": {
     "end_time": "2025-05-11T15:35:22.878105Z",
     "start_time": "2025-05-11T15:35:22.863725Z"
    }
   },
   "cell_type": "code",
   "source": [
    "param = list(network.named_parameters())\n",
    "param0 = list(network.parameters())\n"
   ],
   "outputs": [],
   "execution_count": 98
  },
  {
   "metadata": {
    "ExecuteTime": {
     "end_time": "2025-05-04T00:36:20.260784Z",
     "start_time": "2025-05-04T00:36:20.246898Z"
    }
   },
   "cell_type": "code",
   "source": [
    "w = param[12][1].detach().cpu().numpy()\n",
    "m = np.max(np.abs(w), axis=(1, 2, 3))\n",
    "f\"{int(100 * np.sum(m > 0.01) / len(m))}%\"\n",
    "np.sum(m > 0.01)"
   ],
   "outputs": [
    {
     "data": {
      "text/plain": [
       "np.int64(12)"
      ]
     },
     "execution_count": 236,
     "metadata": {},
     "output_type": "execute_result"
    }
   ],
   "execution_count": 236
  },
  {
   "metadata": {
    "ExecuteTime": {
     "end_time": "2025-05-10T23:25:28.597744Z",
     "start_time": "2025-05-10T23:25:28.581472Z"
    }
   },
   "cell_type": "code",
   "source": [
    "outs = dict()\n",
    "for i in range(9):\n",
    "    ind = i * 4\n",
    "    w = param[ind][1].detach().cpu().numpy()\n",
    "    m_out = np.max(np.abs(w), axis=(1, 2, 3))\n",
    "    outs[ind] = m_out > 0.01\n",
    "    m_in = np.max(np.abs(w), axis=(0, 2, 3))\n",
    "    n_out = np.sum(m_out > 0.01)\n",
    "    n_in = np.sum(m_in > 0.01)\n",
    "    s = f\"{ind}, {w.shape} {int(100 * np.sum(m_out > 0.01) / len(m_out))}%, {n_in}->{n_out}\"\n",
    "    if ind in [12, 28]:\n",
    "        n_inter = np.sum(outs[ind - 8] * outs[ind])\n",
    "        s += f\" inter={n_inter}\"\n",
    "    print(s)\n"
   ],
   "outputs": [
    {
     "name": "stdout",
     "output_type": "stream",
     "text": [
      "0, (16, 3, 3, 3) 87%, 3->14\n",
      "4, (32, 16, 3, 3) 87%, 14->28\n",
      "8, (32, 32, 3, 3) 0%, 0->0\n",
      "12, (32, 32, 3, 3) 0%, 0->0 inter=0\n",
      "16, (64, 32, 3, 3) 100%, 28->64\n",
      "20, (128, 64, 3, 3) 95%, 64->122\n",
      "24, (128, 128, 3, 3) 0%, 0->0\n",
      "28, (128, 128, 3, 3) 0%, 0->0 inter=0\n",
      "32, (10, 128, 1, 1) 100%, 122->10\n"
     ]
    }
   ],
   "execution_count": 37
  },
  {
   "metadata": {
    "ExecuteTime": {
     "end_time": "2025-05-05T01:23:14.689054Z",
     "start_time": "2025-05-05T01:23:14.655084Z"
    }
   },
   "cell_type": "code",
   "source": [
    "np.set_printoptions(1)\n",
    "w = param[12][1].detach().cpu().numpy()\n",
    "wa = np.abs(w)\n",
    "wa_max = np.max(wa, axis=(1, 2, 3))\n",
    "i = np.argsort(wa_max)[::-1]\n",
    "f = w[i[0]]\n",
    "fa = np.abs(f)\n",
    "fa_max = np.max(fa, axis=(1, 2))\n",
    "#print(f\"{wa_max[i]}\")\n",
    "# print(wa[i].shape)\n",
    "i1 = np.argsort(fa_max)[::-1]\n",
    "f1b = fa > 0.1\n",
    "np.sum(f1b)\n",
    "f[i1[2]]\n",
    "# fa[69]\n",
    "#f[i1]"
   ],
   "outputs": [
    {
     "data": {
      "text/plain": [
       "array([[ 1.4e-02,  5.9e-03,  1.4e-03],\n",
       "       [-2.8e-05, -2.1e-01, -1.1e-04],\n",
       "       [-6.2e-03, -4.6e-02,  2.4e-02]], dtype=float32)"
      ]
     },
     "execution_count": 185,
     "metadata": {},
     "output_type": "execute_result"
    }
   ],
   "execution_count": 185
  }
 ],
 "metadata": {
  "kernelspec": {
   "display_name": "home",
   "language": "python",
   "name": "python3"
  },
  "language_info": {
   "codemirror_mode": {
    "name": "ipython",
    "version": 3
   },
   "file_extension": ".py",
   "mimetype": "text/x-python",
   "name": "python",
   "nbconvert_exporter": "python",
   "pygments_lexer": "ipython3",
   "version": "3.12.8"
  }
 },
 "nbformat": 4,
 "nbformat_minor": 0
}
