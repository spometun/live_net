{
 "cells": [
  {
   "cell_type": "code",
   "metadata": {
    "collapsed": true,
    "ExecuteTime": {
     "end_time": "2025-05-10T20:39:06.880089Z",
     "start_time": "2025-05-10T20:39:04.314174Z"
    }
   },
   "source": [
    "# TODO:\n",
    "# why features' weights small but not zero? Try again after relu6, should I try depth-separable conv?\n",
    "# switch to my optimizer before deeper research\n",
    "# manual livnet for cifar10, and then think on auto?\n",
    "# interesting residual block two cases - put into and separate convs... does it needed at all, it is forced by connection...\n",
    "# penalise for operation, not (just) weight. Add stats on operations\n",
    "\n",
    "%load_ext autoreload\n",
    "%autoreload 2\n",
    "import torch\n",
    "import torch.utils\n",
    "import torch.utils.data\n",
    "import torchsummary\n",
    "import numpy as np\n",
    "import gc\n",
    "from livenet.utils import set_seed\n",
    "import onnx\n",
    "import livenet\n",
    "device = \"cuda\"\n",
    "#device = \"cpu\"\n",
    "#torch.set_default_device(device)\n",
    "from ai_libs.simple_log import LOG\n"
   ],
   "outputs": [],
   "execution_count": 1
  },
  {
   "metadata": {
    "ExecuteTime": {
     "end_time": "2025-05-10T20:39:14.477205Z",
     "start_time": "2025-05-10T20:39:09.273786Z"
    }
   },
   "cell_type": "code",
   "source": [
    "batch_size = 256\n",
    "from livenet.datasets import TransformDataset\n",
    "test_x, test_y = livenet.datasets.get_cifar10_test()\n",
    "test = torch.utils.data.TensorDataset(test_x, test_y)\n",
    "test_aug = TransformDataset(test, livenet.datasets.cifar10_test_transform)\n",
    "test_loader = torch.utils.data.DataLoader(test_aug, batch_size=batch_size, drop_last=True, shuffle=True, num_workers=4, pin_memory=True)\n",
    "\n",
    "train_x, train_y = livenet.datasets.get_cifar10_train()\n",
    "train = torch.utils.data.TensorDataset(train_x, train_y)\n",
    "train_aug = TransformDataset(train, livenet.datasets.cifar10_train_transform)\n",
    "train_loader = torch.utils.data.DataLoader(train_aug, batch_size=batch_size, drop_last=True, shuffle=True, num_workers=16, pin_memory=True, prefetch_factor=2)\n",
    "\n"
   ],
   "outputs": [],
   "execution_count": 2
  },
  {
   "metadata": {
    "ExecuteTime": {
     "end_time": "2025-05-10T20:39:15.501728Z",
     "start_time": "2025-05-10T20:39:15.481505Z"
    }
   },
   "cell_type": "code",
   "source": [
    "\n",
    "train_aug = TransformDataset(train, livenet.datasets.cifar10_train_transform)\n"
   ],
   "outputs": [],
   "execution_count": 3
  },
  {
   "metadata": {
    "ExecuteTime": {
     "end_time": "2025-05-10T20:39:19.962165Z",
     "start_time": "2025-05-10T20:39:19.905073Z"
    }
   },
   "cell_type": "code",
   "source": [
    "img = train_aug[4][0].numpy()\n",
    "img = img.transpose(1, 2, 0)\n",
    "from matplotlib import pyplot as plt\n",
    "#img = livenet.datasets._elastic_transform(img, (-4, 0))\n",
    "img = (img * 128 + 127).astype(np.uint8)\n",
    "\n",
    "#plt.imsave(\"/home/spometun/img.png\", img)\n",
    "plt.imshow( img )"
   ],
   "outputs": [
    {
     "data": {
      "text/plain": [
       "<matplotlib.image.AxesImage at 0x74ec743dc080>"
      ]
     },
     "execution_count": 7,
     "metadata": {},
     "output_type": "execute_result"
    },
    {
     "data": {
      "text/plain": [
       "<Figure size 640x480 with 1 Axes>"
      ],
      "image/png": "[encoded data removed]"
     },
     "metadata": {},
     "output_type": "display_data"
    }
   ],
   "execution_count": 7
  },
  {
   "cell_type": "code",
   "metadata": {
    "collapsed": false,
    "ExecuteTime": {
     "end_time": "2025-05-10T23:11:51.700920Z",
     "start_time": "2025-05-10T23:11:51.657367Z"
    }
   },
   "source": [
    "from cifar_arch import EffNet, ResNet9, ResNet9Small\n",
    "\n",
    "set_seed(0)\n",
    "\n",
    "# network = EffNet(device)\n",
    "network = ResNet9Small(3, 10, device)\n",
    "torchsummary.summary(network, (3, 32, 32), device=device)\n",
    "\n"
   ],
   "outputs": [
    {
     "name": "stdout",
     "output_type": "stream",
     "text": [
      "----------------------------------------------------------------\n",
      "        Layer (type)               Output Shape         Param #\n",
      "================================================================\n",
      "            Conv2d-1           [-1, 16, 32, 32]             448\n",
      "       BatchNorm2d-2           [-1, 16, 32, 32]              32\n",
      "             ReLU6-3           [-1, 16, 32, 32]               0\n",
      "            Conv2d-4           [-1, 32, 32, 32]           4,640\n",
      "       BatchNorm2d-5           [-1, 32, 32, 32]              64\n",
      "             ReLU6-6           [-1, 32, 32, 32]               0\n",
      "         MaxPool2d-7           [-1, 32, 16, 16]               0\n",
      "            Conv2d-8           [-1, 64, 16, 16]          18,496\n",
      "       BatchNorm2d-9           [-1, 64, 16, 16]             128\n",
      "            ReLU6-10           [-1, 64, 16, 16]               0\n",
      "        MaxPool2d-11             [-1, 64, 8, 8]               0\n",
      "           Conv2d-12            [-1, 128, 8, 8]          73,856\n",
      "      BatchNorm2d-13            [-1, 128, 8, 8]             256\n",
      "            ReLU6-14            [-1, 128, 8, 8]               0\n",
      "        MaxPool2d-15            [-1, 128, 4, 4]               0\n",
      "        MaxPool2d-16            [-1, 128, 1, 1]               0\n",
      "           Conv2d-17             [-1, 10, 1, 1]           1,290\n",
      "          Flatten-18                   [-1, 10]               0\n",
      "================================================================\n",
      "Total params: 99,210\n",
      "Trainable params: 99,210\n",
      "Non-trainable params: 0\n",
      "----------------------------------------------------------------\n",
      "Input size (MB): 0.01\n",
      "Forward/backward pass size (MB): 1.80\n",
      "Params size (MB): 0.38\n",
      "Estimated Total Size (MB): 2.19\n",
      "----------------------------------------------------------------\n"
     ]
    }
   ],
   "execution_count": 30
  },
  {
   "cell_type": "code",
   "metadata": {
    "collapsed": false,
    "ExecuteTime": {
     "end_time": "2025-05-10T23:11:54.402258Z",
     "start_time": "2025-05-10T23:11:53.722311Z"
    }
   },
   "source": [
    "# batch_iterator = livenet.gen_utils.batch_iterator(train_x, train_y, batch_size)\n",
    "criterion = livenet.nets.criterion_classification_n\n",
    "optimizer = livenet.nets.create_optimizer(network)\n",
    "# epoch_size = len(train_x) // batch_size // 10\n",
    "trainer = livenet.net_trainer.NetTrainer(network, train_loader, criterion, optimizer)\n",
    "trainer.adaptive_lr = True\n",
    "optimizer.learning_rate = 0.01\n",
    "\n"
   ],
   "outputs": [
    {
     "name": "stdout",
     "output_type": "stream",
     "text": [
      "my Torch\n"
     ]
    }
   ],
   "execution_count": 31
  },
  {
   "cell_type": "code",
   "metadata": {
    "ExecuteTime": {
     "end_time": "2025-05-10T23:21:24.264440Z",
     "start_time": "2025-05-10T23:19:00.564143Z"
    }
   },
   "source": [
    "network.train()\n",
    "#trainer._need_to_stop = False\n",
    "#trainer.optimizer.learning_rate = 0.01 / 2 / 2 / 2 / 2 /2/2\n",
    "network._alpha = 0.1 * 1e-6\n",
    "trainer.step(5000)\n"
   ],
   "outputs": [
    {
     "name": "stdout",
     "output_type": "stream",
     "text": [
      "Iˈ0.000 15014 0.776+0.293reg params=34 lr=0.00063 livenet/net_trainer.py:134\n",
      "Iˈ5.642 15209 0.762+0.292reg params=34 lr=0.00063 livenet/net_trainer.py:134\n",
      "Iˈ10.995 15404 0.763+0.292reg params=34 lr=0.00063 livenet/net_trainer.py:134\n",
      "Iˈ16.510 15599 0.761+0.291reg params=34 lr=0.00063 livenet/net_trainer.py:134\n",
      "Iˈ22.114 15794 0.764+0.290reg params=34 lr=0.00063 livenet/net_trainer.py:134\n",
      "Iˈ27.569 15989 0.762+0.290reg params=34 lr=0.00063 livenet/net_trainer.py:134\n",
      "Iˈ33.261 16184 0.770+0.289reg params=34 lr=0.00063 livenet/net_trainer.py:134\n",
      "Iˈ38.821 16379 0.762+0.289reg params=34 lr=0.00063 livenet/net_trainer.py:134\n",
      "Iˈ44.354 16574 0.762+0.289reg params=34 lr=0.00063 livenet/net_trainer.py:134\n",
      "Iˈ49.981 16769 0.764+0.288reg params=34 lr=0.00063 livenet/net_trainer.py:134\n",
      "Iˈ55.759 16964 0.760+0.288reg params=34 lr=0.00063 livenet/net_trainer.py:134\n",
      "Iˈ61.378 17159 0.753+0.287reg params=34 lr=0.00063 livenet/net_trainer.py:134\n",
      "Iˈ67.042 17354 0.762+0.287reg params=34 lr=0.00063 livenet/net_trainer.py:134\n",
      "Iˈ72.690 17549 0.758+0.286reg params=34 lr=0.00063 livenet/net_trainer.py:134\n",
      "Iˈ78.496 17744 0.766+0.286reg params=34 lr=0.00031 livenet/net_trainer.py:134\n",
      "Iˈ84.339 17939 0.753+0.285reg params=34 lr=0.00031 livenet/net_trainer.py:134\n",
      "Iˈ89.820 18134 0.748+0.285reg params=34 lr=0.00031 livenet/net_trainer.py:134\n",
      "Iˈ95.526 18329 0.748+0.285reg params=34 lr=0.00031 livenet/net_trainer.py:134\n",
      "Iˈ101.265 18524 0.746+0.284reg params=34 lr=0.00031 livenet/net_trainer.py:134\n",
      "Iˈ106.704 18719 0.736+0.284reg params=34 lr=0.00031 livenet/net_trainer.py:134\n",
      "Iˈ112.321 18914 0.746+0.284reg params=34 lr=0.00031 livenet/net_trainer.py:134\n",
      "Iˈ117.856 19109 0.740+0.283reg params=34 lr=0.00031 livenet/net_trainer.py:134\n",
      "Iˈ123.428 19304 0.739+0.283reg params=34 lr=0.00016 livenet/net_trainer.py:134\n",
      "Iˈ128.807 19499 0.746+0.283reg params=34 lr=0.00016 livenet/net_trainer.py:134\n",
      "Iˈ134.344 19694 0.745+0.283reg params=34 lr=0.00016 livenet/net_trainer.py:134\n",
      "Iˈ139.824 19889 0.734+0.282reg params=34 lr=0.00016 livenet/net_trainer.py:134\n"
     ]
    }
   ],
   "execution_count": 34
  },
  {
   "metadata": {
    "ExecuteTime": {
     "end_time": "2025-05-10T23:21:35.118403Z",
     "start_time": "2025-05-10T23:21:28.977083Z"
    }
   },
   "cell_type": "code",
   "source": [
    "gc.collect()\n",
    "torch.cuda.empty_cache()\n",
    "\n",
    "def _infer_epoch(network, loader):\n",
    "    preds = []\n",
    "    ys = []\n",
    "    with torch.no_grad():\n",
    "        for x, y in iter(loader):\n",
    "            x = x.to(network.device)\n",
    "            pred = network(x)\n",
    "            pred = pred.cpu()\n",
    "            preds.append(pred)\n",
    "            ys.append(y.cpu())\n",
    "    pred = torch.concatenate(preds)\n",
    "    y = torch.concatenate(ys)\n",
    "    return pred, y\n",
    "\n",
    "\n",
    "network.train()\n",
    "#train_pred, train_labels = _infer_epoch(network, train_loader)\n",
    "test_pred, test_labels = _infer_epoch(network, test_loader)\n",
    "\n",
    "network.eval()\n",
    "test_pred, test_labels = _infer_epoch(network, test_loader)\n",
    "train_pred, train_labels = _infer_epoch(network, train_loader)\n",
    "\n",
    "def calc_accuracy(predictions, labels):\n",
    "    _, predicted = torch.max(predictions.data, 1)\n",
    "    labels = labels.numpy()\n",
    "    labels = np.squeeze(labels, 1)\n",
    "    predicted = predicted.numpy()\n",
    "    correct = np.sum(predicted == labels)\n",
    "    total = len(labels)\n",
    "    accuracy = correct / total\n",
    "    return accuracy\n",
    "\n",
    "\n",
    "# test_y_tensor = torch.tensor(test_y, device=\"cpu\")\n",
    "# train_y_tensor = torch.tensor(train_y, device=\"cpu\")\n",
    "test_loss = trainer.criterion(test_pred, test_labels).item()\n",
    "train_loss = trainer.criterion(train_pred, train_labels).item()\n",
    "LOG(f\"loss: train: {train_loss:.3f} test: {test_loss:.3f}\")\n",
    "\n",
    "test_accuracy = calc_accuracy(test_pred, test_labels)\n",
    "train_accuracy = calc_accuracy(train_pred, train_labels)\n",
    "LOG(f\"accuracy, train: {100 * train_accuracy:.1f}% test: {100 * test_accuracy:.1f}%\")"
   ],
   "outputs": [
    {
     "name": "stdout",
     "output_type": "stream",
     "text": [
      "Iˈ0.000 loss: train: 0.754 test: 0.617 \n",
      "Iˈ0.001 accuracy, train: 82.4% test: 85.8% \n"
     ]
    }
   ],
   "execution_count": 35
  },
  {
   "metadata": {
    "ExecuteTime": {
     "end_time": "2025-05-10T23:25:25.532158Z",
     "start_time": "2025-05-10T23:25:25.516040Z"
    }
   },
   "cell_type": "code",
   "source": [
    "param = list(network.named_parameters())\n",
    "param0 = list(network.parameters())\n"
   ],
   "outputs": [],
   "execution_count": 36
  },
  {
   "metadata": {
    "ExecuteTime": {
     "end_time": "2025-05-04T00:36:20.260784Z",
     "start_time": "2025-05-04T00:36:20.246898Z"
    }
   },
   "cell_type": "code",
   "source": [
    "w = param[12][1].detach().cpu().numpy()\n",
    "m = np.max(np.abs(w), axis=(1, 2, 3))\n",
    "f\"{int(100 * np.sum(m > 0.01) / len(m))}%\"\n",
    "np.sum(m > 0.01)"
   ],
   "outputs": [
    {
     "data": {
      "text/plain": [
       "np.int64(12)"
      ]
     },
     "execution_count": 236,
     "metadata": {},
     "output_type": "execute_result"
    }
   ],
   "execution_count": 236
  },
  {
   "metadata": {
    "ExecuteTime": {
     "end_time": "2025-05-10T23:25:28.597744Z",
     "start_time": "2025-05-10T23:25:28.581472Z"
    }
   },
   "cell_type": "code",
   "source": [
    "outs = dict()\n",
    "for i in range(9):\n",
    "    ind = i * 4\n",
    "    w = param[ind][1].detach().cpu().numpy()\n",
    "    m_out = np.max(np.abs(w), axis=(1, 2, 3))\n",
    "    outs[ind] = m_out > 0.01\n",
    "    m_in = np.max(np.abs(w), axis=(0, 2, 3))\n",
    "    n_out = np.sum(m_out > 0.01)\n",
    "    n_in = np.sum(m_in > 0.01)\n",
    "    s = f\"{ind}, {w.shape} {int(100 * np.sum(m_out > 0.01) / len(m_out))}%, {n_in}->{n_out}\"\n",
    "    if ind in [12, 28]:\n",
    "        n_inter = np.sum(outs[ind - 8] * outs[ind])\n",
    "        s += f\" inter={n_inter}\"\n",
    "    print(s)\n"
   ],
   "outputs": [
    {
     "name": "stdout",
     "output_type": "stream",
     "text": [
      "0, (16, 3, 3, 3) 87%, 3->14\n",
      "4, (32, 16, 3, 3) 87%, 14->28\n",
      "8, (32, 32, 3, 3) 0%, 0->0\n",
      "12, (32, 32, 3, 3) 0%, 0->0 inter=0\n",
      "16, (64, 32, 3, 3) 100%, 28->64\n",
      "20, (128, 64, 3, 3) 95%, 64->122\n",
      "24, (128, 128, 3, 3) 0%, 0->0\n",
      "28, (128, 128, 3, 3) 0%, 0->0 inter=0\n",
      "32, (10, 128, 1, 1) 100%, 122->10\n"
     ]
    }
   ],
   "execution_count": 37
  },
  {
   "metadata": {
    "ExecuteTime": {
     "end_time": "2025-05-05T01:23:14.689054Z",
     "start_time": "2025-05-05T01:23:14.655084Z"
    }
   },
   "cell_type": "code",
   "source": [
    "np.set_printoptions(1)\n",
    "w = param[12][1].detach().cpu().numpy()\n",
    "wa = np.abs(w)\n",
    "wa_max = np.max(wa, axis=(1, 2, 3))\n",
    "i = np.argsort(wa_max)[::-1]\n",
    "f = w[i[0]]\n",
    "fa = np.abs(f)\n",
    "fa_max = np.max(fa, axis=(1, 2))\n",
    "#print(f\"{wa_max[i]}\")\n",
    "# print(wa[i].shape)\n",
    "i1 = np.argsort(fa_max)[::-1]\n",
    "f1b = fa > 0.1\n",
    "np.sum(f1b)\n",
    "f[i1[2]]\n",
    "# fa[69]\n",
    "#f[i1]"
   ],
   "outputs": [
    {
     "data": {
      "text/plain": [
       "array([[ 1.4e-02,  5.9e-03,  1.4e-03],\n",
       "       [-2.8e-05, -2.1e-01, -1.1e-04],\n",
       "       [-6.2e-03, -4.6e-02,  2.4e-02]], dtype=float32)"
      ]
     },
     "execution_count": 185,
     "metadata": {},
     "output_type": "execute_result"
    }
   ],
   "execution_count": 185
  }
 ],
 "metadata": {
  "kernelspec": {
   "display_name": "home",
   "language": "python",
   "name": "python3"
  },
  "language_info": {
   "codemirror_mode": {
    "name": "ipython",
    "version": 3
   },
   "file_extension": ".py",
   "mimetype": "text/x-python",
   "name": "python",
   "nbconvert_exporter": "python",
   "pygments_lexer": "ipython3",
   "version": "3.12.8"
  }
 },
 "nbformat": 4,
 "nbformat_minor": 0
}
