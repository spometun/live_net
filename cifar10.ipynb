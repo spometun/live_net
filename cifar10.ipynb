{
 "cells": [
  {
   "cell_type": "code",
   "metadata": {
    "collapsed": true,
    "ExecuteTime": {
     "end_time": "2025-05-10T19:22:31.826101Z",
     "start_time": "2025-05-10T19:22:29.495078Z"
    }
   },
   "source": [
    "# TODO:\n",
    "# why features' weights small but not zero? Try again after relu6, should I try depth-separable conv?\n",
    "# switch to my optimizer before deeper research\n",
    "# manual livnet for cifar10, and then think on auto?\n",
    "# interesting residual block two cases - put into and separate convs... does it needed at all, it is forced by connection...\n",
    "# penalise for operation, not (just) weight. Add stats on operations\n",
    "\n",
    "%load_ext autoreload\n",
    "%autoreload 2\n",
    "import torch\n",
    "import torch.utils\n",
    "import torch.utils.data\n",
    "import torchsummary\n",
    "import numpy as np\n",
    "import gc\n",
    "from livenet.utils import set_seed\n",
    "import onnx\n",
    "import livenet\n",
    "device = \"cuda\"\n",
    "#device = \"cpu\"\n",
    "#torch.set_default_device(device)\n",
    "from ai_libs.simple_log import LOG\n"
   ],
   "outputs": [],
   "execution_count": 1
  },
  {
   "metadata": {
    "ExecuteTime": {
     "end_time": "2025-05-10T19:22:38.869111Z",
     "start_time": "2025-05-10T19:22:33.845175Z"
    }
   },
   "cell_type": "code",
   "source": [
    "batch_size = 256\n",
    "from livenet.datasets import TransformDataset\n",
    "test_x, test_y = livenet.datasets.get_cifar10_test()\n",
    "test = torch.utils.data.TensorDataset(test_x, test_y)\n",
    "test_aug = TransformDataset(test, livenet.datasets.cifar10_test_transform)\n",
    "test_loader = torch.utils.data.DataLoader(test_aug, batch_size=batch_size, drop_last=True, shuffle=True, num_workers=4, pin_memory=True)\n",
    "\n",
    "train_x, train_y = livenet.datasets.get_cifar10_train()\n",
    "train = torch.utils.data.TensorDataset(train_x, train_y)\n",
    "train_aug = TransformDataset(train, livenet.datasets.cifar10_train_transform)\n",
    "train_loader = torch.utils.data.DataLoader(train_aug, batch_size=batch_size, drop_last=True, shuffle=True, num_workers=16, pin_memory=True, prefetch_factor=2)\n",
    "\n"
   ],
   "outputs": [],
   "execution_count": 2
  },
  {
   "metadata": {
    "ExecuteTime": {
     "end_time": "2025-05-10T19:45:29.611382Z",
     "start_time": "2025-05-10T19:45:22.966894Z"
    }
   },
   "cell_type": "code",
   "source": [
    "\n",
    "train_aug = TransformDataset(train, livenet.datasets.cifar10_train_transform)\n"
   ],
   "outputs": [],
   "execution_count": 573
  },
  {
   "metadata": {
    "ExecuteTime": {
     "end_time": "2025-05-10T19:46:46.643423Z",
     "start_time": "2025-05-10T19:46:46.542045Z"
    }
   },
   "cell_type": "code",
   "source": [
    "img = train_aug[4][0].numpy()\n",
    "img = img.transpose(1, 2, 0)\n",
    "from matplotlib import pyplot as plt\n",
    "#img = livenet.datasets._elastic_transform(img, (-4, 0))\n",
    "img = (img * 128 + 127).astype(np.uint8)\n",
    "\n",
    "#plt.imsave(\"/home/spometun/img.png\", img)\n",
    "plt.imshow( img )"
   ],
   "outputs": [
    {
     "data": {
      "text/plain": [
       "<matplotlib.image.AxesImage at 0x76e468cb4080>"
      ]
     },
     "execution_count": 655,
     "metadata": {},
     "output_type": "execute_result"
    },
    {
     "data": {
      "text/plain": [
       "<Figure size 640x480 with 1 Axes>"
      ],
      "image/png": "[encoded data removed]"
     },
     "metadata": {},
     "output_type": "display_data"
    }
   ],
   "execution_count": 655
  },
  {
   "cell_type": "code",
   "metadata": {
    "collapsed": false,
    "ExecuteTime": {
     "end_time": "2025-05-10T02:05:02.972357Z",
     "start_time": "2025-05-10T02:05:02.920790Z"
    }
   },
   "source": [
    "from cifar_arch import EffNet, ResNet9, ResNet9Small\n",
    "\n",
    "set_seed(0)\n",
    "\n",
    "# network = EffNet(device)\n",
    "network = ResNet9Small(3, 10, device)\n",
    "torchsummary.summary(network, (3, 32, 32), device=device)\n",
    "\n"
   ],
   "outputs": [
    {
     "name": "stdout",
     "output_type": "stream",
     "text": [
      "----------------------------------------------------------------\n",
      "        Layer (type)               Output Shape         Param #\n",
      "================================================================\n",
      "            Conv2d-1           [-1, 16, 32, 32]             448\n",
      "       BatchNorm2d-2           [-1, 16, 32, 32]              32\n",
      "             ReLU6-3           [-1, 16, 32, 32]               0\n",
      "            Conv2d-4           [-1, 32, 32, 32]           4,640\n",
      "       BatchNorm2d-5           [-1, 32, 32, 32]              64\n",
      "             ReLU6-6           [-1, 32, 32, 32]               0\n",
      "         MaxPool2d-7           [-1, 32, 16, 16]               0\n",
      "            Conv2d-8           [-1, 32, 16, 16]           9,248\n",
      "       BatchNorm2d-9           [-1, 32, 16, 16]              64\n",
      "            ReLU6-10           [-1, 32, 16, 16]               0\n",
      "           Conv2d-11           [-1, 32, 16, 16]           9,248\n",
      "      BatchNorm2d-12           [-1, 32, 16, 16]              64\n",
      "            ReLU6-13           [-1, 32, 16, 16]               0\n",
      "           Conv2d-14           [-1, 64, 16, 16]          18,496\n",
      "      BatchNorm2d-15           [-1, 64, 16, 16]             128\n",
      "            ReLU6-16           [-1, 64, 16, 16]               0\n",
      "        MaxPool2d-17             [-1, 64, 8, 8]               0\n",
      "           Conv2d-18            [-1, 128, 8, 8]          73,856\n",
      "      BatchNorm2d-19            [-1, 128, 8, 8]             256\n",
      "            ReLU6-20            [-1, 128, 8, 8]               0\n",
      "        MaxPool2d-21            [-1, 128, 4, 4]               0\n",
      "           Conv2d-22            [-1, 128, 4, 4]         147,584\n",
      "      BatchNorm2d-23            [-1, 128, 4, 4]             256\n",
      "            ReLU6-24            [-1, 128, 4, 4]               0\n",
      "           Conv2d-25            [-1, 128, 4, 4]         147,584\n",
      "      BatchNorm2d-26            [-1, 128, 4, 4]             256\n",
      "            ReLU6-27            [-1, 128, 4, 4]               0\n",
      "        MaxPool2d-28            [-1, 128, 1, 1]               0\n",
      "           Conv2d-29             [-1, 10, 1, 1]           1,290\n",
      "          Flatten-30                   [-1, 10]               0\n",
      "================================================================\n",
      "Total params: 413,514\n",
      "Trainable params: 413,514\n",
      "Non-trainable params: 0\n",
      "----------------------------------------------------------------\n",
      "Input size (MB): 0.01\n",
      "Forward/backward pass size (MB): 2.27\n",
      "Params size (MB): 1.58\n",
      "Estimated Total Size (MB): 3.86\n",
      "----------------------------------------------------------------\n"
     ]
    }
   ],
   "execution_count": 324
  },
  {
   "cell_type": "code",
   "metadata": {
    "collapsed": false,
    "ExecuteTime": {
     "end_time": "2025-05-10T02:05:06.173949Z",
     "start_time": "2025-05-10T02:05:05.738347Z"
    }
   },
   "source": [
    "# batch_iterator = livenet.gen_utils.batch_iterator(train_x, train_y, batch_size)\n",
    "criterion = livenet.nets.criterion_classification_n\n",
    "optimizer = livenet.nets.create_optimizer(network)\n",
    "# epoch_size = len(train_x) // batch_size // 10\n",
    "trainer = livenet.net_trainer.NetTrainer(network, train_loader, criterion, optimizer)\n",
    "trainer.adaptive_lr = True\n",
    "optimizer.learning_rate = 0.01\n",
    "\n"
   ],
   "outputs": [
    {
     "name": "stdout",
     "output_type": "stream",
     "text": [
      "Torch\n"
     ]
    }
   ],
   "execution_count": 325
  },
  {
   "cell_type": "code",
   "metadata": {
    "ExecuteTime": {
     "end_time": "2025-05-10T02:17:07.631727Z",
     "start_time": "2025-05-10T02:14:37.308826Z"
    }
   },
   "source": [
    "network.train()\n",
    "#trainer._need_to_stop = False\n",
    "#trainer.optimizer.learning_rate = 0.01 / 2 / 2 / 2 / 2 /2/2\n",
    "network._alpha = 0.1 * 1e-6\n",
    "trainer.step(5000)\n"
   ],
   "outputs": [
    {
     "name": "stdout",
     "output_type": "stream",
     "text": [
      "Iˈ0.000 20084 0.491+0.281reg params=34 lr=0.00063 livenet/net_trainer.py:134\n",
      "Iˈ5.755 20279 0.493+0.281reg params=34 lr=0.00063 livenet/net_trainer.py:134\n",
      "Iˈ11.476 20474 0.495+0.280reg params=34 lr=0.00063 livenet/net_trainer.py:134\n",
      "Iˈ17.146 20669 0.485+0.280reg params=34 lr=0.00063 livenet/net_trainer.py:134\n",
      "Iˈ23.024 20864 0.493+0.279reg params=34 lr=0.00063 livenet/net_trainer.py:134\n",
      "Iˈ28.722 21059 0.488+0.279reg params=34 lr=0.00063 livenet/net_trainer.py:134\n",
      "Iˈ34.584 21254 0.489+0.278reg params=34 lr=0.00031 livenet/net_trainer.py:134\n",
      "Iˈ40.543 21449 0.483+0.278reg params=34 lr=0.00031 livenet/net_trainer.py:134\n",
      "Iˈ46.467 21644 0.482+0.277reg params=34 lr=0.00031 livenet/net_trainer.py:134\n",
      "Iˈ52.491 21839 0.481+0.277reg params=34 lr=0.00031 livenet/net_trainer.py:134\n",
      "Iˈ58.340 22034 0.479+0.277reg params=34 lr=0.00031 livenet/net_trainer.py:134\n",
      "Iˈ64.358 22229 0.480+0.276reg params=34 lr=0.00031 livenet/net_trainer.py:134\n",
      "Iˈ70.189 22424 0.484+0.276reg params=34 lr=0.00031 livenet/net_trainer.py:134\n",
      "Iˈ76.205 22619 0.478+0.276reg params=34 lr=0.00031 livenet/net_trainer.py:134\n",
      "Iˈ82.005 22814 0.480+0.275reg params=34 lr=0.00031 livenet/net_trainer.py:134\n",
      "Iˈ87.661 23009 0.484+0.275reg params=34 lr=0.00031 livenet/net_trainer.py:134\n",
      "Iˈ93.568 23204 0.484+0.275reg params=34 lr=0.00016 livenet/net_trainer.py:134\n",
      "Iˈ99.467 23399 0.476+0.275reg params=34 lr=0.00016 livenet/net_trainer.py:134\n",
      "Iˈ105.382 23594 0.482+0.274reg params=34 lr=0.00016 livenet/net_trainer.py:134\n",
      "Iˈ111.351 23789 0.476+0.274reg params=34 lr=0.00016 livenet/net_trainer.py:134\n",
      "Iˈ117.260 23984 0.475+0.274reg params=34 lr=0.00016 livenet/net_trainer.py:134\n",
      "Iˈ123.004 24179 0.470+0.274reg params=34 lr=0.00016 livenet/net_trainer.py:134\n",
      "Iˈ128.887 24374 0.474+0.274reg params=34 lr=0.00016 livenet/net_trainer.py:134\n",
      "Iˈ134.832 24569 0.470+0.273reg params=34 lr=0.00016 livenet/net_trainer.py:134\n",
      "Iˈ140.733 24764 0.473+0.273reg params=34 lr=0.00016 livenet/net_trainer.py:134\n",
      "Iˈ146.648 24959 0.466+0.273reg params=34 lr=0.00016 livenet/net_trainer.py:134\n"
     ]
    }
   ],
   "execution_count": 329
  },
  {
   "metadata": {
    "ExecuteTime": {
     "end_time": "2025-05-10T02:17:22.701967Z",
     "start_time": "2025-05-10T02:17:16.088450Z"
    }
   },
   "cell_type": "code",
   "source": [
    "gc.collect()\n",
    "torch.cuda.empty_cache()\n",
    "\n",
    "def _infer_epoch(network, loader):\n",
    "    preds = []\n",
    "    ys = []\n",
    "    with torch.no_grad():\n",
    "        for x, y in iter(loader):\n",
    "            x = x.to(network.device)\n",
    "            pred = network(x)\n",
    "            pred = pred.cpu()\n",
    "            preds.append(pred)\n",
    "            ys.append(y.cpu())\n",
    "    pred = torch.concatenate(preds)\n",
    "    y = torch.concatenate(ys)\n",
    "    return pred, y\n",
    "\n",
    "\n",
    "network.train()\n",
    "#train_pred, train_labels = _infer_epoch(network, train_loader)\n",
    "test_pred, test_labels = _infer_epoch(network, test_loader)\n",
    "\n",
    "network.eval()\n",
    "test_pred, test_labels = _infer_epoch(network, test_loader)\n",
    "train_pred, train_labels = _infer_epoch(network, train_loader)\n",
    "\n",
    "def calc_accuracy(predictions, labels):\n",
    "    _, predicted = torch.max(predictions.data, 1)\n",
    "    labels = labels.numpy()\n",
    "    labels = np.squeeze(labels, 1)\n",
    "    predicted = predicted.numpy()\n",
    "    correct = np.sum(predicted == labels)\n",
    "    total = len(labels)\n",
    "    accuracy = correct / total\n",
    "    return accuracy\n",
    "\n",
    "\n",
    "# test_y_tensor = torch.tensor(test_y, device=\"cpu\")\n",
    "# train_y_tensor = torch.tensor(train_y, device=\"cpu\")\n",
    "test_loss = trainer.criterion(test_pred, test_labels).item()\n",
    "train_loss = trainer.criterion(train_pred, train_labels).item()\n",
    "LOG(f\"loss: train: {train_loss:.3f} test: {test_loss:.3f}\")\n",
    "\n",
    "test_accuracy = calc_accuracy(test_pred, test_labels)\n",
    "train_accuracy = calc_accuracy(train_pred, train_labels)\n",
    "LOG(f\"accuracy, train: {100 * train_accuracy:.1f}% test: {100 * test_accuracy:.1f}%\")"
   ],
   "outputs": [
    {
     "name": "stdout",
     "output_type": "stream",
     "text": [
      "Iˈ0.000 loss: train: 0.486 test: 0.465 \n",
      "Iˈ0.001 accuracy, train: 88.5% test: 89.2% \n"
     ]
    }
   ],
   "execution_count": 330
  },
  {
   "metadata": {
    "ExecuteTime": {
     "end_time": "2025-05-10T02:18:43.412446Z",
     "start_time": "2025-05-10T02:18:43.395523Z"
    }
   },
   "cell_type": "code",
   "source": [
    "param = list(network.named_parameters())\n",
    "param0 = list(network.parameters())\n"
   ],
   "outputs": [],
   "execution_count": 332
  },
  {
   "metadata": {
    "ExecuteTime": {
     "end_time": "2025-05-04T00:36:20.260784Z",
     "start_time": "2025-05-04T00:36:20.246898Z"
    }
   },
   "cell_type": "code",
   "source": [
    "w = param[12][1].detach().cpu().numpy()\n",
    "m = np.max(np.abs(w), axis=(1, 2, 3))\n",
    "f\"{int(100 * np.sum(m > 0.01) / len(m))}%\"\n",
    "np.sum(m > 0.01)"
   ],
   "outputs": [
    {
     "data": {
      "text/plain": [
       "np.int64(12)"
      ]
     },
     "execution_count": 236,
     "metadata": {},
     "output_type": "execute_result"
    }
   ],
   "execution_count": 236
  },
  {
   "metadata": {
    "ExecuteTime": {
     "end_time": "2025-05-10T02:18:45.350895Z",
     "start_time": "2025-05-10T02:18:45.317563Z"
    }
   },
   "cell_type": "code",
   "source": [
    "outs = dict()\n",
    "for i in range(9):\n",
    "    ind = i * 4\n",
    "    w = param[ind][1].detach().cpu().numpy()\n",
    "    m_out = np.max(np.abs(w), axis=(1, 2, 3))\n",
    "    outs[ind] = m_out > 0.01\n",
    "    m_in = np.max(np.abs(w), axis=(0, 2, 3))\n",
    "    n_out = np.sum(m_out > 0.01)\n",
    "    n_in = np.sum(m_in > 0.01)\n",
    "    s = f\"{ind}, {w.shape} {int(100 * np.sum(m_out > 0.01) / len(m_out))}%, {n_in}->{n_out}\"\n",
    "    if ind in [12, 28]:\n",
    "        n_inter = np.sum(outs[ind - 8] * outs[ind])\n",
    "        s += f\" inter={n_inter}\"\n",
    "    print(s)\n"
   ],
   "outputs": [
    {
     "name": "stdout",
     "output_type": "stream",
     "text": [
      "0, (16, 3, 3, 3) 68%, 3->11\n",
      "4, (32, 16, 3, 3) 71%, 11->23\n",
      "8, (32, 32, 3, 3) 59%, 23->19\n",
      "12, (32, 32, 3, 3) 56%, 19->18 inter=15\n",
      "16, (64, 32, 3, 3) 87%, 26->56\n",
      "20, (128, 64, 3, 3) 56%, 56->72\n",
      "24, (128, 128, 3, 3) 81%, 72->104\n",
      "28, (128, 128, 3, 3) 42%, 104->54 inter=40\n",
      "32, (10, 128, 1, 1) 100%, 86->10\n"
     ]
    }
   ],
   "execution_count": 333
  },
  {
   "metadata": {
    "ExecuteTime": {
     "end_time": "2025-05-05T01:23:14.689054Z",
     "start_time": "2025-05-05T01:23:14.655084Z"
    }
   },
   "cell_type": "code",
   "source": [
    "np.set_printoptions(1)\n",
    "w = param[12][1].detach().cpu().numpy()\n",
    "wa = np.abs(w)\n",
    "wa_max = np.max(wa, axis=(1, 2, 3))\n",
    "i = np.argsort(wa_max)[::-1]\n",
    "f = w[i[0]]\n",
    "fa = np.abs(f)\n",
    "fa_max = np.max(fa, axis=(1, 2))\n",
    "#print(f\"{wa_max[i]}\")\n",
    "# print(wa[i].shape)\n",
    "i1 = np.argsort(fa_max)[::-1]\n",
    "f1b = fa > 0.1\n",
    "np.sum(f1b)\n",
    "f[i1[2]]\n",
    "# fa[69]\n",
    "#f[i1]"
   ],
   "outputs": [
    {
     "data": {
      "text/plain": [
       "array([[ 1.4e-02,  5.9e-03,  1.4e-03],\n",
       "       [-2.8e-05, -2.1e-01, -1.1e-04],\n",
       "       [-6.2e-03, -4.6e-02,  2.4e-02]], dtype=float32)"
      ]
     },
     "execution_count": 185,
     "metadata": {},
     "output_type": "execute_result"
    }
   ],
   "execution_count": 185
  }
 ],
 "metadata": {
  "kernelspec": {
   "display_name": "home",
   "language": "python",
   "name": "python3"
  },
  "language_info": {
   "codemirror_mode": {
    "name": "ipython",
    "version": 3
   },
   "file_extension": ".py",
   "mimetype": "text/x-python",
   "name": "python",
   "nbconvert_exporter": "python",
   "pygments_lexer": "ipython3",
   "version": "3.12.8"
  }
 },
 "nbformat": 4,
 "nbformat_minor": 0
}
