{
 "cells": [
  {
   "cell_type": "code",
   "metadata": {
    "collapsed": true,
    "ExecuteTime": {
     "end_time": "2025-05-03T01:40:46.255949Z",
     "start_time": "2025-05-03T01:40:43.384742Z"
    }
   },
   "source": [
    "from torchvision.transforms.v2.functional import elastic_transform\n",
    "%load_ext autoreload\n",
    "%autoreload 2\n",
    "import math\n",
    "import torch\n",
    "import torchvision\n",
    "import torchvision.transforms as transforms\n",
    "import torch.utils\n",
    "import torch.utils.data\n",
    "import torch.nn as nn\n",
    "import torchsummary\n",
    "import torch.nn.functional as F\n",
    "import numpy as np\n",
    "import cv2\n",
    "import gc\n",
    "from scipy import ndimage\n",
    "from livenet.backend.core import Context\n",
    "import random\n",
    "import importlib\n",
    "import onnx\n",
    "import livenet\n",
    "device = \"cuda\"\n",
    "#device = \"cpu\"\n",
    "#torch.set_default_device(device)\n",
    "from ai_libs.simple_log import LOG\n",
    "\n"
   ],
   "outputs": [],
   "execution_count": 1
  },
  {
   "metadata": {
    "ExecuteTime": {
     "end_time": "2025-05-03T02:11:27.637058Z",
     "start_time": "2025-05-03T02:11:20.359481Z"
    }
   },
   "cell_type": "code",
   "source": [
    "from livenet.datasets import TransformDataset\n",
    "test_x, test_y = livenet.datasets.get_cifar10_test()\n",
    "test = torch.utils.data.TensorDataset(test_x, test_y)\n",
    "test_aug = TransformDataset(test, livenet.datasets.cifar10_test_transform)\n",
    "test_loader = torch.utils.data.DataLoader(test_aug, batch_size=256, drop_last=True, shuffle=True, num_workers=4, pin_memory=True)\n",
    "\n",
    "train_x, train_y = livenet.datasets.get_cifar10_train()\n",
    "train = torch.utils.data.TensorDataset(train_x, train_y)\n",
    "train_aug = TransformDataset(train, livenet.datasets.cifar10_train_transform)\n",
    "train_loader = torch.utils.data.DataLoader(train_aug, batch_size=256, drop_last=True, shuffle=True, num_workers=4, pin_memory=True)\n",
    "\n"
   ],
   "outputs": [],
   "execution_count": 146
  },
  {
   "metadata": {
    "ExecuteTime": {
     "end_time": "2025-05-03T02:09:02.630522Z",
     "start_time": "2025-05-03T02:09:01.910283Z"
    }
   },
   "cell_type": "code",
   "source": [
    "\n",
    "#train_aug = TransformDataset(train, livenet.datasets.cifar10_train_transform)\n"
   ],
   "outputs": [],
   "execution_count": 110
  },
  {
   "metadata": {
    "ExecuteTime": {
     "end_time": "2025-05-03T02:11:06.621444Z",
     "start_time": "2025-05-03T02:11:06.328219Z"
    }
   },
   "cell_type": "code",
   "source": [
    "img = train_aug[4][0].numpy()\n",
    "img = img.transpose(1, 2, 0)\n",
    "from matplotlib import pyplot as plt\n",
    "#img = livenet.datasets._elastic_transform(img, (-4, 0))\n",
    "img = (img * 128 + 127).astype(np.uint8)\n",
    "plt.imsave(\"/home/spometun/img.png\", img)\n",
    "plt.imshow( img )"
   ],
   "outputs": [
    {
     "data": {
      "text/plain": [
       "<matplotlib.image.AxesImage at 0x70882a8c7980>"
      ]
     },
     "execution_count": 145,
     "metadata": {},
     "output_type": "execute_result"
    },
    {
     "data": {
      "text/plain": [
       "<Figure size 640x480 with 1 Axes>"
      ],
      "image/png": "[encoded data removed]"
     },
     "metadata": {},
     "output_type": "display_data"
    }
   ],
   "execution_count": 145
  },
  {
   "cell_type": "code",
   "metadata": {
    "collapsed": false,
    "ExecuteTime": {
     "end_time": "2025-05-03T02:11:43.893554Z",
     "start_time": "2025-05-03T02:11:42.537260Z"
    }
   },
   "source": [
    "\n",
    "class ResBlock(nn.Module):\n",
    "    def __init__(self, input_channels: int, internal_channels: int):\n",
    "        super().__init__()\n",
    "        self.c1 = nn.Conv2d(input_channels, internal_channels, 1)\n",
    "        self.c2 = nn.Conv2d(internal_channels, internal_channels, 3, groups=internal_channels, padding=\"same\")\n",
    "        self.c3 = nn.Conv2d(internal_channels, input_channels, 1)\n",
    "        self.bn1 = nn.BatchNorm2d(internal_channels)\n",
    "        self.bn2 = nn.BatchNorm2d(internal_channels)\n",
    "        self.bn3 = nn.BatchNorm2d(input_channels)\n",
    "\n",
    "    def forward(self, x):\n",
    "        y = F.relu(self.bn1(self.c1(x)))\n",
    "        y = F.relu(self.bn2(self.c2(y)))\n",
    "        y = F.relu(self.bn3(self.c3(y)))\n",
    "        return x + y\n",
    "\n",
    "def set_seed(seed=0):\n",
    "    random.seed(seed)\n",
    "    np.random.seed(seed)\n",
    "    torch.manual_seed(seed)\n",
    "\n",
    "set_seed(0)\n",
    "class Net(nn.Module):\n",
    "    def __init__(self, device):\n",
    "        super().__init__()\n",
    "        self.device = device\n",
    "        self._alpha = 0.01\n",
    "        self.context = Context(self)\n",
    "        self.blocks = dict()\n",
    "        self.max_pool = nn.MaxPool2d(2, 2)\n",
    "        self.av_pool = nn.AvgPool2d(2, 2)\n",
    "        self.conv1 = nn.Conv2d(3, 16, 3)\n",
    "        self.conv2 = nn.Conv2d(16, 16, 3, groups=16)\n",
    "        self.conv3 = nn.Conv2d(16, 16, 1)\n",
    "        self.conv4 = nn.Conv2d(16, 32, 1)\n",
    "        self.r1 = ResBlock(32, 64)\n",
    "        self.conv5 = nn.Conv2d(32, 64, 1)\n",
    "        self.conv6 = nn.Conv2d(64, 64, 3, groups=64, stride=2)\n",
    "        self.conv7 = nn.Conv2d(64, 40, 1)\n",
    "        self.r2 = ResBlock(40, 128)\n",
    "        self.conv8 = nn.Conv2d(40, 128, 1)\n",
    "        self.conv9 = nn.Conv2d(128, 128, 3, groups=128, stride=2)\n",
    "        self.conv10 = nn.Conv2d(128, 64, 1)\n",
    "\n",
    "        self.conv11 = nn.Conv2d(64, 128, 1)\n",
    "        self.conv12 = nn.Conv2d(128, 128, 3, groups=128, stride=2)\n",
    "\n",
    "        # self.dr7 = nn.Dropout(p=0.2)\n",
    "        # self.dr8 = nn.Dropout(p=0.2)\n",
    "        # self.dr10 = nn.Dropout(p=0.2)\n",
    "        # self.dr11 = nn.Dropout(p=0.2)\n",
    "\n",
    "        self.fc1 = nn.Linear(16 * 5 * 5, 120)\n",
    "        self.fc1b = nn.Linear(64, 10)\n",
    "\n",
    "        self.bn1 = nn.BatchNorm2d(16)\n",
    "        self.bn2 = nn.BatchNorm2d(16)\n",
    "        self.bn3 = nn.BatchNorm2d(16)\n",
    "        self.bn4 = nn.BatchNorm2d(32)\n",
    "\n",
    "        self.bn5 = nn.BatchNorm2d(64)\n",
    "        self.bn6 = nn.BatchNorm2d(64)\n",
    "        self.bn7 = nn.BatchNorm2d(40)\n",
    "\n",
    "        self.bn8 = nn.BatchNorm2d(128)\n",
    "        self.bn9 = nn.BatchNorm2d(128)\n",
    "        self.bn10 = nn.BatchNorm2d(64)\n",
    "\n",
    "        self.bn11 = nn.BatchNorm2d(128)\n",
    "        self.bn12 = nn.BatchNorm2d(128)\n",
    "\n",
    "        self.fc = nn.Linear(128, 10)\n",
    "        self.to(self.device)\n",
    "\n",
    "\n",
    "    def forward(self, x):\n",
    "        x = F.relu6(self.bn1(self.conv1(x)))\n",
    "        x = F.relu6(self.bn2(self.conv2(x)))\n",
    "        x = F.relu6(self.bn3(self.conv3(x)))\n",
    "        x = F.relu6(self.bn4(self.conv4(x)))\n",
    "        x = self.r1(x)\n",
    "        x = F.relu6(self.bn5(self.conv5(x)))\n",
    "        x = F.relu6(self.bn6(self.conv6(x)))\n",
    "        x = F.relu6(self.bn7(self.conv7(x)))\n",
    "        # x = self.dr7(x)\n",
    "        x = self.r2(x)\n",
    "        x = F.relu6(self.bn8(self.conv8(x)))\n",
    "        # x = self.dr8(x)\n",
    "        x = F.relu6(self.bn9(self.conv9(x)))\n",
    "        x = F.relu6(self.bn10(self.conv10(x)))\n",
    "        # x = self.dr10(x)\n",
    "\n",
    "        x = F.relu6(self.bn11(self.conv11(x)))\n",
    "        # x = self.dr11(x)\n",
    "        x = F.relu6(self.bn12(self.conv12(x)))\n",
    "\n",
    "        x = self.av_pool(x)\n",
    "        x = torch.flatten(x, 1) # flatten all dimensions except batch\n",
    "        #x = self.drfc(x)\n",
    "\n",
    "        x=self.fc(x)\n",
    "        return x\n",
    "\n",
    "    def internal_loss(self):\n",
    "        loss = torch.tensor(0., device=self.device)\n",
    "        for param in self.parameters():\n",
    "            if len(param.data.shape) > 1:\n",
    "                # loss += self._alpha * torch.sum(torch.abs(param)) / param.data.numel()\n",
    "                loss += self._alpha * torch.sum(torch.square(param)) / param.data.numel()\n",
    "        return loss\n",
    "\n",
    "\n",
    "network = Net(device)\n",
    "torchsummary.summary(network, (3, 32, 32), device=device)\n",
    "\n"
   ],
   "outputs": [
    {
     "name": "stdout",
     "output_type": "stream",
     "text": [
      "----------------------------------------------------------------\n",
      "        Layer (type)               Output Shape         Param #\n",
      "================================================================\n",
      "            Conv2d-1           [-1, 16, 30, 30]             448\n",
      "       BatchNorm2d-2           [-1, 16, 30, 30]              32\n",
      "            Conv2d-3           [-1, 16, 28, 28]             160\n",
      "       BatchNorm2d-4           [-1, 16, 28, 28]              32\n",
      "            Conv2d-5           [-1, 16, 28, 28]             272\n",
      "       BatchNorm2d-6           [-1, 16, 28, 28]              32\n",
      "            Conv2d-7           [-1, 32, 28, 28]             544\n",
      "       BatchNorm2d-8           [-1, 32, 28, 28]              64\n",
      "            Conv2d-9           [-1, 64, 28, 28]           2,112\n",
      "      BatchNorm2d-10           [-1, 64, 28, 28]             128\n",
      "           Conv2d-11           [-1, 64, 28, 28]             640\n",
      "      BatchNorm2d-12           [-1, 64, 28, 28]             128\n",
      "           Conv2d-13           [-1, 32, 28, 28]           2,080\n",
      "      BatchNorm2d-14           [-1, 32, 28, 28]              64\n",
      "         ResBlock-15           [-1, 32, 28, 28]               0\n",
      "           Conv2d-16           [-1, 64, 28, 28]           2,112\n",
      "      BatchNorm2d-17           [-1, 64, 28, 28]             128\n",
      "           Conv2d-18           [-1, 64, 13, 13]             640\n",
      "      BatchNorm2d-19           [-1, 64, 13, 13]             128\n",
      "           Conv2d-20           [-1, 40, 13, 13]           2,600\n",
      "      BatchNorm2d-21           [-1, 40, 13, 13]              80\n",
      "           Conv2d-22          [-1, 128, 13, 13]           5,248\n",
      "      BatchNorm2d-23          [-1, 128, 13, 13]             256\n",
      "           Conv2d-24          [-1, 128, 13, 13]           1,280\n",
      "      BatchNorm2d-25          [-1, 128, 13, 13]             256\n",
      "           Conv2d-26           [-1, 40, 13, 13]           5,160\n",
      "      BatchNorm2d-27           [-1, 40, 13, 13]              80\n",
      "         ResBlock-28           [-1, 40, 13, 13]               0\n",
      "           Conv2d-29          [-1, 128, 13, 13]           5,248\n",
      "      BatchNorm2d-30          [-1, 128, 13, 13]             256\n",
      "           Conv2d-31            [-1, 128, 6, 6]           1,280\n",
      "      BatchNorm2d-32            [-1, 128, 6, 6]             256\n",
      "           Conv2d-33             [-1, 64, 6, 6]           8,256\n",
      "      BatchNorm2d-34             [-1, 64, 6, 6]             128\n",
      "           Conv2d-35            [-1, 128, 6, 6]           8,320\n",
      "      BatchNorm2d-36            [-1, 128, 6, 6]             256\n",
      "           Conv2d-37            [-1, 128, 2, 2]           1,280\n",
      "      BatchNorm2d-38            [-1, 128, 2, 2]             256\n",
      "        AvgPool2d-39            [-1, 128, 1, 1]               0\n",
      "           Linear-40                   [-1, 10]           1,290\n",
      "================================================================\n",
      "Total params: 51,530\n",
      "Trainable params: 51,530\n",
      "Non-trainable params: 0\n",
      "----------------------------------------------------------------\n",
      "Input size (MB): 0.01\n",
      "Forward/backward pass size (MB): 5.45\n",
      "Params size (MB): 0.20\n",
      "Estimated Total Size (MB): 5.66\n",
      "----------------------------------------------------------------\n"
     ]
    }
   ],
   "execution_count": 147
  },
  {
   "cell_type": "code",
   "metadata": {
    "collapsed": false,
    "ExecuteTime": {
     "end_time": "2025-05-03T02:11:48.411321Z",
     "start_time": "2025-05-03T02:11:48.039092Z"
    }
   },
   "source": [
    "batch_size = 256\n",
    "# batch_iterator = livenet.gen_utils.batch_iterator(train_x, train_y, batch_size)\n",
    "criterion = livenet.nets.criterion_classification_n\n",
    "optimizer = livenet.nets.create_optimizer(network)\n",
    "# epoch_size = len(train_x) // batch_size // 10\n",
    "trainer = livenet.net_trainer.NetTrainer(network, train_loader, criterion, optimizer)\n",
    "trainer.adaptive_lr = True\n",
    "optimizer.learning_rate = 0.01\n",
    "\n"
   ],
   "outputs": [
    {
     "name": "stdout",
     "output_type": "stream",
     "text": [
      "Torch\n"
     ]
    }
   ],
   "execution_count": 148
  },
  {
   "cell_type": "code",
   "metadata": {
    "jupyter": {
     "is_executing": true
    },
    "ExecuteTime": {
     "start_time": "2025-05-03T02:11:57.534185Z"
    }
   },
   "source": [
    "#network.learning_rate = 0.0005\n",
    "# optimizer.learning_rate /= 2\n",
    "network.train()\n",
    "trainer.step(10000)\n"
   ],
   "outputs": [
    {
     "name": "stdout",
     "output_type": "stream",
     "text": [
      "Iˈ0.000 194 2.477+0.005reg params=78 lr=0.01000 livenet/net_trainer.py:151\n",
      "Iˈ28.297 389 1.966+0.008reg params=78 lr=0.01000 livenet/net_trainer.py:151\n"
     ]
    }
   ],
   "execution_count": null
  },
  {
   "metadata": {
    "ExecuteTime": {
     "end_time": "2025-04-27T23:34:40.489856Z",
     "start_time": "2025-04-27T23:34:21.202697Z"
    }
   },
   "cell_type": "code",
   "source": [
    "gc.collect()\n",
    "torch.cuda.empty_cache()\n",
    "\n",
    "def _infer_epoch(network, loader):\n",
    "    preds = []\n",
    "    ys = []\n",
    "    with torch.no_grad():\n",
    "        for x, y in iter(loader):\n",
    "            x = x.to(network.device)\n",
    "            pred = network(x)\n",
    "            pred = pred.cpu()\n",
    "            preds.append(pred)\n",
    "            ys.append(y.cpu())\n",
    "    pred = torch.concatenate(preds)\n",
    "    y = torch.concatenate(ys)\n",
    "    return pred, y\n",
    "\n",
    "\n",
    "network.train()\n",
    "#train_pred, train_labels = _infer_epoch(network, train_loader)\n",
    "test_pred, test_labels = _infer_epoch(network, test_loader)\n",
    "\n",
    "network.eval()\n",
    "test_pred, test_labels = _infer_epoch(network, test_loader)\n",
    "train_pred, train_labels = _infer_epoch(network, train_loader)\n",
    "\n",
    "def calc_accuracy(predictions, labels):\n",
    "    _, predicted = torch.max(predictions.data, 1)\n",
    "    labels = labels.numpy()\n",
    "    labels = np.squeeze(labels, 1)\n",
    "    predicted = predicted.numpy()\n",
    "    correct = np.sum(predicted == labels)\n",
    "    total = len(labels)\n",
    "    accuracy = correct / total\n",
    "    return accuracy\n",
    "\n",
    "\n",
    "# test_y_tensor = torch.tensor(test_y, device=\"cpu\")\n",
    "# train_y_tensor = torch.tensor(train_y, device=\"cpu\")\n",
    "test_loss = trainer.criterion(test_pred, test_labels).item()\n",
    "train_loss = trainer.criterion(train_pred, train_labels).item()\n",
    "LOG(f\"loss: train: {train_loss:.3f} test: {test_loss:.3f}\")\n",
    "\n",
    "test_accuracy = calc_accuracy(test_pred, test_labels)\n",
    "train_accuracy = calc_accuracy(train_pred, train_labels)\n",
    "LOG(f\"accuracy, train: {100 * train_accuracy:.1f}% test: {100 * test_accuracy:.1f}%\")"
   ],
   "outputs": [
    {
     "name": "stdout",
     "output_type": "stream",
     "text": [
      "Iˈ0.000 loss: train: 0.520 test: 0.549 \n",
      "Iˈ0.001 accuracy, train: 87.4% test: 87.2% \n"
     ]
    }
   ],
   "execution_count": 27
  }
 ],
 "metadata": {
  "kernelspec": {
   "display_name": "home",
   "language": "python",
   "name": "python3"
  },
  "language_info": {
   "codemirror_mode": {
    "name": "ipython",
    "version": 3
   },
   "file_extension": ".py",
   "mimetype": "text/x-python",
   "name": "python",
   "nbconvert_exporter": "python",
   "pygments_lexer": "ipython3",
   "version": "3.12.8"
  }
 },
 "nbformat": 4,
 "nbformat_minor": 0
}
