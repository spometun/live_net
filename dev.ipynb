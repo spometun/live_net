{
 "cells": [
  {
   "cell_type": "code",
   "id": "initial_id",
   "metadata": {
    "collapsed": true,
    "ExecuteTime": {
     "end_time": "2025-04-27T15:58:13.579585Z",
     "start_time": "2025-04-27T15:58:13.564157Z"
    }
   },
   "source": [
    "import matplotlib.pyplot as plt\n",
    "%load_ext autoreload\n",
    "%autoreload 2\n",
    "import os\n",
    "import numpy as np\n",
    "import torch\n",
    "import torch.nn as nn\n",
    "import torchvision\n",
    "from torch.utils.data import Dataset, TensorDataset\n",
    "from torch.utils.data import DataLoader\n",
    "import livenet.datasets\n",
    "device = \"cuda\"\n",
    "torch.set_default_device(\"cpu\")\n",
    "from livenet.datasets import TransformDataset\n",
    "from ai_libs.simple_log import LOG\n"
   ],
   "outputs": [
    {
     "name": "stdout",
     "output_type": "stream",
     "text": [
      "The autoreload extension is already loaded. To reload it, use:\n",
      "  %reload_ext autoreload\n"
     ]
    }
   ],
   "execution_count": 127
  },
  {
   "metadata": {
    "ExecuteTime": {
     "end_time": "2025-04-27T02:30:21.885136Z",
     "start_time": "2025-04-27T02:30:21.875378Z"
    }
   },
   "cell_type": "code",
   "source": [
    "imgs = []\n",
    "labs = []\n",
    "to_tensor = torchvision.transforms.ToTensor()\n",
    "for i in range(2):\n",
    "    imgs.append(to_tensor(dataset[i][0]))\n",
    "    labs.append(torch.tensor(dataset[i][1]))\n",
    "\n",
    "images = torch.stack(imgs)\n",
    "labels = torch.tensor(labs)\n",
    "labels = labels[:, None]"
   ],
   "id": "223dff786071d357",
   "outputs": [],
   "execution_count": 95
  },
  {
   "metadata": {
    "ExecuteTime": {
     "end_time": "2025-04-27T13:28:35.092176Z",
     "start_time": "2025-04-27T13:28:35.062083Z"
    }
   },
   "cell_type": "code",
   "source": [
    "\n",
    "transform = torchvision.transforms.Compose(\n",
    "    [\n",
    "        # torchvision.transforms.RandomRotation(15),\n",
    "        # torchvision.transforms.RandomCrop(32, padding=4, padding_mode=\"edge\"),\n",
    "        # torchvision.transforms.RandomHorizontalFlip(),\n",
    "        torchvision.transforms.ColorJitter(0.1, 0.1, 0.1, 0.05),\n",
    "        # cifar10_normalization\n",
    "    ]\n",
    ")\n"
   ],
   "id": "fd84dcbcf3d61c2",
   "outputs": [],
   "execution_count": 6
  },
  {
   "metadata": {
    "ExecuteTime": {
     "end_time": "2025-04-27T16:03:18.035254Z",
     "start_time": "2025-04-27T16:03:16.829113Z"
    }
   },
   "cell_type": "code",
   "source": [
    "test_x, test_y = livenet.datasets.get_cifar10_test()\n",
    "test = torch.utils.data.TensorDataset(test_x, test_y)\n",
    "test_aug = TransformDataset(test, livenet.datasets.cifar10_train_transform)\n",
    "test_loader = torch.utils.data.DataLoader(test_aug, batch_size=256, drop_last=True, shuffle=True, num_workers=4, pin_memory=True)\n",
    "\n",
    "# train_x, train_y = livenet.datasets.get_cifar10_train()\n",
    "# train = torch.utils.data.TensorDataset(train_x, train_y)\n",
    "# train_aug = TransformDataset(train, livenet.datasets.train_transform)\n",
    "# train_loader = torch.utils.data.DataLoader(train_aug, batch_size=4, drop_last=True, shuffle=True, num_workers=4, pin_memory=True)\n",
    "# train_y.device\n"
   ],
   "id": "482b0ada2f3303b1",
   "outputs": [],
   "execution_count": 137
  },
  {
   "metadata": {
    "ExecuteTime": {
     "end_time": "2025-04-27T16:03:51.748189Z",
     "start_time": "2025-04-27T16:03:44.651024Z"
    }
   },
   "cell_type": "code",
   "source": [
    "it = iter(test_loader)\n",
    "for i, el in enumerate(it):\n",
    "    LOG(i, len(el[0]))"
   ],
   "id": "3bcbd408e287371e",
   "outputs": [
    {
     "name": "stdout",
     "output_type": "stream",
     "text": [
      "0 256\n",
      "1 256\n",
      "2 256\n",
      "3 256\n",
      "4 256\n",
      "5 256\n",
      "6 256\n",
      "7 256\n",
      "8 256\n",
      "9 256\n",
      "10 256\n",
      "11 256\n",
      "12 256\n",
      "13 256\n",
      "14 256\n",
      "15 256\n",
      "16 256\n",
      "17 256\n",
      "18 256\n",
      "19 256\n",
      "20 256\n",
      "21 256\n",
      "22 256\n",
      "23 256\n",
      "24 256\n",
      "25 256\n",
      "26 256\n",
      "27 256\n",
      "28 256\n",
      "29 256\n",
      "30 256\n",
      "31 256\n",
      "32 256\n",
      "33 256\n",
      "34 256\n",
      "35 256\n",
      "36 256\n",
      "37 256\n",
      "38 256\n"
     ]
    }
   ],
   "execution_count": 139
  },
  {
   "metadata": {
    "ExecuteTime": {
     "end_time": "2025-04-27T13:54:47.700302Z",
     "start_time": "2025-04-27T13:54:47.665783Z"
    }
   },
   "cell_type": "code",
   "source": [
    "imgnp = test_aug[0][0].numpy().transpose(1, 2, 0)\n",
    "imgnp = (imgnp * 128 + 127)\n",
    "from matplotlib import pyplot as plt\n",
    "# plt.imshow(imgnp)\n",
    "np.min(imgnp)"
   ],
   "id": "49b89726b14142db",
   "outputs": [
    {
     "data": {
      "text/plain": [
       "np.float32(9.0)"
      ]
     },
     "execution_count": 125,
     "metadata": {},
     "output_type": "execute_result"
    }
   ],
   "execution_count": 125
  },
  {
   "metadata": {
    "ExecuteTime": {
     "end_time": "2025-04-27T13:14:11.854938Z",
     "start_time": "2025-04-27T13:14:11.649023Z"
    }
   },
   "cell_type": "code",
   "source": "next(iter(train_loader))",
   "id": "f135778ea11af7e7",
   "outputs": [
    {
     "data": {
      "text/plain": [
       "[tensor([[[[-0.8376, -0.8220, -0.7493,  ..., -0.6875, -0.6875, -0.6875],\n",
       "           [-0.8393, -0.7873, -0.7142,  ..., -0.6721, -0.6721, -0.6721],\n",
       "           [-0.8198, -0.8049, -0.7684,  ..., -0.6203, -0.6203, -0.6203],\n",
       "           ...,\n",
       "           [-1.3471, -1.3316, -1.3327,  ..., -1.3085, -1.3085, -1.3085],\n",
       "           [-1.3471, -1.3316, -1.3327,  ..., -1.3085, -1.3085, -1.3085],\n",
       "           [-1.3471, -1.3316, -1.3327,  ..., -1.3085, -1.3085, -1.3085]],\n",
       " \n",
       "          [[-0.3193, -0.2703, -0.2439,  ..., -0.3163, -0.3163, -0.3163],\n",
       "           [-0.3166, -0.2687, -0.2371,  ..., -0.2698, -0.2698, -0.2698],\n",
       "           [-0.3277, -0.2890, -0.2901,  ..., -0.2271, -0.2271, -0.2271],\n",
       "           ...,\n",
       "           [-1.0594, -1.0103, -0.9973,  ..., -1.0555, -1.0555, -1.0555],\n",
       "           [-1.0594, -1.0103, -0.9973,  ..., -1.0555, -1.0555, -1.0555],\n",
       "           [-1.0594, -1.0103, -0.9973,  ..., -1.0555, -1.0555, -1.0555]],\n",
       " \n",
       "          [[ 0.2321,  0.2823,  0.2800,  ...,  0.0721,  0.0721,  0.0721],\n",
       "           [ 0.3370,  0.4217,  0.3842,  ...,  0.1399,  0.1399,  0.1399],\n",
       "           [ 0.3022,  0.4228,  0.4573,  ...,  0.2598,  0.2598,  0.2598],\n",
       "           ...,\n",
       "           [-0.5688, -0.5186, -0.4841,  ..., -0.6921, -0.6921, -0.6921],\n",
       "           [-0.5688, -0.5186, -0.4841,  ..., -0.6921, -0.6921, -0.6921],\n",
       "           [-0.5688, -0.5186, -0.4841,  ..., -0.6921, -0.6921, -0.6921]]],\n",
       " \n",
       " \n",
       "         [[[-1.9889, -1.9889, -1.9889,  ..., -1.8417, -1.8417, -1.8236],\n",
       "           [-1.9889, -1.9889, -1.9889,  ..., -1.8417, -1.8417, -1.8236],\n",
       "           [-1.9889, -1.9889, -1.9889,  ..., -1.8417, -1.8417, -1.8236],\n",
       "           ...,\n",
       "           [-1.9889, -1.9889, -1.9889,  ..., -1.8272, -1.8817, -1.8253],\n",
       "           [-1.9889, -1.9889, -1.9889,  ..., -1.9194, -1.8428, -1.7867],\n",
       "           [-1.9889, -1.9889, -1.9889,  ..., -1.8990, -1.8408, -1.7658]],\n",
       " \n",
       "          [[-1.9807, -1.9807, -1.9807,  ..., -1.8313, -1.8313, -1.8130],\n",
       "           [-1.9807, -1.9807, -1.9807,  ..., -1.8313, -1.8313, -1.8130],\n",
       "           [-1.9807, -1.9807, -1.9807,  ..., -1.8313, -1.8313, -1.8130],\n",
       "           ...,\n",
       "           [-1.9807, -1.9807, -1.9807,  ..., -1.7012, -1.7372, -1.7570],\n",
       "           [-1.9807, -1.9807, -1.9807,  ..., -1.7178, -1.7940, -1.7767],\n",
       "           [-1.9807, -1.9807, -1.9807,  ..., -1.7741, -1.8555, -1.8698]],\n",
       " \n",
       "          [[-1.7076, -1.7076, -1.7076,  ..., -1.5686, -1.5686, -1.5515],\n",
       "           [-1.7076, -1.7076, -1.7076,  ..., -1.5686, -1.5686, -1.5515],\n",
       "           [-1.7076, -1.7076, -1.7076,  ..., -1.5686, -1.5686, -1.5515],\n",
       "           ...,\n",
       "           [-1.7076, -1.7076, -1.7076,  ..., -1.4637, -1.5716, -1.5254],\n",
       "           [-1.7076, -1.7076, -1.7076,  ..., -1.5975, -1.5572, -1.6421],\n",
       "           [-1.7076, -1.7076, -1.7076,  ..., -1.6211, -1.6036, -1.5703]]],\n",
       " \n",
       " \n",
       "         [[[-1.9651, -1.9651, -1.9651,  ..., -0.4154, -0.0698, -0.0731],\n",
       "           [-1.9651, -1.9651, -1.9651,  ..., -0.4865, -0.0405, -0.0070],\n",
       "           [-0.3577, -0.3577, -0.3577,  ..., -0.8172,  0.0256,  0.1449],\n",
       "           ...,\n",
       "           [-1.9651, -1.9651, -1.9651,  ..., -1.9651, -1.9651, -1.9651],\n",
       "           [-1.9651, -1.9651, -1.9651,  ..., -1.9651, -1.9651, -1.9651],\n",
       "           [-1.9651, -1.9651, -1.9651,  ..., -1.9651, -1.9651, -1.9651]],\n",
       " \n",
       "          [[-1.9565, -1.9565, -1.9565,  ...,  0.5272,  0.9225,  1.0853],\n",
       "           [-1.9565, -1.9565, -1.9565,  ...,  0.7031,  1.1358,  1.1486],\n",
       "           [ 0.9914,  0.9914,  0.9914,  ...,  0.3962,  1.1991,  1.1366],\n",
       "           ...,\n",
       "           [-1.9565, -1.9565, -1.9565,  ..., -1.9565, -1.9565, -1.9565],\n",
       "           [-1.9565, -1.9565, -1.9565,  ..., -1.9565, -1.9565, -1.9565],\n",
       "           [-1.9565, -1.9565, -1.9565,  ..., -1.9565, -1.9565, -1.9565]],\n",
       " \n",
       "          [[-1.6852, -1.6852, -1.6852,  ...,  1.0238,  1.3180,  1.5089],\n",
       "           [-1.6852, -1.6852, -1.6852,  ...,  1.2801,  1.5397,  1.5551],\n",
       "           [ 1.4827,  1.4827,  1.4827,  ...,  1.0163,  1.5859,  1.5045],\n",
       "           ...,\n",
       "           [-1.6852, -1.6852, -1.6852,  ..., -1.6852, -1.6852, -1.6852],\n",
       "           [-1.6852, -1.6852, -1.6852,  ..., -1.6852, -1.6852, -1.6852],\n",
       "           [-1.6852, -1.6852, -1.6852,  ..., -1.6852, -1.6852, -1.6852]]],\n",
       " \n",
       " \n",
       "         [[[-1.9836, -1.9836, -1.9836,  ...,  1.9595,  1.9595,  1.9595],\n",
       "           [ 2.0587,  2.0587,  2.0587,  ...,  2.0251,  2.0415,  2.0251],\n",
       "           [ 2.0587,  2.0587,  2.0587,  ...,  2.0578,  2.0587,  2.0578],\n",
       "           ...,\n",
       "           [-1.9836, -1.9836, -1.9836,  ...,  0.1607, -1.9836, -1.9836],\n",
       "           [-1.9836, -1.9836, -1.9836,  ..., -1.9836, -1.9836, -1.9836],\n",
       "           [-1.9836, -1.9836, -1.9836,  ..., -1.9836, -1.9836, -1.9836]],\n",
       " \n",
       "          [[-1.9753, -1.9753, -1.9753,  ...,  2.1256,  2.1256,  2.1256],\n",
       "           [ 2.1256,  2.1256,  2.1256,  ...,  2.1256,  2.1256,  2.1256],\n",
       "           [ 2.1256,  2.1256,  2.1256,  ...,  2.1256,  2.1256,  2.1256],\n",
       "           ...,\n",
       "           [-1.9753, -1.9753, -1.9753,  ...,  0.2427, -1.9753, -1.9753],\n",
       "           [-1.9753, -1.9753, -1.9753,  ..., -1.9753, -1.9753, -1.9753],\n",
       "           [-1.9753, -1.9753, -1.9753,  ..., -1.9753, -1.9753, -1.9753]],\n",
       " \n",
       "          [[-1.7026, -1.7026, -1.7026,  ...,  1.8652,  1.8652,  1.8652],\n",
       "           [ 2.1154,  2.1154,  2.1154,  ...,  1.9271,  1.9426,  1.9271],\n",
       "           [ 1.9859,  1.9859,  1.9859,  ...,  1.9581,  1.9736,  1.9581],\n",
       "           ...,\n",
       "           [-1.7026, -1.7026, -1.7026,  ..., -0.1180, -1.7026, -1.7026],\n",
       "           [-1.7026, -1.7026, -1.7026,  ..., -1.7026, -1.7026, -1.7026],\n",
       "           [-1.7026, -1.7026, -1.7026,  ..., -1.7026, -1.7026, -1.7026]]]]),\n",
       " tensor([[0],\n",
       "         [6],\n",
       "         [7],\n",
       "         [4]])]"
      ]
     },
     "execution_count": 7,
     "metadata": {},
     "output_type": "execute_result"
    }
   ],
   "execution_count": 7
  },
  {
   "metadata": {
    "ExecuteTime": {
     "end_time": "2025-04-27T02:42:50.456365Z",
     "start_time": "2025-04-27T02:42:50.448589Z"
    }
   },
   "cell_type": "code",
   "source": [
    "# tdata = TensorDataset(images, labels)\n",
    "tdata = torch.utils.data.TensorDataset(images, labels)\n",
    "transforms = torchvision.transforms.Compose(\n",
    "    [\n",
    "        # torchvision.transforms.ColorJitter(0.1, 0.1, 0.1, 0.1)\n",
    "        #torchvision.transforms.RandomRotation(15)\n",
    "        # torchvision.transforms.RandomCrop(32, padding=4, padding_mode=\"edge\")\n",
    "        # torchvision.transforms.RandomHorizontalFlip()\n",
    "    ]\n",
    ")\n",
    "ttdata = TransformDataset(tdata, transforms)\n",
    "len(ttdata)\n",
    "loader = DataLoader(ttdata, batch_size=1)\n",
    "it = iter(loader)"
   ],
   "id": "71229149b2b60619",
   "outputs": [],
   "execution_count": 121
  },
  {
   "metadata": {
    "ExecuteTime": {
     "end_time": "2025-04-27T02:43:03.278235Z",
     "start_time": "2025-04-27T02:43:03.272522Z"
    }
   },
   "cell_type": "code",
   "source": [
    "\n",
    "it = iter(loader)\n"
   ],
   "id": "14f40f0f2f21b02d",
   "outputs": [],
   "execution_count": 125
  },
  {
   "metadata": {
    "ExecuteTime": {
     "end_time": "2025-04-27T02:44:30.420663Z",
     "start_time": "2025-04-27T02:44:30.123805Z"
    }
   },
   "cell_type": "code",
   "source": [
    "# imgnp = ttdata[0][0].permute(1, 2, 0)\n",
    "it = iter(loader)\n",
    "imgnp = next(it)[0][0].permute(1, 2, 0)\n",
    "\n",
    "\n",
    "plt.imshow(imgnp)\n"
   ],
   "id": "28d27d367362da79",
   "outputs": [
    {
     "data": {
      "text/plain": [
       "<matplotlib.image.AxesImage at 0x726e5e8e03b0>"
      ]
     },
     "execution_count": 176,
     "metadata": {},
     "output_type": "execute_result"
    },
    {
     "data": {
      "text/plain": [
       "<Figure size 640x480 with 1 Axes>"
      ],
      "image/png": "[encoded data removed]"
     },
     "metadata": {},
     "output_type": "display_data"
    }
   ],
   "execution_count": 176
  },
  {
   "metadata": {
    "ExecuteTime": {
     "end_time": "2025-04-27T02:17:21.550272Z",
     "start_time": "2025-04-27T02:17:21.543101Z"
    }
   },
   "cell_type": "code",
   "source": "from torch.utils.data import Dataset",
   "id": "c5ec0f14025ae839",
   "outputs": [],
   "execution_count": 41
  }
 ],
 "metadata": {
  "kernelspec": {
   "display_name": "Python 3",
   "language": "python",
   "name": "python3"
  },
  "language_info": {
   "codemirror_mode": {
    "name": "ipython",
    "version": 2
   },
   "file_extension": ".py",
   "mimetype": "text/x-python",
   "name": "python",
   "nbconvert_exporter": "python",
   "pygments_lexer": "ipython2",
   "version": "2.7.6"
  }
 },
 "nbformat": 4,
 "nbformat_minor": 5
}
