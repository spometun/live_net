{
 "cells": [
  {
   "cell_type": "code",
   "execution_count": 1,
   "metadata": {
    "collapsed": true,
    "ExecuteTime": {
     "end_time": "2024-03-02T22:17:54.104579Z",
     "start_time": "2024-03-02T22:17:52.221436Z"
    }
   },
   "outputs": [
    {
     "name": "stdout",
     "output_type": "stream",
     "text": [
      "Using matplotlib backend: <object object at 0x7f519a103940>\n",
      "2.2.1+cu121\n"
     ]
    },
    {
     "data": {
      "text/plain": "'%.4f'"
     },
     "execution_count": 1,
     "metadata": {},
     "output_type": "execute_result"
    }
   ],
   "source": [
    "import random\n",
    "import numpy as np\n",
    "import torch\n",
    "import torch.nn as nn\n",
    "import torch.utils.data\n",
    "import importlib\n",
    "import livenet\n",
    "importlib.reload(livenet)\n",
    "core = livenet.core\n",
    "import simple_log\n",
    "simple_log.level = simple_log.LogLevel.INFO\n",
    "from simple_log import LOG\n",
    "import math\n",
    "from matplotlib import pyplot as plt\n",
    "%matplotlib\n",
    "plt.ion()\n",
    "var = 42\n",
    "print(torch.__version__)\n",
    "np.set_printoptions(precision=3)\n",
    "%precision 4\n",
    "\n"
   ]
  },
  {
   "cell_type": "code",
   "execution_count": 52,
   "metadata": {
    "collapsed": false,
    "ExecuteTime": {
     "end_time": "2024-03-02T23:04:24.874943Z",
     "start_time": "2024-03-02T23:04:16.978054Z"
    }
   },
   "outputs": [],
   "source": [
    "downscale = (14, 14)\n",
    "train_x, train_y = livenet.datasets.to_plain(*livenet.datasets.get_mnist_train(), downscale=downscale, to_odd=True, to_gray=True)\n",
    "n_hidden = 2\n",
    "\n",
    "# downscale = (8, 8)\n",
    "# train_x, train_y = livenet.datasets.to_plain(*livenet.datasets.get_cifar10_train(), downscale=downscale, to_odd=False, to_gray=True)\n",
    "# n_hidden = 12\n",
    "\n",
    "n_out = np.max(train_y.numpy()) + 1\n",
    "\n"
   ]
  },
  {
   "cell_type": "code",
   "execution_count": 59,
   "metadata": {
    "collapsed": false,
    "ExecuteTime": {
     "end_time": "2024-03-02T23:05:44.805753Z",
     "start_time": "2024-03-02T23:05:44.795035Z"
    }
   },
   "outputs": [
    {
     "name": "stdout",
     "output_type": "stream",
     "text": [
      "LiveNet\n"
     ]
    }
   ],
   "source": [
    "context = core.livenet.Context()\n",
    "network = livenet.nets.create_perceptron(train_x.shape[1], n_hidden, n_out, context)\n",
    "batch_iterator = livenet.gen_utils.batch_iterator(train_x, train_y, batch_size=1000)\n",
    "criterion = livenet.nets.criterion_classification_n\n",
    "optimizer = livenet.nets.create_optimizer(network)\n",
    "trainer = livenet.net_trainer.NetTrainer(network, batch_iterator, criterion, optimizer, epoch_size=50)"
   ]
  },
  {
   "cell_type": "code",
   "execution_count": 60,
   "metadata": {
    "collapsed": false,
    "ExecuteTime": {
     "end_time": "2024-03-02T23:05:53.115955Z",
     "start_time": "2024-03-02T23:05:45.535946Z"
    }
   },
   "outputs": [
    {
     "name": "stdout",
     "output_type": "stream",
     "text": [
      "Iˈ0.000 1.018 = 1.000+0.018reg params=16 livenet/net_trainer.py:93\n",
      "Iˈ0.113 1.009 = 0.989+0.019reg params=16 livenet/net_trainer.py:93\n",
      "Iˈ0.259 0.952 = 0.910+0.042reg params=16 livenet/net_trainer.py:93\n",
      "Iˈ0.378 0.874 = 0.802+0.072reg params=15 livenet/net_trainer.py:93\n",
      "Iˈ0.486 0.829 = 0.733+0.097reg params=15 livenet/net_trainer.py:93\n",
      "Iˈ0.599 0.806 = 0.693+0.113reg params=14 livenet/net_trainer.py:93\n",
      "Iˈ0.698 0.811 = 0.683+0.128reg params=13 livenet/net_trainer.py:93\n",
      "Iˈ0.795 0.832 = 0.683+0.149reg params=12 livenet/net_trainer.py:93\n",
      "Iˈ0.839 N0 became dangle, total dangle = 1 livenet/core/death.py:55\n",
      "Iˈ0.839 S0 became useless at tick 423 livenet/core/livenet.py:56\n",
      "Iˈ0.884 0.873 = 0.708+0.165reg params=10 livenet/net_trainer.py:93\n",
      "Iˈ0.962 0.871 = 0.713+0.158reg params=10 livenet/net_trainer.py:93\n",
      "Iˈ1.036 0.830 = 0.694+0.137reg params=10 livenet/net_trainer.py:93\n",
      "Iˈ1.108 0.801 = 0.683+0.118reg params=10 livenet/net_trainer.py:93\n",
      "Iˈ1.182 0.806 = 0.704+0.102reg params=10 livenet/net_trainer.py:93\n",
      "Iˈ1.258 0.822 = 0.728+0.093reg params=10 livenet/net_trainer.py:93\n",
      "Iˈ1.331 0.834 = 0.741+0.093reg params=10 livenet/net_trainer.py:93\n",
      "Iˈ1.417 0.845 = 0.761+0.084reg params=10 livenet/net_trainer.py:93\n",
      "Iˈ1.491 0.840 = 0.750+0.089reg params=10 livenet/net_trainer.py:93\n",
      "Iˈ1.563 0.832 = 0.730+0.102reg params=10 livenet/net_trainer.py:93\n",
      "Iˈ1.638 0.826 = 0.713+0.114reg params=10 livenet/net_trainer.py:93\n",
      "Iˈ1.716 0.830 = 0.710+0.120reg params=10 livenet/net_trainer.py:93\n",
      "Iˈ1.789 0.827 = 0.699+0.129reg params=10 livenet/net_trainer.py:93\n",
      "Iˈ1.867 0.825 = 0.685+0.140reg params=10 livenet/net_trainer.py:93\n",
      "Iˈ1.943 0.836 = 0.690+0.146reg params=10 livenet/net_trainer.py:93\n",
      "Iˈ2.016 0.833 = 0.683+0.149reg params=10 livenet/net_trainer.py:93\n",
      "Iˈ2.092 0.828 = 0.677+0.151reg params=10 livenet/net_trainer.py:93\n",
      "Iˈ2.170 0.828 = 0.688+0.140reg params=10 livenet/net_trainer.py:93\n",
      "Iˈ2.244 0.803 = 0.672+0.131reg params=10 livenet/net_trainer.py:93\n",
      "Iˈ2.322 0.802 = 0.682+0.120reg params=10 livenet/net_trainer.py:93\n",
      "Iˈ2.403 0.810 = 0.702+0.108reg params=10 livenet/net_trainer.py:93\n",
      "Iˈ2.478 0.809 = 0.706+0.103reg params=10 livenet/net_trainer.py:93\n",
      "Iˈ2.558 0.812 = 0.716+0.096reg params=10 livenet/net_trainer.py:93\n",
      "Iˈ2.635 0.814 = 0.714+0.099reg params=10 livenet/net_trainer.py:93\n",
      "Iˈ2.710 0.814 = 0.704+0.110reg params=10 livenet/net_trainer.py:93\n",
      "Iˈ2.788 0.806 = 0.683+0.123reg params=10 livenet/net_trainer.py:93\n",
      "Iˈ2.864 0.809 = 0.673+0.136reg params=10 livenet/net_trainer.py:93\n",
      "Iˈ2.937 0.829 = 0.695+0.134reg params=10 livenet/net_trainer.py:93\n",
      "Iˈ3.031 0.806 = 0.683+0.123reg params=10 livenet/net_trainer.py:93\n",
      "Iˈ3.106 0.800 = 0.690+0.110reg params=10 livenet/net_trainer.py:93\n",
      "Iˈ3.180 0.811 = 0.709+0.101reg params=10 livenet/net_trainer.py:93\n",
      "Iˈ3.256 0.813 = 0.708+0.105reg params=10 livenet/net_trainer.py:93\n",
      "Iˈ3.334 0.803 = 0.690+0.113reg params=10 livenet/net_trainer.py:93\n",
      "Iˈ3.410 0.801 = 0.680+0.121reg params=10 livenet/net_trainer.py:93\n",
      "Iˈ3.491 0.808 = 0.677+0.131reg params=10 livenet/net_trainer.py:93\n",
      "Iˈ3.569 0.821 = 0.687+0.134reg params=10 livenet/net_trainer.py:93\n",
      "Iˈ3.645 0.811 = 0.682+0.129reg params=10 livenet/net_trainer.py:93\n",
      "Iˈ3.725 0.813 = 0.692+0.121reg params=10 livenet/net_trainer.py:93\n",
      "Iˈ3.801 0.815 = 0.703+0.111reg params=10 livenet/net_trainer.py:93\n",
      "Iˈ3.877 0.820 = 0.717+0.103reg params=10 livenet/net_trainer.py:93\n",
      "Iˈ3.953 0.810 = 0.707+0.103reg params=10 livenet/net_trainer.py:93\n",
      "Iˈ4.030 0.808 = 0.698+0.110reg params=10 livenet/net_trainer.py:93\n",
      "Iˈ4.105 0.798 = 0.680+0.118reg params=10 livenet/net_trainer.py:93\n",
      "Iˈ4.181 0.809 = 0.682+0.128reg params=10 livenet/net_trainer.py:93\n",
      "Iˈ4.187 N0 became useless at tick 2603 livenet/core/livenet.py:56\n",
      "Iˈ4.187 killing N0 with b=-26.032, tick=2603 livenet/core/livenet.py:117\n",
      "Iˈ4.247 0.820 = 0.689+0.131reg params=8 livenet/net_trainer.py:93\n",
      "Iˈ4.311 0.815 = 0.690+0.126reg params=8 livenet/net_trainer.py:93\n",
      "Iˈ4.376 0.818 = 0.700+0.118reg params=8 livenet/net_trainer.py:93\n",
      "Iˈ4.442 0.804 = 0.693+0.111reg params=8 livenet/net_trainer.py:93\n",
      "Iˈ4.506 0.828 = 0.724+0.104reg params=8 livenet/net_trainer.py:93\n",
      "Iˈ4.570 0.830 = 0.722+0.108reg params=8 livenet/net_trainer.py:93\n",
      "Iˈ4.633 0.811 = 0.696+0.115reg params=8 livenet/net_trainer.py:93\n",
      "Iˈ4.698 0.808 = 0.686+0.122reg params=8 livenet/net_trainer.py:93\n",
      "Iˈ4.762 0.822 = 0.691+0.131reg params=8 livenet/net_trainer.py:93\n",
      "Iˈ4.825 0.836 = 0.704+0.132reg params=8 livenet/net_trainer.py:93\n",
      "Iˈ4.890 0.818 = 0.692+0.127reg params=8 livenet/net_trainer.py:93\n",
      "Iˈ4.967 0.798 = 0.681+0.117reg params=8 livenet/net_trainer.py:93\n",
      "Iˈ5.035 0.805 = 0.696+0.109reg params=8 livenet/net_trainer.py:93\n",
      "Iˈ5.099 0.824 = 0.719+0.105reg params=8 livenet/net_trainer.py:93\n",
      "Iˈ5.163 0.829 = 0.720+0.109reg params=8 livenet/net_trainer.py:93\n",
      "Iˈ5.235 0.813 = 0.692+0.121reg params=8 livenet/net_trainer.py:93\n",
      "Iˈ5.303 0.808 = 0.679+0.129reg params=8 livenet/net_trainer.py:93\n",
      "Iˈ5.372 0.837 = 0.704+0.133reg params=8 livenet/net_trainer.py:93\n",
      "Iˈ5.437 0.842 = 0.708+0.134reg params=8 livenet/net_trainer.py:93\n",
      "Iˈ5.503 0.827 = 0.702+0.125reg params=8 livenet/net_trainer.py:93\n",
      "Iˈ5.568 0.842 = 0.728+0.114reg params=8 livenet/net_trainer.py:93\n",
      "Iˈ5.636 0.822 = 0.713+0.109reg params=8 livenet/net_trainer.py:93\n",
      "Iˈ5.714 0.822 = 0.714+0.109reg params=8 livenet/net_trainer.py:93\n",
      "Iˈ5.780 0.818 = 0.709+0.109reg params=8 livenet/net_trainer.py:93\n",
      "Iˈ5.844 0.807 = 0.691+0.116reg params=8 livenet/net_trainer.py:93\n",
      "Iˈ5.914 0.830 = 0.706+0.124reg params=8 livenet/net_trainer.py:93\n",
      "Iˈ5.989 0.822 = 0.693+0.128reg params=8 livenet/net_trainer.py:93\n",
      "Iˈ6.067 0.811 = 0.685+0.126reg params=8 livenet/net_trainer.py:93\n",
      "Iˈ6.159 0.802 = 0.680+0.122reg params=8 livenet/net_trainer.py:93\n",
      "Iˈ6.214 D0 became dangle, total dangle = 1 livenet/core/death.py:55\n",
      "Iˈ6.230 0.827 = 0.712+0.115reg params=7 livenet/net_trainer.py:93\n",
      "Iˈ6.290 0.803 = 0.697+0.106reg params=7 livenet/net_trainer.py:93\n",
      "Iˈ6.348 0.809 = 0.703+0.105reg params=7 livenet/net_trainer.py:93\n",
      "Iˈ6.409 0.803 = 0.689+0.115reg params=7 livenet/net_trainer.py:93\n",
      "Iˈ6.472 0.800 = 0.681+0.119reg params=7 livenet/net_trainer.py:93\n",
      "Iˈ6.533 0.809 = 0.687+0.122reg params=7 livenet/net_trainer.py:93\n",
      "Iˈ6.614 0.813 = 0.689+0.124reg params=7 livenet/net_trainer.py:93\n",
      "Iˈ6.702 0.817 = 0.698+0.119reg params=7 livenet/net_trainer.py:93\n",
      "Iˈ6.767 0.815 = 0.703+0.112reg params=7 livenet/net_trainer.py:93\n",
      "Iˈ6.827 0.798 = 0.690+0.108reg params=7 livenet/net_trainer.py:93\n",
      "Iˈ6.887 0.800 = 0.690+0.110reg params=7 livenet/net_trainer.py:93\n",
      "Iˈ6.949 0.797 = 0.684+0.113reg params=7 livenet/net_trainer.py:93\n",
      "Iˈ7.009 0.801 = 0.683+0.118reg params=7 livenet/net_trainer.py:93\n",
      "Iˈ7.068 0.799 = 0.679+0.120reg params=7 livenet/net_trainer.py:93\n",
      "Iˈ7.136 0.798 = 0.682+0.116reg params=7 livenet/net_trainer.py:93\n",
      "Iˈ7.223 0.801 = 0.689+0.113reg params=7 livenet/net_trainer.py:93\n",
      "Iˈ7.301 0.798 = 0.687+0.111reg params=7 livenet/net_trainer.py:93\n",
      "Iˈ7.365 0.797 = 0.682+0.115reg params=7 livenet/net_trainer.py:93\n",
      "Iˈ7.428 0.802 = 0.682+0.120reg params=7 livenet/net_trainer.py:93\n"
     ]
    }
   ],
   "source": [
    "network.context.regularization_l1 = 0.01\n",
    "optimizer.learning_rate = 0.01\n",
    "trainer.step(5000)\n"
   ]
  },
  {
   "cell_type": "code",
   "execution_count": 58,
   "metadata": {
    "collapsed": false,
    "ExecuteTime": {
     "end_time": "2024-03-02T23:05:30.451068Z",
     "start_time": "2024-03-02T23:05:30.444678Z"
    }
   },
   "outputs": [
    {
     "data": {
      "text/plain": "'accuracy  0.784'"
     },
     "execution_count": 58,
     "metadata": {},
     "output_type": "execute_result"
    }
   ],
   "source": [
    "pred = network(train_x)\n",
    "pred_bin = np.argmax(pred.detach().numpy(), axis=1, keepdims=True)\n",
    "diff = train_y - pred_bin\n",
    "f\"accuracy {len(diff[diff == 0]) / len(diff): .3f}\"\n"
   ]
  },
  {
   "cell_type": "code",
   "outputs": [
    {
     "name": "stdout",
     "output_type": "stream",
     "text": [
      "D0 -11.3\n",
      "D1 11.3\n",
      "N1 9.0\n",
      "N1->D0 2.9\n",
      "N1->D1 -0.4\n",
      "S1->N1 -4.1\n",
      "S2->N1 5.9\n",
      "S3->N1 1.2\n"
     ]
    }
   ],
   "source": [
    "for name, p in sorted(network.named_parameters(),key=lambda x: len(x[0]) + ord(x[0][0]) / 1000. + ord(x[0][1]) / 1e6):\n",
    "    print(name, f\"{p.item():.1f}\")\n",
    "\n"
   ],
   "metadata": {
    "collapsed": false,
    "ExecuteTime": {
     "end_time": "2024-03-02T22:36:18.096815Z",
     "start_time": "2024-03-02T22:36:18.092360Z"
    }
   },
   "execution_count": 14
  },
  {
   "cell_type": "code",
   "execution_count": null,
   "metadata": {
    "collapsed": false
   },
   "outputs": [],
   "source": [
    "%matplotlib\n",
    "plt.ion()\n",
    "\n",
    "def param_amount(param):\n",
    "    val = len(param[\"params\"])\n",
    "    return val\n",
    "\n",
    "def param_max(param):\n",
    "    val = np.max(np.abs(param[\"params\"]))\n",
    "    return val\n",
    "\n",
    "def param_picker1(param):\n",
    "    try:\n",
    "        val0 = param[\"params\"][\"S262->D1\"].item()\n",
    "    except KeyError:\n",
    "        val0 = 0.\n",
    "    return val0\n",
    "\n",
    "def get_param_values(history, picker):\n",
    "    values = []\n",
    "    for entry in history:\n",
    "        values.append(picker(entry))\n",
    "    return values\n",
    "\n",
    "plt.figure(figsize=(16, 9))\n",
    "values = get_param_values(trainer.history, param_amount)\n",
    "plt.grid()\n",
    "#plt.plot(values)\n",
    "\n",
    "accum = core.stat_utils.AccumStat()\n",
    "accum.add_value(trainer.network.parameters())\n",
    "accum.plot()\n"
   ]
  },
  {
   "cell_type": "code",
   "execution_count": 131,
   "metadata": {
    "collapsed": false,
    "ExecuteTime": {
     "end_time": "2024-02-26T18:20:48.190162233Z",
     "start_time": "2024-02-26T18:20:48.185525344Z"
    }
   },
   "outputs": [
    {
     "name": "stdout",
     "output_type": "stream",
     "text": [
      "D0 -14.3\n",
      "D1 14.3\n",
      "N1 11.9\n",
      "N1->D0 -0.1\n",
      "N1->D1 -3.0\n",
      "S1->N1 -1.2\n",
      "S2->N1 2.9\n",
      "S3->N1 1.3\n"
     ]
    }
   ],
   "source": []
  },
  {
   "cell_type": "code",
   "execution_count": 52,
   "metadata": {
    "collapsed": false,
    "ExecuteTime": {
     "end_time": "2024-02-26T17:59:46.464251775Z",
     "start_time": "2024-02-26T17:59:46.420667621Z"
    }
   },
   "outputs": [
    {
     "data": {
      "text/plain": "OrderedDict([('D0',\n              Parameter containing:\n              tensor(24.0669, requires_grad=True)),\n             ('D1',\n              Parameter containing:\n              tensor(-24.0669, requires_grad=True)),\n             ('N1',\n              Parameter containing:\n              tensor(13.0908, requires_grad=True)),\n             ('S6->N1',\n              Parameter containing:\n              tensor(0.7347, requires_grad=True)),\n             ('S8->N1',\n              Parameter containing:\n              tensor(-0.6229, requires_grad=True)),\n             ('S9->N1',\n              Parameter containing:\n              tensor(-1.5580, requires_grad=True)),\n             ('S11->N1',\n              Parameter containing:\n              tensor(-0.5902, requires_grad=True)),\n             ('N1->D0',\n              Parameter containing:\n              tensor(-1.7404, requires_grad=True)),\n             ('N1->D1',\n              Parameter containing:\n              tensor(1.5365, requires_grad=True))])"
     },
     "execution_count": 52,
     "metadata": {},
     "output_type": "execute_result"
    }
   ],
   "source": [
    "network._parameters\n"
   ]
  },
  {
   "cell_type": "code",
   "execution_count": null,
   "metadata": {
    "collapsed": false
   },
   "outputs": [],
   "source": [
    "core.livenet.export_onnx(network, \"/home/spometun/model.onnx\")\n"
   ]
  }
 ],
 "metadata": {
  "kernelspec": {
   "display_name": "Python 3",
   "language": "python",
   "name": "python3"
  },
  "language_info": {
   "codemirror_mode": {
    "name": "ipython",
    "version": 3
   },
   "file_extension": ".py",
   "mimetype": "text/x-python",
   "name": "python",
   "nbconvert_exporter": "python",
   "pygments_lexer": "ipython3",
   "version": "3.11.5"
  }
 },
 "nbformat": 4,
 "nbformat_minor": 0
}
