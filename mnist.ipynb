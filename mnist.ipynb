{
 "cells": [
  {
   "cell_type": "code",
   "execution_count": null,
   "metadata": {
    "collapsed": true
   },
   "outputs": [],
   "source": [
    "import random\n",
    "import numpy as np\n",
    "import torch\n",
    "import torch.nn as nn\n",
    "import torch.utils.data\n",
    "import importlib\n",
    "import livenet\n",
    "importlib.reload(livenet)\n",
    "core = livenet.core\n",
    "import simple_log\n",
    "simple_log.level = simple_log.LogLevel.INFO\n",
    "from simple_log import LOG\n",
    "import math\n",
    "from matplotlib import pyplot as plt\n",
    "%matplotlib\n",
    "plt.ion()\n",
    "var = 42\n",
    "print(torch.__version__)\n",
    "np.set_printoptions(precision=3)\n",
    "%precision 4\n",
    "\n"
   ]
  },
  {
   "cell_type": "code",
   "execution_count": null,
   "metadata": {
    "collapsed": false
   },
   "outputs": [],
   "source": [
    "downscale = (14, 14)\n",
    "train_x, train_y = livenet.datasets.to_plain(*livenet.datasets.get_mnist_train(), downscale=downscale, to_odd=True, to_gray=True)\n",
    "n_hidden = 2\n",
    "\n",
    "# downscale = (8, 8)\n",
    "# train_x, train_y = livenet.datasets.to_plain(*livenet.datasets.get_cifar10_train(), downscale=downscale, to_odd=False, to_gray=True)\n",
    "# n_hidden = 12\n",
    "\n",
    "n_out = np.max(train_y.numpy()) + 1\n",
    "\n"
   ]
  },
  {
   "cell_type": "code",
   "execution_count": null,
   "metadata": {
    "collapsed": false
   },
   "outputs": [],
   "source": [
    "context = core.livenet.Context()\n",
    "network = livenet.nets.create_perceptron(train_x.shape[1], n_hidden, n_out, context)\n",
    "batch_iterator = livenet.gen_utils.batch_iterator(train_x, train_y, batch_size=1000)\n",
    "criterion = livenet.nets.criterion_classification_n\n",
    "optimizer = livenet.nets.create_optimizer(network)\n",
    "trainer = livenet.net_trainer.NetTrainer(network, batch_iterator, criterion, optimizer, epoch_size=1)"
   ]
  },
  {
   "cell_type": "code",
   "execution_count": null,
   "metadata": {
    "collapsed": false
   },
   "outputs": [],
   "source": [
    "network.context.regularization_l1 = 0.01\n",
    "optimizer.learning_rate = 0.001\n",
    "trainer.step(5000)\n"
   ]
  },
  {
   "cell_type": "code",
   "execution_count": null,
   "metadata": {
    "collapsed": false
   },
   "outputs": [],
   "source": [
    "pred = network(train_x)\n",
    "pred_bin = np.argmax(pred.detach().numpy(), axis=1, keepdims=True)\n",
    "diff = train_y - pred_bin\n",
    "f\"accuracy {len(diff[diff == 0]) / len(diff): .3f}\"\n"
   ]
  },
  {
   "cell_type": "code",
   "outputs": [],
   "source": [
    "for name, p in sorted(network.named_parameters(),key=lambda x: len(x[0]) + ord(x[0][0]) / 1000. + ord(x[0][1]) / 1e6):\n",
    "    print(name, f\"{p.item():.1f}\")\n",
    "\n"
   ],
   "metadata": {
    "collapsed": false
   },
   "execution_count": null
  },
  {
   "cell_type": "code",
   "execution_count": null,
   "metadata": {
    "collapsed": false
   },
   "outputs": [],
   "source": [
    "%matplotlib\n",
    "plt.ion()\n",
    "\n",
    "def param_amount(param):\n",
    "    val = len(param[\"params\"])\n",
    "    return val\n",
    "\n",
    "def param_max(param):\n",
    "    val = np.max(np.abs(param[\"params\"]))\n",
    "    return val\n",
    "\n",
    "def param_picker1(param):\n",
    "    try:\n",
    "        val0 = param[\"params\"][\"N1->D0\"].item()\n",
    "    except KeyError:\n",
    "        val0 = 0.\n",
    "    return val0\n",
    "\n",
    "def get_param_values(history, picker):\n",
    "    values = []\n",
    "    for entry in history:\n",
    "        values.append(picker(entry))\n",
    "    return values\n",
    "\n",
    "plt.figure(figsize=(16, 9))\n",
    "values = get_param_values(trainer.history, param_picker1)\n",
    "plt.grid()\n",
    "plt.plot(values)\n",
    "\n",
    "#accum = core.stat_utils.AccumStat()\n",
    "#accum.add_value(trainer.network.parameters())\n",
    "#accum.plot()\n"
   ]
  },
  {
   "cell_type": "code",
   "execution_count": null,
   "metadata": {
    "collapsed": false
   },
   "outputs": [],
   "source": []
  },
  {
   "cell_type": "code",
   "execution_count": null,
   "metadata": {
    "collapsed": false
   },
   "outputs": [],
   "source": [
    "network._parameters\n"
   ]
  },
  {
   "cell_type": "code",
   "execution_count": null,
   "metadata": {
    "collapsed": false
   },
   "outputs": [],
   "source": [
    "core.livenet.export_onnx(network, \"/home/spometun/model.onnx\")\n"
   ]
  }
 ],
 "metadata": {
  "kernelspec": {
   "display_name": "Python 3",
   "language": "python",
   "name": "python3"
  },
  "language_info": {
   "codemirror_mode": {
    "name": "ipython",
    "version": 3
   },
   "file_extension": ".py",
   "mimetype": "text/x-python",
   "name": "python",
   "nbconvert_exporter": "python",
   "pygments_lexer": "ipython3",
   "version": "3.11.5"
  }
 },
 "nbformat": 4,
 "nbformat_minor": 0
}
