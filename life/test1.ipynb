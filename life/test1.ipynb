{
 "cells": [
  {
   "cell_type": "code",
   "execution_count": 137,
   "metadata": {
    "collapsed": true
   },
   "outputs": [
    {
     "name": "stdout",
     "output_type": "stream",
     "text": [
      "Using matplotlib backend: TkAgg\n",
      "2.0.0+cu117\n"
     ]
    },
    {
     "data": {
      "text/plain": "'%.4f'"
     },
     "execution_count": 137,
     "metadata": {},
     "output_type": "execute_result"
    }
   ],
   "source": [
    "import copy\n",
    "import random\n",
    "import numpy as np\n",
    "import torch\n",
    "import torch.nn as nn\n",
    "import torch.utils.data\n",
    "import importlib\n",
    "import life.lib\n",
    "import life.lib as lib\n",
    "import typing\n",
    "importlib.reload(lib)\n",
    "LOG = lib.simple_log.LOG\n",
    "import math\n",
    "from matplotlib import pyplot as plt\n",
    "%matplotlib\n",
    "plt.ion()\n",
    "lib.utils.set_seed()\n",
    "print(torch.__version__)\n",
    "np.set_printoptions(precision=3)\n",
    "%precision 4\n",
    "\n"
   ]
  },
  {
   "cell_type": "code",
   "execution_count": 138,
   "outputs": [],
   "source": [
    "lib.utils.set_seed()\n",
    "train_x, train_y = lib.datasets.get_odd()\n",
    "network = lib.nets.create_livenet_odd_2(l1=0.0)\n",
    "# network = lib.nets.LINEAR3(l1=0.1)"
   ],
   "metadata": {
    "collapsed": false
   }
  },
  {
   "cell_type": "code",
   "execution_count": 139,
   "outputs": [
    {
     "name": "stdout",
     "output_type": "stream",
     "text": [
      "LiveNet\n"
     ]
    }
   ],
   "source": [
    "batch_iterator = lib.gen_utils.batch_iterator(train_x, train_y, batch_size=len(train_x))\n",
    "criterion = lib.nets.criterion_n\n",
    "optimizer = lib.nets.create_optimizer(network)\n",
    "optimizer.learning_rate = 0.01\n",
    "trainer = lib.trainer.Trainer(network, batch_iterator, criterion, optimizer, epoch_size=10, adaptive_lr=False)\n"
   ],
   "metadata": {
    "collapsed": false
   }
  },
  {
   "cell_type": "code",
   "execution_count": 141,
   "outputs": [
    {
     "name": "stdout",
     "output_type": "stream",
     "text": [
      "Iˈ0.000 0.029 = 0.029+0.000 lib/trainer.py:89\n",
      "Iˈ0.023 0.025 = 0.025+0.000 lib/trainer.py:89\n",
      "Iˈ0.040 0.022 = 0.022+0.000 lib/trainer.py:89\n",
      "Iˈ0.055 0.019 = 0.019+0.000 lib/trainer.py:89\n",
      "Iˈ0.076 0.017 = 0.017+0.000 lib/trainer.py:89\n",
      "Iˈ0.092 0.015 = 0.015+0.000 lib/trainer.py:89\n",
      "Iˈ0.112 0.013 = 0.013+0.000 lib/trainer.py:89\n",
      "Iˈ0.128 0.011 = 0.011+0.000 lib/trainer.py:89\n",
      "Iˈ0.146 0.010 = 0.010+0.000 lib/trainer.py:89\n",
      "Iˈ0.164 0.008 = 0.008+0.000 lib/trainer.py:89\n",
      "Iˈ0.179 0.007 = 0.007+0.000 lib/trainer.py:89\n",
      "Iˈ0.195 0.006 = 0.006+0.000 lib/trainer.py:89\n",
      "Iˈ0.213 0.006 = 0.006+0.000 lib/trainer.py:89\n",
      "Iˈ0.232 0.005 = 0.005+0.000 lib/trainer.py:89\n",
      "Iˈ0.254 0.004 = 0.004+0.000 lib/trainer.py:89\n",
      "Iˈ0.270 0.004 = 0.004+0.000 lib/trainer.py:89\n",
      "Iˈ0.285 0.003 = 0.003+0.000 lib/trainer.py:89\n",
      "Iˈ0.303 0.003 = 0.003+0.000 lib/trainer.py:89\n",
      "Iˈ0.318 0.002 = 0.002+0.000 lib/trainer.py:89\n",
      "Iˈ0.338 0.002 = 0.002+0.000 lib/trainer.py:89\n"
     ]
    }
   ],
   "source": [
    "\n",
    "trainer.step(200)\n"
   ],
   "metadata": {
    "collapsed": false
   }
  },
  {
   "cell_type": "code",
   "execution_count": 123,
   "outputs": [
    {
     "data": {
      "text/plain": "0.3333"
     },
     "execution_count": 123,
     "metadata": {},
     "output_type": "execute_result"
    }
   ],
   "source": [
    "pred = network(train_x)\n",
    "pred_bin = np.argmax(pred.detach().numpy(), axis=1, keepdims=True)\n",
    "diff = train_y - pred_bin\n",
    "len(diff[diff != 0]) / len(diff)"
   ],
   "metadata": {
    "collapsed": false
   }
  },
  {
   "cell_type": "code",
   "execution_count": 6,
   "outputs": [
    {
     "name": "stdout",
     "output_type": "stream",
     "text": [
      "Using matplotlib backend: TkAgg\n"
     ]
    },
    {
     "ename": "KeyError",
     "evalue": "'1->2'",
     "output_type": "error",
     "traceback": [
      "\u001B[0;31m---------------------------------------------------------------------------\u001B[0m",
      "\u001B[0;31mKeyError\u001B[0m                                  Traceback (most recent call last)",
      "Cell \u001B[0;32mIn[6], line 21\u001B[0m\n\u001B[1;32m     18\u001B[0m     \u001B[38;5;28;01mreturn\u001B[39;00m values\n\u001B[1;32m     20\u001B[0m plt\u001B[38;5;241m.\u001B[39mfigure(figsize\u001B[38;5;241m=\u001B[39m(\u001B[38;5;241m16\u001B[39m, \u001B[38;5;241m9\u001B[39m))\n\u001B[0;32m---> 21\u001B[0m values \u001B[38;5;241m=\u001B[39m \u001B[43mget_param_values\u001B[49m\u001B[43m(\u001B[49m\u001B[43mtrainer\u001B[49m\u001B[38;5;241;43m.\u001B[39;49m\u001B[43mhistory\u001B[49m\u001B[43m,\u001B[49m\u001B[43m \u001B[49m\u001B[43mparam_picker1\u001B[49m\u001B[43m)\u001B[49m\n\u001B[1;32m     22\u001B[0m plt\u001B[38;5;241m.\u001B[39mplot(values)\n\u001B[1;32m     23\u001B[0m plt\u001B[38;5;241m.\u001B[39mgrid()\n",
      "Cell \u001B[0;32mIn[6], line 17\u001B[0m, in \u001B[0;36mget_param_values\u001B[0;34m(history, picker)\u001B[0m\n\u001B[1;32m     15\u001B[0m values \u001B[38;5;241m=\u001B[39m []\n\u001B[1;32m     16\u001B[0m \u001B[38;5;28;01mfor\u001B[39;00m entry \u001B[38;5;129;01min\u001B[39;00m history:\n\u001B[0;32m---> 17\u001B[0m     values\u001B[38;5;241m.\u001B[39mappend(\u001B[43mpicker\u001B[49m\u001B[43m(\u001B[49m\u001B[43mentry\u001B[49m\u001B[43m)\u001B[49m)\n\u001B[1;32m     18\u001B[0m \u001B[38;5;28;01mreturn\u001B[39;00m values\n",
      "Cell \u001B[0;32mIn[6], line 11\u001B[0m, in \u001B[0;36mparam_picker1\u001B[0;34m(param)\u001B[0m\n\u001B[1;32m     10\u001B[0m \u001B[38;5;28;01mdef\u001B[39;00m \u001B[38;5;21mparam_picker1\u001B[39m(param):\n\u001B[0;32m---> 11\u001B[0m     val0 \u001B[38;5;241m=\u001B[39m \u001B[43mparam\u001B[49m\u001B[43m[\u001B[49m\u001B[38;5;124;43m\"\u001B[39;49m\u001B[38;5;124;43mparams\u001B[39;49m\u001B[38;5;124;43m\"\u001B[39;49m\u001B[43m]\u001B[49m\u001B[43m[\u001B[49m\u001B[38;5;124;43m\"\u001B[39;49m\u001B[38;5;124;43m1->2\u001B[39;49m\u001B[38;5;124;43m\"\u001B[39;49m\u001B[43m]\u001B[49m\u001B[38;5;241m.\u001B[39mitem()\n\u001B[1;32m     12\u001B[0m     \u001B[38;5;28;01mreturn\u001B[39;00m val0\n",
      "\u001B[0;31mKeyError\u001B[0m: '1->2'"
     ]
    }
   ],
   "source": [
    "importlib.reload(lib)\n",
    "%matplotlib\n",
    "plt.ion()\n",
    "\n",
    "def param_picker0(param):\n",
    "    val0 = param[\"params\"][\"linear1.weight\"][0][0].item()\n",
    "    val1 = param[\"params\"][\"linear1.weight\"][1][0].item()\n",
    "    return val1 + val0\n",
    "\n",
    "def param_picker1(param):\n",
    "    val0 = param[\"params\"][\"1->2\"].item()\n",
    "    return val0\n",
    "\n",
    "def get_param_values(history, picker):\n",
    "    values = []\n",
    "    for entry in history:\n",
    "        values.append(picker(entry))\n",
    "    return values\n",
    "\n",
    "plt.figure(figsize=(16, 9))\n",
    "values = get_param_values(trainer.history, param_picker1)\n",
    "plt.plot(values)\n",
    "plt.grid()\n",
    "\n",
    "accum = lib.stat_utils.AccumStat()\n",
    "accum.add_value(trainer.network.parameters())\n",
    "# accum.plot()"
   ],
   "metadata": {
    "collapsed": false
   }
  },
  {
   "cell_type": "code",
   "execution_count": 142,
   "outputs": [
    {
     "name": "stdout",
     "output_type": "stream",
     "text": [
      "D0 -2.937967\n",
      "D1 2.937968\n",
      "N0 -3.271982\n",
      "S0->N0 3.275079\n",
      "N0->D0 4.037830\n",
      "N1 2.206966\n",
      "S0->N1 -2.268530\n",
      "N1->D0 3.772670\n",
      "N1->D1 -3.472640\n"
     ]
    }
   ],
   "source": [
    "for name, p in network.named_parameters():\n",
    "    print(name, f\"{p.item():.6f}\")"
   ],
   "metadata": {
    "collapsed": false
   }
  },
  {
   "cell_type": "code",
   "execution_count": 21,
   "outputs": [
    {
     "ename": "KeyError",
     "evalue": "'S0->D0'",
     "output_type": "error",
     "traceback": [
      "\u001B[0;31m---------------------------------------------------------------------------\u001B[0m",
      "\u001B[0;31mKeyError\u001B[0m                                  Traceback (most recent call last)",
      "Cell \u001B[0;32mIn[21], line 3\u001B[0m\n\u001B[1;32m      1\u001B[0m param \u001B[38;5;241m=\u001B[39m nn\u001B[38;5;241m.\u001B[39mParameter(torch\u001B[38;5;241m.\u001B[39mtensor(\u001B[38;5;241m0.0\u001B[39m))\n\u001B[1;32m      2\u001B[0m \u001B[38;5;66;03m# network.register_parameter(\"S0->D0\", param)\u001B[39;00m\n\u001B[0;32m----> 3\u001B[0m \u001B[43mnetwork\u001B[49m\u001B[38;5;241;43m.\u001B[39;49m\u001B[43m_parameters\u001B[49m\u001B[38;5;241;43m.\u001B[39;49m\u001B[43mpop\u001B[49m\u001B[43m(\u001B[49m\u001B[38;5;124;43m\"\u001B[39;49m\u001B[38;5;124;43mS0->D0\u001B[39;49m\u001B[38;5;124;43m\"\u001B[39;49m\u001B[43m)\u001B[49m\n\u001B[1;32m      4\u001B[0m \u001B[38;5;66;03m# network._parameters\u001B[39;00m\n",
      "\u001B[0;31mKeyError\u001B[0m: 'S0->D0'"
     ]
    }
   ],
   "source": [
    "param = nn.Parameter(torch.tensor(0.0))\n",
    "# network.register_parameter(\"S0->D0\", param)\n",
    "network._parameters.pop(\"S0->D0\")\n",
    "# network._parameters\n"
   ],
   "metadata": {
    "collapsed": false
   }
  },
  {
   "cell_type": "code",
   "execution_count": 14,
   "outputs": [
    {
     "name": "stdout",
     "output_type": "stream",
     "text": [
      "S1->D1 0.927462\n",
      "S1->D1 -0.946442\n",
      "S1->D1 -0.750392\n",
      "S1->D1 -0.771363\n",
      "S1->D1 3.772857\n"
     ]
    }
   ],
   "source": [],
   "metadata": {
    "collapsed": false
   }
  },
  {
   "cell_type": "code",
   "execution_count": null,
   "outputs": [],
   "source": [],
   "metadata": {
    "collapsed": false
   }
  }
 ],
 "metadata": {
  "kernelspec": {
   "display_name": "Python 3",
   "language": "python",
   "name": "python3"
  },
  "language_info": {
   "codemirror_mode": {
    "name": "ipython",
    "version": 2
   },
   "file_extension": ".py",
   "mimetype": "text/x-python",
   "name": "python",
   "nbconvert_exporter": "python",
   "pygments_lexer": "ipython2",
   "version": "2.7.6"
  }
 },
 "nbformat": 4,
 "nbformat_minor": 0
}
