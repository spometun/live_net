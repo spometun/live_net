{
 "cells": [
  {
   "cell_type": "code",
   "execution_count": 275,
   "metadata": {
    "collapsed": true
   },
   "outputs": [
    {
     "name": "stdout",
     "output_type": "stream",
     "text": [
      "2.0.0+cu117\n"
     ]
    }
   ],
   "source": [
    "import random\n",
    "import numpy as np\n",
    "import torch\n",
    "import torch.nn as nn\n",
    "import importlib\n",
    "import life.lib\n",
    "import life.lib as lib\n",
    "importlib.reload(lib)\n",
    "LOG = lib.simple_log.LOG\n",
    "import math\n",
    "lib.utils.set_seed()\n",
    "print(torch.__version__)\n",
    "np.set_printoptions(precision=3)"
   ]
  },
  {
   "cell_type": "code",
   "execution_count": 276,
   "outputs": [
    {
     "name": "stdout",
     "output_type": "stream",
     "text": [
      "LiveNet\n"
     ]
    }
   ],
   "source": [
    "network = lib.nets.PYRAMID()\n",
    "network = lib.nets.create_livenet_pyramid()\n",
    "train_x, train_y = lib.datasets.get_pyramid()\n",
    "criterion = lib.nets.criterion\n",
    "\n",
    "def create_optimizer(net: nn.Module):\n",
    "    if net.__class__.__name__ == \"LiveNet\":\n",
    "        print(\"LiveNet\")\n",
    "        net: lib.livenet.LiveNet\n",
    "        optimizer = lib.livenet.LiveNetOptimizer(net, decay=0.0001)\n",
    "    else:\n",
    "        print(\"Torch\")\n",
    "        optimizer = torch.optim.SGD(net.parameters(), lr=0.01)\n",
    "    return optimizer\n",
    "\n",
    "optimizer = create_optimizer(network)\n"
   ],
   "metadata": {
    "collapsed": false
   }
  },
  {
   "cell_type": "code",
   "execution_count": 293,
   "outputs": [
    {
     "name": "stdout",
     "output_type": "stream",
     "text": [
      "n0 -2.370\n",
      "n1 1.237\n",
      "s0 -1.236\n",
      "s1 -1.236\n",
      "s2 -1.237\n",
      "s3 3.711\n",
      "n2 -0.831\n",
      "s4 0.831\n",
      "s5 0.831\n",
      "s6 0.831\n",
      "s7 2.488\n",
      "tensor(0.1489, grad_fn=<DivBackward0>)\n"
     ]
    },
    {
     "data": {
      "text/plain": "array([[ 2.218],\n       [ 2.218],\n       [-2.37 ],\n       [-2.37 ],\n       [-2.369],\n       [-2.369],\n       [ 1.765]], dtype=float32)"
     },
     "execution_count": 293,
     "metadata": {},
     "output_type": "execute_result"
    }
   ],
   "source": [
    "params = [p for p in network.named_parameters()]\n",
    "logits = network.forward(train_x)\n",
    "for name, p in params:\n",
    "    print(f\"{name} {p.detach().numpy():.3f}\")\n",
    "pred = network.forward(train_x)\n",
    "loss = criterion(pred, train_y)\n",
    "print(loss)\n",
    "pred.detach().numpy()\n",
    "# torch.onnx.export(network, train_x, \"/home/spometun/model.onnx\", verbose=False)\n",
    "\n",
    "\n"
   ],
   "metadata": {
    "collapsed": false
   }
  },
  {
   "cell_type": "code",
   "execution_count": 279,
   "outputs": [],
   "source": [
    "network.context.decay = 0.0005"
   ],
   "metadata": {
    "collapsed": false
   }
  },
  {
   "cell_type": "code",
   "execution_count": 292,
   "outputs": [
    {
     "name": "stdout",
     "output_type": "stream",
     "text": [
      "0.149\n",
      "0.149\n",
      "0.149\n",
      "0.149\n",
      "0.149\n",
      "0.149\n",
      "0.149\n",
      "0.149\n",
      "0.149\n",
      "0.149\n",
      "0.149\n",
      "0.149\n",
      "0.149\n",
      "0.149\n",
      "0.149\n",
      "0.149\n",
      "0.149\n",
      "0.149\n",
      "0.149\n",
      "0.149\n",
      "0.149\n",
      "0.149\n",
      "0.149\n",
      "0.149\n",
      "0.149\n",
      "0.149\n",
      "0.149\n",
      "0.149\n",
      "0.149\n",
      "0.149\n",
      "0.149\n",
      "0.149\n",
      "0.149\n",
      "0.149\n",
      "0.149\n",
      "0.149\n",
      "0.149\n",
      "0.149\n",
      "0.149\n",
      "0.149\n",
      "0.149\n",
      "0.149\n",
      "0.149\n",
      "0.149\n",
      "0.149\n",
      "0.149\n",
      "0.149\n",
      "0.149\n",
      "0.149\n",
      "0.149\n",
      "0.149\n",
      "0.149\n",
      "0.149\n",
      "0.149\n",
      "0.149\n",
      "0.149\n",
      "0.149\n",
      "0.149\n",
      "0.149\n",
      "0.149\n",
      "0.149\n",
      "0.149\n",
      "0.149\n",
      "0.149\n",
      "0.149\n",
      "0.149\n",
      "0.149\n",
      "0.149\n",
      "0.149\n",
      "0.149\n",
      "0.149\n",
      "0.149\n",
      "0.149\n",
      "0.149\n",
      "0.149\n",
      "0.149\n",
      "0.149\n",
      "0.149\n",
      "0.149\n",
      "0.149\n"
     ]
    }
   ],
   "source": [
    "\n",
    "n_epochs = 8000\n",
    "\n",
    "for i in range(n_epochs):\n",
    "    pred = network.forward(train_x)\n",
    "    loss = criterion(pred, train_y)\n",
    "    if i % 100 == 0:\n",
    "        print(f\"{loss.detach().numpy():.3f}\")\n",
    "    optimizer.zero_grad()\n",
    "    loss.backward()\n",
    "    optimizer.step()\n"
   ],
   "metadata": {
    "collapsed": false
   }
  },
  {
   "cell_type": "code",
   "execution_count": 26,
   "outputs": [
    {
     "data": {
      "text/plain": "array([[-0.696],\n       [-0.705],\n       [-0.692],\n       [-0.705],\n       [-0.708]], dtype=float32)"
     },
     "execution_count": 26,
     "metadata": {},
     "output_type": "execute_result"
    }
   ],
   "source": [
    "# params = [p for p in network.named_parameters()]\n",
    "pred = network.forward(train_x)\n",
    "loss = criterion(pred, train_y)\n",
    "pred.detach().numpy()\n"
   ],
   "metadata": {
    "collapsed": false
   }
  },
  {
   "cell_type": "code",
   "execution_count": null,
   "outputs": [],
   "source": [
    "import matplotlib.pyplot as plt\n",
    "plt.plot(all_losses)\n",
    "plt.ylabel('Loss')\n",
    "plt.show()"
   ],
   "metadata": {
    "collapsed": false,
    "pycharm": {
     "is_executing": true
    }
   }
  },
  {
   "cell_type": "code",
   "execution_count": 24,
   "outputs": [
    {
     "name": "stdout",
     "output_type": "stream",
     "text": [
      "tensor([-1.5000])\n",
      "tensor([[15.2505],\n",
      "        [15.9158]])\n",
      "tensor([1.4539, 0.7973])\n"
     ]
    }
   ],
   "source": [
    "# list(network.parameters())[0].data = torch.Tensor([[10.], [-10]])\n",
    "# list(network.parameters())[1].data = torch.Tensor([-5., 15])\n",
    "np.set_printoptions(precision=2)\n",
    "params = list(network.parameters())\n",
    "par = []\n",
    "for p in params:\n",
    "    par.append(p.detach())\n",
    "    print (par[-1])"
   ],
   "metadata": {
    "collapsed": false
   }
  },
  {
   "cell_type": "code",
   "execution_count": 26,
   "outputs": [
    {
     "data": {
      "text/plain": "tensor([[ 1.4539,  0.7973],\n        [16.7044, 16.7131],\n        [31.9548, 32.6288]])"
     },
     "execution_count": 26,
     "metadata": {},
     "output_type": "execute_result"
    }
   ],
   "source": [
    "o1 = train_x @ par[1].T + par[2]\n",
    "o1"
   ],
   "metadata": {
    "collapsed": false
   }
  },
  {
   "cell_type": "code",
   "execution_count": 27,
   "outputs": [
    {
     "data": {
      "text/plain": "tensor([[0.8106, 0.6894],\n        [1.0000, 1.0000],\n        [1.0000, 1.0000]])"
     },
     "execution_count": 27,
     "metadata": {},
     "output_type": "execute_result"
    }
   ],
   "source": [
    "a1 = torch.sigmoid(o1)\n",
    "a1"
   ],
   "metadata": {
    "collapsed": false
   }
  },
  {
   "cell_type": "code",
   "execution_count": 56,
   "outputs": [
    {
     "data": {
      "text/plain": "tensor(0.4356)"
     },
     "execution_count": 56,
     "metadata": {},
     "output_type": "execute_result"
    }
   ],
   "source": [
    "o2 = a1[:, 0] + a1[:, 1] - 1\n",
    "mseloss(o2, train_y)"
   ],
   "metadata": {
    "collapsed": false
   }
  },
  {
   "cell_type": "code",
   "execution_count": 49,
   "outputs": [
    {
     "data": {
      "text/plain": "tensor([[3.7133],\n        [3.7137],\n        [3.7140],\n        [3.5771]])"
     },
     "execution_count": 49,
     "metadata": {},
     "output_type": "execute_result"
    }
   ],
   "source": [
    "o2 @ par[2].T"
   ],
   "metadata": {
    "collapsed": false
   }
  },
  {
   "cell_type": "code",
   "execution_count": 23,
   "outputs": [
    {
     "data": {
      "text/plain": "tensor([[0.0000],\n        [0.5000],\n        [0.5000]], grad_fn=<AddBackward0>)"
     },
     "execution_count": 23,
     "metadata": {},
     "output_type": "execute_result"
    }
   ],
   "source": [
    "network.forward(train_x)"
   ],
   "metadata": {
    "collapsed": false
   }
  },
  {
   "cell_type": "code",
   "execution_count": 9,
   "outputs": [
    {
     "data": {
      "text/plain": "6923312655"
     },
     "execution_count": 9,
     "metadata": {},
     "output_type": "execute_result"
    }
   ],
   "source": [
    "1345639 * 5145"
   ],
   "metadata": {
    "collapsed": false
   }
  },
  {
   "cell_type": "code",
   "execution_count": 48,
   "outputs": [
    {
     "name": "stdout",
     "output_type": "stream",
     "text": [
      "del 2\n",
      "del 1\n",
      "start\n",
      "del 1\n",
      "after del\n"
     ]
    },
    {
     "ename": "NameError",
     "evalue": "name 'a' is not defined",
     "output_type": "error",
     "traceback": [
      "\u001B[0;31m---------------------------------------------------------------------------\u001B[0m",
      "\u001B[0;31mNameError\u001B[0m                                 Traceback (most recent call last)",
      "Cell \u001B[0;32mIn[48], line 18\u001B[0m\n\u001B[1;32m     16\u001B[0m \u001B[38;5;28mprint\u001B[39m(\u001B[38;5;124m\"\u001B[39m\u001B[38;5;124mafter del\u001B[39m\u001B[38;5;124m\"\u001B[39m)\n\u001B[1;32m     17\u001B[0m l[\u001B[38;5;241m0\u001B[39m]\u001B[38;5;241m.\u001B[39mv\n\u001B[0;32m---> 18\u001B[0m \u001B[43ma\u001B[49m\u001B[38;5;241m.\u001B[39mv\n",
      "\u001B[0;31mNameError\u001B[0m: name 'a' is not defined"
     ]
    }
   ],
   "source": [
    "import pickle\n",
    "import numpy as np\n",
    "\n",
    "class A:\n",
    "    def __init__(self):\n",
    "        self.v = 1\n",
    "    def __del__(self):\n",
    "        print(f\"del {self.v}\")\n",
    "\n",
    "a = A()\n",
    "b = A()\n",
    "b.v = 2\n",
    "l = [b]\n",
    "print(\"start\")\n",
    "del a\n",
    "print(\"after del\")\n",
    "l[0].v\n",
    "a.v\n"
   ],
   "metadata": {
    "collapsed": false
   }
  },
  {
   "cell_type": "code",
   "execution_count": null,
   "outputs": [],
   "source": [],
   "metadata": {
    "collapsed": false
   }
  }
 ],
 "metadata": {
  "kernelspec": {
   "display_name": "Python 3",
   "language": "python",
   "name": "python3"
  },
  "language_info": {
   "codemirror_mode": {
    "name": "ipython",
    "version": 2
   },
   "file_extension": ".py",
   "mimetype": "text/x-python",
   "name": "python",
   "nbconvert_exporter": "python",
   "pygments_lexer": "ipython2",
   "version": "2.7.6"
  }
 },
 "nbformat": 4,
 "nbformat_minor": 0
}
