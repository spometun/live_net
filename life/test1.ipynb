{
 "cells": [
  {
   "cell_type": "code",
   "execution_count": 1,
   "metadata": {
    "collapsed": true
   },
   "outputs": [
    {
     "name": "stdout",
     "output_type": "stream",
     "text": [
      "Using matplotlib backend: <object object at 0x7fefcfc6a500>\n",
      "2.0.0+cu117\n"
     ]
    },
    {
     "data": {
      "text/plain": "'%.4f'"
     },
     "execution_count": 1,
     "metadata": {},
     "output_type": "execute_result"
    }
   ],
   "source": [
    "import copy\n",
    "import random\n",
    "import numpy as np\n",
    "import torch\n",
    "import torch.nn as nn\n",
    "import torch.utils.data\n",
    "import importlib\n",
    "import life.lib\n",
    "import life.lib as lib\n",
    "importlib.reload(lib)\n",
    "LOG = lib.simple_log.LOG\n",
    "import math\n",
    "from matplotlib import pyplot as plt\n",
    "%matplotlib\n",
    "plt.ion()\n",
    "lib.utils.set_seed()\n",
    "print(torch.__version__)\n",
    "np.set_printoptions(precision=3)\n",
    "%precision 4\n",
    "\n"
   ]
  },
  {
   "cell_type": "code",
   "execution_count": 2,
   "outputs": [],
   "source": [
    "if \"train_x\" not in globals():\n",
    "    x, y = lib.datasets.get_mnist_train()\n",
    "    train_y = y % 2\n",
    "    train_x = torch.reshape(x, (len(x), -1))\n",
    "    x, y = lib.datasets.get_mnist_test()\n",
    "    test_y = y % 2\n",
    "    test_x = torch.reshape(x, (len(x), -1))\n",
    "\n",
    "b = train_x[:, 0].numpy()\n",
    "\n"
   ],
   "metadata": {
    "collapsed": false
   }
  },
  {
   "cell_type": "code",
   "execution_count": 88,
   "outputs": [
    {
     "name": "stdout",
     "output_type": "stream",
     "text": [
      "Iˈ0.000 0 \n",
      "Iˈ0.000 1 \n",
      "Iˈ0.000 2 \n",
      "Iˈ0.000 3 \n",
      "Iˈ0.000 4 \n",
      "Iˈ0.000 5 \n",
      "Iˈ0.000 6 \n",
      "Iˈ0.000 7 \n",
      "Iˈ0.000 8 \n",
      "Iˈ0.000 9 \n",
      "Iˈ0.000 10 \n",
      "Iˈ0.000 11 \n",
      "Iˈ0.000 12 \n",
      "Iˈ0.000 13 \n",
      "Iˈ0.000 14 \n",
      "Iˈ0.001 15 \n",
      "Iˈ0.001 16 \n",
      "Iˈ0.001 17 \n",
      "Iˈ0.001 18 \n",
      "Iˈ0.001 19 \n",
      "Iˈ0.001 20 \n",
      "Iˈ0.001 21 \n",
      "Iˈ0.001 22 \n",
      "Iˈ0.001 23 \n",
      "Iˈ0.001 24 \n",
      "Iˈ0.001 25 \n",
      "Iˈ0.001 26 \n",
      "Iˈ0.001 27 \n",
      "Iˈ0.001 28 \n",
      "Iˈ0.001 29 \n",
      "Iˈ0.001 30 \n",
      "Iˈ0.001 31 \n",
      "Iˈ0.001 32 \n",
      "Iˈ0.001 33 \n",
      "Iˈ0.001 34 \n",
      "Iˈ0.001 35 \n",
      "Iˈ0.001 36 \n",
      "Iˈ0.001 37 \n",
      "Iˈ0.001 38 \n",
      "Iˈ0.001 39 \n",
      "Iˈ0.001 40 \n",
      "Iˈ0.001 41 \n",
      "Iˈ0.001 42 \n",
      "Iˈ0.001 43 \n",
      "Iˈ0.001 44 \n",
      "Iˈ0.001 45 \n",
      "Iˈ0.001 46 \n",
      "Iˈ0.001 47 \n",
      "Iˈ0.001 48 \n",
      "Iˈ0.001 49 \n",
      "Iˈ0.002 50 \n",
      "Iˈ0.002 51 \n",
      "Iˈ0.002 52 \n",
      "Iˈ0.002 53 \n",
      "Iˈ0.002 54 \n",
      "Iˈ0.002 55 \n",
      "Iˈ0.002 56 \n",
      "Iˈ0.002 57 \n",
      "Iˈ0.002 58 \n",
      "Iˈ0.002 59 \n",
      "Iˈ0.002 60 \n",
      "Iˈ0.002 61 \n",
      "Iˈ0.002 62 \n",
      "Iˈ0.002 63 \n",
      "Iˈ0.002 64 \n",
      "Iˈ0.002 65 \n",
      "Iˈ0.002 66 \n",
      "Iˈ0.002 67 \n",
      "Iˈ0.002 68 \n",
      "Iˈ0.002 69 \n",
      "Iˈ0.002 70 \n",
      "Iˈ0.002 71 \n",
      "Iˈ0.002 72 \n",
      "Iˈ0.002 73 \n",
      "Iˈ0.002 74 \n",
      "Iˈ0.002 75 \n",
      "Iˈ0.002 76 \n",
      "Iˈ0.002 77 \n",
      "Iˈ0.002 78 \n",
      "Iˈ0.002 79 \n",
      "Iˈ0.002 80 \n",
      "Iˈ0.002 81 \n",
      "Iˈ0.002 82 \n",
      "Iˈ0.002 83 \n",
      "Iˈ0.002 84 \n",
      "Iˈ0.002 85 \n",
      "Iˈ0.002 86 \n",
      "Iˈ0.002 87 \n",
      "Iˈ0.002 88 \n",
      "Iˈ0.003 89 \n",
      "Iˈ0.003 90 \n",
      "Iˈ0.003 91 \n",
      "Iˈ0.003 92 \n",
      "Iˈ0.003 93 \n",
      "Iˈ0.003 94 \n",
      "Iˈ0.003 95 \n",
      "Iˈ0.003 96 \n",
      "Iˈ0.003 97 \n",
      "Iˈ0.003 98 \n",
      "Iˈ0.003 99 \n",
      "Iˈ0.003 1 lib/gen_utils.py:122\n",
      "Iˈ0.003 2 lib/gen_utils.py:123\n"
     ]
    },
    {
     "ename": "StopIteration",
     "evalue": "",
     "output_type": "error",
     "traceback": [
      "\u001B[0;31m---------------------------------------------------------------------------\u001B[0m",
      "\u001B[0;31mStopIteration\u001B[0m                             Traceback (most recent call last)",
      "Cell \u001B[0;32mIn[88], line 12\u001B[0m\n\u001B[1;32m     10\u001B[0m     LOG(i)\n\u001B[1;32m     11\u001B[0m \u001B[38;5;66;03m# for i, b in enumerate(loader):\u001B[39;00m\n\u001B[0;32m---> 12\u001B[0m \u001B[43mlib\u001B[49m\u001B[38;5;241;43m.\u001B[39;49m\u001B[43mgen_utils\u001B[49m\u001B[38;5;241;43m.\u001B[39;49m\u001B[43mtest_batch_provider\u001B[49m\u001B[43m(\u001B[49m\u001B[43m)\u001B[49m\n",
      "File \u001B[0;32m~/projects/solink/scripts/home_project/life/lib/gen_utils.py:124\u001B[0m, in \u001B[0;36mtest_batch_provider\u001B[0;34m()\u001B[0m\n\u001B[1;32m    122\u001B[0m LOG(\u001B[38;5;28mnext\u001B[39m(it))\n\u001B[1;32m    123\u001B[0m LOG(\u001B[38;5;28mnext\u001B[39m(it))\n\u001B[0;32m--> 124\u001B[0m LOG(\u001B[38;5;28;43mnext\u001B[39;49m\u001B[43m(\u001B[49m\u001B[43mit\u001B[49m\u001B[43m)\u001B[49m)\n",
      "\u001B[0;31mStopIteration\u001B[0m: "
     ]
    }
   ],
   "source": [
    "importlib.reload(lib)\n",
    "LOG = lib.simple_log.LOG\n",
    "# loader = torch.utils.data.DataLoader(lib.gen_utils.ZipWithLen(train_x, train_y), batch_size=1000)\n",
    "# tx = train_x.numpy().copy()\n",
    "# for s, e in lib.gen_utils.index_batcher(1000, 60000):\n",
    "for i in range(100):\n",
    "    # x = tx[s: e]\n",
    "    # y = train_y[s: e].clone()\n",
    "\n",
    "    LOG(i)\n",
    "# for i, b in enumerate(loader):\n",
    "lib.gen_utils.test_batch_provider()"
   ],
   "metadata": {
    "collapsed": false
   }
  },
  {
   "cell_type": "code",
   "execution_count": 106,
   "outputs": [
    {
     "name": "stdout",
     "output_type": "stream",
     "text": [
      "Torch\n"
     ]
    }
   ],
   "source": [
    "lib.utils.set_seed()\n",
    "# network = lib.nets.PYRAMID()\n",
    "#network = lib.nets.create_livenet_odd_2()\n",
    "# train_x, train_y = lib.datasets.get_odd()\n",
    "# network = lib.livenet.LiveNet(train_x.shape[1], None, torch.max(train_y) + 1)\n",
    "network = lib.nets.PERCEPTRON(train_x.shape[1], torch.max(train_y) + 1, l1=0.1)\n",
    "criterion = lib.nets.criterion_n\n",
    "\n",
    "def create_optimizer(net: nn.Module):\n",
    "    if net.__class__.__name__ == \"LiveNet\":\n",
    "        print(\"LiveNet\")\n",
    "        net: lib.livenet.LiveNet\n",
    "        optimizer = lib.livenet.LiveNetOptimizer(net, decay=0.0)\n",
    "        # optimizer = torch.optim.Adam(net.parameters())\n",
    "    else:\n",
    "        print(\"Torch\")\n",
    "        optimizer = torch.optim.Adam(net.parameters(), betas=(0.0, 0.95))\n",
    "        # optimizer = torch.optim.Adam(net.parameters())\n",
    "    return optimizer\n",
    "\n",
    "optimizer = create_optimizer(network)\n"
   ],
   "metadata": {
    "collapsed": false
   }
  },
  {
   "cell_type": "code",
   "execution_count": 107,
   "outputs": [
    {
     "name": "stdout",
     "output_type": "stream",
     "text": [
      "linear1.weight [[-0.     0.019 -0.029 ...  0.022  0.004  0.002]\n",
      " [-0.02  -0.015 -0.01  ... -0.02  -0.006 -0.03 ]]\n",
      "linear1.bias [-0.02   0.015]\n",
      "tensor(1.0976, grad_fn=<DivBackward0>)\n"
     ]
    },
    {
     "data": {
      "text/plain": "array([[-0.019,  0.095],\n       [-0.075,  0.143],\n       [-0.086,  1.06 ],\n       ...,\n       [ 0.613,  0.59 ],\n       [ 0.102,  0.75 ],\n       [ 0.193,  0.402]], dtype=float32)"
     },
     "execution_count": 107,
     "metadata": {},
     "output_type": "execute_result"
    }
   ],
   "source": [
    "params = [p for p in network.named_parameters()]\n",
    "logits = network.forward(train_x)\n",
    "for name, p in params:\n",
    "    print(f\"{name} {p.detach().numpy()}\")\n",
    "pred = network.forward(train_x)\n",
    "loss = criterion(pred, train_y)\n",
    "print(loss)\n",
    "pred.detach().numpy()\n",
    "# torch.onnx.export(network, train_x, \"/home/spometun/model.onnx\", verbose=False)\n",
    "\n",
    "\n"
   ],
   "metadata": {
    "collapsed": false
   }
  },
  {
   "cell_type": "code",
   "execution_count": 108,
   "outputs": [],
   "source": [
    "params_history = []\n",
    "\n",
    "def get_gradients_dict(network: torch.nn.Module):\n",
    "    res = {}\n",
    "    for name, param in network.named_parameters():\n",
    "        with torch.no_grad():\n",
    "            res[name] = param.grad\n",
    "    return res\n",
    "\n",
    "g = get_gradients_dict(network)\n"
   ],
   "metadata": {
    "collapsed": false
   }
  },
  {
   "cell_type": "code",
   "execution_count": 136,
   "outputs": [
    {
     "name": "stdout",
     "output_type": "stream",
     "text": [
      "Iˈ0.000 0.886 = 0.701+0.186 \n",
      "Iˈ0.065 0.886 = 0.700+0.186 \n",
      "Iˈ0.123 0.886 = 0.699+0.187 \n",
      "Iˈ0.180 0.886 = 0.699+0.187 \n",
      "Iˈ0.236 0.886 = 0.699+0.187 \n",
      "Iˈ0.296 0.886 = 0.697+0.189 \n",
      "Iˈ0.352 0.886 = 0.697+0.188 \n",
      "Iˈ0.415 0.886 = 0.696+0.190 \n"
     ]
    }
   ],
   "source": [
    "optimizer.param_groups[0][\"lr\"] = 0.0001\n",
    "network.alpha_l1 = 0.1\n",
    "batch_size = 1000\n",
    "\n",
    "n_epochs = 8\n",
    "for i in range(n_epochs):\n",
    "    e_counter = 0\n",
    "    for start, end in lib.gen_utils.index_batcher(batch_size, len(train_x)):\n",
    "        y = train_y[start:end]\n",
    "        pred = network.forward(x)\n",
    "        loss = criterion(pred, y)\n",
    "        reg_loss = network.internal_loss()\n",
    "        all_loss = loss + reg_loss\n",
    "        optimizer.zero_grad()\n",
    "        all_loss.backward()\n",
    "\n",
    "        params = lib.utils.get_parameters_dict(network)\n",
    "        grads = lib.utils.get_gradients_dict(network)\n",
    "        params_history.append({\"params\": params, \"grads\": grads})\n",
    "\n",
    "        optimizer.step()\n",
    "        if e_counter == 0:\n",
    "            LOG(f\"{all_loss.detach().numpy():.3f} = {loss.detach().numpy():.3f}+{reg_loss.detach().numpy():.3f}\")\n",
    "        e_counter += 1\n",
    "\n"
   ],
   "metadata": {
    "collapsed": false
   }
  },
  {
   "cell_type": "code",
   "execution_count": 137,
   "outputs": [],
   "source": [
    "\n",
    "params_orig = [p.detach().clone().numpy() for p in network.parameters()]\n"
   ],
   "metadata": {
    "collapsed": false
   }
  },
  {
   "cell_type": "code",
   "execution_count": 138,
   "outputs": [],
   "source": [
    "# params = copy.deepcopy(params_orig)\n",
    "#lib.utils.add_noise_to_params(params, 1, .0)\n",
    "# lib.utils.set_parameters(network, params)\n"
   ],
   "metadata": {
    "collapsed": false
   }
  },
  {
   "cell_type": "code",
   "execution_count": 141,
   "outputs": [
    {
     "data": {
      "text/plain": "0.1886"
     },
     "execution_count": 141,
     "metadata": {},
     "output_type": "execute_result"
    }
   ],
   "source": [
    "pred = network(train_x)\n",
    "pred_bin = np.argmax(pred.detach().numpy(), axis=1, keepdims=True)\n",
    "diff = train_y - pred_bin\n",
    "len(diff[diff != 0]) / len(diff)"
   ],
   "metadata": {
    "collapsed": false
   }
  },
  {
   "cell_type": "code",
   "execution_count": 140,
   "outputs": [
    {
     "name": "stdout",
     "output_type": "stream",
     "text": [
      "Using matplotlib backend: TkAgg\n"
     ]
    }
   ],
   "source": [
    "importlib.reload(lib)\n",
    "%matplotlib\n",
    "plt.ion()\n",
    "\n",
    "def param_picker0(param):\n",
    "    val0 = param[\"params\"][\"linear1.weight\"][0][0].item()\n",
    "    val1 = param[\"params\"][\"linear1.weight\"][1][0].item()\n",
    "    return val1 + val0\n",
    "\n",
    "def param_picker1(param):\n",
    "    val0 = param[\"params\"][\"linear1.weight\"][0][1].item()\n",
    "    return val0\n",
    "    return param[\"grads\"][\"linear1.weight\"][0][0].item() / 1000\n",
    "    # return np.max(np.abs(param[0].numpy()))\n",
    "\n",
    "def get_param_values(history, picker):\n",
    "    values = []\n",
    "    for entry in history:\n",
    "        values.append(picker(entry))\n",
    "    return values\n",
    "\n",
    "plt.figure(figsize=(16, 9))\n",
    "values = get_param_values(params_history, param_picker0)\n",
    "# plt.plot(values)\n",
    "values = get_param_values(params_history, param_picker1)\n",
    "plt.plot(values)\n",
    "plt.grid()\n",
    "\n",
    "accum = lib.stat_utils.AccumStat()\n",
    "accum.add_value(network.parameters())\n",
    "#accum.add_value(params_history[-1])\n",
    "accum.plot()\n",
    "\n",
    "\n"
   ],
   "metadata": {
    "collapsed": false
   }
  },
  {
   "cell_type": "code",
   "execution_count": 39,
   "outputs": [],
   "source": [
    "def form_balanced(x, y, n):\n",
    "    assert n % 2 == 0\n",
    "    n //= 2\n",
    "    y = y.numpy()\n",
    "    x = x.numpy()\n",
    "    inds = np.argsort(y.squeeze(1), axis=0)\n",
    "    y = y[inds]\n",
    "    x = x[inds]\n",
    "    i = 0\n",
    "    batches_x = []\n",
    "    batches_y = []\n",
    "    while True:\n",
    "        a = y[i:i + n]\n",
    "        b = y[len(y) - i - n: len(y) - i]\n",
    "        if not (a==0).all() or not (b==1).all():\n",
    "            break\n",
    "        batches_x += [x[i:i+n], x[len(y) - i - n: len(y) - i]]\n",
    "        batches_y += [a, b]\n",
    "        i += n\n",
    "\n",
    "    x = np.vstack(batches_x)\n",
    "    y = np.vstack(batches_y)\n",
    "    return torch.tensor(x), torch.tensor(y)\n",
    "\n",
    "train_x, train_y = form_balanced(train_x, train_y, 1000)\n"
   ],
   "metadata": {
    "collapsed": false
   }
  },
  {
   "cell_type": "code",
   "execution_count": null,
   "outputs": [],
   "source": [
    "# list(network.parameters())[0].data = torch.Tensor([[10.], [-10]])\n",
    "# list(network.parameters())[1].data = torch.Tensor([-5., 15])\n",
    "np.set_printoptions(precision=2)\n",
    "params = list(network.parameters())\n",
    "par = []\n",
    "for p in params:\n",
    "    par.append(p.detach())\n",
    "    print (par[-1])"
   ],
   "metadata": {
    "collapsed": false
   }
  },
  {
   "cell_type": "code",
   "execution_count": null,
   "outputs": [],
   "source": [
    "o1 = train_x @ par[1].T + par[2]\n",
    "o1"
   ],
   "metadata": {
    "collapsed": false
   }
  },
  {
   "cell_type": "code",
   "execution_count": null,
   "outputs": [],
   "source": [
    "a1 = torch.sigmoid(o1)\n",
    "a1"
   ],
   "metadata": {
    "collapsed": false
   }
  },
  {
   "cell_type": "code",
   "execution_count": null,
   "outputs": [],
   "source": [
    "o2 = a1[:, 0] + a1[:, 1] - 1\n",
    "mseloss(o2, train_y)"
   ],
   "metadata": {
    "collapsed": false
   }
  },
  {
   "cell_type": "code",
   "execution_count": null,
   "outputs": [],
   "source": [
    "o2 @ par[2].T"
   ],
   "metadata": {
    "collapsed": false
   }
  },
  {
   "cell_type": "code",
   "execution_count": null,
   "outputs": [],
   "source": [
    "network.forward(train_x)"
   ],
   "metadata": {
    "collapsed": false
   }
  },
  {
   "cell_type": "code",
   "execution_count": null,
   "outputs": [],
   "source": [
    "1345639 * 5145"
   ],
   "metadata": {
    "collapsed": false
   }
  },
  {
   "cell_type": "code",
   "execution_count": null,
   "outputs": [],
   "source": [
    "import pickle\n",
    "import numpy as np\n",
    "\n",
    "class A:\n",
    "    def __init__(self):\n",
    "        self.v = 1\n",
    "    def __del__(self):\n",
    "        print(f\"del {self.v}\")\n",
    "\n",
    "a = A()\n",
    "b = A()\n",
    "b.v = 2\n",
    "l = [b]\n",
    "print(\"start\")\n",
    "del a\n",
    "print(\"after del\")\n",
    "l[0].v\n",
    "a.v\n"
   ],
   "metadata": {
    "collapsed": false
   }
  },
  {
   "cell_type": "code",
   "execution_count": null,
   "outputs": [],
   "source": [],
   "metadata": {
    "collapsed": false
   }
  }
 ],
 "metadata": {
  "kernelspec": {
   "display_name": "Python 3",
   "language": "python",
   "name": "python3"
  },
  "language_info": {
   "codemirror_mode": {
    "name": "ipython",
    "version": 2
   },
   "file_extension": ".py",
   "mimetype": "text/x-python",
   "name": "python",
   "nbconvert_exporter": "python",
   "pygments_lexer": "ipython2",
   "version": "2.7.6"
  }
 },
 "nbformat": 4,
 "nbformat_minor": 0
}
