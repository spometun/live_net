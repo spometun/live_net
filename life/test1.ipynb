{
 "cells": [
  {
   "cell_type": "code",
   "execution_count": 43,
   "metadata": {
    "collapsed": true
   },
   "outputs": [
    {
     "name": "stdout",
     "output_type": "stream",
     "text": [
      "Using matplotlib backend: TkAgg\n",
      "2.0.0+cu117\n"
     ]
    },
    {
     "data": {
      "text/plain": "'%.4f'"
     },
     "execution_count": 43,
     "metadata": {},
     "output_type": "execute_result"
    }
   ],
   "source": [
    "import random\n",
    "import numpy as np\n",
    "import torch\n",
    "import torch.nn as nn\n",
    "import torch.utils.data\n",
    "import importlib\n",
    "import life.lib\n",
    "import life.lib as lib\n",
    "importlib.reload(lib)\n",
    "LOG = lib.simple_log.LOG\n",
    "import math\n",
    "from matplotlib import pyplot as plt\n",
    "%matplotlib\n",
    "plt.ion()\n",
    "lib.utils.set_seed()\n",
    "print(torch.__version__)\n",
    "np.set_printoptions(precision=3)\n",
    "%precision 4\n",
    "\n"
   ]
  },
  {
   "cell_type": "code",
   "execution_count": 5,
   "outputs": [],
   "source": [
    "if \"train_x\" not in globals():\n",
    "    x, y = lib.datasets.get_mnist_train()\n",
    "    train_y = y % 2\n",
    "    train_x = torch.reshape(x, (len(x), -1))\n",
    "    x, y = lib.datasets.get_mnist_test()\n",
    "    test_y = y % 2\n",
    "    test_x = torch.reshape(x, (len(x), -1))\n",
    "\n"
   ],
   "metadata": {
    "collapsed": false
   }
  },
  {
   "cell_type": "code",
   "execution_count": 46,
   "outputs": [
    {
     "name": "stdout",
     "output_type": "stream",
     "text": [
      "Torch\n"
     ]
    }
   ],
   "source": [
    "# network = lib.nets.PYRAMID()\n",
    "#network = lib.nets.create_livenet_odd_2()\n",
    "# train_x, train_y = lib.datasets.get_odd()\n",
    "network = lib.livenet.LiveNet(train_x.shape[1], None, torch.max(train_y) + 1)\n",
    "network = lib.nets.PERCEPTRON(train_x.shape[1], torch.max(train_y) + 1)\n",
    "criterion = lib.nets.criterion_n\n",
    "\n",
    "def create_optimizer(net: nn.Module):\n",
    "    if net.__class__.__name__ == \"LiveNet\":\n",
    "        print(\"LiveNet\")\n",
    "        net: lib.livenet.LiveNet\n",
    "        optimizer = lib.livenet.LiveNetOptimizer(net, decay=0.0)\n",
    "        # optimizer = torch.optim.Adam(net.parameters())\n",
    "    else:\n",
    "        print(\"Torch\")\n",
    "        optimizer = torch.optim.Adam(net.parameters(), betas=(0.9, 0.999))\n",
    "    return optimizer\n",
    "\n",
    "optimizer = create_optimizer(network)\n"
   ],
   "metadata": {
    "collapsed": false
   }
  },
  {
   "cell_type": "code",
   "execution_count": 47,
   "outputs": [
    {
     "name": "stdout",
     "output_type": "stream",
     "text": [
      "linear1.weight [[-0.     0.019 -0.029 ...  0.022  0.004  0.002]\n",
      " [-0.02  -0.015 -0.01  ... -0.02  -0.006 -0.03 ]]\n",
      "linear1.bias [-0.02   0.015]\n",
      "tensor(1.0939, grad_fn=<DivBackward0>)\n"
     ]
    },
    {
     "data": {
      "text/plain": "array([[ 0.273,  0.635],\n       [-0.329,  0.542],\n       [ 0.153, -0.004],\n       ...,\n       [ 0.304,  0.578],\n       [ 0.077,  0.333],\n       [-0.019,  0.095]], dtype=float32)"
     },
     "execution_count": 47,
     "metadata": {},
     "output_type": "execute_result"
    }
   ],
   "source": [
    "params = [p for p in network.named_parameters()]\n",
    "logits = network.forward(train_x)\n",
    "for name, p in params:\n",
    "    print(f\"{name} {p.detach().numpy()}\")\n",
    "pred = network.forward(train_x)\n",
    "loss = criterion(pred, train_y)\n",
    "print(loss)\n",
    "pred.detach().numpy()\n",
    "# torch.onnx.export(network, train_x, \"/home/spometun/model.onnx\", verbose=False)\n",
    "\n",
    "\n"
   ],
   "metadata": {
    "collapsed": false
   }
  },
  {
   "cell_type": "code",
   "execution_count": 48,
   "outputs": [],
   "source": [
    "# network.context.decay = 0.00\n",
    "params_history = []\n"
   ],
   "metadata": {
    "collapsed": false
   }
  },
  {
   "cell_type": "code",
   "execution_count": 49,
   "outputs": [
    {
     "name": "stdout",
     "output_type": "stream",
     "text": [
      "Iˈ0.000 1.058 \n",
      "Iˈ0.063 1.015 \n",
      "Iˈ0.120 0.976 \n",
      "Iˈ0.177 0.940 \n",
      "Iˈ0.233 0.907 \n",
      "Iˈ0.295 0.877 \n",
      "Iˈ0.353 0.849 \n",
      "Iˈ0.412 0.824 \n",
      "Iˈ0.469 0.800 \n",
      "Iˈ0.529 0.778 \n",
      "Iˈ0.588 0.757 \n",
      "Iˈ0.643 0.738 \n",
      "Iˈ0.699 0.721 \n",
      "Iˈ0.758 0.704 \n",
      "Iˈ0.814 0.689 \n",
      "Iˈ0.873 0.674 \n",
      "Iˈ0.931 0.661 \n",
      "Iˈ0.991 0.648 \n",
      "Iˈ1.046 0.636 \n",
      "Iˈ1.101 0.625 \n",
      "Iˈ1.156 0.614 \n",
      "Iˈ1.219 0.604 \n",
      "Iˈ1.277 0.594 \n",
      "Iˈ1.334 0.585 \n",
      "Iˈ1.391 0.576 \n",
      "Iˈ1.449 0.568 \n",
      "Iˈ1.505 0.560 \n",
      "Iˈ1.560 0.553 \n",
      "Iˈ1.614 0.546 \n",
      "Iˈ1.674 0.539 \n",
      "Iˈ1.731 0.532 \n",
      "Iˈ1.787 0.526 \n",
      "Iˈ1.844 0.520 \n",
      "Iˈ1.905 0.514 \n",
      "Iˈ1.962 0.509 \n",
      "Iˈ2.020 0.503 \n",
      "Iˈ2.076 0.498 \n",
      "Iˈ2.132 0.493 \n",
      "Iˈ2.190 0.488 \n",
      "Iˈ2.246 0.484 \n",
      "Iˈ2.311 0.479 \n",
      "Iˈ2.372 0.475 \n",
      "Iˈ2.428 0.471 \n",
      "Iˈ2.484 0.467 \n",
      "Iˈ2.560 0.463 \n",
      "Iˈ2.617 0.459 \n",
      "Iˈ2.677 0.455 \n",
      "Iˈ2.748 0.452 \n",
      "Iˈ2.811 0.448 \n",
      "Iˈ2.874 0.445 \n",
      "Iˈ2.936 0.442 \n",
      "Iˈ2.997 0.439 \n",
      "Iˈ3.054 0.435 \n",
      "Iˈ3.111 0.432 \n",
      "Iˈ3.165 0.430 \n",
      "Iˈ3.220 0.427 \n",
      "Iˈ3.273 0.424 \n",
      "Iˈ3.330 0.421 \n",
      "Iˈ3.386 0.419 \n",
      "Iˈ3.443 0.416 \n",
      "Iˈ3.498 0.414 \n",
      "Iˈ3.558 0.411 \n",
      "Iˈ3.616 0.409 \n",
      "Iˈ3.672 0.407 \n",
      "Iˈ3.728 0.404 \n",
      "Iˈ3.785 0.402 \n",
      "Iˈ3.841 0.400 \n",
      "Iˈ3.895 0.398 \n",
      "Iˈ3.949 0.396 \n",
      "Iˈ4.005 0.394 \n",
      "Iˈ4.061 0.392 \n",
      "Iˈ4.117 0.390 \n",
      "Iˈ4.172 0.388 \n",
      "Iˈ4.228 0.387 \n",
      "Iˈ4.284 0.385 \n",
      "Iˈ4.339 0.383 \n",
      "Iˈ4.395 0.382 \n",
      "Iˈ4.452 0.380 \n",
      "Iˈ4.508 0.378 \n",
      "Iˈ4.564 0.377 \n"
     ]
    }
   ],
   "source": [
    "optimizer.param_groups[0][\"lr\"] = 0.00001\n",
    "g = optimizer.param_groups\n",
    "batch_size = 1000\n",
    "\n",
    "n_epochs = 80\n",
    "for i in range(n_epochs):\n",
    "    params = [(p[0], p[1].detach().clone().numpy()) for p in network.named_parameters()]\n",
    "    params_history.append(params)\n",
    "    for start, end in lib.gen_utils.index_batcher(batch_size, len(train_x)):\n",
    "        x = train_x[start:end]\n",
    "        y = train_y[start:end]\n",
    "        pred = network.forward(x)\n",
    "        loss = criterion(pred, y)\n",
    "        optimizer.zero_grad()\n",
    "        loss.backward()\n",
    "        optimizer.step()\n",
    "    if i % 1 == 0:\n",
    "        LOG(f\"{loss.detach().numpy():.3f}\")\n",
    "\n"
   ],
   "metadata": {
    "collapsed": false
   }
  },
  {
   "cell_type": "code",
   "execution_count": 10,
   "outputs": [
    {
     "data": {
      "text/plain": "0.1416"
     },
     "execution_count": 10,
     "metadata": {},
     "output_type": "execute_result"
    }
   ],
   "source": [
    "pred = network(train_x)\n",
    "pred_bin = np.argmax(pred.detach().numpy(), axis=1, keepdims=True)\n",
    "diff = train_y - pred_bin\n",
    "len(diff[diff != 0]) / len(diff)"
   ],
   "metadata": {
    "collapsed": false
   }
  },
  {
   "cell_type": "code",
   "execution_count": 50,
   "outputs": [],
   "source": [
    "def param_picker(param):\n",
    "    return param[0][1][0][382].item()\n",
    "    # return np.max(np.abs(param[0].numpy()))\n",
    "\n",
    "def get_param_values(history, picker):\n",
    "    values = []\n",
    "    for entry in history:\n",
    "        values.append(picker(entry))\n",
    "    return values\n",
    "\n",
    "values = get_param_values(params_history, param_picker)\n",
    "# plt.figure(figsize=(12, 9))\n",
    "# plt.plot(values)\n",
    "# plt.grid()\n",
    "\n",
    "accum = lib.stat_utils.AccumStat()\n",
    "accum.add_value(params_history[0])\n",
    "accum.plot()\n",
    "\n",
    "\n"
   ],
   "metadata": {
    "collapsed": false
   }
  },
  {
   "cell_type": "code",
   "execution_count": null,
   "outputs": [],
   "source": [
    "import matplotlib.pyplot as plt\n",
    "plt.plot(all_losses)\n",
    "plt.ylabel('Loss')\n",
    "plt.show()"
   ],
   "metadata": {
    "collapsed": false,
    "pycharm": {
     "is_executing": true
    }
   }
  },
  {
   "cell_type": "code",
   "execution_count": null,
   "outputs": [],
   "source": [
    "# list(network.parameters())[0].data = torch.Tensor([[10.], [-10]])\n",
    "# list(network.parameters())[1].data = torch.Tensor([-5., 15])\n",
    "np.set_printoptions(precision=2)\n",
    "params = list(network.parameters())\n",
    "par = []\n",
    "for p in params:\n",
    "    par.append(p.detach())\n",
    "    print (par[-1])"
   ],
   "metadata": {
    "collapsed": false
   }
  },
  {
   "cell_type": "code",
   "execution_count": null,
   "outputs": [],
   "source": [
    "o1 = train_x @ par[1].T + par[2]\n",
    "o1"
   ],
   "metadata": {
    "collapsed": false
   }
  },
  {
   "cell_type": "code",
   "execution_count": null,
   "outputs": [],
   "source": [
    "a1 = torch.sigmoid(o1)\n",
    "a1"
   ],
   "metadata": {
    "collapsed": false
   }
  },
  {
   "cell_type": "code",
   "execution_count": null,
   "outputs": [],
   "source": [
    "o2 = a1[:, 0] + a1[:, 1] - 1\n",
    "mseloss(o2, train_y)"
   ],
   "metadata": {
    "collapsed": false
   }
  },
  {
   "cell_type": "code",
   "execution_count": null,
   "outputs": [],
   "source": [
    "o2 @ par[2].T"
   ],
   "metadata": {
    "collapsed": false
   }
  },
  {
   "cell_type": "code",
   "execution_count": null,
   "outputs": [],
   "source": [
    "network.forward(train_x)"
   ],
   "metadata": {
    "collapsed": false
   }
  },
  {
   "cell_type": "code",
   "execution_count": null,
   "outputs": [],
   "source": [
    "1345639 * 5145"
   ],
   "metadata": {
    "collapsed": false
   }
  },
  {
   "cell_type": "code",
   "execution_count": null,
   "outputs": [],
   "source": [
    "import pickle\n",
    "import numpy as np\n",
    "\n",
    "class A:\n",
    "    def __init__(self):\n",
    "        self.v = 1\n",
    "    def __del__(self):\n",
    "        print(f\"del {self.v}\")\n",
    "\n",
    "a = A()\n",
    "b = A()\n",
    "b.v = 2\n",
    "l = [b]\n",
    "print(\"start\")\n",
    "del a\n",
    "print(\"after del\")\n",
    "l[0].v\n",
    "a.v\n"
   ],
   "metadata": {
    "collapsed": false
   }
  },
  {
   "cell_type": "code",
   "execution_count": null,
   "outputs": [],
   "source": [],
   "metadata": {
    "collapsed": false
   }
  }
 ],
 "metadata": {
  "kernelspec": {
   "display_name": "Python 3",
   "language": "python",
   "name": "python3"
  },
  "language_info": {
   "codemirror_mode": {
    "name": "ipython",
    "version": 2
   },
   "file_extension": ".py",
   "mimetype": "text/x-python",
   "name": "python",
   "nbconvert_exporter": "python",
   "pygments_lexer": "ipython2",
   "version": "2.7.6"
  }
 },
 "nbformat": 4,
 "nbformat_minor": 0
}
