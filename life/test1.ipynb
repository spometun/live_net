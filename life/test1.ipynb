{
 "cells": [
  {
   "cell_type": "code",
   "execution_count": 91,
   "metadata": {
    "collapsed": true
   },
   "outputs": [
    {
     "name": "stdout",
     "output_type": "stream",
     "text": [
      "Using matplotlib backend: TkAgg\n",
      "2.0.0+cu117\n"
     ]
    },
    {
     "data": {
      "text/plain": "'%.4f'"
     },
     "execution_count": 91,
     "metadata": {},
     "output_type": "execute_result"
    }
   ],
   "source": [
    "import copy\n",
    "import random\n",
    "import numpy as np\n",
    "import torch\n",
    "import torch.nn as nn\n",
    "import torch.utils.data\n",
    "import importlib\n",
    "import life.lib\n",
    "import life.lib as lib\n",
    "import typing\n",
    "importlib.reload(lib)\n",
    "LOG = lib.simple_log.LOG\n",
    "import math\n",
    "from matplotlib import pyplot as plt\n",
    "%matplotlib\n",
    "plt.ion()\n",
    "lib.utils.set_seed()\n",
    "print(torch.__version__)\n",
    "np.set_printoptions(precision=3)\n",
    "%precision 4\n",
    "\n"
   ]
  },
  {
   "cell_type": "code",
   "execution_count": 106,
   "outputs": [],
   "source": [
    "lib.utils.set_seed()\n",
    "train_x, train_y = lib.datasets.get_linear2()\n",
    "network = lib.nets.create_livenet_linear2(l1=0.1)\n",
    "# network = lib.nets.LINEAR3(l1=0.1)"
   ],
   "metadata": {
    "collapsed": false
   }
  },
  {
   "cell_type": "code",
   "execution_count": 107,
   "outputs": [
    {
     "name": "stdout",
     "output_type": "stream",
     "text": [
      "LiveNet\n"
     ]
    }
   ],
   "source": [
    "batch_iterator = lib.gen_utils.batch_iterator(train_x, train_y, batch_size=len(train_x))\n",
    "criterion = lib.nets.criterion_n\n",
    "optimizer = lib.nets.create_optimizer(network)\n",
    "optimizer.learning_rate = 0.01\n",
    "trainer = lib.trainer.Trainer(network, batch_iterator, criterion, optimizer, epoch_size=1, adaptive_lr=False)\n"
   ],
   "metadata": {
    "collapsed": false
   }
  },
  {
   "cell_type": "code",
   "execution_count": 115,
   "outputs": [
    {
     "name": "stdout",
     "output_type": "stream",
     "text": [
      "Iˈ0.000 0.563 = 0.205+0.358 lib/trainer.py:89\n",
      "Iˈ0.003 0.563 = 0.206+0.358 lib/trainer.py:89\n",
      "Iˈ0.005 0.563 = 0.202+0.361 lib/trainer.py:89\n",
      "Iˈ0.007 0.563 = 0.203+0.361 lib/trainer.py:89\n",
      "Iˈ0.009 0.563 = 0.204+0.359 lib/trainer.py:89\n",
      "Iˈ0.012 0.563 = 0.204+0.359 lib/trainer.py:89\n",
      "Iˈ0.014 0.563 = 0.205+0.358 lib/trainer.py:89\n",
      "Iˈ0.015 0.563 = 0.205+0.358 lib/trainer.py:89\n",
      "Iˈ0.016 0.563 = 0.206+0.357 lib/trainer.py:89\n",
      "Iˈ0.018 0.563 = 0.205+0.358 lib/trainer.py:89\n",
      "Iˈ0.019 0.563 = 0.203+0.361 lib/trainer.py:89\n",
      "Iˈ0.021 0.563 = 0.202+0.361 lib/trainer.py:89\n",
      "Iˈ0.023 0.563 = 0.205+0.359 lib/trainer.py:89\n",
      "Iˈ0.025 0.563 = 0.204+0.359 lib/trainer.py:89\n",
      "Iˈ0.026 0.563 = 0.205+0.358 lib/trainer.py:89\n",
      "Iˈ0.027 0.563 = 0.205+0.358 lib/trainer.py:89\n",
      "Iˈ0.029 0.563 = 0.206+0.357 lib/trainer.py:89\n",
      "Iˈ0.030 0.563 = 0.202+0.361 lib/trainer.py:89\n",
      "Iˈ0.031 0.563 = 0.203+0.360 lib/trainer.py:89\n",
      "Iˈ0.032 0.563 = 0.204+0.359 lib/trainer.py:89\n",
      "Iˈ0.033 0.563 = 0.204+0.359 lib/trainer.py:89\n",
      "Iˈ0.035 0.563 = 0.205+0.358 lib/trainer.py:89\n",
      "Iˈ0.036 0.563 = 0.205+0.358 lib/trainer.py:89\n",
      "Iˈ0.037 0.563 = 0.206+0.357 lib/trainer.py:89\n",
      "Iˈ0.039 0.563 = 0.205+0.358 lib/trainer.py:89\n",
      "Iˈ0.040 0.563 = 0.206+0.357 lib/trainer.py:89\n",
      "Iˈ0.041 0.563 = 0.205+0.357 lib/trainer.py:89\n",
      "Iˈ0.043 0.563 = 0.203+0.360 lib/trainer.py:89\n",
      "Iˈ0.045 0.563 = 0.202+0.361 lib/trainer.py:89\n",
      "Iˈ0.046 0.563 = 0.201+0.363 lib/trainer.py:89\n",
      "Iˈ0.047 0.563 = 0.202+0.361 lib/trainer.py:89\n",
      "Iˈ0.048 0.563 = 0.203+0.360 lib/trainer.py:89\n",
      "Iˈ0.050 0.564 = 0.201+0.363 lib/trainer.py:89\n",
      "Iˈ0.052 0.563 = 0.201+0.362 lib/trainer.py:89\n",
      "Iˈ0.053 0.563 = 0.203+0.360 lib/trainer.py:89\n",
      "Iˈ0.055 0.563 = 0.203+0.360 lib/trainer.py:89\n",
      "Iˈ0.056 0.563 = 0.205+0.358 lib/trainer.py:89\n",
      "Iˈ0.057 0.563 = 0.204+0.359 lib/trainer.py:89\n",
      "Iˈ0.058 0.563 = 0.206+0.358 lib/trainer.py:89\n",
      "Iˈ0.059 0.563 = 0.205+0.358 lib/trainer.py:89\n",
      "Iˈ0.060 0.563 = 0.206+0.357 lib/trainer.py:89\n",
      "Iˈ0.062 0.563 = 0.205+0.358 lib/trainer.py:89\n",
      "Iˈ0.063 0.563 = 0.206+0.357 lib/trainer.py:89\n",
      "Iˈ0.064 0.563 = 0.206+0.357 lib/trainer.py:89\n",
      "Iˈ0.065 0.563 = 0.203+0.360 lib/trainer.py:89\n",
      "Iˈ0.066 0.563 = 0.202+0.361 lib/trainer.py:89\n",
      "Iˈ0.068 0.563 = 0.205+0.359 lib/trainer.py:89\n",
      "Iˈ0.069 0.564 = 0.204+0.360 lib/trainer.py:89\n",
      "Iˈ0.070 0.564 = 0.202+0.361 lib/trainer.py:89\n",
      "Iˈ0.072 0.563 = 0.202+0.362 lib/trainer.py:89\n",
      "Iˈ0.073 0.563 = 0.204+0.360 lib/trainer.py:89\n",
      "Iˈ0.074 0.563 = 0.204+0.360 lib/trainer.py:89\n",
      "Iˈ0.075 0.563 = 0.205+0.358 lib/trainer.py:89\n",
      "Iˈ0.077 0.563 = 0.205+0.358 lib/trainer.py:89\n",
      "Iˈ0.078 0.563 = 0.206+0.358 lib/trainer.py:89\n",
      "Iˈ0.079 0.563 = 0.205+0.358 lib/trainer.py:89\n",
      "Iˈ0.080 0.563 = 0.206+0.357 lib/trainer.py:89\n",
      "Iˈ0.081 0.563 = 0.206+0.357 lib/trainer.py:89\n",
      "Iˈ0.083 0.563 = 0.206+0.357 lib/trainer.py:89\n",
      "Iˈ0.084 0.563 = 0.206+0.357 lib/trainer.py:89\n",
      "Iˈ0.085 0.563 = 0.206+0.357 lib/trainer.py:89\n",
      "Iˈ0.086 0.563 = 0.206+0.357 lib/trainer.py:89\n",
      "Iˈ0.088 0.563 = 0.203+0.360 lib/trainer.py:89\n",
      "Iˈ0.089 0.563 = 0.199+0.364 lib/trainer.py:89\n",
      "Iˈ0.091 0.563 = 0.202+0.362 lib/trainer.py:89\n",
      "Iˈ0.093 0.563 = 0.203+0.361 lib/trainer.py:89\n",
      "Iˈ0.094 0.563 = 0.200+0.363 lib/trainer.py:89\n",
      "Iˈ0.096 0.563 = 0.203+0.361 lib/trainer.py:89\n",
      "Iˈ0.097 0.563 = 0.202+0.361 lib/trainer.py:89\n",
      "Iˈ0.098 0.563 = 0.204+0.359 lib/trainer.py:89\n",
      "Iˈ0.100 0.563 = 0.204+0.359 lib/trainer.py:89\n",
      "Iˈ0.101 0.563 = 0.205+0.358 lib/trainer.py:89\n",
      "Iˈ0.102 0.563 = 0.205+0.358 lib/trainer.py:89\n",
      "Iˈ0.103 0.563 = 0.206+0.357 lib/trainer.py:89\n",
      "Iˈ0.105 0.563 = 0.205+0.358 lib/trainer.py:89\n",
      "Iˈ0.106 0.563 = 0.206+0.357 lib/trainer.py:89\n",
      "Iˈ0.107 0.563 = 0.206+0.357 lib/trainer.py:89\n",
      "Iˈ0.108 0.563 = 0.206+0.356 lib/trainer.py:89\n",
      "Iˈ0.110 0.563 = 0.203+0.361 lib/trainer.py:89\n",
      "Iˈ0.111 0.564 = 0.200+0.364 lib/trainer.py:89\n",
      "Iˈ0.112 0.564 = 0.201+0.363 lib/trainer.py:89\n",
      "Iˈ0.113 0.563 = 0.203+0.361 lib/trainer.py:89\n",
      "Iˈ0.114 0.563 = 0.203+0.360 lib/trainer.py:89\n",
      "Iˈ0.116 0.563 = 0.205+0.359 lib/trainer.py:89\n",
      "Iˈ0.117 0.563 = 0.204+0.359 lib/trainer.py:89\n",
      "Iˈ0.118 0.563 = 0.205+0.358 lib/trainer.py:89\n",
      "Iˈ0.119 0.563 = 0.205+0.358 lib/trainer.py:89\n",
      "Iˈ0.121 0.563 = 0.206+0.357 lib/trainer.py:89\n",
      "Iˈ0.122 0.563 = 0.205+0.358 lib/trainer.py:89\n",
      "Iˈ0.123 0.563 = 0.206+0.357 lib/trainer.py:89\n",
      "Iˈ0.124 0.563 = 0.205+0.358 lib/trainer.py:89\n",
      "Iˈ0.125 0.563 = 0.207+0.356 lib/trainer.py:89\n",
      "Iˈ0.126 0.563 = 0.206+0.357 lib/trainer.py:89\n",
      "Iˈ0.128 0.563 = 0.207+0.356 lib/trainer.py:89\n",
      "Iˈ0.129 0.563 = 0.203+0.361 lib/trainer.py:89\n",
      "Iˈ0.130 0.563 = 0.204+0.360 lib/trainer.py:89\n",
      "Iˈ0.131 0.563 = 0.201+0.363 lib/trainer.py:89\n",
      "Iˈ0.132 0.563 = 0.201+0.362 lib/trainer.py:89\n",
      "Iˈ0.134 0.563 = 0.204+0.360 lib/trainer.py:89\n",
      "Iˈ0.135 0.563 = 0.203+0.360 lib/trainer.py:89\n",
      "Iˈ0.136 0.563 = 0.205+0.358 lib/trainer.py:89\n",
      "Iˈ0.137 0.563 = 0.205+0.359 lib/trainer.py:89\n",
      "Iˈ0.138 0.563 = 0.206+0.357 lib/trainer.py:89\n",
      "Iˈ0.139 0.563 = 0.201+0.362 lib/trainer.py:89\n",
      "Iˈ0.141 0.563 = 0.204+0.359 lib/trainer.py:89\n",
      "Iˈ0.142 0.563 = 0.203+0.360 lib/trainer.py:89\n",
      "Iˈ0.143 0.563 = 0.205+0.358 lib/trainer.py:89\n",
      "Iˈ0.144 0.563 = 0.205+0.358 lib/trainer.py:89\n",
      "Iˈ0.145 0.563 = 0.206+0.358 lib/trainer.py:89\n",
      "Iˈ0.146 0.563 = 0.202+0.361 lib/trainer.py:89\n",
      "Iˈ0.148 0.563 = 0.203+0.361 lib/trainer.py:89\n",
      "Iˈ0.149 0.563 = 0.204+0.359 lib/trainer.py:89\n",
      "Iˈ0.150 0.563 = 0.204+0.359 lib/trainer.py:89\n",
      "Iˈ0.151 0.564 = 0.202+0.362 lib/trainer.py:89\n",
      "Iˈ0.153 0.563 = 0.202+0.362 lib/trainer.py:89\n",
      "Iˈ0.154 0.563 = 0.204+0.360 lib/trainer.py:89\n",
      "Iˈ0.155 0.563 = 0.204+0.360 lib/trainer.py:89\n",
      "Iˈ0.156 0.563 = 0.205+0.358 lib/trainer.py:89\n",
      "Iˈ0.157 0.563 = 0.205+0.359 lib/trainer.py:89\n",
      "Iˈ0.158 0.563 = 0.206+0.358 lib/trainer.py:89\n",
      "Iˈ0.160 0.563 = 0.205+0.358 lib/trainer.py:89\n",
      "Iˈ0.161 0.563 = 0.206+0.357 lib/trainer.py:89\n",
      "Iˈ0.162 0.563 = 0.206+0.357 lib/trainer.py:89\n",
      "Iˈ0.163 0.563 = 0.206+0.357 lib/trainer.py:89\n",
      "Iˈ0.164 0.563 = 0.202+0.361 lib/trainer.py:89\n",
      "Iˈ0.165 0.563 = 0.203+0.360 lib/trainer.py:89\n",
      "Iˈ0.167 0.563 = 0.204+0.359 lib/trainer.py:89\n",
      "Iˈ0.168 0.563 = 0.204+0.359 lib/trainer.py:89\n",
      "Iˈ0.169 0.563 = 0.205+0.358 lib/trainer.py:89\n",
      "Iˈ0.170 0.563 = 0.205+0.358 lib/trainer.py:89\n",
      "Iˈ0.171 0.563 = 0.206+0.357 lib/trainer.py:89\n",
      "Iˈ0.172 0.563 = 0.202+0.362 lib/trainer.py:89\n",
      "Iˈ0.174 0.563 = 0.203+0.360 lib/trainer.py:89\n",
      "Iˈ0.175 0.563 = 0.204+0.360 lib/trainer.py:89\n",
      "Iˈ0.176 0.563 = 0.205+0.358 lib/trainer.py:89\n",
      "Iˈ0.177 0.563 = 0.205+0.358 lib/trainer.py:89\n",
      "Iˈ0.178 0.563 = 0.206+0.357 lib/trainer.py:89\n",
      "Iˈ0.179 0.563 = 0.205+0.358 lib/trainer.py:89\n",
      "Iˈ0.181 0.563 = 0.207+0.356 lib/trainer.py:89\n",
      "Iˈ0.182 0.563 = 0.205+0.358 lib/trainer.py:89\n",
      "Iˈ0.183 0.564 = 0.204+0.360 lib/trainer.py:89\n",
      "Iˈ0.184 0.564 = 0.199+0.365 lib/trainer.py:89\n",
      "Iˈ0.185 0.563 = 0.202+0.361 lib/trainer.py:89\n",
      "Iˈ0.186 0.563 = 0.202+0.361 lib/trainer.py:89\n",
      "Iˈ0.188 0.563 = 0.203+0.360 lib/trainer.py:89\n",
      "Iˈ0.189 0.563 = 0.204+0.359 lib/trainer.py:89\n",
      "Iˈ0.190 0.563 = 0.205+0.358 lib/trainer.py:89\n",
      "Iˈ0.191 0.563 = 0.205+0.358 lib/trainer.py:89\n",
      "Iˈ0.192 0.563 = 0.202+0.361 lib/trainer.py:89\n",
      "Iˈ0.194 0.563 = 0.202+0.361 lib/trainer.py:89\n",
      "Iˈ0.195 0.563 = 0.204+0.360 lib/trainer.py:89\n",
      "Iˈ0.196 0.563 = 0.204+0.359 lib/trainer.py:89\n",
      "Iˈ0.197 0.563 = 0.205+0.358 lib/trainer.py:89\n",
      "Iˈ0.199 0.563 = 0.205+0.358 lib/trainer.py:89\n",
      "Iˈ0.200 0.563 = 0.205+0.358 lib/trainer.py:89\n",
      "Iˈ0.201 0.563 = 0.202+0.361 lib/trainer.py:89\n",
      "Iˈ0.203 0.563 = 0.203+0.361 lib/trainer.py:89\n",
      "Iˈ0.204 0.563 = 0.204+0.359 lib/trainer.py:89\n",
      "Iˈ0.205 0.563 = 0.204+0.359 lib/trainer.py:89\n",
      "Iˈ0.207 0.563 = 0.205+0.358 lib/trainer.py:89\n",
      "Iˈ0.208 0.563 = 0.205+0.358 lib/trainer.py:89\n",
      "Iˈ0.209 0.563 = 0.206+0.357 lib/trainer.py:89\n",
      "Iˈ0.210 0.563 = 0.205+0.358 lib/trainer.py:89\n",
      "Iˈ0.211 0.563 = 0.206+0.357 lib/trainer.py:89\n",
      "Iˈ0.213 0.563 = 0.206+0.358 lib/trainer.py:89\n",
      "Iˈ0.214 0.563 = 0.203+0.360 lib/trainer.py:89\n",
      "Iˈ0.215 0.563 = 0.202+0.361 lib/trainer.py:89\n",
      "Iˈ0.216 0.563 = 0.205+0.358 lib/trainer.py:89\n",
      "Iˈ0.217 0.563 = 0.204+0.359 lib/trainer.py:89\n",
      "Iˈ0.219 0.563 = 0.206+0.358 lib/trainer.py:89\n",
      "Iˈ0.220 0.563 = 0.202+0.362 lib/trainer.py:89\n",
      "Iˈ0.221 0.563 = 0.203+0.361 lib/trainer.py:89\n",
      "Iˈ0.222 0.563 = 0.204+0.360 lib/trainer.py:89\n",
      "Iˈ0.224 0.563 = 0.204+0.359 lib/trainer.py:89\n",
      "Iˈ0.225 0.563 = 0.205+0.358 lib/trainer.py:89\n",
      "Iˈ0.226 0.563 = 0.205+0.358 lib/trainer.py:89\n",
      "Iˈ0.228 0.563 = 0.206+0.358 lib/trainer.py:89\n",
      "Iˈ0.229 0.563 = 0.206+0.358 lib/trainer.py:89\n",
      "Iˈ0.230 0.563 = 0.202+0.361 lib/trainer.py:89\n",
      "Iˈ0.232 0.563 = 0.204+0.359 lib/trainer.py:89\n",
      "Iˈ0.233 0.563 = 0.204+0.359 lib/trainer.py:89\n",
      "Iˈ0.234 0.563 = 0.206+0.358 lib/trainer.py:89\n",
      "Iˈ0.235 0.563 = 0.201+0.362 lib/trainer.py:89\n",
      "Iˈ0.237 0.563 = 0.203+0.361 lib/trainer.py:89\n",
      "Iˈ0.238 0.563 = 0.203+0.360 lib/trainer.py:89\n",
      "Iˈ0.239 0.564 = 0.201+0.363 lib/trainer.py:89\n",
      "Iˈ0.241 0.563 = 0.201+0.362 lib/trainer.py:89\n",
      "Iˈ0.242 0.563 = 0.203+0.360 lib/trainer.py:89\n",
      "Iˈ0.243 0.563 = 0.203+0.360 lib/trainer.py:89\n",
      "Iˈ0.244 0.563 = 0.205+0.359 lib/trainer.py:89\n",
      "Iˈ0.245 0.563 = 0.204+0.359 lib/trainer.py:89\n",
      "Iˈ0.247 0.563 = 0.206+0.358 lib/trainer.py:89\n",
      "Iˈ0.248 0.563 = 0.205+0.358 lib/trainer.py:89\n",
      "Iˈ0.249 0.563 = 0.206+0.357 lib/trainer.py:89\n",
      "Iˈ0.251 0.563 = 0.205+0.358 lib/trainer.py:89\n",
      "Iˈ0.252 0.563 = 0.206+0.357 lib/trainer.py:89\n",
      "Iˈ0.253 0.563 = 0.206+0.357 lib/trainer.py:89\n",
      "Iˈ0.255 0.563 = 0.207+0.356 lib/trainer.py:89\n",
      "Iˈ0.256 0.563 = 0.206+0.357 lib/trainer.py:89\n",
      "Iˈ0.257 0.563 = 0.203+0.360 lib/trainer.py:89\n"
     ]
    }
   ],
   "source": [
    "\n",
    "trainer.step(200)\n"
   ],
   "metadata": {
    "collapsed": false
   }
  },
  {
   "cell_type": "code",
   "execution_count": 110,
   "outputs": [
    {
     "data": {
      "text/plain": "0.0000"
     },
     "execution_count": 110,
     "metadata": {},
     "output_type": "execute_result"
    }
   ],
   "source": [
    "pred = network(train_x)\n",
    "pred_bin = np.argmax(pred.detach().numpy(), axis=1, keepdims=True)\n",
    "diff = train_y - pred_bin\n",
    "len(diff[diff != 0]) / len(diff)"
   ],
   "metadata": {
    "collapsed": false
   }
  },
  {
   "cell_type": "code",
   "execution_count": 117,
   "outputs": [
    {
     "name": "stdout",
     "output_type": "stream",
     "text": [
      "Using matplotlib backend: TkAgg\n"
     ]
    }
   ],
   "source": [
    "importlib.reload(lib)\n",
    "%matplotlib\n",
    "plt.ion()\n",
    "\n",
    "def param_picker0(param):\n",
    "    val0 = param[\"params\"][\"linear1.weight\"][0][0].item()\n",
    "    val1 = param[\"params\"][\"linear1.weight\"][1][0].item()\n",
    "    return val1 + val0\n",
    "\n",
    "def param_picker1(param):\n",
    "    val0 = param[\"params\"][\"1->2\"].item()\n",
    "    return val0\n",
    "\n",
    "def get_param_values(history, picker):\n",
    "    values = []\n",
    "    for entry in history:\n",
    "        values.append(picker(entry))\n",
    "    return values\n",
    "\n",
    "plt.figure(figsize=(16, 9))\n",
    "values = get_param_values(trainer.history, param_picker1)\n",
    "plt.plot(values)\n",
    "plt.grid()\n",
    "\n",
    "accum = lib.stat_utils.AccumStat()\n",
    "accum.add_value(trainer.network.parameters())\n",
    "# accum.plot()"
   ],
   "metadata": {
    "collapsed": false
   }
  },
  {
   "cell_type": "code",
   "execution_count": 116,
   "outputs": [
    {
     "name": "stdout",
     "output_type": "stream",
     "text": [
      "2 0.911180\n",
      "3 -0.930189\n",
      "0->2 -0.002514\n",
      "0->3 -0.031165\n",
      "1->2 -0.020508\n",
      "1->3 3.737047\n"
     ]
    }
   ],
   "source": [
    "for name, p in network.named_parameters():\n",
    "    print(name, f\"{p.item():.6f}\")"
   ],
   "metadata": {
    "collapsed": false
   }
  },
  {
   "cell_type": "code",
   "execution_count": null,
   "outputs": [],
   "source": [],
   "metadata": {
    "collapsed": false
   }
  }
 ],
 "metadata": {
  "kernelspec": {
   "display_name": "Python 3",
   "language": "python",
   "name": "python3"
  },
  "language_info": {
   "codemirror_mode": {
    "name": "ipython",
    "version": 2
   },
   "file_extension": ".py",
   "mimetype": "text/x-python",
   "name": "python",
   "nbconvert_exporter": "python",
   "pygments_lexer": "ipython2",
   "version": "2.7.6"
  }
 },
 "nbformat": 4,
 "nbformat_minor": 0
}
