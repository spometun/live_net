{
 "cells": [
  {
   "cell_type": "code",
   "execution_count": 1,
   "metadata": {
    "collapsed": true,
    "ExecuteTime": {
     "end_time": "2023-09-01T19:29:00.191308318Z",
     "start_time": "2023-09-01T19:29:00.186108285Z"
    }
   },
   "outputs": [],
   "source": [
    "import sys"
   ]
  },
  {
   "cell_type": "code",
   "execution_count": 12,
   "outputs": [
    {
     "name": "stdout",
     "output_type": "stream",
     "text": [
      "3.11.5 | packaged by conda-forge | (main, Aug 27 2023, 03:34:09) [GCC 12.3.0]\n",
      "linux\n",
      "['/home/spometun/install/pycharm-2023.1.2/plugins/python/helpers-pro/jupyter_debug', '/home/spometun/install/pycharm-2023.1.2/plugins/python/helpers/pydev', '/home/spometun/projects/home_project/life', '/home/spometun/projects/home_project', '/home/spometun/miniconda3/envs/env311/lib/python311.zip', '/home/spometun/miniconda3/envs/env311/lib/python3.11', '/home/spometun/miniconda3/envs/env311/lib/python3.11/lib-dynload', '', '/home/spometun/miniconda3/envs/env311/lib/python3.11/site-packages']\n"
     ]
    }
   ],
   "source": [
    "print(sys.version)\n",
    "print(sys.platform)\n",
    "print(sys.path)\n"
   ],
   "metadata": {
    "collapsed": false
   }
  },
  {
   "cell_type": "code",
   "execution_count": null,
   "outputs": [],
   "source": [],
   "metadata": {
    "collapsed": false
   }
  }
 ],
 "metadata": {
  "kernelspec": {
   "display_name": "Python 3",
   "language": "python",
   "name": "python3"
  },
  "language_info": {
   "codemirror_mode": {
    "name": "ipython",
    "version": 2
   },
   "file_extension": ".py",
   "mimetype": "text/x-python",
   "name": "python",
   "nbconvert_exporter": "python",
   "pygments_lexer": "ipython2",
   "version": "2.7.6"
  }
 },
 "nbformat": 4,
 "nbformat_minor": 0
}
