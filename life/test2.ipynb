{
 "cells": [
  {
   "cell_type": "code",
   "execution_count": 76,
   "metadata": {
    "collapsed": true
   },
   "outputs": [
    {
     "name": "stdout",
     "output_type": "stream",
     "text": [
      "Using matplotlib backend: TkAgg\n",
      "2.0.0+cu117\n"
     ]
    },
    {
     "data": {
      "text/plain": "'%.4f'"
     },
     "execution_count": 76,
     "metadata": {},
     "output_type": "execute_result"
    }
   ],
   "source": [
    "import copy\n",
    "import random\n",
    "import numpy as np\n",
    "import torch\n",
    "import torch.nn as nn\n",
    "import torch.utils.data\n",
    "import importlib\n",
    "import life.lib\n",
    "import life.lib as lib\n",
    "import typing\n",
    "importlib.reload(lib)\n",
    "LOG = lib.simple_log.LOG\n",
    "import math\n",
    "from matplotlib import pyplot as plt\n",
    "%matplotlib\n",
    "plt.ion()\n",
    "lib.utils.set_seed()\n",
    "print(torch.__version__)\n",
    "np.set_printoptions(precision=3)\n",
    "%precision 4\n",
    "\n"
   ]
  },
  {
   "cell_type": "code",
   "execution_count": 52,
   "outputs": [
    {
     "name": "stdout",
     "output_type": "stream",
     "text": [
      "Files already downloaded and verified\n",
      "Files already downloaded and verified\n"
     ]
    }
   ],
   "source": [
    "lib.utils.set_seed()\n",
    "downscale = (4, 4)\n",
    "test_x, test_y = lib.datasets.to_plain(*lib.datasets.get_cifar10_test(), downscale=downscale)\n",
    "train_x, train_y = lib.datasets.to_plain(*lib.datasets.get_cifar10_train(), downscale=downscale)"
   ],
   "metadata": {
    "collapsed": false
   }
  },
  {
   "cell_type": "code",
   "execution_count": 53,
   "outputs": [
    {
     "name": "stdout",
     "output_type": "stream",
     "text": [
      "LiveNet\n"
     ]
    }
   ],
   "source": [
    "network = lib.livenet.LiveNet.create_perceptron(train_x.shape[1], 21, 10)\n",
    "batch_iterator = lib.gen_utils.batch_iterator(train_x, train_y, batch_size=1000)\n",
    "criterion = lib.nets.criterion_n\n",
    "optimizer = lib.nets.create_optimizer(network)\n",
    "optimizer.learning_rate = 0.01\n",
    "trainer = lib.trainer.Trainer(network, batch_iterator, criterion, optimizer, epoch_size=100)\n"
   ],
   "metadata": {
    "collapsed": false
   }
  },
  {
   "cell_type": "code",
   "execution_count": 88,
   "outputs": [
    {
     "name": "stdout",
     "output_type": "stream",
     "text": [
      "Iˈ0.000 3.118 = 2.880+0.237 lib/trainer.py:92\n",
      "Iˈ0.670 3.114 = 2.877+0.237 lib/trainer.py:92\n",
      "Iˈ1.256 3.117 = 2.874+0.243 lib/trainer.py:92\n",
      "Iˈ1.828 3.115 = 2.880+0.235 lib/trainer.py:92\n",
      "Iˈ2.392 3.124 = 2.883+0.240 lib/trainer.py:92\n",
      "Iˈ2.957 3.121 = 2.884+0.237 lib/trainer.py:92\n",
      "Iˈ3.433 killing S163->N7 at tick 9085 with k=0.001 lib/livenet.py:191\n",
      "Iˈ3.434 S163 became useless at tick 9085 lib/livenet.py:61\n",
      "Iˈ3.434 There is no death for S163 lib/livenet.py:44\n",
      "Iˈ3.518 3.118 = 2.879+0.240 lib/trainer.py:92\n",
      "Iˈ4.057 3.122 = 2.885+0.237 lib/trainer.py:92\n",
      "Iˈ4.597 3.122 = 2.880+0.242 lib/trainer.py:92\n",
      "Iˈ5.163 3.118 = 2.882+0.236 lib/trainer.py:92\n"
     ]
    }
   ],
   "source": [
    "network.context.alpha_l1 = 0.01\n",
    "trainer.step(1000)\n",
    "# network.context.alpha_l1 = 0.01\n",
    "# trainer.step(5000)\n",
    "\n"
   ],
   "metadata": {
    "collapsed": false
   }
  },
  {
   "cell_type": "code",
   "execution_count": 89,
   "outputs": [
    {
     "data": {
      "text/plain": "0.7258"
     },
     "execution_count": 89,
     "metadata": {},
     "output_type": "execute_result"
    }
   ],
   "source": [
    "pred = network(test_x)\n",
    "pred_bin = np.argmax(pred.detach().numpy(), axis=1, keepdims=True)\n",
    "diff = test_y - pred_bin\n",
    "len(diff[diff != 0]) / len(diff)"
   ],
   "metadata": {
    "collapsed": false
   }
  },
  {
   "cell_type": "code",
   "execution_count": 90,
   "outputs": [
    {
     "name": "stdout",
     "output_type": "stream",
     "text": [
      "Using matplotlib backend: TkAgg\n"
     ]
    }
   ],
   "source": [
    "importlib.reload(lib)\n",
    "%matplotlib\n",
    "plt.ion()\n",
    "\n",
    "def param_amount(param):\n",
    "    val = len(param[\"params\"])\n",
    "    return val\n",
    "\n",
    "def param_max(param):\n",
    "    val = np.max(np.abs(param[\"params\"]))\n",
    "    return val\n",
    "\n",
    "def param_picker1(param):\n",
    "    try:\n",
    "        val0 = param[\"params\"][\"S262->D1\"].item()\n",
    "    except KeyError:\n",
    "        val0 = 0.\n",
    "    return val0\n",
    "\n",
    "def get_param_values(history, picker):\n",
    "    values = []\n",
    "    for entry in history:\n",
    "        values.append(picker(entry))\n",
    "    return values\n",
    "\n",
    "plt.figure(figsize=(16, 9))\n",
    "values = get_param_values(trainer.history, param_amount)\n",
    "plt.plot(values)\n",
    "plt.grid()\n",
    "\n",
    "accum = lib.stat_utils.AccumStat()\n",
    "accum.add_value(trainer.network.parameters())\n",
    "# accum.plot()"
   ],
   "metadata": {
    "collapsed": false
   }
  },
  {
   "cell_type": "code",
   "execution_count": 91,
   "outputs": [
    {
     "name": "stdout",
     "output_type": "stream",
     "text": [
      "D0 -0.5\n",
      "D1 -1.3\n",
      "D2 1.6\n",
      "D3 1.6\n",
      "D4 1.6\n",
      "D5 1.9\n",
      "D6 2.4\n",
      "D7 1.5\n",
      "D8 -1.2\n",
      "D9 -2.1\n",
      "N0 -5.8\n",
      "N3 7.0\n",
      "N5 1.2\n",
      "N6 2.0\n",
      "N7 1.1\n",
      "N9 -3.5\n",
      "N10 3.8\n",
      "N11 0.7\n",
      "N12 -3.0\n",
      "N14 -10.5\n",
      "N15 -1.9\n",
      "N16 1.0\n",
      "N18 -2.4\n",
      "N19 1.3\n",
      "N0->D1 0.0\n",
      "N3->D6 0.0\n",
      "N5->D1 1.2\n",
      "N5->D8 0.3\n",
      "N5->D9 1.2\n",
      "N6->D1 0.0\n",
      "N7->D0 1.0\n",
      "N7->D1 1.2\n",
      "N7->D6 -1.1\n",
      "N7->D8 0.7\n",
      "N7->D9 0.5\n",
      "N9->D6 0.0\n",
      "N10->D7 0.0\n",
      "N11->D0 1.3\n",
      "N11->D8 1.9\n",
      "N12->D7 0.0\n",
      "N14->D7 0.0\n",
      "N15->D7 0.0\n",
      "N16->D5 0.0\n",
      "N18->D3 0.0\n",
      "N19->D5 -0.2\n",
      "N19->D6 -0.2\n",
      "N19->D7 0.2\n",
      "N19->D9 1.0\n",
      "S34->N5 0.2\n",
      "S36->N5 0.4\n",
      "S27->N7 -2.0\n",
      "S106->N5 -0.8\n",
      "S109->N5 -0.4\n",
      "S115->N5 -0.5\n",
      "S116->N5 -0.6\n",
      "S155->N7 2.3\n",
      "S156->N7 0.1\n",
      "S56->N11 -0.3\n",
      "S63->N11 -0.6\n",
      "S16->N16 -0.0\n",
      "S76->N16 0.6\n",
      "S79->N16 -0.1\n",
      "S83->N16 0.3\n",
      "S128->N11 0.3\n",
      "S139->N11 0.3\n",
      "S143->N11 0.4\n",
      "S148->N11 0.5\n",
      "S182->N11 0.3\n",
      "S123->N12 -0.1\n",
      "S134->N12 0.0\n",
      "S136->N16 0.1\n",
      "S129->N19 0.8\n",
      "S135->N19 0.9\n"
     ]
    }
   ],
   "source": [
    "for name, p in sorted(network.named_parameters(),key=lambda x: len(x[0]) + ord(x[0][0]) / 1000.):\n",
    "    print(name, f\"{p.item():.1f}\")"
   ],
   "metadata": {
    "collapsed": false
   }
  },
  {
   "cell_type": "code",
   "execution_count": 19,
   "outputs": [
    {
     "data": {
      "text/plain": "OrderedDict([('D0',\n              Parameter containing:\n              tensor(-0.0146, requires_grad=True)),\n             ('D1',\n              Parameter containing:\n              tensor(0.0146, requires_grad=True)),\n             ('N4',\n              Parameter containing:\n              tensor(-0.0045, requires_grad=True))])"
     },
     "execution_count": 19,
     "metadata": {},
     "output_type": "execute_result"
    }
   ],
   "source": [
    "network._parameters"
   ],
   "metadata": {
    "collapsed": false
   }
  },
  {
   "cell_type": "code",
   "execution_count": 151,
   "outputs": [
    {
     "name": "stdout",
     "output_type": "stream",
     "text": [
      "============= Diagnostic Run torch.onnx.export version 2.0.0+cu117 =============\n",
      "verbose: False, log level: Level.ERROR\n",
      "======================= 0 NONE 0 NOTE 0 WARNING 0 ERROR ========================\n",
      "\n"
     ]
    }
   ],
   "source": [
    "lib.livenet.export_onnx(network, \"/home/spometun/model.onnx\")"
   ],
   "metadata": {
    "collapsed": false
   }
  }
 ],
 "metadata": {
  "kernelspec": {
   "display_name": "Python 3",
   "language": "python",
   "name": "python3"
  },
  "language_info": {
   "codemirror_mode": {
    "name": "ipython",
    "version": 2
   },
   "file_extension": ".py",
   "mimetype": "text/x-python",
   "name": "python",
   "nbconvert_exporter": "python",
   "pygments_lexer": "ipython2",
   "version": "2.7.6"
  }
 },
 "nbformat": 4,
 "nbformat_minor": 0
}
