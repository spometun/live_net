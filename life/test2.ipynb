{
 "cells": [
  {
   "cell_type": "code",
   "execution_count": 1,
   "metadata": {
    "collapsed": true
   },
   "outputs": [
    {
     "name": "stdout",
     "output_type": "stream",
     "text": [
      "Using matplotlib backend: <object object at 0x7f8f1464e510>\n",
      "2.0.0+cu117\n"
     ]
    },
    {
     "data": {
      "text/plain": "'%.4f'"
     },
     "execution_count": 1,
     "metadata": {},
     "output_type": "execute_result"
    }
   ],
   "source": [
    "import copy\n",
    "import random\n",
    "import numpy as np\n",
    "import torch\n",
    "import torch.nn as nn\n",
    "import torch.utils.data\n",
    "import importlib\n",
    "import life.lib\n",
    "import life.lib as lib\n",
    "import typing\n",
    "importlib.reload(lib)\n",
    "LOG = lib.simple_log.LOG\n",
    "import math\n",
    "from matplotlib import pyplot as plt\n",
    "%matplotlib\n",
    "plt.ion()\n",
    "lib.utils.set_seed()\n",
    "print(torch.__version__)\n",
    "np.set_printoptions(precision=3)\n",
    "%precision 4\n",
    "\n"
   ]
  },
  {
   "cell_type": "code",
   "execution_count": 7,
   "outputs": [],
   "source": [
    "lib.utils.set_seed()\n",
    "train_x, train_y = lib.datasets.to_plain_odd(*lib.datasets.get_mnist_test())\n",
    "network = lib.livenet.LiveNet(784, None, 2)"
   ],
   "metadata": {
    "collapsed": false
   }
  },
  {
   "cell_type": "code",
   "execution_count": null,
   "outputs": [],
   "source": [
    "batch_iterator = lib.gen_utils.batch_iterator(train_x, train_y, batch_size=len(train_x) // 500)\n",
    "criterion = lib.nets.criterion_n\n",
    "optimizer = lib.nets.create_optimizer(network)\n",
    "optimizer.learning_rate = 0.001\n",
    "trainer = lib.trainer.Trainer(network, batch_iterator, criterion, optimizer, epoch_size=1)\n"
   ],
   "metadata": {
    "collapsed": false,
    "pycharm": {
     "is_executing": true
    }
   }
  },
  {
   "cell_type": "code",
   "execution_count": 4,
   "outputs": [
    {
     "name": "stdout",
     "output_type": "stream",
     "text": [
      "Iˈ0.000 1.032 = 1.032+0.000 lib/trainer.py:89\n",
      "Iˈ0.334 0.894 = 0.894+0.000 lib/trainer.py:89\n",
      "Iˈ0.658 1.025 = 1.025+0.000 lib/trainer.py:89\n",
      "Iˈ1.007 0.922 = 0.922+0.000 lib/trainer.py:89\n",
      "Iˈ1.337 0.911 = 0.911+0.000 lib/trainer.py:89\n",
      "Iˈ1.637 1.007 = 1.007+0.000 lib/trainer.py:89\n",
      "Iˈ1.946 0.915 = 0.915+0.000 lib/trainer.py:89\n",
      "Iˈ2.246 0.875 = 0.875+0.000 lib/trainer.py:89\n",
      "Iˈ2.575 1.287 = 1.287+0.000 lib/trainer.py:89\n",
      "Iˈ2.913 1.051 = 1.051+0.000 lib/trainer.py:89\n",
      "Iˈ3.220 0.627 = 0.627+0.000 lib/trainer.py:89\n",
      "Iˈ3.593 1.063 = 1.063+0.000 lib/trainer.py:89\n",
      "Iˈ3.946 0.776 = 0.776+0.000 lib/trainer.py:89\n",
      "Iˈ4.268 0.576 = 0.576+0.000 lib/trainer.py:89\n",
      "Iˈ4.617 0.968 = 0.968+0.000 lib/trainer.py:89\n",
      "Iˈ5.048 0.927 = 0.927+0.000 lib/trainer.py:89\n",
      "Iˈ5.506 0.787 = 0.787+0.000 lib/trainer.py:89\n",
      "Iˈ5.878 0.785 = 0.785+0.000 lib/trainer.py:89\n",
      "Iˈ5.883 S45->D0 died at tick 17 with k=0.001 lib/livenet.py:191\n",
      "Iˈ5.883 S48->D0 died at tick 17 with k=0.000 lib/livenet.py:191\n",
      "Iˈ5.896 S194->D0 died at tick 17 with k=0.000 lib/livenet.py:191\n",
      "Iˈ5.897 S198->D0 died at tick 17 with k=0.000 lib/livenet.py:191\n",
      "Iˈ6.238 1.195 = 1.195+0.000 lib/trainer.py:89\n",
      "Iˈ6.311 S63->D1 died at tick 18 with k=0.001 lib/livenet.py:191\n",
      "Iˈ6.314 S104->D1 died at tick 18 with k=0.001 lib/livenet.py:191\n",
      "Iˈ6.329 S306->D1 died at tick 18 with k=0.001 lib/livenet.py:191\n",
      "Iˈ6.353 S641->D1 died at tick 18 with k=0.001 lib/livenet.py:191\n",
      "Iˈ6.357 S696->D1 died at tick 18 with k=0.001 lib/livenet.py:191\n",
      "Iˈ6.593 0.811 = 0.811+0.000 lib/trainer.py:89\n",
      "Iˈ6.643 S565->D0 died at tick 19 with k=0.001 lib/livenet.py:191\n",
      "Iˈ6.647 S617->D0 died at tick 19 with k=0.000 lib/livenet.py:191\n",
      "Iˈ6.990 0.716 = 0.716+0.000 lib/trainer.py:89\n",
      "Iˈ7.381 0.825 = 0.825+0.000 lib/trainer.py:89\n",
      "Iˈ7.466 S102->D1 died at tick 21 with k=0.000 lib/livenet.py:191\n",
      "Iˈ7.468 S117->D1 died at tick 21 with k=0.001 lib/livenet.py:191\n",
      "Iˈ7.494 S446->D1 died at tick 21 with k=0.001 lib/livenet.py:191\n",
      "Iˈ7.501 S498->D1 died at tick 21 with k=0.000 lib/livenet.py:191\n",
      "Iˈ7.501 S499->D1 died at tick 21 with k=0.000 lib/livenet.py:191\n",
      "Iˈ7.522 S676->D1 died at tick 21 with k=0.001 lib/livenet.py:191\n",
      "Iˈ7.778 0.707 = 0.707+0.000 lib/trainer.py:89\n",
      "Iˈ7.791 S127->D0 died at tick 22 with k=0.000 lib/livenet.py:191\n",
      "Iˈ8.159 0.696 = 0.696+0.000 lib/trainer.py:89\n",
      "Iˈ8.165 S66->D0 died at tick 23 with k=0.000 lib/livenet.py:191\n",
      "Iˈ8.174 S160->D0 died at tick 23 with k=0.001 lib/livenet.py:191\n",
      "Iˈ8.611 0.730 = 0.730+0.000 lib/trainer.py:89\n",
      "Iˈ9.092 0.731 = 0.731+0.000 lib/trainer.py:89\n",
      "Iˈ9.489 0.651 = 0.651+0.000 lib/trainer.py:89\n",
      "Iˈ9.562 S22->D1 died at tick 26 with k=0.000 lib/livenet.py:191\n",
      "Iˈ9.583 S333->D1 died at tick 26 with k=0.000 lib/livenet.py:191\n",
      "Iˈ9.874 0.461 = 0.461+0.000 lib/trainer.py:89\n",
      "Iˈ9.925 S636->D0 died at tick 27 with k=0.000 lib/livenet.py:191\n",
      "Iˈ10.207 0.823 = 0.823+0.000 lib/trainer.py:89\n",
      "Iˈ10.527 0.612 = 0.612+0.000 lib/trainer.py:89\n",
      "Iˈ10.619 S470->D1 died at tick 29 with k=0.000 lib/livenet.py:191\n",
      "Iˈ10.629 S613->D1 died at tick 29 with k=0.000 lib/livenet.py:191\n",
      "Iˈ10.637 S748->D1 died at tick 29 with k=0.001 lib/livenet.py:191\n",
      "Iˈ10.842 0.807 = 0.807+0.000 lib/trainer.py:89\n",
      "Iˈ10.894 S642->D0 died at tick 30 with k=0.000 lib/livenet.py:191\n",
      "Iˈ11.174 0.552 = 0.552+0.000 lib/trainer.py:89\n",
      "Iˈ11.494 0.729 = 0.729+0.000 lib/trainer.py:89\n",
      "Iˈ11.575 S192->D1 died at tick 32 with k=0.000 lib/livenet.py:191\n",
      "Iˈ11.832 0.911 = 0.911+0.000 lib/trainer.py:89\n",
      "Iˈ11.877 S553->D0 died at tick 33 with k=0.001 lib/livenet.py:191\n",
      "Iˈ11.890 S720->D0 died at tick 33 with k=0.000 lib/livenet.py:191\n",
      "Iˈ11.894 S771->D0 died at tick 33 with k=0.001 lib/livenet.py:191\n",
      "Iˈ12.159 0.730 = 0.730+0.000 lib/trainer.py:89\n",
      "Iˈ12.538 0.675 = 0.675+0.000 lib/trainer.py:89\n",
      "Iˈ12.917 0.666 = 0.666+0.000 lib/trainer.py:89\n",
      "Iˈ13.378 0.715 = 0.715+0.000 lib/trainer.py:89\n",
      "Iˈ13.773 0.608 = 0.608+0.000 lib/trainer.py:89\n",
      "Iˈ14.106 0.513 = 0.513+0.000 lib/trainer.py:89\n",
      "Iˈ14.425 0.678 = 0.678+0.000 lib/trainer.py:89\n",
      "Iˈ14.733 0.560 = 0.560+0.000 lib/trainer.py:89\n",
      "Iˈ14.803 S94->D1 died at tick 41 with k=0.001 lib/livenet.py:191\n",
      "Iˈ15.061 0.738 = 0.738+0.000 lib/trainer.py:89\n",
      "Iˈ15.072 S112->D0 died at tick 42 with k=0.001 lib/livenet.py:191\n",
      "Iˈ15.088 S281->D0 died at tick 42 with k=0.000 lib/livenet.py:191\n",
      "Iˈ15.124 S690->D0 died at tick 42 with k=0.001 lib/livenet.py:191\n",
      "Iˈ15.435 0.839 = 0.839+0.000 lib/trainer.py:89\n",
      "Iˈ15.815 0.671 = 0.671+0.000 lib/trainer.py:89\n",
      "Iˈ15.825 S101->D0 died at tick 44 with k=0.001 lib/livenet.py:191\n",
      "Iˈ16.177 0.725 = 0.725+0.000 lib/trainer.py:89\n",
      "Iˈ16.593 0.672 = 0.672+0.000 lib/trainer.py:89\n",
      "Iˈ16.977 0.632 = 0.632+0.000 lib/trainer.py:89\n",
      "Iˈ17.008 S344->D0 died at tick 47 with k=0.000 lib/livenet.py:191\n",
      "Iˈ17.453 0.526 = 0.526+0.000 lib/trainer.py:89\n",
      "Iˈ17.811 0.475 = 0.475+0.000 lib/trainer.py:89\n",
      "Iˈ18.152 0.519 = 0.519+0.000 lib/trainer.py:89\n",
      "Iˈ18.508 0.803 = 0.803+0.000 lib/trainer.py:89\n",
      "Iˈ18.853 0.438 = 0.438+0.000 lib/trainer.py:89\n",
      "Iˈ19.197 0.469 = 0.469+0.000 lib/trainer.py:89\n",
      "Iˈ19.563 0.630 = 0.630+0.000 lib/trainer.py:89\n",
      "Iˈ19.579 S201->D0 died at tick 54 with k=0.000 lib/livenet.py:191\n",
      "Iˈ20.069 0.582 = 0.582+0.000 lib/trainer.py:89\n",
      "Iˈ20.147 S666->D0 died at tick 55 with k=0.000 lib/livenet.py:191\n",
      "Iˈ20.449 0.697 = 0.697+0.000 lib/trainer.py:89\n",
      "Iˈ20.813 0.534 = 0.534+0.000 lib/trainer.py:89\n",
      "Iˈ20.920 S650->D1 died at tick 57 with k=0.001 lib/livenet.py:191\n",
      "Iˈ21.129 0.593 = 0.593+0.000 lib/trainer.py:89\n",
      "Iˈ21.143 S187->D0 died at tick 58 with k=0.001 lib/livenet.py:191\n",
      "Iˈ21.446 0.586 = 0.586+0.000 lib/trainer.py:89\n",
      "Iˈ21.779 0.531 = 0.531+0.000 lib/trainer.py:89\n",
      "Iˈ22.127 0.684 = 0.684+0.000 lib/trainer.py:89\n",
      "Iˈ22.455 0.784 = 0.784+0.000 lib/trainer.py:89\n",
      "Iˈ22.818 0.524 = 0.524+0.000 lib/trainer.py:89\n",
      "Iˈ23.164 0.882 = 0.882+0.000 lib/trainer.py:89\n",
      "Iˈ23.172 S102->D0 died at tick 64 with k=0.002 lib/livenet.py:191\n",
      "Iˈ23.172 S102 became useless at tick 64 lib/livenet.py:61\n",
      "Iˈ23.172 There is no death for S102 lib/livenet.py:44\n",
      "Iˈ23.176 S153->D0 died at tick 64 with k=0.001 lib/livenet.py:191\n",
      "Iˈ23.522 0.545 = 0.545+0.000 lib/trainer.py:89\n",
      "Iˈ23.944 0.552 = 0.552+0.000 lib/trainer.py:89\n",
      "Iˈ24.010 S689->D0 died at tick 66 with k=0.000 lib/livenet.py:191\n",
      "Iˈ24.402 0.485 = 0.485+0.000 lib/trainer.py:89\n",
      "Iˈ24.751 0.423 = 0.423+0.000 lib/trainer.py:89\n",
      "Iˈ25.072 0.657 = 0.657+0.000 lib/trainer.py:89\n",
      "Iˈ25.150 S272->D1 died at tick 69 with k=0.001 lib/livenet.py:191\n",
      "Iˈ25.382 0.631 = 0.631+0.000 lib/trainer.py:89\n",
      "Iˈ25.755 0.648 = 0.648+0.000 lib/trainer.py:89\n",
      "Iˈ26.099 0.454 = 0.454+0.000 lib/trainer.py:89\n",
      "Iˈ26.455 0.623 = 0.623+0.000 lib/trainer.py:89\n",
      "Iˈ26.477 S271->D0 died at tick 73 with k=0.001 lib/livenet.py:191\n",
      "Iˈ26.820 0.442 = 0.442+0.000 lib/trainer.py:89\n",
      "Iˈ27.181 0.535 = 0.535+0.000 lib/trainer.py:89\n",
      "Iˈ27.626 0.755 = 0.755+0.000 lib/trainer.py:89\n",
      "Iˈ27.686 S602->D0 died at tick 76 with k=0.001 lib/livenet.py:191\n",
      "Iˈ28.000 0.420 = 0.420+0.000 lib/trainer.py:89\n",
      "Iˈ28.325 0.367 = 0.367+0.000 lib/trainer.py:89\n",
      "Iˈ28.632 1.070 = 1.070+0.000 lib/trainer.py:89\n",
      "Iˈ28.656 S305->D0 died at tick 79 with k=0.001 lib/livenet.py:191\n",
      "Iˈ28.959 0.344 = 0.344+0.000 lib/trainer.py:89\n",
      "Iˈ29.297 0.693 = 0.693+0.000 lib/trainer.py:89\n",
      "Iˈ29.640 0.692 = 0.692+0.000 lib/trainer.py:89\n",
      "Iˈ29.660 S252->D0 died at tick 82 with k=0.000 lib/livenet.py:191\n",
      "Iˈ29.701 S774->D0 died at tick 82 with k=0.000 lib/livenet.py:191\n",
      "Iˈ29.979 0.593 = 0.593+0.000 lib/trainer.py:89\n",
      "Iˈ30.060 S280->D1 died at tick 83 with k=0.000 lib/livenet.py:191\n",
      "Iˈ30.090 S722->D1 died at tick 83 with k=0.000 lib/livenet.py:191\n",
      "Iˈ30.313 0.501 = 0.501+0.000 lib/trainer.py:89\n",
      "Iˈ30.649 0.521 = 0.521+0.000 lib/trainer.py:89\n",
      "Iˈ30.699 S660->D0 died at tick 85 with k=0.002 lib/livenet.py:191\n",
      "Iˈ31.009 0.395 = 0.395+0.000 lib/trainer.py:89\n",
      "Iˈ31.364 0.532 = 0.532+0.000 lib/trainer.py:89\n",
      "Iˈ31.721 0.595 = 0.595+0.000 lib/trainer.py:89\n",
      "Iˈ32.145 0.479 = 0.479+0.000 lib/trainer.py:89\n",
      "Iˈ32.501 0.447 = 0.447+0.000 lib/trainer.py:89\n",
      "Iˈ32.831 0.391 = 0.391+0.000 lib/trainer.py:89\n",
      "Iˈ33.143 0.773 = 0.773+0.000 lib/trainer.py:89\n",
      "Iˈ33.246 S665->D1 died at tick 92 with k=0.000 lib/livenet.py:191\n",
      "Iˈ33.508 0.790 = 0.790+0.000 lib/trainer.py:89\n",
      "Iˈ33.519 S82->D0 died at tick 93 with k=0.001 lib/livenet.py:191\n",
      "Iˈ33.568 S712->D0 died at tick 93 with k=0.001 lib/livenet.py:191\n",
      "Iˈ33.818 0.459 = 0.459+0.000 lib/trainer.py:89\n",
      "Iˈ34.150 0.969 = 0.969+0.000 lib/trainer.py:89\n",
      "Iˈ34.206 S674->D0 died at tick 95 with k=0.002 lib/livenet.py:191\n",
      "Iˈ34.527 0.656 = 0.656+0.000 lib/trainer.py:89\n",
      "Iˈ34.641 S259->D1 died at tick 96 with k=0.000 lib/livenet.py:191\n",
      "Iˈ34.687 S711->D1 died at tick 96 with k=0.002 lib/livenet.py:191\n",
      "Iˈ34.987 0.753 = 0.753+0.000 lib/trainer.py:89\n",
      "Iˈ35.011 S193->D0 died at tick 97 with k=0.001 lib/livenet.py:191\n",
      "Iˈ35.444 0.745 = 0.745+0.000 lib/trainer.py:89\n",
      "Iˈ35.519 S6->D1 died at tick 98 with k=0.001 lib/livenet.py:191\n",
      "Iˈ35.522 S58->D1 died at tick 98 with k=0.001 lib/livenet.py:191\n",
      "Iˈ35.544 S335->D1 died at tick 98 with k=0.001 lib/livenet.py:191\n",
      "Iˈ35.548 S391->D1 died at tick 98 with k=0.001 lib/livenet.py:191\n",
      "Iˈ35.874 0.697 = 0.697+0.000 lib/trainer.py:89\n"
     ]
    }
   ],
   "source": [
    "\n",
    "trainer.step(100)\n"
   ],
   "metadata": {
    "collapsed": false
   }
  },
  {
   "cell_type": "code",
   "execution_count": 5,
   "outputs": [
    {
     "data": {
      "text/plain": "0.1513"
     },
     "execution_count": 5,
     "metadata": {},
     "output_type": "execute_result"
    }
   ],
   "source": [
    "pred = network(train_x)\n",
    "pred_bin = np.argmax(pred.detach().numpy(), axis=1, keepdims=True)\n",
    "diff = train_y - pred_bin\n",
    "len(diff[diff != 0]) / len(diff)"
   ],
   "metadata": {
    "collapsed": false
   }
  },
  {
   "cell_type": "code",
   "execution_count": 6,
   "outputs": [
    {
     "name": "stdout",
     "output_type": "stream",
     "text": [
      "Using matplotlib backend: TkAgg\n"
     ]
    }
   ],
   "source": [
    "importlib.reload(lib)\n",
    "%matplotlib\n",
    "plt.ion()\n",
    "\n",
    "def param_amount(param):\n",
    "    val = len(param[\"params\"])\n",
    "    return val\n",
    "\n",
    "def param_picker1(param):\n",
    "    try:\n",
    "        val0 = param[\"params\"][\"S262->D1\"].item()\n",
    "    except KeyError:\n",
    "        val0 = 0.\n",
    "    return val0\n",
    "\n",
    "def get_param_values(history, picker):\n",
    "    values = []\n",
    "    for entry in history:\n",
    "        values.append(picker(entry))\n",
    "    return values\n",
    "\n",
    "plt.figure(figsize=(16, 9))\n",
    "values = get_param_values(trainer.history, param_amount)\n",
    "plt.plot(values)\n",
    "plt.grid()\n",
    "\n",
    "accum = lib.stat_utils.AccumStat()\n",
    "accum.add_value(trainer.network.parameters())\n",
    "# accum.plot()"
   ],
   "metadata": {
    "collapsed": false
   }
  },
  {
   "cell_type": "code",
   "execution_count": 29,
   "outputs": [
    {
     "name": "stdout",
     "output_type": "stream",
     "text": [
      "D0 0.000000\n",
      "D1 0.000000\n"
     ]
    }
   ],
   "source": [
    "for name, p in sorted(network.named_parameters(),key=lambda x: len(x[0]) + ord(x[0][0]) / 1000.):\n",
    "    print(name, f\"{p.item():.6f}\")"
   ],
   "metadata": {
    "collapsed": false
   }
  },
  {
   "cell_type": "code",
   "execution_count": 151,
   "outputs": [
    {
     "name": "stdout",
     "output_type": "stream",
     "text": [
      "============= Diagnostic Run torch.onnx.export version 2.0.0+cu117 =============\n",
      "verbose: False, log level: Level.ERROR\n",
      "======================= 0 NONE 0 NOTE 0 WARNING 0 ERROR ========================\n",
      "\n"
     ]
    }
   ],
   "source": [
    "lib.livenet.export_onnx(network, \"/home/spometun/model.onnx\")"
   ],
   "metadata": {
    "collapsed": false
   }
  },
  {
   "cell_type": "code",
   "execution_count": 14,
   "outputs": [
    {
     "name": "stdout",
     "output_type": "stream",
     "text": [
      "S1->D1 0.927462\n",
      "S1->D1 -0.946442\n",
      "S1->D1 -0.750392\n",
      "S1->D1 -0.771363\n",
      "S1->D1 3.772857\n"
     ]
    }
   ],
   "source": [],
   "metadata": {
    "collapsed": false
   }
  },
  {
   "cell_type": "code",
   "execution_count": null,
   "outputs": [],
   "source": [],
   "metadata": {
    "collapsed": false
   }
  }
 ],
 "metadata": {
  "kernelspec": {
   "display_name": "Python 3",
   "language": "python",
   "name": "python3"
  },
  "language_info": {
   "codemirror_mode": {
    "name": "ipython",
    "version": 2
   },
   "file_extension": ".py",
   "mimetype": "text/x-python",
   "name": "python",
   "nbconvert_exporter": "python",
   "pygments_lexer": "ipython2",
   "version": "2.7.6"
  }
 },
 "nbformat": 4,
 "nbformat_minor": 0
}
