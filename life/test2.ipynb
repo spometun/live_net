{
 "cells": [
  {
   "cell_type": "code",
   "execution_count": 1,
   "metadata": {
    "collapsed": true
   },
   "outputs": [
    {
     "name": "stdout",
     "output_type": "stream",
     "text": [
      "Using matplotlib backend: <object object at 0x7ff697c66510>\n",
      "2.0.0+cu117\n"
     ]
    },
    {
     "data": {
      "text/plain": "'%.4f'"
     },
     "execution_count": 1,
     "metadata": {},
     "output_type": "execute_result"
    }
   ],
   "source": [
    "import copy\n",
    "import random\n",
    "import numpy as np\n",
    "import torch\n",
    "import torch.nn as nn\n",
    "import torch.utils.data\n",
    "import importlib\n",
    "import life.lib\n",
    "import life.lib as lib\n",
    "import typing\n",
    "importlib.reload(lib)\n",
    "LOG = lib.simple_log.LOG\n",
    "import math\n",
    "from matplotlib import pyplot as plt\n",
    "%matplotlib\n",
    "plt.ion()\n",
    "lib.utils.set_seed()\n",
    "print(torch.__version__)\n",
    "np.set_printoptions(precision=3)\n",
    "%precision 4\n",
    "\n"
   ]
  },
  {
   "cell_type": "code",
   "execution_count": 2,
   "outputs": [],
   "source": [
    "lib.utils.set_seed()\n",
    "downscale = (4, 4)\n",
    "test_x, test_y = lib.datasets.to_plain(*lib.datasets.get_cifar10_test(), downscale=downscale)\n",
    "train_x, train_y = lib.datasets.to_plain(*lib.datasets.get_cifar10_train(), downscale=downscale)"
   ],
   "metadata": {
    "collapsed": false
   }
  },
  {
   "cell_type": "code",
   "execution_count": 3,
   "outputs": [
    {
     "name": "stdout",
     "output_type": "stream",
     "text": [
      "LiveNet\n"
     ]
    }
   ],
   "source": [
    "network = lib.livenet.LiveNet.create_perceptron(train_x.shape[1], 21, 10)\n",
    "batch_iterator = lib.gen_utils.batch_iterator(train_x, train_y, batch_size=1000)\n",
    "criterion = lib.nets.criterion_n\n",
    "optimizer = lib.nets.create_optimizer(network)\n",
    "optimizer.learning_rate = 0.01\n",
    "trainer = lib.trainer.Trainer(network, batch_iterator, criterion, optimizer, epoch_size=100)\n"
   ],
   "metadata": {
    "collapsed": false
   }
  },
  {
   "cell_type": "code",
   "execution_count": 10,
   "outputs": [
    {
     "name": "stdout",
     "output_type": "stream",
     "text": [
      "Iˈ0.000 2.649 = 2.380+0.268 #nparams=905 lib/trainer.py:93\n",
      "Iˈ3.869 N1 became dangle, total dangle = 1 lib/death.py:55\n",
      "Iˈ10.610 S64 became useless at tick 1079 lib/livenet.py:61\n",
      "Iˈ12.620 S13 became useless at tick 1093 lib/livenet.py:61\n",
      "Iˈ13.855 2.635 = 2.385+0.251 #nparams=793 lib/trainer.py:93\n",
      "Iˈ17.671 N1 became useless at tick 1128 lib/livenet.py:61\n",
      "Iˈ17.672 *********** <class 'life.lib.livenet.RegularNeuron'> lib/livenet.py:153\n",
      "Iˈ17.672 *********** N1 lib/livenet.py:154\n"
     ]
    },
    {
     "ename": "TypeError",
     "evalue": "super(type, obj): obj must be an instance or subtype of type",
     "output_type": "error",
     "traceback": [
      "\u001B[0;31m---------------------------------------------------------------------------\u001B[0m",
      "\u001B[0;31mTypeError\u001B[0m                                 Traceback (most recent call last)",
      "Cell \u001B[0;32mIn[10], line 2\u001B[0m\n\u001B[1;32m      1\u001B[0m network\u001B[38;5;241m.\u001B[39mcontext\u001B[38;5;241m.\u001B[39malpha_l1 \u001B[38;5;241m=\u001B[39m \u001B[38;5;241m0.001\u001B[39m\n\u001B[0;32m----> 2\u001B[0m \u001B[43mtrainer\u001B[49m\u001B[38;5;241;43m.\u001B[39;49m\u001B[43mstep\u001B[49m\u001B[43m(\u001B[49m\u001B[38;5;241;43m500\u001B[39;49m\u001B[43m)\u001B[49m\n\u001B[1;32m      3\u001B[0m \u001B[38;5;66;03m# network.context.alpha_l1 = 0.01\u001B[39;00m\n\u001B[1;32m      4\u001B[0m \u001B[38;5;66;03m# trainer.step(5000)\u001B[39;00m\n",
      "File \u001B[0;32m~/projects/home_project/life/lib/trainer.py:30\u001B[0m, in \u001B[0;36mTrainer.step\u001B[0;34m(self, n_steps)\u001B[0m\n\u001B[1;32m     28\u001B[0m \u001B[38;5;28;01mdef\u001B[39;00m \u001B[38;5;21mstep\u001B[39m(\u001B[38;5;28mself\u001B[39m, n_steps\u001B[38;5;241m=\u001B[39m\u001B[38;5;241m1\u001B[39m):\n\u001B[1;32m     29\u001B[0m     \u001B[38;5;28;01mfor\u001B[39;00m _ \u001B[38;5;129;01min\u001B[39;00m \u001B[38;5;28mrange\u001B[39m(n_steps):\n\u001B[0;32m---> 30\u001B[0m         \u001B[38;5;28;43mself\u001B[39;49m\u001B[38;5;241;43m.\u001B[39;49m\u001B[43m_step\u001B[49m\u001B[43m(\u001B[49m\u001B[43m)\u001B[49m\n",
      "File \u001B[0;32m~/projects/home_project/life/lib/trainer.py:47\u001B[0m, in \u001B[0;36mTrainer._step\u001B[0;34m(self)\u001B[0m\n\u001B[1;32m     44\u001B[0m \u001B[38;5;28;01mif\u001B[39;00m \u001B[38;5;28mself\u001B[39m\u001B[38;5;241m.\u001B[39mcounter \u001B[38;5;241m%\u001B[39m \u001B[38;5;28mself\u001B[39m\u001B[38;5;241m.\u001B[39mepoch_size \u001B[38;5;241m==\u001B[39m \u001B[38;5;241m0\u001B[39m:\n\u001B[1;32m     45\u001B[0m     \u001B[38;5;28mself\u001B[39m\u001B[38;5;241m.\u001B[39m_on_epoch()\n\u001B[0;32m---> 47\u001B[0m \u001B[38;5;28;43mself\u001B[39;49m\u001B[38;5;241;43m.\u001B[39;49m\u001B[43moptimizer\u001B[49m\u001B[38;5;241;43m.\u001B[39;49m\u001B[43mstep\u001B[49m\u001B[43m(\u001B[49m\u001B[43m)\u001B[49m\n\u001B[1;32m     49\u001B[0m \u001B[38;5;28;01mif\u001B[39;00m \u001B[38;5;28mself\u001B[39m\u001B[38;5;241m.\u001B[39madaptive_lr:\n\u001B[1;32m     50\u001B[0m     \u001B[38;5;28mself\u001B[39m\u001B[38;5;241m.\u001B[39m_adjust_lr(data, labels, all_loss)\n",
      "File \u001B[0;32m~/projects/home_project/life/lib/optimizer.py:104\u001B[0m, in \u001B[0;36mLiveNetOptimizer.step\u001B[0;34m(self)\u001B[0m\n\u001B[1;32m    103\u001B[0m \u001B[38;5;28;01mdef\u001B[39;00m \u001B[38;5;21mstep\u001B[39m(\u001B[38;5;28mself\u001B[39m):\n\u001B[0;32m--> 104\u001B[0m     \u001B[38;5;28;43mself\u001B[39;49m\u001B[38;5;241;43m.\u001B[39;49m\u001B[43mnetwork\u001B[49m\u001B[38;5;241;43m.\u001B[39;49m\u001B[43mon_grad_update\u001B[49m\u001B[43m(\u001B[49m\u001B[43m)\u001B[49m\n",
      "File \u001B[0;32m~/projects/home_project/life/lib/livenet.py:312\u001B[0m, in \u001B[0;36mLiveNet.on_grad_update\u001B[0;34m(self)\u001B[0m\n\u001B[1;32m    311\u001B[0m \u001B[38;5;28;01mdef\u001B[39;00m \u001B[38;5;21mon_grad_update\u001B[39m(\u001B[38;5;28mself\u001B[39m):\n\u001B[0;32m--> 312\u001B[0m     \u001B[38;5;28;43mself\u001B[39;49m\u001B[38;5;241;43m.\u001B[39;49m\u001B[43mroot\u001B[49m\u001B[38;5;241;43m.\u001B[39;49m\u001B[43mvisit\u001B[49m\u001B[43m(\u001B[49m\u001B[38;5;124;43m\"\u001B[39;49m\u001B[38;5;124;43mon_grad_update\u001B[39;49m\u001B[38;5;124;43m\"\u001B[39;49m\u001B[43m)\u001B[49m\n\u001B[1;32m    313\u001B[0m     \u001B[38;5;28mself\u001B[39m\u001B[38;5;241m.\u001B[39mcontext\u001B[38;5;241m.\u001B[39mtick \u001B[38;5;241m+\u001B[39m\u001B[38;5;241m=\u001B[39m \u001B[38;5;241m1\u001B[39m\n",
      "File \u001B[0;32m~/projects/home_project/life/lib/graph.py:22\u001B[0m, in \u001B[0;36mGraphNode.visit\u001B[0;34m(self, function_name, *args)\u001B[0m\n\u001B[1;32m     20\u001B[0m \u001B[38;5;28;01mdef\u001B[39;00m \u001B[38;5;21mvisit\u001B[39m(\u001B[38;5;28mself\u001B[39m, function_name: \u001B[38;5;28mstr\u001B[39m, \u001B[38;5;241m*\u001B[39margs):\n\u001B[1;32m     21\u001B[0m     visited_ids \u001B[38;5;241m=\u001B[39m \u001B[38;5;28mset\u001B[39m()\n\u001B[0;32m---> 22\u001B[0m     \u001B[38;5;28;43mself\u001B[39;49m\u001B[38;5;241;43m.\u001B[39;49m\u001B[43m_visit\u001B[49m\u001B[43m(\u001B[49m\u001B[43mfunction_name\u001B[49m\u001B[43m,\u001B[49m\u001B[43m \u001B[49m\u001B[43margs\u001B[49m\u001B[43m,\u001B[49m\u001B[43m \u001B[49m\u001B[43mvisited_ids\u001B[49m\u001B[38;5;241;43m=\u001B[39;49m\u001B[43mvisited_ids\u001B[49m\u001B[43m)\u001B[49m\n\u001B[1;32m     23\u001B[0m     \u001B[38;5;28;01mdel\u001B[39;00m visited_ids\n",
      "File \u001B[0;32m~/projects/home_project/life/lib/graph.py:44\u001B[0m, in \u001B[0;36mGraphNode._visit\u001B[0;34m(self, function_name, args, visited_ids)\u001B[0m\n\u001B[1;32m     42\u001B[0m adjacent_nodes \u001B[38;5;241m=\u001B[39m [node \u001B[38;5;28;01mfor\u001B[39;00m node \u001B[38;5;129;01min\u001B[39;00m \u001B[38;5;28mself\u001B[39m\u001B[38;5;241m.\u001B[39mget_adjacent_nodes()]\n\u001B[1;32m     43\u001B[0m \u001B[38;5;28;01mfor\u001B[39;00m node \u001B[38;5;129;01min\u001B[39;00m adjacent_nodes:\n\u001B[0;32m---> 44\u001B[0m     \u001B[43mnode\u001B[49m\u001B[38;5;241;43m.\u001B[39;49m\u001B[43m_visit\u001B[49m\u001B[43m(\u001B[49m\u001B[43mfunction_name\u001B[49m\u001B[43m,\u001B[49m\u001B[43m \u001B[49m\u001B[43margs\u001B[49m\u001B[43m,\u001B[49m\u001B[43m \u001B[49m\u001B[43mvisited_ids\u001B[49m\u001B[38;5;241;43m=\u001B[39;49m\u001B[43mvisited_ids\u001B[49m\u001B[43m)\u001B[49m\n",
      "File \u001B[0;32m~/projects/home_project/life/lib/graph.py:44\u001B[0m, in \u001B[0;36mGraphNode._visit\u001B[0;34m(self, function_name, args, visited_ids)\u001B[0m\n\u001B[1;32m     42\u001B[0m adjacent_nodes \u001B[38;5;241m=\u001B[39m [node \u001B[38;5;28;01mfor\u001B[39;00m node \u001B[38;5;129;01min\u001B[39;00m \u001B[38;5;28mself\u001B[39m\u001B[38;5;241m.\u001B[39mget_adjacent_nodes()]\n\u001B[1;32m     43\u001B[0m \u001B[38;5;28;01mfor\u001B[39;00m node \u001B[38;5;129;01min\u001B[39;00m adjacent_nodes:\n\u001B[0;32m---> 44\u001B[0m     \u001B[43mnode\u001B[49m\u001B[38;5;241;43m.\u001B[39;49m\u001B[43m_visit\u001B[49m\u001B[43m(\u001B[49m\u001B[43mfunction_name\u001B[49m\u001B[43m,\u001B[49m\u001B[43m \u001B[49m\u001B[43margs\u001B[49m\u001B[43m,\u001B[49m\u001B[43m \u001B[49m\u001B[43mvisited_ids\u001B[49m\u001B[38;5;241;43m=\u001B[39;49m\u001B[43mvisited_ids\u001B[49m\u001B[43m)\u001B[49m\n",
      "File \u001B[0;32m~/projects/home_project/life/lib/graph.py:37\u001B[0m, in \u001B[0;36mGraphNode._visit\u001B[0;34m(self, function_name, args, visited_ids)\u001B[0m\n\u001B[1;32m     35\u001B[0m function \u001B[38;5;241m=\u001B[39m \u001B[38;5;28mgetattr\u001B[39m(\u001B[38;5;28mself\u001B[39m, function_name, \u001B[38;5;28;01mNone\u001B[39;00m)\n\u001B[1;32m     36\u001B[0m \u001B[38;5;28;01mif\u001B[39;00m function \u001B[38;5;129;01mis\u001B[39;00m \u001B[38;5;129;01mnot\u001B[39;00m \u001B[38;5;28;01mNone\u001B[39;00m:\n\u001B[0;32m---> 37\u001B[0m     \u001B[43mfunction\u001B[49m\u001B[43m(\u001B[49m\u001B[38;5;241;43m*\u001B[39;49m\u001B[43margs\u001B[49m\u001B[43m)\u001B[49m\n\u001B[1;32m     39\u001B[0m visited_ids\u001B[38;5;241m.\u001B[39madd(\u001B[38;5;28mid\u001B[39m(\u001B[38;5;28mself\u001B[39m))\n\u001B[1;32m     40\u001B[0m \u001B[38;5;66;03m# make a copy because self.get_adjacent_nodes() may change\u001B[39;00m\n\u001B[1;32m     41\u001B[0m \u001B[38;5;66;03m# (some visited children  may be disconnected - and removed from adjacent during the visit)\u001B[39;00m\n",
      "File \u001B[0;32m~/projects/home_project/life/lib/livenet.py:188\u001B[0m, in \u001B[0;36mSynapse.on_grad_update\u001B[0;34m(self)\u001B[0m\n\u001B[1;32m    186\u001B[0m status \u001B[38;5;241m=\u001B[39m \u001B[38;5;28mself\u001B[39m\u001B[38;5;241m.\u001B[39mliveness_observer\u001B[38;5;241m.\u001B[39mstatus()\n\u001B[1;32m    187\u001B[0m \u001B[38;5;28;01mif\u001B[39;00m status \u001B[38;5;241m==\u001B[39m \u001B[38;5;241m-\u001B[39m\u001B[38;5;241m1\u001B[39m:\n\u001B[0;32m--> 188\u001B[0m     \u001B[38;5;28;43mself\u001B[39;49m\u001B[38;5;241;43m.\u001B[39;49m\u001B[43mdie\u001B[49m\u001B[43m(\u001B[49m\u001B[43m)\u001B[49m\n\u001B[1;32m    189\u001B[0m \u001B[38;5;28;01mif\u001B[39;00m status \u001B[38;5;241m==\u001B[39m \u001B[38;5;241m1\u001B[39m:\n\u001B[1;32m    190\u001B[0m     LOGD(\u001B[38;5;124mf\u001B[39m\u001B[38;5;124m\"\u001B[39m\u001B[38;5;132;01m{\u001B[39;00m\u001B[38;5;28mself\u001B[39m\u001B[38;5;241m.\u001B[39mname\u001B[38;5;132;01m}\u001B[39;00m\u001B[38;5;124m didn\u001B[39m\u001B[38;5;124m'\u001B[39m\u001B[38;5;124mt die because of not small values in it\u001B[39m\u001B[38;5;124m'\u001B[39m\u001B[38;5;124ms history\u001B[39m\u001B[38;5;124m\"\u001B[39m)\n",
      "File \u001B[0;32m~/projects/home_project/life/lib/livenet.py:200\u001B[0m, in \u001B[0;36mSynapse.die\u001B[0;34m(self)\u001B[0m\n\u001B[1;32m    198\u001B[0m \u001B[38;5;28mself\u001B[39m\u001B[38;5;241m.\u001B[39msource \u001B[38;5;241m=\u001B[39m \u001B[38;5;28;01mNone\u001B[39;00m\n\u001B[1;32m    199\u001B[0m dst\u001B[38;5;241m.\u001B[39mremove_dendrite(\u001B[38;5;28mself\u001B[39m)\n\u001B[0;32m--> 200\u001B[0m \u001B[43msrc\u001B[49m\u001B[38;5;241;43m.\u001B[39;49m\u001B[43mremove_axon\u001B[49m\u001B[43m(\u001B[49m\u001B[38;5;28;43mself\u001B[39;49m\u001B[43m)\u001B[49m\n\u001B[1;32m    201\u001B[0m \u001B[38;5;28mself\u001B[39m\u001B[38;5;241m.\u001B[39mcontext\u001B[38;5;241m.\u001B[39mremove_parameter(\u001B[38;5;28mself\u001B[39m\u001B[38;5;241m.\u001B[39mname)\n",
      "File \u001B[0;32m~/projects/home_project/life/lib/livenet.py:62\u001B[0m, in \u001B[0;36mSourceNeuron.remove_axon\u001B[0;34m(self, synapse)\u001B[0m\n\u001B[1;32m     60\u001B[0m \u001B[38;5;28;01mif\u001B[39;00m \u001B[38;5;28mlen\u001B[39m(\u001B[38;5;28mself\u001B[39m\u001B[38;5;241m.\u001B[39maxons) \u001B[38;5;241m==\u001B[39m \u001B[38;5;241m0\u001B[39m:\n\u001B[1;32m     61\u001B[0m     LOG(\u001B[38;5;124mf\u001B[39m\u001B[38;5;124m\"\u001B[39m\u001B[38;5;132;01m{\u001B[39;00m\u001B[38;5;28mself\u001B[39m\u001B[38;5;241m.\u001B[39mname\u001B[38;5;132;01m}\u001B[39;00m\u001B[38;5;124m became useless at tick \u001B[39m\u001B[38;5;132;01m{\u001B[39;00m\u001B[38;5;28mself\u001B[39m\u001B[38;5;241m.\u001B[39mcontext\u001B[38;5;241m.\u001B[39mtick\u001B[38;5;132;01m}\u001B[39;00m\u001B[38;5;124m\"\u001B[39m)\n\u001B[0;32m---> 62\u001B[0m     \u001B[38;5;28;43mself\u001B[39;49m\u001B[38;5;241;43m.\u001B[39;49m\u001B[43mdie\u001B[49m\u001B[43m(\u001B[49m\u001B[43m)\u001B[49m\n",
      "File \u001B[0;32m~/projects/home_project/life/lib/livenet.py:156\u001B[0m, in \u001B[0;36mRegularNeuron.die\u001B[0;34m(self)\u001B[0m\n\u001B[1;32m    154\u001B[0m     LOG(\u001B[38;5;124m\"\u001B[39m\u001B[38;5;124m***********\u001B[39m\u001B[38;5;124m\"\u001B[39m, \u001B[38;5;28mself\u001B[39m\u001B[38;5;241m.\u001B[39mname)\n\u001B[1;32m    155\u001B[0m \u001B[38;5;66;03m# assert isinstance(self, RegularNeuron)\u001B[39;00m\n\u001B[0;32m--> 156\u001B[0m \u001B[38;5;28;43msuper\u001B[39;49m\u001B[43m(\u001B[49m\u001B[43mRegularNeuron\u001B[49m\u001B[43m,\u001B[49m\u001B[43m \u001B[49m\u001B[38;5;28;43mself\u001B[39;49m\u001B[43m)\u001B[49m\u001B[38;5;241m.\u001B[39mdie()\n",
      "\u001B[0;31mTypeError\u001B[0m: super(type, obj): obj must be an instance or subtype of type"
     ]
    }
   ],
   "source": [
    "network.context.alpha_l1 = 0.001\n",
    "trainer.step(500)\n",
    "# network.context.alpha_l1 = 0.01\n",
    "# trainer.step(5000)\n",
    "\n"
   ],
   "metadata": {
    "collapsed": false
   }
  },
  {
   "cell_type": "code",
   "execution_count": 8,
   "outputs": [
    {
     "data": {
      "text/plain": "0.5901"
     },
     "execution_count": 8,
     "metadata": {},
     "output_type": "execute_result"
    }
   ],
   "source": [
    "pred = network(test_x)\n",
    "pred_bin = np.argmax(pred.detach().numpy(), axis=1, keepdims=True)\n",
    "diff = test_y - pred_bin\n",
    "len(diff[diff != 0]) / len(diff)"
   ],
   "metadata": {
    "collapsed": false
   }
  },
  {
   "cell_type": "code",
   "execution_count": 9,
   "outputs": [
    {
     "name": "stdout",
     "output_type": "stream",
     "text": [
      "Using matplotlib backend: TkAgg\n"
     ]
    }
   ],
   "source": [
    "importlib.reload(lib)\n",
    "%matplotlib\n",
    "plt.ion()\n",
    "\n",
    "def param_amount(param):\n",
    "    val = len(param[\"params\"])\n",
    "    return val\n",
    "\n",
    "def param_max(param):\n",
    "    val = np.max(np.abs(param[\"params\"]))\n",
    "    return val\n",
    "\n",
    "def param_picker1(param):\n",
    "    try:\n",
    "        val0 = param[\"params\"][\"S262->D1\"].item()\n",
    "    except KeyError:\n",
    "        val0 = 0.\n",
    "    return val0\n",
    "\n",
    "def get_param_values(history, picker):\n",
    "    values = []\n",
    "    for entry in history:\n",
    "        values.append(picker(entry))\n",
    "    return values\n",
    "\n",
    "plt.figure(figsize=(16, 9))\n",
    "values = get_param_values(trainer.history, param_amount)\n",
    "plt.plot(values)\n",
    "plt.grid()\n",
    "\n",
    "accum = lib.stat_utils.AccumStat()\n",
    "accum.add_value(trainer.network.parameters())\n",
    "# accum.plot()"
   ],
   "metadata": {
    "collapsed": false
   }
  },
  {
   "cell_type": "code",
   "execution_count": 7,
   "outputs": [
    {
     "name": "stdout",
     "output_type": "stream",
     "text": [
      "D0 -0.7\n",
      "D1 -0.3\n",
      "D2 1.9\n",
      "D3 1.8\n",
      "D4 1.9\n",
      "D5 2.0\n",
      "D6 2.3\n",
      "D7 1.3\n",
      "D8 -1.6\n",
      "D9 -1.1\n",
      "N0 0.9\n",
      "N12 1.6\n",
      "N19 1.2\n",
      "N0->D7 0.5\n",
      "N0->D9 1.1\n",
      "N12->D0 1.6\n",
      "N12->D6 -0.6\n",
      "N12->D8 1.6\n",
      "N19->D1 1.6\n",
      "N19->D8 0.6\n",
      "N19->D9 1.2\n",
      "S129->N0 1.2\n",
      "S20->N12 -0.6\n",
      "S63->N12 -1.0\n",
      "S71->N19 0.3\n",
      "S129->N12 0.6\n",
      "S134->N12 0.3\n",
      "S147->N12 0.2\n",
      "S148->N12 0.7\n",
      "S154->N12 0.4\n",
      "S157->N12 0.3\n",
      "S172->N12 0.2\n",
      "S183->N12 0.6\n",
      "S105->N19 -0.6\n",
      "S110->N19 -0.5\n",
      "S114->N19 -0.9\n",
      "S116->N19 -0.7\n",
      "S131->N19 0.1\n",
      "S156->N19 0.6\n",
      "S157->N19 0.0\n",
      "S163->N19 0.4\n",
      "S184->N19 0.6\n"
     ]
    }
   ],
   "source": [
    "for name, p in sorted(network.named_parameters(),key=lambda x: len(x[0]) + ord(x[0][0]) / 1000.):\n",
    "    print(name, f\"{p.item():.1f}\")"
   ],
   "metadata": {
    "collapsed": false
   }
  },
  {
   "cell_type": "code",
   "execution_count": 19,
   "outputs": [
    {
     "data": {
      "text/plain": "OrderedDict([('D0',\n              Parameter containing:\n              tensor(-0.0146, requires_grad=True)),\n             ('D1',\n              Parameter containing:\n              tensor(0.0146, requires_grad=True)),\n             ('N4',\n              Parameter containing:\n              tensor(-0.0045, requires_grad=True))])"
     },
     "execution_count": 19,
     "metadata": {},
     "output_type": "execute_result"
    }
   ],
   "source": [
    "network._parameters"
   ],
   "metadata": {
    "collapsed": false
   }
  },
  {
   "cell_type": "code",
   "execution_count": 151,
   "outputs": [
    {
     "name": "stdout",
     "output_type": "stream",
     "text": [
      "============= Diagnostic Run torch.onnx.export version 2.0.0+cu117 =============\n",
      "verbose: False, log level: Level.ERROR\n",
      "======================= 0 NONE 0 NOTE 0 WARNING 0 ERROR ========================\n",
      "\n"
     ]
    }
   ],
   "source": [
    "lib.livenet.export_onnx(network, \"/home/spometun/model.onnx\")"
   ],
   "metadata": {
    "collapsed": false
   }
  }
 ],
 "metadata": {
  "kernelspec": {
   "display_name": "Python 3",
   "language": "python",
   "name": "python3"
  },
  "language_info": {
   "codemirror_mode": {
    "name": "ipython",
    "version": 2
   },
   "file_extension": ".py",
   "mimetype": "text/x-python",
   "name": "python",
   "nbconvert_exporter": "python",
   "pygments_lexer": "ipython2",
   "version": "2.7.6"
  }
 },
 "nbformat": 4,
 "nbformat_minor": 0
}
