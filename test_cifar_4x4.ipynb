{
 "cells": [
  {
   "cell_type": "code",
   "metadata": {
    "collapsed": true,
    "jupyter": {
     "outputs_hidden": true
    },
    "ExecuteTime": {
     "end_time": "2025-02-14T21:35:18.620085Z",
     "start_time": "2025-02-14T21:35:18.603160Z"
    }
   },
   "source": [
    "import copy\n",
    "# TODO: \n",
    "#  5. Use Cuda\n",
    "#  7. Add analog of batch norm (additive parameter in DestinationNeuron (need to make AdStep optimiser to support not-scalar values for that)\n",
    "# what is \"self.only_one_output_request\" ???\n",
    "# After that can think on Cifar10 convnet death\n",
    "\n",
    "import random\n",
    "import time\n",
    "\n",
    "import numpy as np\n",
    "import pandas as pd\n",
    "import torch\n",
    "torch.use_deterministic_algorithms(True)\n",
    "device=\"cuda\"\n",
    "device=\"cpu\"\n",
    "torch.set_default_device(device)\n",
    "import torch.nn as nn\n",
    "import torch.utils.data\n",
    "import importlib\n",
    "from ai_libs.basic.deep_reload import deep_reload\n",
    "import livenet\n",
    "deep_reload(livenet)\n",
    "import ai_libs.simple_log as simple_log\n",
    "from ai_libs.simple_log import LOG\n",
    "simple_log.level = simple_log.LogLevel.INFO\n",
    "import math\n",
    "from matplotlib import pyplot as plt\n",
    "plt.ion()\n",
    "%matplotlib TkAgg\n",
    "livenet.backend.utils.set_seed()\n",
    "var = 42\n",
    "print(torch.__version__)\n",
    "np.set_printoptions(precision=3)\n",
    "%precision 4\n"
   ],
   "outputs": [
    {
     "name": "stdout",
     "output_type": "stream",
     "text": [
      "2.5.1+cu124\n"
     ]
    },
    {
     "data": {
      "text/plain": [
       "'%.4f'"
      ]
     },
     "execution_count": 7,
     "metadata": {},
     "output_type": "execute_result"
    }
   ],
   "execution_count": 7
  },
  {
   "cell_type": "code",
   "metadata": {
    "jupyter": {
     "outputs_hidden": false
    },
    "ExecuteTime": {
     "end_time": "2025-02-14T21:35:35.282823Z",
     "start_time": "2025-02-14T21:35:20.725326Z"
    }
   },
   "source": [
    "downscale = (4, 4)\n",
    "test = livenet.datasets.get_cifar10_test()\n",
    "train = livenet.datasets.get_cifar10_train()\n",
    "test_x, test_y = livenet.datasets.to_plain(*test, downscale=downscale, to_gray=True, to_odd=False)\n",
    "train_x, train_y = livenet.datasets.to_plain(*train, downscale=downscale, to_gray=True, to_odd=False)\n",
    "test_x = test_x.to(device)\n",
    "train_x = train_x.to(device)\n",
    "\n"
   ],
   "outputs": [
    {
     "name": "stdout",
     "output_type": "stream",
     "text": [
      "Files already downloaded and verified\n",
      "Files already downloaded and verified\n"
     ]
    }
   ],
   "execution_count": 8
  },
  {
   "cell_type": "code",
   "metadata": {
    "jupyter": {
     "outputs_hidden": false
    },
    "ExecuteTime": {
     "end_time": "2025-02-14T21:35:35.315507Z",
     "start_time": "2025-02-14T21:35:35.301374Z"
    }
   },
   "source": [
    "network = livenet.nets.create_perceptron(train_x.shape[1], 8, 10)\n",
    "batch_size = 1000\n",
    "batch_iterator = livenet.gen_utils.batch_iterator(train_x, train_y, batch_size)\n",
    "criterion = livenet.nets.criterion_classification_n\n",
    "optimizer = livenet.nets.create_optimizer(network)\n",
    "trainer = livenet.net_trainer.NetTrainer(network, batch_iterator, criterion, optimizer, epoch_size=len(train_x) // batch_size)"
   ],
   "outputs": [
    {
     "name": "stdout",
     "output_type": "stream",
     "text": [
      "LiveNet\n"
     ]
    }
   ],
   "execution_count": 9
  },
  {
   "cell_type": "code",
   "metadata": {
    "jupyter": {
     "outputs_hidden": false
    },
    "ExecuteTime": {
     "end_time": "2025-02-14T21:37:00.564099Z",
     "start_time": "2025-02-14T21:35:37.810745Z"
    }
   },
   "source": [
    "# simple_log.level = simple_log.LogLevel.DEBUG\n",
    "#network.mortal = False\n",
    "network.context.regularization_l1 = 0.001\n",
    "optimizer.learning_rate = 0.01\n",
    "trainer.step(1000)\n"
   ],
   "outputs": [
    {
     "name": "stdout",
     "output_type": "stream",
     "text": [
      "Iˈ0.000 49 3.043+0.060reg params=524 av_abs_grad 0.005 av_abs_delta: 0.01 av_abs_output 0.05 max_abs_output 0.2 max_abs_param 0.7 hcut 1e-05 lcut 0.2 livenet/net_trainer.py:122\n",
      "Iˈ6.460 99 2.873+0.074reg params=441 av_abs_grad 0.006 av_abs_delta: 0.01 av_abs_output 0.09 max_abs_output 0.4 max_abs_param 1.0 hcut 2e-05 lcut 0.2 livenet/net_trainer.py:122\n",
      "Iˈ12.032 149 2.835+0.077reg params=392 av_abs_grad 0.006 av_abs_delta: 0.01 av_abs_output 0.1 max_abs_output 0.5 max_abs_param 1.1 hcut 2e-05 lcut 0.2 livenet/net_trainer.py:122\n",
      "Iˈ17.025 199 2.816+0.079reg params=353 av_abs_grad 0.007 av_abs_delta: 0.01 av_abs_output 0.1 max_abs_output 0.6 max_abs_param 1.1 hcut 9e-06 lcut 0.2 livenet/net_trainer.py:122\n",
      "Iˈ21.638 249 2.804+0.081reg params=331 av_abs_grad 0.007 av_abs_delta: 0.01 av_abs_output 0.1 max_abs_output 0.7 max_abs_param 1.2 hcut 8e-06 lcut 0.2 livenet/net_trainer.py:122\n",
      "Iˈ26.020 299 2.798+0.081reg params=315 av_abs_grad 0.007 av_abs_delta: 0.01 av_abs_output 0.2 max_abs_output 0.8 max_abs_param 1.3 hcut 8e-06 lcut 0.2 livenet/net_trainer.py:122\n",
      "Iˈ30.179 349 2.794+0.081reg params=299 av_abs_grad 0.007 av_abs_delta: 0.01 av_abs_output 0.2 max_abs_output 0.8 max_abs_param 1.4 hcut 4e-06 lcut 0.2 livenet/net_trainer.py:122\n",
      "Iˈ34.179 399 2.790+0.082reg params=289 av_abs_grad 0.007 av_abs_delta: 0.01 av_abs_output 0.2 max_abs_output 0.9 max_abs_param 1.5 hcut 3e-06 lcut 0.2 livenet/net_trainer.py:122\n",
      "Iˈ34.950 I17 became useless and will die at tick 409 livenet/backend/core.py:83\n",
      "Iˈ34.950 InputNeuron I17 death is no-op livenet/backend/core.py:212\n",
      "Iˈ38.028 449 2.787+0.082reg params=278 av_abs_grad 0.008 av_abs_delta: 0.01 av_abs_output 0.2 max_abs_output 0.9 max_abs_param 1.5 hcut 2e-06 lcut 0.2 livenet/net_trainer.py:122\n",
      "Iˈ41.799 499 2.783+0.083reg params=273 av_abs_grad 0.008 av_abs_delta: 0.01 av_abs_output 0.2 max_abs_output 0.9 max_abs_param 1.5 hcut 2e-06 lcut 0.2 livenet/net_trainer.py:122\n",
      "Iˈ45.502 549 2.782+0.083reg params=267 av_abs_grad 0.008 av_abs_delta: 0.01 av_abs_output 0.2 max_abs_output 0.9 max_abs_param 1.5 hcut 1e-06 lcut 0.2 livenet/net_trainer.py:122\n",
      "Iˈ49.126 599 2.780+0.083reg params=261 av_abs_grad 0.008 av_abs_delta: 0.01 av_abs_output 0.2 max_abs_output 1 max_abs_param 1.6 hcut 0 lcut 0.2 livenet/net_trainer.py:122\n",
      "Iˈ52.663 649 2.778+0.083reg params=254 av_abs_grad 0.008 av_abs_delta: 0.01 av_abs_output 0.2 max_abs_output 1 max_abs_param 1.7 hcut 0 lcut 0.2 livenet/net_trainer.py:122\n",
      "Iˈ56.124 699 2.775+0.084reg params=252 av_abs_grad 0.008 av_abs_delta: 0.01 av_abs_output 0.2 max_abs_output 1 max_abs_param 1.7 hcut 0 lcut 0.2 livenet/net_trainer.py:122\n",
      "Iˈ57.879 I57 became useless and will die at tick 725 livenet/backend/core.py:83\n",
      "Iˈ57.879 InputNeuron I57 death is no-op livenet/backend/core.py:212\n",
      "Iˈ59.569 749 2.773+0.084reg params=247 av_abs_grad 0.008 av_abs_delta: 0.01 av_abs_output 0.2 max_abs_output 1 max_abs_param 1.7 hcut 0 lcut 0.2 livenet/net_trainer.py:122\n",
      "Iˈ62.556 I4 became useless and will die at tick 796 livenet/backend/core.py:83\n",
      "Iˈ62.556 InputNeuron I4 death is no-op livenet/backend/core.py:212\n",
      "Iˈ62.787 799 2.773+0.083reg params=244 av_abs_grad 0.008 av_abs_delta: 0.01 av_abs_output 0.2 max_abs_output 1 max_abs_param 1.8 hcut 0 lcut 0.2 livenet/net_trainer.py:122\n",
      "Iˈ66.092 849 2.771+0.084reg params=239 av_abs_grad 0.008 av_abs_delta: 0.01 av_abs_output 0.2 max_abs_output 1 max_abs_param 1.8 hcut 0 lcut 0.2 livenet/net_trainer.py:122\n",
      "Iˈ66.929 I3 became useless and will die at tick 862 livenet/backend/core.py:83\n",
      "Iˈ66.929 InputNeuron I3 death is no-op livenet/backend/core.py:212\n",
      "Iˈ69.401 899 2.771+0.084reg params=237 av_abs_grad 0.008 av_abs_delta: 0.01 av_abs_output 0.2 max_abs_output 1 max_abs_param 1.8 hcut 0 lcut 0.2 livenet/net_trainer.py:122\n",
      "Iˈ71.057 I60 became useless and will die at tick 925 livenet/backend/core.py:83\n",
      "Iˈ71.057 InputNeuron I60 death is no-op livenet/backend/core.py:212\n",
      "Iˈ72.642 949 2.770+0.083reg params=235 av_abs_grad 0.008 av_abs_delta: 0.01 av_abs_output 0.2 max_abs_output 1 max_abs_param 1.8 hcut 0 lcut 0.2 livenet/net_trainer.py:122\n",
      "Iˈ75.826 999 2.771+0.082reg params=230 av_abs_grad 0.008 av_abs_delta: 0.01 av_abs_output 0.2 max_abs_output 1 max_abs_param 1.8 hcut 0 lcut 0.2 livenet/net_trainer.py:122\n"
     ]
    }
   ],
   "execution_count": 10
  },
  {
   "metadata": {
    "ExecuteTime": {
     "end_time": "2025-02-07T19:24:51.650237Z",
     "start_time": "2025-02-07T19:24:51.638284Z"
    }
   },
   "cell_type": "code",
   "source": [
    "import sys\n",
    "def deep_getsizeof(obj, seen=None):\n",
    "    \"\"\"Recursively finds size of objects, including contents.\"\"\"\n",
    "    if seen is None:\n",
    "        seen = set()\n",
    "\n",
    "    obj_id = id(obj)\n",
    "    if obj_id in seen:\n",
    "        return 0  # Avoid double-counting the same object\n",
    "    seen.add(obj_id)\n",
    "\n",
    "    size = sys.getsizeof(obj)\n",
    "\n",
    "    if isinstance(obj, dict):\n",
    "        size += sum((deep_getsizeof(k, seen) + deep_getsizeof(v, seen)) for k, v in obj.items())\n",
    "    elif isinstance(obj, (list, tuple, set, frozenset)):\n",
    "        size += sum(deep_getsizeof(item, seen) for item in obj)\n",
    "\n",
    "    return size\n",
    "\n",
    "deep_getsizeof(network.context.life_stat)\n"
   ],
   "outputs": [
    {
     "data": {
      "text/plain": [
       "56"
      ]
     },
     "execution_count": 5,
     "metadata": {},
     "output_type": "execute_result"
    }
   ],
   "execution_count": 5
  },
  {
   "cell_type": "code",
   "metadata": {
    "jupyter": {
     "outputs_hidden": false
    },
    "ExecuteTime": {
     "end_time": "2025-02-07T14:59:49.269139Z",
     "start_time": "2025-02-07T14:59:49.176482Z"
    }
   },
   "source": [
    "pred = network(test_x)\n",
    "pred_ind = np.argmax(pred.detach().numpy(), axis=1, keepdims=True)\n",
    "diff = test_y.numpy() - pred_ind\n",
    "f\"accuracy {len(diff[diff == 0]) / len(diff)}\"\n"
   ],
   "outputs": [
    {
     "data": {
      "text/plain": [
       "'accuracy 0.3085'"
      ]
     },
     "execution_count": 6,
     "metadata": {},
     "output_type": "execute_result"
    }
   ],
   "execution_count": 6
  },
  {
   "cell_type": "code",
   "metadata": {
    "jupyter": {
     "outputs_hidden": false
    },
    "ExecuteTime": {
     "end_time": "2024-07-22T19:34:57.498715Z",
     "start_time": "2024-07-22T19:34:57.490709Z"
    }
   },
   "source": [
    "print(network.context.topology_stat.get_stat())\n",
    "for name, p in sorted(network.named_parameters(),key=lambda x: x[0]):\n",
    "    print(name, f\"{p.item():.2f}\")\n"
   ],
   "outputs": [
    {
     "name": "stdout",
     "output_type": "stream",
     "text": [
      "{'dangle': {'RegularNeuron': 0, 'DestinationNeuron': 0}, 'useless': {'RegularNeuron': 0, 'InputNeuron': 57}}\n",
      "D0 0.39\n",
      "D1 -0.43\n",
      "I0->N1 0.85\n",
      "I0->N3 -0.99\n",
      "I11->N3 0.59\n",
      "I19->N1 -0.73\n",
      "I41->N1 -0.29\n",
      "I44->N3 0.15\n",
      "I46->N1 -0.41\n",
      "I63->N3 0.25\n",
      "N1 -0.07\n",
      "N1->D0 -1.15\n",
      "N1->D1 0.94\n",
      "N3 0.04\n",
      "N3->D0 -1.49\n",
      "N3->D1 0.81\n"
     ]
    }
   ],
   "execution_count": 117
  },
  {
   "cell_type": "code",
   "metadata": {
    "ExecuteTime": {
     "end_time": "2024-07-22T22:00:09.212735Z",
     "start_time": "2024-07-22T22:00:07.812939Z"
    }
   },
   "source": [
    "life_stat = network.context.life_stat\n",
    "df = pd.DataFrame(life_stat)\n",
    "df2 = df[(df[\"type\"] == \"parameter\") & (df[\"name\"] == \"I12->N7\")]\n",
    "#df2 = df[(df[\"type\"] == \"parameter\") & (df[\"name\"] == \"D0\")]\n",
    "\n",
    "#df2 = df[(df[\"type\"] == \"delta\") & (df[\"name\"] == \"N0->D0\")]\n",
    "#df2 = df[(df[\"type\"] == \"delta\") & (df[\"name\"] == \"D0\")]\n",
    "#df2 = df[(df[\"type\"] == \"gradient\") & (df[\"name\"] == \"N0->D0\")]\n",
    "#df2 = df[(df[\"type\"] == \"gradient\") & (df[\"name\"] == \"D0\")]\n",
    "#df2 = df[(df[\"type\"] == \"max_output\") & (df[\"name\"] == \"D0\")]\n",
    "# df2 = df[(df[\"type\"] == \"output_low_cut_ratio\") & (df[\"tick\"] == 199)]\n",
    "# df2 = df[(df[\"type\"] == \"parameter\") ]\n",
    "df2 = df[(df[\"type\"] == \"output_low_cut_ratio\")]\n",
    "gps = df2.groupby(\"tick\")\n",
    "res = []\n",
    "for name, group in gps:\n",
    "    res.append({\"tick\": name, \"value\": group[\"value\"].min()})\n",
    "df2 = pd.DataFrame(res)\n",
    "df2[\"value\"].plot(grid=True, use_index=False, style='.-')\n",
    "# df2 = df[(df[\"type\"] == \"output_high_cut_ratio\")]\n",
    "#df2 = df2.groupby(\"tick\", as_index=False).max()"
   ],
   "outputs": [
    {
     "data": {
      "text/plain": [
       "<Axes: >"
      ]
     },
     "execution_count": 143,
     "metadata": {},
     "output_type": "execute_result"
    }
   ],
   "execution_count": 143
  },
  {
   "metadata": {
    "ExecuteTime": {
     "end_time": "2024-07-24T16:16:53.365783Z",
     "start_time": "2024-07-24T16:16:53.032754Z"
    }
   },
   "cell_type": "code",
   "source": [
    "\n",
    "from livenet.net_trainer import get_summary_stat\n",
    "\n",
    "get_summary_stat(pd.DataFrame(network.context.life_stat))"
   ],
   "outputs": [
    {
     "data": {
      "text/plain": [
       "'av_abs_grad 0.006 av_abs_delta: 0.005 av_abs_output nan max_abs_param 1.2 hcut 0 lcut 0.4'"
      ]
     },
     "execution_count": 35,
     "metadata": {},
     "output_type": "execute_result"
    }
   ],
   "execution_count": 35
  },
  {
   "metadata": {
    "ExecuteTime": {
     "end_time": "2024-07-25T16:53:53.491604Z",
     "start_time": "2024-07-25T16:53:42.695331Z"
    }
   },
   "cell_type": "code",
   "source": [
    "rng = random.Random(x=0)\n",
    "d0 = 1000\n",
    "d1 = 20000\n",
    "d2 = 15000\n",
    "d = 1000\n",
    "a1 = np.random.randn(d0, d1).astype(np.float32)\n",
    "a2 = np.random.randn(d1, d2).astype(np.float32)\n",
    "a1 = np.random.randn(d, d).astype(np.float32) / math.sqrt(d)\n",
    "a2 = np.random.randn(d, d).astype(np.float32) / math.sqrt(d)\n",
    "device = \"cuda\"\n",
    "# device = \"cpu\"\n",
    "t1 =  torch.tensor(a1, device=device)\n",
    "t2 =  torch.tensor(a2, device=device)\n",
    "t = t1"
   ],
   "outputs": [],
   "execution_count": 12
  },
  {
   "metadata": {
    "ExecuteTime": {
     "end_time": "2024-07-25T17:13:57.726772Z",
     "start_time": "2024-07-25T16:53:54.378030Z"
    }
   },
   "cell_type": "code",
   "source": [
    "import time\n",
    "def f(t1, t2):\n",
    "    s = torch.tensor(0.0, device=device)\n",
    "    for i in range(1, t2.shape[0]):\n",
    "        for j in range(1, t2.shape[1]):\n",
    "            s+= torch.tensordot(t1[:i, :j], t2[:i, :j])\n",
    "    t1[0][0] = s\n",
    "    res = t1\n",
    "    return res\n",
    "\n",
    "for i in range(10):\n",
    "    t0 = time.time()\n",
    "    t = f(t, t2)\n",
    "    dt = time.time() - t0\n",
    "    print(f\"{i} {1000 * dt:.2f}ms\")\n",
    "    # print(f\"{1000 * dt:.2f}ms {t[0][0]}\")\n",
    "    \n"
   ],
   "outputs": [
    {
     "name": "stdout",
     "output_type": "stream",
     "text": [
      "0 372634.03ms\n",
      "1 366126.33ms\n",
      "2 365221.94ms\n"
     ]
    },
    {
     "ename": "KeyboardInterrupt",
     "evalue": "",
     "output_type": "error",
     "traceback": [
      "\u001B[0;31m---------------------------------------------------------------------------\u001B[0m",
      "\u001B[0;31mKeyboardInterrupt\u001B[0m                         Traceback (most recent call last)",
      "Cell \u001B[0;32mIn[13], line 13\u001B[0m\n\u001B[1;32m     11\u001B[0m \u001B[38;5;28;01mfor\u001B[39;00m i \u001B[38;5;129;01min\u001B[39;00m \u001B[38;5;28mrange\u001B[39m(\u001B[38;5;241m10\u001B[39m):\n\u001B[1;32m     12\u001B[0m     t0 \u001B[38;5;241m=\u001B[39m time\u001B[38;5;241m.\u001B[39mtime()\n\u001B[0;32m---> 13\u001B[0m     t \u001B[38;5;241m=\u001B[39m \u001B[43mf\u001B[49m\u001B[43m(\u001B[49m\u001B[43mt\u001B[49m\u001B[43m,\u001B[49m\u001B[43m \u001B[49m\u001B[43mt2\u001B[49m\u001B[43m)\u001B[49m\n\u001B[1;32m     14\u001B[0m     dt \u001B[38;5;241m=\u001B[39m time\u001B[38;5;241m.\u001B[39mtime() \u001B[38;5;241m-\u001B[39m t0\n\u001B[1;32m     15\u001B[0m     \u001B[38;5;28mprint\u001B[39m(\u001B[38;5;124mf\u001B[39m\u001B[38;5;124m\"\u001B[39m\u001B[38;5;132;01m{\u001B[39;00mi\u001B[38;5;132;01m}\u001B[39;00m\u001B[38;5;124m \u001B[39m\u001B[38;5;132;01m{\u001B[39;00m\u001B[38;5;241m1000\u001B[39m\u001B[38;5;250m \u001B[39m\u001B[38;5;241m*\u001B[39m\u001B[38;5;250m \u001B[39mdt\u001B[38;5;132;01m:\u001B[39;00m\u001B[38;5;124m.2f\u001B[39m\u001B[38;5;132;01m}\u001B[39;00m\u001B[38;5;124mms\u001B[39m\u001B[38;5;124m\"\u001B[39m)\n",
      "Cell \u001B[0;32mIn[13], line 6\u001B[0m, in \u001B[0;36mf\u001B[0;34m(t1, t2)\u001B[0m\n\u001B[1;32m      4\u001B[0m \u001B[38;5;28;01mfor\u001B[39;00m i \u001B[38;5;129;01min\u001B[39;00m \u001B[38;5;28mrange\u001B[39m(\u001B[38;5;241m1\u001B[39m, t2\u001B[38;5;241m.\u001B[39mshape[\u001B[38;5;241m0\u001B[39m]):\n\u001B[1;32m      5\u001B[0m     \u001B[38;5;28;01mfor\u001B[39;00m j \u001B[38;5;129;01min\u001B[39;00m \u001B[38;5;28mrange\u001B[39m(\u001B[38;5;241m1\u001B[39m, t2\u001B[38;5;241m.\u001B[39mshape[\u001B[38;5;241m1\u001B[39m]):\n\u001B[0;32m----> 6\u001B[0m         s\u001B[38;5;241m+\u001B[39m\u001B[38;5;241m=\u001B[39m \u001B[43mtorch\u001B[49m\u001B[38;5;241;43m.\u001B[39;49m\u001B[43mtensordot\u001B[49m\u001B[43m(\u001B[49m\u001B[43mt1\u001B[49m\u001B[43m[\u001B[49m\u001B[43m:\u001B[49m\u001B[43mi\u001B[49m\u001B[43m,\u001B[49m\u001B[43m \u001B[49m\u001B[43m:\u001B[49m\u001B[43mj\u001B[49m\u001B[43m]\u001B[49m\u001B[43m,\u001B[49m\u001B[43m \u001B[49m\u001B[43mt2\u001B[49m\u001B[43m[\u001B[49m\u001B[43m:\u001B[49m\u001B[43mi\u001B[49m\u001B[43m,\u001B[49m\u001B[43m \u001B[49m\u001B[43m:\u001B[49m\u001B[43mj\u001B[49m\u001B[43m]\u001B[49m\u001B[43m)\u001B[49m\n\u001B[1;32m      7\u001B[0m t1[\u001B[38;5;241m0\u001B[39m][\u001B[38;5;241m0\u001B[39m] \u001B[38;5;241m=\u001B[39m s\n\u001B[1;32m      8\u001B[0m res \u001B[38;5;241m=\u001B[39m t1\n",
      "File \u001B[0;32m~/miniconda3/envs/home/lib/python3.12/site-packages/torch/functional.py:1125\u001B[0m, in \u001B[0;36mtensordot\u001B[0;34m(a, b, dims, out)\u001B[0m\n\u001B[1;32m   1120\u001B[0m     \u001B[38;5;129m@overload\u001B[39m  \u001B[38;5;66;03m# noqa: F811\u001B[39;00m\n\u001B[1;32m   1121\u001B[0m     \u001B[38;5;28;01mdef\u001B[39;00m \u001B[38;5;21mtensordot\u001B[39m(a, b, dims: torch\u001B[38;5;241m.\u001B[39mTensor, out: Optional[torch\u001B[38;5;241m.\u001B[39mTensor] \u001B[38;5;241m=\u001B[39m \u001B[38;5;28;01mNone\u001B[39;00m):  \u001B[38;5;66;03m# noqa: F811\u001B[39;00m\n\u001B[1;32m   1122\u001B[0m         \u001B[38;5;28;01mpass\u001B[39;00m\n\u001B[0;32m-> 1125\u001B[0m \u001B[38;5;28;01mdef\u001B[39;00m \u001B[38;5;21mtensordot\u001B[39m(a, b, dims\u001B[38;5;241m=\u001B[39m\u001B[38;5;241m2\u001B[39m, out: Optional[torch\u001B[38;5;241m.\u001B[39mTensor] \u001B[38;5;241m=\u001B[39m \u001B[38;5;28;01mNone\u001B[39;00m):  \u001B[38;5;66;03m# noqa: F811\u001B[39;00m\n\u001B[1;32m   1126\u001B[0m \u001B[38;5;250m    \u001B[39m\u001B[38;5;124mr\u001B[39m\u001B[38;5;124;03m\"\"\"Returns a contraction of a and b over multiple dimensions.\u001B[39;00m\n\u001B[1;32m   1127\u001B[0m \n\u001B[1;32m   1128\u001B[0m \u001B[38;5;124;03m    :attr:`tensordot` implements a generalized matrix product.\u001B[39;00m\n\u001B[0;32m   (...)\u001B[0m\n\u001B[1;32m   1174\u001B[0m \u001B[38;5;124;03m                [ -0.2850,   4.2573,  -3.5997]])\u001B[39;00m\n\u001B[1;32m   1175\u001B[0m \u001B[38;5;124;03m    \"\"\"\u001B[39;00m\n\u001B[1;32m   1176\u001B[0m     \u001B[38;5;28;01mif\u001B[39;00m has_torch_function_variadic(a, b):\n",
      "\u001B[0;31mKeyboardInterrupt\u001B[0m: "
     ]
    }
   ],
   "execution_count": 13
  },
  {
   "metadata": {
    "ExecuteTime": {
     "end_time": "2024-07-25T20:25:50.160424Z",
     "start_time": "2024-07-25T20:25:50.031439Z"
    }
   },
   "cell_type": "code",
   "source": [
    "device = \"cuda\"\n",
    "a = torch.tensor(2.0, requires_grad=True, device=device)\n",
    "b = torch.tensor(3.0, device=device)\n",
    "\n",
    "c = a * b\n",
    "c.backward()"
   ],
   "outputs": [],
   "execution_count": 5
  },
  {
   "metadata": {
    "ExecuteTime": {
     "end_time": "2024-07-25T20:44:12.048520Z",
     "start_time": "2024-07-25T20:44:11.957511Z"
    }
   },
   "cell_type": "code",
   "source": [
    "torch.backends.cpu.get_cpu_capability() \n",
    "torch.backends.cuda.matmul.allow_tf32\n",
    "torch.backends.cudnn.is_available()\n",
    "torch.backends.cudnn.allow_tf32\n",
    "torch.backends.cuda.deterministic\n"
   ],
   "outputs": [
    {
     "ename": "AttributeError",
     "evalue": "module 'torch.backends.cuda' has no attribute 'deterministic'",
     "output_type": "error",
     "traceback": [
      "\u001B[0;31m---------------------------------------------------------------------------\u001B[0m",
      "\u001B[0;31mAttributeError\u001B[0m                            Traceback (most recent call last)",
      "Cell \u001B[0;32mIn[5], line 5\u001B[0m\n\u001B[1;32m      3\u001B[0m torch\u001B[38;5;241m.\u001B[39mbackends\u001B[38;5;241m.\u001B[39mcudnn\u001B[38;5;241m.\u001B[39mis_available()\n\u001B[1;32m      4\u001B[0m torch\u001B[38;5;241m.\u001B[39mbackends\u001B[38;5;241m.\u001B[39mcudnn\u001B[38;5;241m.\u001B[39mallow_tf32\n\u001B[0;32m----> 5\u001B[0m \u001B[43mtorch\u001B[49m\u001B[38;5;241;43m.\u001B[39;49m\u001B[43mbackends\u001B[49m\u001B[38;5;241;43m.\u001B[39;49m\u001B[43mcuda\u001B[49m\u001B[38;5;241;43m.\u001B[39;49m\u001B[43mdeterministic\u001B[49m\n",
      "\u001B[0;31mAttributeError\u001B[0m: module 'torch.backends.cuda' has no attribute 'deterministic'"
     ]
    }
   ],
   "execution_count": 5
  },
  {
   "metadata": {},
   "cell_type": "code",
   "outputs": [],
   "execution_count": null,
   "source": ""
  }
 ],
 "metadata": {
  "kernelspec": {
   "display_name": "Python 3 (ipykernel)",
   "language": "python",
   "name": "python3"
  },
  "language_info": {
   "codemirror_mode": {
    "name": "ipython",
    "version": 3
   },
   "file_extension": ".py",
   "mimetype": "text/x-python",
   "name": "python",
   "nbconvert_exporter": "python",
   "pygments_lexer": "ipython3",
   "version": "3.12.4"
  }
 },
 "nbformat": 4,
 "nbformat_minor": 4
}
