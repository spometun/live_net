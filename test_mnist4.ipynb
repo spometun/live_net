{
 "cells": [
  {
   "cell_type": "code",
   "id": "initial_id",
   "metadata": {
    "collapsed": true,
    "ExecuteTime": {
     "end_time": "2025-03-21T21:11:48.402609Z",
     "start_time": "2025-03-21T21:11:45.901889Z"
    }
   },
   "source": [
    "# TODO:\n",
    "%load_ext autoreload\n",
    "%autoreload 2\n",
    "import torch\n",
    "import torch.onnx\n",
    "import numpy as np\n",
    "import pandas as pd\n",
    "from matplotlib import pyplot as plt\n",
    "# matplotlib.use('Qt5Agg')\n",
    "%matplotlib Qt5Agg\n",
    "import livenet\n",
    "from livenet import nets, datasets\n"
   ],
   "outputs": [],
   "execution_count": 1
  },
  {
   "metadata": {
    "ExecuteTime": {
     "end_time": "2025-03-21T19:34:41.954021Z",
     "start_time": "2025-03-21T19:34:35.198717Z"
    }
   },
   "cell_type": "code",
   "source": [
    "downscale = (14, 14)\n",
    "train_x, train_y = datasets.to_plain(*datasets.get_mnist_train(), downscale=downscale, to_odd=True, to_gray=True)\n",
    "\n"
   ],
   "id": "4ad0b6be0754b5f",
   "outputs": [],
   "execution_count": 26
  },
  {
   "metadata": {
    "ExecuteTime": {
     "end_time": "2025-03-21T19:41:11.973819Z",
     "start_time": "2025-03-21T19:41:11.958705Z"
    }
   },
   "cell_type": "code",
   "source": [
    "\n",
    "network = nets.create_perceptron(train_x.shape[1], 2, 2)\n",
    "res = network(train_x)\n",
    "network.context.regularization_l1 = 0.01\n",
    "batch_iterator = livenet.gen_utils.batch_iterator(train_x, train_y, batch_size=1000)\n",
    "criterion = livenet.nets.criterion_classification_n\n",
    "optimizer = nets.create_optimizer(network)\n",
    "trainer = livenet.net_trainer.NetTrainer(network, batch_iterator, criterion, optimizer, epoch_size=50)\n",
    "trainer.clear_life_stat = False\n",
    "\n"
   ],
   "id": "961f4b65c04b822c",
   "outputs": [
    {
     "name": "stdout",
     "output_type": "stream",
     "text": [
      "LiveNet\n"
     ]
    }
   ],
   "execution_count": 43
  },
  {
   "metadata": {
    "ExecuteTime": {
     "end_time": "2025-03-21T19:41:14.416060Z",
     "start_time": "2025-03-21T19:41:13.796458Z"
    }
   },
   "cell_type": "code",
   "source": [
    "network.mortal = False\n",
    "trainer.step(250)\n",
    "network.mortal = True\n",
    "trainer.step(250)\n",
    "\n"
   ],
   "id": "6f1611c1947db286",
   "outputs": [
    {
     "name": "stdout",
     "output_type": "stream",
     "text": [
      "Iˈ0.000 49 0.987+0.024reg params=16 av_abs_grad 0.01 av_abs_delta: 0.01 av_abs_output 0.1 max_abs_output 0.2 max_abs_param 0.8 hcut 0 lcut 0.1 livenet/net_trainer.py:122\n",
      "Iˈ0.066 99 0.952+0.026reg params=16 av_abs_grad 0.02 av_abs_delta: 0.01 av_abs_output 0.2 max_abs_output 0.2 max_abs_param 1.1 hcut 0 lcut 0.0 livenet/net_trainer.py:122\n",
      "Iˈ0.136 149 0.914+0.036reg params=16 av_abs_grad 0.03 av_abs_delta: 0.01 av_abs_output 0.2 max_abs_output 0.3 max_abs_param 1.5 hcut 0 lcut 0.0 livenet/net_trainer.py:122\n",
      "Iˈ0.206 199 0.876+0.046reg params=16 av_abs_grad 0.03 av_abs_delta: 0.01 av_abs_output 0.3 max_abs_output 0.4 max_abs_param 1.9 hcut 0 lcut 0.0 livenet/net_trainer.py:122\n",
      "Iˈ0.281 249 0.844+0.055reg params=16 av_abs_grad 0.04 av_abs_delta: 0.01 av_abs_output 0.3 max_abs_output 0.5 max_abs_param 2.1 hcut 0 lcut 0.0 livenet/net_trainer.py:122\n",
      "Iˈ0.291 N1 became useless and will die at tick 259 livenet/backend/core.py:83\n",
      "Iˈ0.291 killing DestinationNeuron N1 with b=0.690, tick=259 livenet/backend/core.py:180\n",
      "Iˈ0.291 killing SourceNeuron N1 tick=259 livenet/backend/core.py:93\n",
      "Iˈ0.331 299 0.821+0.062reg params=9 av_abs_grad 0.07 av_abs_delta: 0.01 av_abs_output 0.4 max_abs_output 0.8 max_abs_param 2.4 hcut 0 lcut 0.0 livenet/net_trainer.py:122\n",
      "Iˈ0.381 349 0.802+0.069reg params=9 av_abs_grad 0.09 av_abs_delta: 0.01 av_abs_output 0.5 max_abs_output 0.9 max_abs_param 2.6 hcut 0 lcut 0.0 livenet/net_trainer.py:122\n",
      "Iˈ0.433 399 0.789+0.073reg params=9 av_abs_grad 0.09 av_abs_delta: 0.01 av_abs_output 0.5 max_abs_output 1 max_abs_param 2.8 hcut 0 lcut 0.0 livenet/net_trainer.py:122\n",
      "Iˈ0.485 449 0.777+0.077reg params=9 av_abs_grad 0.09 av_abs_delta: 0.01 av_abs_output 0.5 max_abs_output 1 max_abs_param 2.8 hcut 0 lcut 0.0 livenet/net_trainer.py:122\n",
      "Iˈ0.537 499 0.774+0.079reg params=9 av_abs_grad 0.1 av_abs_delta: 0.01 av_abs_output 0.6 max_abs_output 1 max_abs_param 2.9 hcut 0 lcut 0.0 livenet/net_trainer.py:122\n"
     ]
    }
   ],
   "execution_count": 44
  },
  {
   "metadata": {
    "ExecuteTime": {
     "end_time": "2025-03-21T19:41:16.268926Z",
     "start_time": "2025-03-21T19:41:16.253408Z"
    }
   },
   "cell_type": "code",
   "source": [
    "\n",
    "pred = network(train_x)\n",
    "pred_bin = np.argmax(pred.detach().numpy(), axis=1, keepdims=True)\n",
    "diff = train_y.numpy() - pred_bin\n",
    "accuracy = len(diff[diff == 0]) / len(diff)\n",
    "accuracy\n"
   ],
   "id": "13ed5d678d926bd3",
   "outputs": [
    {
     "data": {
      "text/plain": [
       "0.7499666666666667"
      ]
     },
     "execution_count": 45,
     "metadata": {},
     "output_type": "execute_result"
    }
   ],
   "execution_count": 45
  },
  {
   "metadata": {
    "ExecuteTime": {
     "end_time": "2025-03-07T21:39:23.547240Z",
     "start_time": "2025-03-07T21:34:44.168623Z"
    }
   },
   "cell_type": "code",
   "source": [
    "\n",
    "trainer.step(1)\n"
   ],
   "id": "89cbd0764121db5b",
   "outputs": [],
   "execution_count": 34
  },
  {
   "metadata": {
    "ExecuteTime": {
     "end_time": "2025-03-21T21:12:34.179684Z",
     "start_time": "2025-03-21T21:11:54.319772Z"
    }
   },
   "cell_type": "code",
   "source": [
    "from livenet import gen_utils, net_trainer\n",
    "from livenet.test_livenet import _build_symmetric_dangle_net\n",
    "\n",
    "train_x, train_y = datasets.get_odd_2()\n",
    "network = _build_symmetric_dangle_net()\n",
    "# train_x is not actually used as networks input doesn't connected to anything\n",
    "batch_iterator = gen_utils.batch_iterator(train_x, train_y, batch_size=3)\n",
    "criterion = nets.criterion_classification_n\n",
    "optimizer = nets.create_optimizer(network)\n",
    "trainer = net_trainer.NetTrainer(network, batch_iterator, criterion, optimizer, epoch_size=100)\n",
    "network.context.regularization_l1 = 0.05\n",
    "optimizer.learning_rate = 0.002\n",
    "trainer.clear_life_stat = False\n",
    "network.mortal = False\n",
    "trainer.step(15000)"
   ],
   "id": "6d14927f6d66c0e9",
   "outputs": [
    {
     "name": "stdout",
     "output_type": "stream",
     "text": [
      "LiveNet\n",
      "Iˈ0.000 99 15.764+0.112reg params=5 av_abs_grad 3 av_abs_delta: 0.002 av_abs_output 7 max_abs_output 7 max_abs_param 30.0 hcut 0 lcut 0.0 livenet/net_trainer.py:122\n",
      "Iˈ0.070 199 12.533+0.132reg params=5 av_abs_grad 3 av_abs_delta: 0.002 av_abs_output 8 max_abs_output 8 max_abs_param 29.8 hcut 0 lcut 0.0 livenet/net_trainer.py:122\n",
      "Iˈ0.142 299 9.148+0.151reg params=5 av_abs_grad 3 av_abs_delta: 0.002 av_abs_output 9 max_abs_output 9 max_abs_param 29.6 hcut 0 lcut 0.0 livenet/net_trainer.py:122\n",
      "Iˈ0.279 399 5.616+0.170reg params=5 av_abs_grad 4 av_abs_delta: 0.002 av_abs_output 9 max_abs_output 9 max_abs_param 29.4 hcut 0 lcut 0.0 livenet/net_trainer.py:122\n",
      "Iˈ0.420 499 2.204+0.190reg params=5 av_abs_grad 3 av_abs_delta: 0.002 av_abs_output 1e+01 max_abs_output 1e+01 max_abs_param 29.2 hcut 0 lcut 0.0 livenet/net_trainer.py:122\n",
      "Iˈ0.561 599 0.923+0.202reg params=5 av_abs_grad 0.1 av_abs_delta: 0.002 av_abs_output 1e+01 max_abs_output 1e+01 max_abs_param 29.0 hcut 0 lcut 0.0 livenet/net_trainer.py:122\n",
      "Iˈ0.706 699 0.918+0.203reg params=5 av_abs_grad 0.03 av_abs_delta: 0.002 av_abs_output 1e+01 max_abs_output 1e+01 max_abs_param 29.0 hcut 0 lcut 0.0 livenet/net_trainer.py:122\n",
      "Iˈ0.855 799 0.918+0.203reg params=5 av_abs_grad 0.03 av_abs_delta: 0.002 av_abs_output 1e+01 max_abs_output 1e+01 max_abs_param 29.0 hcut 0 lcut 0.0 livenet/net_trainer.py:122\n",
      "Iˈ1.016 899 0.918+0.203reg params=5 av_abs_grad 0.03 av_abs_delta: 0.002 av_abs_output 1e+01 max_abs_output 1e+01 max_abs_param 29.0 hcut 0 lcut 0.0 livenet/net_trainer.py:122\n",
      "Iˈ1.172 999 0.918+0.203reg params=5 av_abs_grad 0.03 av_abs_delta: 0.002 av_abs_output 1e+01 max_abs_output 1e+01 max_abs_param 29.0 hcut 0 lcut 0.0 livenet/net_trainer.py:122\n",
      "Iˈ1.327 1099 0.918+0.203reg params=5 av_abs_grad 0.03 av_abs_delta: 0.002 av_abs_output 1e+01 max_abs_output 1e+01 max_abs_param 29.0 hcut 0 lcut 0.0 livenet/net_trainer.py:122\n",
      "Iˈ1.484 1199 0.918+0.203reg params=5 av_abs_grad 0.03 av_abs_delta: 0.002 av_abs_output 1e+01 max_abs_output 1e+01 max_abs_param 29.0 hcut 0 lcut 0.0 livenet/net_trainer.py:122\n",
      "Iˈ1.640 1299 0.918+0.203reg params=5 av_abs_grad 0.03 av_abs_delta: 0.002 av_abs_output 1e+01 max_abs_output 1e+01 max_abs_param 29.0 hcut 0 lcut 0.0 livenet/net_trainer.py:122\n",
      "Iˈ1.799 1399 0.918+0.203reg params=5 av_abs_grad 0.03 av_abs_delta: 0.002 av_abs_output 1e+01 max_abs_output 1e+01 max_abs_param 29.0 hcut 0 lcut 0.0 livenet/net_trainer.py:122\n",
      "Iˈ1.958 1499 0.918+0.203reg params=5 av_abs_grad 0.03 av_abs_delta: 0.002 av_abs_output 1e+01 max_abs_output 1e+01 max_abs_param 29.0 hcut 0 lcut 0.0 livenet/net_trainer.py:122\n",
      "Iˈ2.118 1599 0.918+0.203reg params=5 av_abs_grad 0.03 av_abs_delta: 0.002 av_abs_output 1e+01 max_abs_output 1e+01 max_abs_param 29.0 hcut 0 lcut 0.0 livenet/net_trainer.py:122\n",
      "Iˈ2.282 1699 0.918+0.203reg params=5 av_abs_grad 0.03 av_abs_delta: 0.002 av_abs_output 1e+01 max_abs_output 1e+01 max_abs_param 29.0 hcut 0 lcut 0.0 livenet/net_trainer.py:122\n",
      "Iˈ2.447 1799 0.918+0.203reg params=5 av_abs_grad 0.03 av_abs_delta: 0.002 av_abs_output 1e+01 max_abs_output 1e+01 max_abs_param 29.0 hcut 0 lcut 0.0 livenet/net_trainer.py:122\n",
      "Iˈ2.613 1899 0.918+0.203reg params=5 av_abs_grad 0.03 av_abs_delta: 0.002 av_abs_output 1e+01 max_abs_output 1e+01 max_abs_param 29.0 hcut 0 lcut 0.0 livenet/net_trainer.py:122\n",
      "Iˈ2.782 1999 0.918+0.203reg params=5 av_abs_grad 0.03 av_abs_delta: 0.002 av_abs_output 1e+01 max_abs_output 1e+01 max_abs_param 29.0 hcut 0 lcut 0.0 livenet/net_trainer.py:122\n",
      "Iˈ2.952 2099 0.918+0.203reg params=5 av_abs_grad 0.03 av_abs_delta: 0.002 av_abs_output 1e+01 max_abs_output 1e+01 max_abs_param 29.0 hcut 0 lcut 0.0 livenet/net_trainer.py:122\n",
      "Iˈ3.123 2199 0.918+0.203reg params=5 av_abs_grad 0.03 av_abs_delta: 0.002 av_abs_output 1e+01 max_abs_output 1e+01 max_abs_param 29.0 hcut 0 lcut 0.0 livenet/net_trainer.py:122\n",
      "Iˈ3.298 2299 0.918+0.203reg params=5 av_abs_grad 0.03 av_abs_delta: 0.002 av_abs_output 1e+01 max_abs_output 1e+01 max_abs_param 29.0 hcut 0 lcut 0.0 livenet/net_trainer.py:122\n",
      "Iˈ3.473 2399 0.918+0.203reg params=5 av_abs_grad 0.03 av_abs_delta: 0.002 av_abs_output 1e+01 max_abs_output 1e+01 max_abs_param 29.0 hcut 0 lcut 0.0 livenet/net_trainer.py:122\n",
      "Iˈ3.650 2499 0.918+0.203reg params=5 av_abs_grad 0.03 av_abs_delta: 0.002 av_abs_output 1e+01 max_abs_output 1e+01 max_abs_param 29.0 hcut 0 lcut 0.0 livenet/net_trainer.py:122\n",
      "Iˈ3.833 2599 0.918+0.203reg params=5 av_abs_grad 0.03 av_abs_delta: 0.002 av_abs_output 1e+01 max_abs_output 1e+01 max_abs_param 29.0 hcut 0 lcut 0.0 livenet/net_trainer.py:122\n",
      "Iˈ4.013 2699 0.918+0.203reg params=5 av_abs_grad 0.03 av_abs_delta: 0.002 av_abs_output 1e+01 max_abs_output 1e+01 max_abs_param 29.0 hcut 0 lcut 0.0 livenet/net_trainer.py:122\n",
      "Iˈ4.196 2799 0.918+0.203reg params=5 av_abs_grad 0.03 av_abs_delta: 0.002 av_abs_output 1e+01 max_abs_output 1e+01 max_abs_param 29.0 hcut 0 lcut 0.0 livenet/net_trainer.py:122\n",
      "Iˈ4.379 2899 0.918+0.203reg params=5 av_abs_grad 0.03 av_abs_delta: 0.002 av_abs_output 1e+01 max_abs_output 1e+01 max_abs_param 29.0 hcut 0 lcut 0.0 livenet/net_trainer.py:122\n",
      "Iˈ4.566 2999 0.918+0.203reg params=5 av_abs_grad 0.03 av_abs_delta: 0.002 av_abs_output 1e+01 max_abs_output 1e+01 max_abs_param 29.0 hcut 0 lcut 0.0 livenet/net_trainer.py:122\n",
      "Iˈ4.756 3099 0.918+0.203reg params=5 av_abs_grad 0.03 av_abs_delta: 0.002 av_abs_output 1e+01 max_abs_output 1e+01 max_abs_param 29.0 hcut 0 lcut 0.0 livenet/net_trainer.py:122\n",
      "Iˈ4.944 3199 0.918+0.203reg params=5 av_abs_grad 0.03 av_abs_delta: 0.002 av_abs_output 1e+01 max_abs_output 1e+01 max_abs_param 29.0 hcut 0 lcut 0.0 livenet/net_trainer.py:122\n",
      "Iˈ5.133 3299 0.918+0.203reg params=5 av_abs_grad 0.03 av_abs_delta: 0.002 av_abs_output 1e+01 max_abs_output 1e+01 max_abs_param 29.0 hcut 0 lcut 0.0 livenet/net_trainer.py:122\n",
      "Iˈ5.326 3399 0.918+0.203reg params=5 av_abs_grad 0.03 av_abs_delta: 0.002 av_abs_output 1e+01 max_abs_output 1e+01 max_abs_param 29.0 hcut 0 lcut 0.0 livenet/net_trainer.py:122\n",
      "Iˈ5.519 3499 0.918+0.203reg params=5 av_abs_grad 0.03 av_abs_delta: 0.002 av_abs_output 1e+01 max_abs_output 1e+01 max_abs_param 29.0 hcut 0 lcut 0.0 livenet/net_trainer.py:122\n",
      "Iˈ5.718 3599 0.918+0.203reg params=5 av_abs_grad 0.03 av_abs_delta: 0.002 av_abs_output 1e+01 max_abs_output 1e+01 max_abs_param 29.0 hcut 0 lcut 0.0 livenet/net_trainer.py:122\n",
      "Iˈ5.914 3699 0.918+0.203reg params=5 av_abs_grad 0.03 av_abs_delta: 0.002 av_abs_output 1e+01 max_abs_output 1e+01 max_abs_param 29.0 hcut 0 lcut 0.0 livenet/net_trainer.py:122\n",
      "Iˈ6.114 3799 0.918+0.203reg params=5 av_abs_grad 0.03 av_abs_delta: 0.002 av_abs_output 1e+01 max_abs_output 1e+01 max_abs_param 29.0 hcut 0 lcut 0.0 livenet/net_trainer.py:122\n",
      "Iˈ6.321 3899 0.918+0.203reg params=5 av_abs_grad 0.03 av_abs_delta: 0.002 av_abs_output 1e+01 max_abs_output 1e+01 max_abs_param 29.0 hcut 0 lcut 0.0 livenet/net_trainer.py:122\n",
      "Iˈ6.528 3999 0.918+0.203reg params=5 av_abs_grad 0.03 av_abs_delta: 0.002 av_abs_output 1e+01 max_abs_output 1e+01 max_abs_param 29.0 hcut 0 lcut 0.0 livenet/net_trainer.py:122\n",
      "Iˈ6.734 4099 0.918+0.203reg params=5 av_abs_grad 0.03 av_abs_delta: 0.002 av_abs_output 1e+01 max_abs_output 1e+01 max_abs_param 29.0 hcut 0 lcut 0.0 livenet/net_trainer.py:122\n",
      "Iˈ6.940 4199 0.918+0.203reg params=5 av_abs_grad 0.03 av_abs_delta: 0.002 av_abs_output 1e+01 max_abs_output 1e+01 max_abs_param 29.0 hcut 0 lcut 0.0 livenet/net_trainer.py:122\n",
      "Iˈ7.148 4299 0.918+0.203reg params=5 av_abs_grad 0.03 av_abs_delta: 0.002 av_abs_output 1e+01 max_abs_output 1e+01 max_abs_param 29.0 hcut 0 lcut 0.0 livenet/net_trainer.py:122\n",
      "Iˈ7.358 4399 0.918+0.203reg params=5 av_abs_grad 0.03 av_abs_delta: 0.002 av_abs_output 1e+01 max_abs_output 1e+01 max_abs_param 29.0 hcut 0 lcut 0.0 livenet/net_trainer.py:122\n",
      "Iˈ7.570 4499 0.918+0.203reg params=5 av_abs_grad 0.03 av_abs_delta: 0.002 av_abs_output 1e+01 max_abs_output 1e+01 max_abs_param 29.0 hcut 0 lcut 0.0 livenet/net_trainer.py:122\n",
      "Iˈ7.782 4599 0.918+0.203reg params=5 av_abs_grad 0.03 av_abs_delta: 0.002 av_abs_output 1e+01 max_abs_output 1e+01 max_abs_param 29.0 hcut 0 lcut 0.0 livenet/net_trainer.py:122\n",
      "Iˈ7.996 4699 0.918+0.203reg params=5 av_abs_grad 0.03 av_abs_delta: 0.002 av_abs_output 1e+01 max_abs_output 1e+01 max_abs_param 29.0 hcut 0 lcut 0.0 livenet/net_trainer.py:122\n",
      "Iˈ8.214 4799 0.918+0.203reg params=5 av_abs_grad 0.03 av_abs_delta: 0.002 av_abs_output 1e+01 max_abs_output 1e+01 max_abs_param 29.0 hcut 0 lcut 0.0 livenet/net_trainer.py:122\n",
      "Iˈ8.436 4899 0.918+0.203reg params=5 av_abs_grad 0.03 av_abs_delta: 0.002 av_abs_output 1e+01 max_abs_output 1e+01 max_abs_param 29.0 hcut 0 lcut 0.0 livenet/net_trainer.py:122\n",
      "Iˈ8.668 4999 0.918+0.203reg params=5 av_abs_grad 0.03 av_abs_delta: 0.002 av_abs_output 1e+01 max_abs_output 1e+01 max_abs_param 29.0 hcut 0 lcut 0.0 livenet/net_trainer.py:122\n",
      "Iˈ8.896 5099 0.918+0.203reg params=5 av_abs_grad 0.03 av_abs_delta: 0.002 av_abs_output 1e+01 max_abs_output 1e+01 max_abs_param 29.0 hcut 0 lcut 0.0 livenet/net_trainer.py:122\n",
      "Iˈ9.120 5199 0.918+0.203reg params=5 av_abs_grad 0.03 av_abs_delta: 0.002 av_abs_output 1e+01 max_abs_output 1e+01 max_abs_param 29.0 hcut 0 lcut 0.0 livenet/net_trainer.py:122\n",
      "Iˈ9.348 5299 0.918+0.203reg params=5 av_abs_grad 0.03 av_abs_delta: 0.002 av_abs_output 1e+01 max_abs_output 1e+01 max_abs_param 29.0 hcut 0 lcut 0.0 livenet/net_trainer.py:122\n",
      "Iˈ9.577 5399 0.918+0.203reg params=5 av_abs_grad 0.03 av_abs_delta: 0.002 av_abs_output 1e+01 max_abs_output 1e+01 max_abs_param 29.0 hcut 0 lcut 0.0 livenet/net_trainer.py:122\n",
      "Iˈ9.810 5499 0.918+0.203reg params=5 av_abs_grad 0.03 av_abs_delta: 0.002 av_abs_output 1e+01 max_abs_output 1e+01 max_abs_param 29.0 hcut 0 lcut 0.0 livenet/net_trainer.py:122\n",
      "Iˈ10.036 5599 0.918+0.203reg params=5 av_abs_grad 0.03 av_abs_delta: 0.002 av_abs_output 1e+01 max_abs_output 1e+01 max_abs_param 29.0 hcut 0 lcut 0.0 livenet/net_trainer.py:122\n",
      "Iˈ10.208 5699 0.918+0.203reg params=5 av_abs_grad 0.03 av_abs_delta: 0.002 av_abs_output 1e+01 max_abs_output 1e+01 max_abs_param 29.0 hcut 0 lcut 0.0 livenet/net_trainer.py:122\n",
      "Iˈ10.448 5799 0.918+0.203reg params=5 av_abs_grad 0.03 av_abs_delta: 0.002 av_abs_output 1e+01 max_abs_output 1e+01 max_abs_param 29.0 hcut 0 lcut 0.0 livenet/net_trainer.py:122\n",
      "Iˈ10.693 5899 0.918+0.203reg params=5 av_abs_grad 0.03 av_abs_delta: 0.002 av_abs_output 1e+01 max_abs_output 1e+01 max_abs_param 29.0 hcut 0 lcut 0.0 livenet/net_trainer.py:122\n",
      "Iˈ10.930 5999 0.918+0.203reg params=5 av_abs_grad 0.03 av_abs_delta: 0.002 av_abs_output 1e+01 max_abs_output 1e+01 max_abs_param 29.0 hcut 0 lcut 0.0 livenet/net_trainer.py:122\n",
      "Iˈ11.169 6099 0.918+0.203reg params=5 av_abs_grad 0.03 av_abs_delta: 0.002 av_abs_output 1e+01 max_abs_output 1e+01 max_abs_param 29.0 hcut 0 lcut 0.0 livenet/net_trainer.py:122\n",
      "Iˈ11.411 6199 0.918+0.203reg params=5 av_abs_grad 0.03 av_abs_delta: 0.002 av_abs_output 1e+01 max_abs_output 1e+01 max_abs_param 29.0 hcut 0 lcut 0.0 livenet/net_trainer.py:122\n",
      "Iˈ11.654 6299 0.918+0.203reg params=5 av_abs_grad 0.03 av_abs_delta: 0.002 av_abs_output 1e+01 max_abs_output 1e+01 max_abs_param 29.0 hcut 0 lcut 0.0 livenet/net_trainer.py:122\n",
      "Iˈ11.897 6399 0.918+0.203reg params=5 av_abs_grad 0.03 av_abs_delta: 0.002 av_abs_output 1e+01 max_abs_output 1e+01 max_abs_param 29.0 hcut 0 lcut 0.0 livenet/net_trainer.py:122\n",
      "Iˈ12.144 6499 0.918+0.203reg params=5 av_abs_grad 0.03 av_abs_delta: 0.002 av_abs_output 1e+01 max_abs_output 1e+01 max_abs_param 29.0 hcut 0 lcut 0.0 livenet/net_trainer.py:122\n",
      "Iˈ12.392 6599 0.918+0.203reg params=5 av_abs_grad 0.03 av_abs_delta: 0.002 av_abs_output 1e+01 max_abs_output 1e+01 max_abs_param 29.0 hcut 0 lcut 0.0 livenet/net_trainer.py:122\n",
      "Iˈ12.642 6699 0.918+0.203reg params=5 av_abs_grad 0.03 av_abs_delta: 0.002 av_abs_output 1e+01 max_abs_output 1e+01 max_abs_param 29.0 hcut 0 lcut 0.0 livenet/net_trainer.py:122\n",
      "Iˈ12.896 6799 0.918+0.203reg params=5 av_abs_grad 0.03 av_abs_delta: 0.002 av_abs_output 1e+01 max_abs_output 1e+01 max_abs_param 29.0 hcut 0 lcut 0.0 livenet/net_trainer.py:122\n",
      "Iˈ13.149 6899 0.918+0.203reg params=5 av_abs_grad 0.03 av_abs_delta: 0.002 av_abs_output 1e+01 max_abs_output 1e+01 max_abs_param 29.0 hcut 0 lcut 0.0 livenet/net_trainer.py:122\n",
      "Iˈ13.407 6999 0.918+0.203reg params=5 av_abs_grad 0.03 av_abs_delta: 0.002 av_abs_output 1e+01 max_abs_output 1e+01 max_abs_param 29.0 hcut 0 lcut 0.0 livenet/net_trainer.py:122\n",
      "Iˈ13.664 7099 0.918+0.203reg params=5 av_abs_grad 0.03 av_abs_delta: 0.002 av_abs_output 1e+01 max_abs_output 1e+01 max_abs_param 29.0 hcut 0 lcut 0.0 livenet/net_trainer.py:122\n",
      "Iˈ13.925 7199 0.918+0.203reg params=5 av_abs_grad 0.03 av_abs_delta: 0.002 av_abs_output 1e+01 max_abs_output 1e+01 max_abs_param 29.0 hcut 0 lcut 0.0 livenet/net_trainer.py:122\n",
      "Iˈ14.193 7299 0.918+0.203reg params=5 av_abs_grad 0.03 av_abs_delta: 0.002 av_abs_output 1e+01 max_abs_output 1e+01 max_abs_param 29.0 hcut 0 lcut 0.0 livenet/net_trainer.py:122\n",
      "Iˈ14.454 7399 0.918+0.203reg params=5 av_abs_grad 0.03 av_abs_delta: 0.002 av_abs_output 1e+01 max_abs_output 1e+01 max_abs_param 29.0 hcut 0 lcut 0.0 livenet/net_trainer.py:122\n",
      "Iˈ14.718 7499 0.918+0.203reg params=5 av_abs_grad 0.03 av_abs_delta: 0.002 av_abs_output 1e+01 max_abs_output 1e+01 max_abs_param 29.0 hcut 0 lcut 0.0 livenet/net_trainer.py:122\n",
      "Iˈ14.989 7599 0.918+0.203reg params=5 av_abs_grad 0.03 av_abs_delta: 0.002 av_abs_output 1e+01 max_abs_output 1e+01 max_abs_param 29.0 hcut 0 lcut 0.0 livenet/net_trainer.py:122\n",
      "Iˈ15.259 7699 0.918+0.203reg params=5 av_abs_grad 0.03 av_abs_delta: 0.002 av_abs_output 1e+01 max_abs_output 1e+01 max_abs_param 29.0 hcut 0 lcut 0.0 livenet/net_trainer.py:122\n",
      "Iˈ15.530 7799 0.918+0.203reg params=5 av_abs_grad 0.03 av_abs_delta: 0.002 av_abs_output 1e+01 max_abs_output 1e+01 max_abs_param 29.0 hcut 0 lcut 0.0 livenet/net_trainer.py:122\n",
      "Iˈ15.803 7899 0.918+0.203reg params=5 av_abs_grad 0.03 av_abs_delta: 0.002 av_abs_output 1e+01 max_abs_output 1e+01 max_abs_param 29.0 hcut 0 lcut 0.0 livenet/net_trainer.py:122\n",
      "Iˈ16.078 7999 0.918+0.203reg params=5 av_abs_grad 0.03 av_abs_delta: 0.002 av_abs_output 1e+01 max_abs_output 1e+01 max_abs_param 29.0 hcut 0 lcut 0.0 livenet/net_trainer.py:122\n",
      "Iˈ16.355 8099 0.918+0.203reg params=5 av_abs_grad 0.03 av_abs_delta: 0.002 av_abs_output 1e+01 max_abs_output 1e+01 max_abs_param 29.0 hcut 0 lcut 0.0 livenet/net_trainer.py:122\n",
      "Iˈ16.637 8199 0.918+0.203reg params=5 av_abs_grad 0.03 av_abs_delta: 0.002 av_abs_output 1e+01 max_abs_output 1e+01 max_abs_param 29.0 hcut 0 lcut 0.0 livenet/net_trainer.py:122\n",
      "Iˈ16.918 8299 0.918+0.203reg params=5 av_abs_grad 0.03 av_abs_delta: 0.002 av_abs_output 1e+01 max_abs_output 1e+01 max_abs_param 29.0 hcut 0 lcut 0.0 livenet/net_trainer.py:122\n",
      "Iˈ17.201 8399 0.918+0.203reg params=5 av_abs_grad 0.03 av_abs_delta: 0.002 av_abs_output 1e+01 max_abs_output 1e+01 max_abs_param 29.0 hcut 0 lcut 0.0 livenet/net_trainer.py:122\n",
      "Iˈ17.485 8499 0.918+0.203reg params=5 av_abs_grad 0.03 av_abs_delta: 0.002 av_abs_output 1e+01 max_abs_output 1e+01 max_abs_param 29.0 hcut 0 lcut 0.0 livenet/net_trainer.py:122\n",
      "Iˈ17.772 8599 0.918+0.203reg params=5 av_abs_grad 0.03 av_abs_delta: 0.002 av_abs_output 1e+01 max_abs_output 1e+01 max_abs_param 29.0 hcut 0 lcut 0.0 livenet/net_trainer.py:122\n",
      "Iˈ18.060 8699 0.918+0.203reg params=5 av_abs_grad 0.03 av_abs_delta: 0.002 av_abs_output 1e+01 max_abs_output 1e+01 max_abs_param 29.0 hcut 0 lcut 0.0 livenet/net_trainer.py:122\n",
      "Iˈ18.348 8799 0.918+0.203reg params=5 av_abs_grad 0.03 av_abs_delta: 0.002 av_abs_output 1e+01 max_abs_output 1e+01 max_abs_param 29.0 hcut 0 lcut 0.0 livenet/net_trainer.py:122\n",
      "Iˈ18.640 8899 0.918+0.203reg params=5 av_abs_grad 0.03 av_abs_delta: 0.002 av_abs_output 1e+01 max_abs_output 1e+01 max_abs_param 29.0 hcut 0 lcut 0.0 livenet/net_trainer.py:122\n",
      "Iˈ18.937 8999 0.918+0.203reg params=5 av_abs_grad 0.03 av_abs_delta: 0.002 av_abs_output 1e+01 max_abs_output 1e+01 max_abs_param 29.0 hcut 0 lcut 0.0 livenet/net_trainer.py:122\n",
      "Iˈ19.232 9099 0.918+0.203reg params=5 av_abs_grad 0.03 av_abs_delta: 0.002 av_abs_output 1e+01 max_abs_output 1e+01 max_abs_param 29.0 hcut 0 lcut 0.0 livenet/net_trainer.py:122\n",
      "Iˈ19.529 9199 0.918+0.203reg params=5 av_abs_grad 0.03 av_abs_delta: 0.002 av_abs_output 1e+01 max_abs_output 1e+01 max_abs_param 29.0 hcut 0 lcut 0.0 livenet/net_trainer.py:122\n",
      "Iˈ19.823 9299 0.918+0.203reg params=5 av_abs_grad 0.03 av_abs_delta: 0.002 av_abs_output 1e+01 max_abs_output 1e+01 max_abs_param 29.0 hcut 0 lcut 0.0 livenet/net_trainer.py:122\n",
      "Iˈ20.122 9399 0.918+0.203reg params=5 av_abs_grad 0.03 av_abs_delta: 0.002 av_abs_output 1e+01 max_abs_output 1e+01 max_abs_param 29.0 hcut 0 lcut 0.0 livenet/net_trainer.py:122\n",
      "Iˈ20.422 9499 0.918+0.203reg params=5 av_abs_grad 0.03 av_abs_delta: 0.002 av_abs_output 1e+01 max_abs_output 1e+01 max_abs_param 29.0 hcut 0 lcut 0.0 livenet/net_trainer.py:122\n",
      "Iˈ20.721 9599 0.918+0.203reg params=5 av_abs_grad 0.03 av_abs_delta: 0.002 av_abs_output 1e+01 max_abs_output 1e+01 max_abs_param 29.0 hcut 0 lcut 0.0 livenet/net_trainer.py:122\n",
      "Iˈ21.022 9699 0.918+0.203reg params=5 av_abs_grad 0.03 av_abs_delta: 0.002 av_abs_output 1e+01 max_abs_output 1e+01 max_abs_param 29.0 hcut 0 lcut 0.0 livenet/net_trainer.py:122\n",
      "Iˈ21.333 9799 0.918+0.203reg params=5 av_abs_grad 0.03 av_abs_delta: 0.002 av_abs_output 1e+01 max_abs_output 1e+01 max_abs_param 29.0 hcut 0 lcut 0.0 livenet/net_trainer.py:122\n",
      "Iˈ21.642 9899 0.918+0.203reg params=5 av_abs_grad 0.03 av_abs_delta: 0.002 av_abs_output 1e+01 max_abs_output 1e+01 max_abs_param 29.0 hcut 0 lcut 0.0 livenet/net_trainer.py:122\n",
      "Iˈ21.953 9999 0.918+0.203reg params=5 av_abs_grad 0.03 av_abs_delta: 0.002 av_abs_output 1e+01 max_abs_output 1e+01 max_abs_param 29.0 hcut 0 lcut 0.0 livenet/net_trainer.py:122\n",
      "Iˈ22.265 10099 0.918+0.203reg params=5 av_abs_grad 0.03 av_abs_delta: 0.002 av_abs_output 1e+01 max_abs_output 1e+01 max_abs_param 29.0 hcut 0 lcut 0.0 livenet/net_trainer.py:122\n",
      "Iˈ22.578 10199 0.918+0.203reg params=5 av_abs_grad 0.03 av_abs_delta: 0.002 av_abs_output 1e+01 max_abs_output 1e+01 max_abs_param 29.0 hcut 0 lcut 0.0 livenet/net_trainer.py:122\n",
      "Iˈ22.895 10299 0.918+0.203reg params=5 av_abs_grad 0.03 av_abs_delta: 0.002 av_abs_output 1e+01 max_abs_output 1e+01 max_abs_param 29.0 hcut 0 lcut 0.0 livenet/net_trainer.py:122\n",
      "Iˈ23.213 10399 0.918+0.203reg params=5 av_abs_grad 0.03 av_abs_delta: 0.002 av_abs_output 1e+01 max_abs_output 1e+01 max_abs_param 29.0 hcut 0 lcut 0.0 livenet/net_trainer.py:122\n",
      "Iˈ23.533 10499 0.918+0.203reg params=5 av_abs_grad 0.03 av_abs_delta: 0.002 av_abs_output 1e+01 max_abs_output 1e+01 max_abs_param 29.0 hcut 0 lcut 0.0 livenet/net_trainer.py:122\n",
      "Iˈ23.850 10599 0.918+0.203reg params=5 av_abs_grad 0.03 av_abs_delta: 0.002 av_abs_output 1e+01 max_abs_output 1e+01 max_abs_param 29.0 hcut 0 lcut 0.0 livenet/net_trainer.py:122\n",
      "Iˈ24.176 10699 0.918+0.203reg params=5 av_abs_grad 0.03 av_abs_delta: 0.002 av_abs_output 1e+01 max_abs_output 1e+01 max_abs_param 29.0 hcut 0 lcut 0.0 livenet/net_trainer.py:122\n",
      "Iˈ24.498 10799 0.918+0.203reg params=5 av_abs_grad 0.03 av_abs_delta: 0.002 av_abs_output 1e+01 max_abs_output 1e+01 max_abs_param 29.0 hcut 0 lcut 0.0 livenet/net_trainer.py:122\n",
      "Iˈ24.825 10899 0.918+0.203reg params=5 av_abs_grad 0.03 av_abs_delta: 0.002 av_abs_output 1e+01 max_abs_output 1e+01 max_abs_param 29.0 hcut 0 lcut 0.0 livenet/net_trainer.py:122\n",
      "Iˈ25.151 10999 0.918+0.203reg params=5 av_abs_grad 0.03 av_abs_delta: 0.002 av_abs_output 1e+01 max_abs_output 1e+01 max_abs_param 29.0 hcut 0 lcut 0.0 livenet/net_trainer.py:122\n",
      "Iˈ25.480 11099 0.918+0.203reg params=5 av_abs_grad 0.03 av_abs_delta: 0.002 av_abs_output 1e+01 max_abs_output 1e+01 max_abs_param 29.0 hcut 0 lcut 0.0 livenet/net_trainer.py:122\n",
      "Iˈ25.812 11199 0.918+0.203reg params=5 av_abs_grad 0.03 av_abs_delta: 0.002 av_abs_output 1e+01 max_abs_output 1e+01 max_abs_param 29.0 hcut 0 lcut 0.0 livenet/net_trainer.py:122\n",
      "Iˈ26.149 11299 0.918+0.203reg params=5 av_abs_grad 0.03 av_abs_delta: 0.002 av_abs_output 1e+01 max_abs_output 1e+01 max_abs_param 29.0 hcut 0 lcut 0.0 livenet/net_trainer.py:122\n",
      "Iˈ26.485 11399 0.918+0.203reg params=5 av_abs_grad 0.03 av_abs_delta: 0.002 av_abs_output 1e+01 max_abs_output 1e+01 max_abs_param 29.0 hcut 0 lcut 0.0 livenet/net_trainer.py:122\n",
      "Iˈ26.818 11499 0.918+0.203reg params=5 av_abs_grad 0.03 av_abs_delta: 0.002 av_abs_output 1e+01 max_abs_output 1e+01 max_abs_param 29.0 hcut 0 lcut 0.0 livenet/net_trainer.py:122\n",
      "Iˈ27.151 11599 0.918+0.203reg params=5 av_abs_grad 0.03 av_abs_delta: 0.002 av_abs_output 1e+01 max_abs_output 1e+01 max_abs_param 29.0 hcut 0 lcut 0.0 livenet/net_trainer.py:122\n",
      "Iˈ27.491 11699 0.918+0.203reg params=5 av_abs_grad 0.03 av_abs_delta: 0.002 av_abs_output 1e+01 max_abs_output 1e+01 max_abs_param 29.0 hcut 0 lcut 0.0 livenet/net_trainer.py:122\n",
      "Iˈ27.830 11799 0.918+0.203reg params=5 av_abs_grad 0.03 av_abs_delta: 0.002 av_abs_output 1e+01 max_abs_output 1e+01 max_abs_param 29.0 hcut 0 lcut 0.0 livenet/net_trainer.py:122\n",
      "Iˈ28.169 11899 0.918+0.203reg params=5 av_abs_grad 0.03 av_abs_delta: 0.002 av_abs_output 1e+01 max_abs_output 1e+01 max_abs_param 29.0 hcut 0 lcut 0.0 livenet/net_trainer.py:122\n",
      "Iˈ28.514 11999 0.918+0.203reg params=5 av_abs_grad 0.03 av_abs_delta: 0.002 av_abs_output 1e+01 max_abs_output 1e+01 max_abs_param 29.0 hcut 0 lcut 0.0 livenet/net_trainer.py:122\n",
      "Iˈ28.856 12099 0.918+0.203reg params=5 av_abs_grad 0.03 av_abs_delta: 0.002 av_abs_output 1e+01 max_abs_output 1e+01 max_abs_param 29.0 hcut 0 lcut 0.0 livenet/net_trainer.py:122\n",
      "Iˈ29.204 12199 0.918+0.203reg params=5 av_abs_grad 0.03 av_abs_delta: 0.002 av_abs_output 1e+01 max_abs_output 1e+01 max_abs_param 29.0 hcut 0 lcut 0.0 livenet/net_trainer.py:122\n",
      "Iˈ29.553 12299 0.918+0.203reg params=5 av_abs_grad 0.03 av_abs_delta: 0.002 av_abs_output 1e+01 max_abs_output 1e+01 max_abs_param 29.0 hcut 0 lcut 0.0 livenet/net_trainer.py:122\n",
      "Iˈ29.903 12399 0.918+0.203reg params=5 av_abs_grad 0.03 av_abs_delta: 0.002 av_abs_output 1e+01 max_abs_output 1e+01 max_abs_param 29.0 hcut 0 lcut 0.0 livenet/net_trainer.py:122\n",
      "Iˈ30.256 12499 0.918+0.203reg params=5 av_abs_grad 0.03 av_abs_delta: 0.002 av_abs_output 1e+01 max_abs_output 1e+01 max_abs_param 29.0 hcut 0 lcut 0.0 livenet/net_trainer.py:122\n",
      "Iˈ30.605 12599 0.918+0.203reg params=5 av_abs_grad 0.03 av_abs_delta: 0.002 av_abs_output 1e+01 max_abs_output 1e+01 max_abs_param 29.0 hcut 0 lcut 0.0 livenet/net_trainer.py:122\n",
      "Iˈ30.962 12699 0.918+0.203reg params=5 av_abs_grad 0.03 av_abs_delta: 0.002 av_abs_output 1e+01 max_abs_output 1e+01 max_abs_param 29.0 hcut 0 lcut 0.0 livenet/net_trainer.py:122\n",
      "Iˈ31.323 12799 0.918+0.203reg params=5 av_abs_grad 0.03 av_abs_delta: 0.002 av_abs_output 1e+01 max_abs_output 1e+01 max_abs_param 29.0 hcut 0 lcut 0.0 livenet/net_trainer.py:122\n",
      "Iˈ31.682 12899 0.918+0.203reg params=5 av_abs_grad 0.03 av_abs_delta: 0.002 av_abs_output 1e+01 max_abs_output 1e+01 max_abs_param 29.0 hcut 0 lcut 0.0 livenet/net_trainer.py:122\n",
      "Iˈ32.042 12999 0.918+0.203reg params=5 av_abs_grad 0.03 av_abs_delta: 0.002 av_abs_output 1e+01 max_abs_output 1e+01 max_abs_param 29.0 hcut 0 lcut 0.0 livenet/net_trainer.py:122\n",
      "Iˈ32.404 13099 0.918+0.203reg params=5 av_abs_grad 0.03 av_abs_delta: 0.002 av_abs_output 1e+01 max_abs_output 1e+01 max_abs_param 29.0 hcut 0 lcut 0.0 livenet/net_trainer.py:122\n",
      "Iˈ32.772 13199 0.918+0.203reg params=5 av_abs_grad 0.03 av_abs_delta: 0.002 av_abs_output 1e+01 max_abs_output 1e+01 max_abs_param 29.0 hcut 0 lcut 0.0 livenet/net_trainer.py:122\n",
      "Iˈ33.142 13299 0.918+0.203reg params=5 av_abs_grad 0.03 av_abs_delta: 0.002 av_abs_output 1e+01 max_abs_output 1e+01 max_abs_param 29.0 hcut 0 lcut 0.0 livenet/net_trainer.py:122\n",
      "Iˈ33.513 13399 0.918+0.203reg params=5 av_abs_grad 0.03 av_abs_delta: 0.002 av_abs_output 1e+01 max_abs_output 1e+01 max_abs_param 29.0 hcut 0 lcut 0.0 livenet/net_trainer.py:122\n",
      "Iˈ33.882 13499 0.918+0.203reg params=5 av_abs_grad 0.03 av_abs_delta: 0.002 av_abs_output 1e+01 max_abs_output 1e+01 max_abs_param 29.0 hcut 0 lcut 0.0 livenet/net_trainer.py:122\n",
      "Iˈ34.255 13599 0.918+0.203reg params=5 av_abs_grad 0.03 av_abs_delta: 0.002 av_abs_output 1e+01 max_abs_output 1e+01 max_abs_param 29.0 hcut 0 lcut 0.0 livenet/net_trainer.py:122\n",
      "Iˈ34.631 13699 0.918+0.203reg params=5 av_abs_grad 0.03 av_abs_delta: 0.002 av_abs_output 1e+01 max_abs_output 1e+01 max_abs_param 29.0 hcut 0 lcut 0.0 livenet/net_trainer.py:122\n",
      "Iˈ35.004 13799 0.918+0.203reg params=5 av_abs_grad 0.03 av_abs_delta: 0.002 av_abs_output 1e+01 max_abs_output 1e+01 max_abs_param 29.0 hcut 0 lcut 0.0 livenet/net_trainer.py:122\n",
      "Iˈ35.387 13899 0.918+0.203reg params=5 av_abs_grad 0.03 av_abs_delta: 0.002 av_abs_output 1e+01 max_abs_output 1e+01 max_abs_param 29.0 hcut 0 lcut 0.0 livenet/net_trainer.py:122\n",
      "Iˈ35.759 13999 0.918+0.203reg params=5 av_abs_grad 0.03 av_abs_delta: 0.002 av_abs_output 1e+01 max_abs_output 1e+01 max_abs_param 29.0 hcut 0 lcut 0.0 livenet/net_trainer.py:122\n",
      "Iˈ36.169 14099 0.918+0.203reg params=5 av_abs_grad 0.03 av_abs_delta: 0.002 av_abs_output 1e+01 max_abs_output 1e+01 max_abs_param 29.0 hcut 0 lcut 0.0 livenet/net_trainer.py:122\n",
      "Iˈ36.552 14199 0.918+0.203reg params=5 av_abs_grad 0.03 av_abs_delta: 0.002 av_abs_output 1e+01 max_abs_output 1e+01 max_abs_param 29.0 hcut 0 lcut 0.0 livenet/net_trainer.py:122\n",
      "Iˈ36.938 14299 0.918+0.203reg params=5 av_abs_grad 0.03 av_abs_delta: 0.002 av_abs_output 1e+01 max_abs_output 1e+01 max_abs_param 29.0 hcut 0 lcut 0.0 livenet/net_trainer.py:122\n",
      "Iˈ37.327 14399 0.918+0.203reg params=5 av_abs_grad 0.03 av_abs_delta: 0.002 av_abs_output 1e+01 max_abs_output 1e+01 max_abs_param 29.0 hcut 0 lcut 0.0 livenet/net_trainer.py:122\n",
      "Iˈ37.715 14499 0.918+0.203reg params=5 av_abs_grad 0.03 av_abs_delta: 0.002 av_abs_output 1e+01 max_abs_output 1e+01 max_abs_param 29.0 hcut 0 lcut 0.0 livenet/net_trainer.py:122\n",
      "Iˈ38.101 14599 0.918+0.203reg params=5 av_abs_grad 0.03 av_abs_delta: 0.002 av_abs_output 1e+01 max_abs_output 1e+01 max_abs_param 29.0 hcut 0 lcut 0.0 livenet/net_trainer.py:122\n",
      "Iˈ38.494 14699 0.918+0.203reg params=5 av_abs_grad 0.03 av_abs_delta: 0.002 av_abs_output 1e+01 max_abs_output 1e+01 max_abs_param 29.0 hcut 0 lcut 0.0 livenet/net_trainer.py:122\n",
      "Iˈ38.892 14799 0.918+0.203reg params=5 av_abs_grad 0.03 av_abs_delta: 0.002 av_abs_output 1e+01 max_abs_output 1e+01 max_abs_param 29.0 hcut 0 lcut 0.0 livenet/net_trainer.py:122\n",
      "Iˈ39.284 14899 0.918+0.203reg params=5 av_abs_grad 0.03 av_abs_delta: 0.002 av_abs_output 1e+01 max_abs_output 1e+01 max_abs_param 29.0 hcut 0 lcut 0.0 livenet/net_trainer.py:122\n",
      "Iˈ39.678 14999 0.918+0.203reg params=5 av_abs_grad 0.03 av_abs_delta: 0.002 av_abs_output 1e+01 max_abs_output 1e+01 max_abs_param 29.0 hcut 0 lcut 0.0 livenet/net_trainer.py:122\n"
     ]
    }
   ],
   "execution_count": 2
  },
  {
   "metadata": {
    "ExecuteTime": {
     "end_time": "2025-03-21T20:40:41.929670Z",
     "start_time": "2025-03-21T20:40:35.375354Z"
    }
   },
   "cell_type": "code",
   "source": [
    "\n",
    "network.mortal = True\n",
    "trainer.step(2000)\n"
   ],
   "id": "45b4fb61a657c526",
   "outputs": [
    {
     "name": "stdout",
     "output_type": "stream",
     "text": [
      "Iˈ0.000 15099 0.918+0.002reg params=4 av_abs_grad 0.007 av_abs_delta: 0.001 av_abs_output 1e+01 max_abs_output 1e+01 max_abs_param 21.0 hcut 0 lcut 0.0 livenet/net_trainer.py:122\n",
      "Iˈ0.364 15199 0.918+0.001reg params=4 av_abs_grad 0.006 av_abs_delta: 0.001 av_abs_output 1e+01 max_abs_output 1e+01 max_abs_param 21.1 hcut 0 lcut 0.0 livenet/net_trainer.py:122\n",
      "Iˈ0.725 15299 0.918+0.001reg params=4 av_abs_grad 0.006 av_abs_delta: 0.001 av_abs_output 1e+01 max_abs_output 1e+01 max_abs_param 21.1 hcut 0 lcut 0.0 livenet/net_trainer.py:122\n",
      "Iˈ1.084 15399 0.918+0.001reg params=4 av_abs_grad 0.007 av_abs_delta: 0.001 av_abs_output 1e+01 max_abs_output 1e+01 max_abs_param 21.2 hcut 0 lcut 0.0 livenet/net_trainer.py:122\n",
      "Iˈ1.445 15499 0.918+0.000reg params=4 av_abs_grad 0.007 av_abs_delta: 0.001 av_abs_output 1e+01 max_abs_output 1e+01 max_abs_param 21.3 hcut 0 lcut 0.0 livenet/net_trainer.py:122\n",
      "Iˈ1.468 N0 became useless and will die at tick 15535 livenet/backend/core.py:83\n",
      "Iˈ1.468 killing DestinationNeuron N0 with b=21.336, tick=15535 livenet/backend/core.py:180\n",
      "Iˈ1.468 killing SourceNeuron N0 tick=15535 livenet/backend/core.py:93\n",
      "Iˈ1.721 15599 0.918+0.000reg params=2 av_abs_grad 0.005 av_abs_delta: 0.0006 av_abs_output 1e+01 max_abs_output 1e+01 max_abs_param 21.3 hcut 0 lcut 0.0 livenet/net_trainer.py:122\n",
      "Iˈ2.068 15699 0.918+0.000reg params=2 av_abs_grad 2e-05 av_abs_delta: 5e-05 av_abs_output 1e+01 max_abs_output 1e+01 max_abs_param 15.3 hcut 0 lcut 0.0 livenet/net_trainer.py:122\n",
      "Iˈ2.393 15799 0.918+0.000reg params=2 av_abs_grad 2e-05 av_abs_delta: 5e-05 av_abs_output 1e+01 max_abs_output 1e+01 max_abs_param 15.3 hcut 0 lcut 0.0 livenet/net_trainer.py:122\n",
      "Iˈ2.719 15899 0.918+0.000reg params=2 av_abs_grad 2e-05 av_abs_delta: 5e-05 av_abs_output 1e+01 max_abs_output 1e+01 max_abs_param 15.3 hcut 0 lcut 0.0 livenet/net_trainer.py:122\n",
      "Iˈ3.037 15999 0.918+0.000reg params=2 av_abs_grad 2e-05 av_abs_delta: 5e-05 av_abs_output 1e+01 max_abs_output 1e+01 max_abs_param 15.3 hcut 0 lcut 0.0 livenet/net_trainer.py:122\n",
      "Iˈ3.355 16099 0.918+0.000reg params=2 av_abs_grad 2e-05 av_abs_delta: 5e-05 av_abs_output 1e+01 max_abs_output 1e+01 max_abs_param 15.3 hcut 0 lcut 0.0 livenet/net_trainer.py:122\n",
      "Iˈ3.680 16199 0.918+0.000reg params=2 av_abs_grad 2e-05 av_abs_delta: 5e-05 av_abs_output 1e+01 max_abs_output 1e+01 max_abs_param 15.3 hcut 0 lcut 0.0 livenet/net_trainer.py:122\n",
      "Iˈ4.003 16299 0.918+0.000reg params=2 av_abs_grad 2e-05 av_abs_delta: 5e-05 av_abs_output 1e+01 max_abs_output 1e+01 max_abs_param 15.3 hcut 0 lcut 0.0 livenet/net_trainer.py:122\n",
      "Iˈ4.330 16399 0.918+0.000reg params=2 av_abs_grad 2e-05 av_abs_delta: 5e-05 av_abs_output 1e+01 max_abs_output 1e+01 max_abs_param 15.3 hcut 0 lcut 0.0 livenet/net_trainer.py:122\n",
      "Iˈ4.657 16499 0.918+0.000reg params=2 av_abs_grad 2e-05 av_abs_delta: 5e-05 av_abs_output 1e+01 max_abs_output 1e+01 max_abs_param 15.3 hcut 0 lcut 0.0 livenet/net_trainer.py:122\n",
      "Iˈ4.983 16599 0.918+0.000reg params=2 av_abs_grad 2e-05 av_abs_delta: 5e-05 av_abs_output 1e+01 max_abs_output 1e+01 max_abs_param 15.3 hcut 0 lcut 0.0 livenet/net_trainer.py:122\n",
      "Iˈ5.310 16699 0.918+0.000reg params=2 av_abs_grad 2e-05 av_abs_delta: 5e-05 av_abs_output 1e+01 max_abs_output 1e+01 max_abs_param 15.3 hcut 0 lcut 0.0 livenet/net_trainer.py:122\n",
      "Iˈ5.640 16799 0.918+0.000reg params=2 av_abs_grad 2e-05 av_abs_delta: 5e-05 av_abs_output 1e+01 max_abs_output 1e+01 max_abs_param 15.3 hcut 0 lcut 0.0 livenet/net_trainer.py:122\n",
      "Iˈ5.968 16899 0.918+0.000reg params=2 av_abs_grad 2e-05 av_abs_delta: 5e-05 av_abs_output 1e+01 max_abs_output 1e+01 max_abs_param 15.3 hcut 0 lcut 0.0 livenet/net_trainer.py:122\n",
      "Iˈ6.296 16999 0.918+0.000reg params=2 av_abs_grad 2e-05 av_abs_delta: 5e-05 av_abs_output 1e+01 max_abs_output 1e+01 max_abs_param 15.3 hcut 0 lcut 0.0 livenet/net_trainer.py:122\n"
     ]
    }
   ],
   "execution_count": 8
  },
  {
   "metadata": {
    "ExecuteTime": {
     "end_time": "2025-03-21T20:34:54.242696Z",
     "start_time": "2025-03-21T20:34:54.220937Z"
    }
   },
   "cell_type": "code",
   "source": [
    "\n",
    "res = network(train_x)\n",
    "loss = criterion(res, train_y)\n"
   ],
   "id": "f382e7e00aa46bd0",
   "outputs": [],
   "execution_count": 56
  },
  {
   "metadata": {
    "ExecuteTime": {
     "end_time": "2025-03-21T20:36:49.818424Z",
     "start_time": "2025-03-21T20:36:49.805579Z"
    }
   },
   "cell_type": "code",
   "source": [
    "#livenet.utils.export_onnx(network, \"/home/spometun/table/home/model.onnx\")\n",
    "print(f\"total: {len(list(network.named_parameters()))}\")\n",
    "print(network.context.topology_stat.get_stat())\n",
    "def name_comp_key(x: str):\n",
    "    if \"->\" in x:\n",
    "        x = \"_\" + x\n",
    "    return x\n",
    "\n",
    "for name, p in sorted(network.named_parameters(), key=lambda x: name_comp_key(x[0])):\n",
    "    print(name, f\"{p.item():.2f}\")\n"
   ],
   "id": "4f1f29af6faa1e59",
   "outputs": [
    {
     "name": "stdout",
     "output_type": "stream",
     "text": [
      "total: 4\n",
      "{'dangle': {'RegularNeuron': 1, 'DestinationNeuron': 1}, 'useless': {'RegularNeuron': 0, 'InputNeuron': 1}}\n",
      "D0 -14.86\n",
      "D1 -15.14\n",
      "N0 21.14\n",
      "N0->D1 -0.02\n"
     ]
    }
   ],
   "execution_count": 4
  },
  {
   "metadata": {
    "ExecuteTime": {
     "end_time": "2025-03-21T21:12:49.271920Z",
     "start_time": "2025-03-21T21:12:49.047656Z"
    }
   },
   "cell_type": "code",
   "source": [
    "life_stat = network.context.life_stat\n",
    "df = pd.DataFrame(life_stat)\n",
    "df2 = df[(df[\"type\"] == \"parameter\") & (df[\"name\"] == \"N0->D1\")]\n",
    "# df2 = df[(df[\"type\"] == \"output_low_cut_ratio\") & (df[\"name\"] == \"N0\")]\n",
    "df2.set_index(\"tick\")\n",
    "df2[\"value\"].plot(grid=True, x=\"tick\", y=\"value\", style='.-', use_index=False)\n"
   ],
   "id": "fce704405ac93103",
   "outputs": [
    {
     "data": {
      "text/plain": [
       "<Axes: >"
      ]
     },
     "execution_count": 4,
     "metadata": {},
     "output_type": "execute_result"
    }
   ],
   "execution_count": 4
  },
  {
   "metadata": {
    "ExecuteTime": {
     "end_time": "2025-02-07T20:21:05.542998Z",
     "start_time": "2025-02-07T20:21:04.030981Z"
    }
   },
   "cell_type": "code",
   "source": [
    "values = df2[\"value\"].to_list()\n",
    "ticks = list(df2[\"tick\"])\n",
    "\n",
    "plt.ion()\n",
    "plt.figure(figsize=(16, 9))\n",
    "plt.grid()\n",
    "plt.plot(y=values, x=ticks)\n",
    "# plt.show()"
   ],
   "id": "b5a81068e62a3e9b",
   "outputs": [
    {
     "ename": "TypeError",
     "evalue": "plot() got an unexpected keyword argument 'x'",
     "output_type": "error",
     "traceback": [
      "\u001B[0;31m---------------------------------------------------------------------------\u001B[0m",
      "\u001B[0;31mTypeError\u001B[0m                                 Traceback (most recent call last)",
      "Cell \u001B[0;32mIn[11], line 7\u001B[0m\n\u001B[1;32m      5\u001B[0m plt\u001B[38;5;241m.\u001B[39mfigure(figsize\u001B[38;5;241m=\u001B[39m(\u001B[38;5;241m16\u001B[39m, \u001B[38;5;241m9\u001B[39m))\n\u001B[1;32m      6\u001B[0m plt\u001B[38;5;241m.\u001B[39mgrid()\n\u001B[0;32m----> 7\u001B[0m plt\u001B[38;5;241m.\u001B[39mplot(y\u001B[38;5;241m=\u001B[39mvalues, x\u001B[38;5;241m=\u001B[39mticks)\n",
      "File \u001B[0;32m~/miniconda3/envs/home/lib/python3.12/site-packages/matplotlib/pyplot.py:3829\u001B[0m, in \u001B[0;36mplot\u001B[0;34m(scalex, scaley, data, *args, **kwargs)\u001B[0m\n\u001B[1;32m   3821\u001B[0m \u001B[38;5;129m@_copy_docstring_and_deprecators\u001B[39m(Axes\u001B[38;5;241m.\u001B[39mplot)\n\u001B[1;32m   3822\u001B[0m \u001B[38;5;28;01mdef\u001B[39;00m \u001B[38;5;21mplot\u001B[39m(\n\u001B[1;32m   3823\u001B[0m     \u001B[38;5;241m*\u001B[39margs: \u001B[38;5;28mfloat\u001B[39m \u001B[38;5;241m|\u001B[39m ArrayLike \u001B[38;5;241m|\u001B[39m \u001B[38;5;28mstr\u001B[39m,\n\u001B[0;32m   (...)\u001B[0m\n\u001B[1;32m   3827\u001B[0m     \u001B[38;5;241m*\u001B[39m\u001B[38;5;241m*\u001B[39mkwargs,\n\u001B[1;32m   3828\u001B[0m ) \u001B[38;5;241m-\u001B[39m\u001B[38;5;241m>\u001B[39m \u001B[38;5;28mlist\u001B[39m[Line2D]:\n\u001B[0;32m-> 3829\u001B[0m     \u001B[38;5;28;01mreturn\u001B[39;00m gca()\u001B[38;5;241m.\u001B[39mplot(\n\u001B[1;32m   3830\u001B[0m         \u001B[38;5;241m*\u001B[39margs,\n\u001B[1;32m   3831\u001B[0m         scalex\u001B[38;5;241m=\u001B[39mscalex,\n\u001B[1;32m   3832\u001B[0m         scaley\u001B[38;5;241m=\u001B[39mscaley,\n\u001B[1;32m   3833\u001B[0m         \u001B[38;5;241m*\u001B[39m\u001B[38;5;241m*\u001B[39m({\u001B[38;5;124m\"\u001B[39m\u001B[38;5;124mdata\u001B[39m\u001B[38;5;124m\"\u001B[39m: data} \u001B[38;5;28;01mif\u001B[39;00m data \u001B[38;5;129;01mis\u001B[39;00m \u001B[38;5;129;01mnot\u001B[39;00m \u001B[38;5;28;01mNone\u001B[39;00m \u001B[38;5;28;01melse\u001B[39;00m {}),\n\u001B[1;32m   3834\u001B[0m         \u001B[38;5;241m*\u001B[39m\u001B[38;5;241m*\u001B[39mkwargs,\n\u001B[1;32m   3835\u001B[0m     )\n",
      "File \u001B[0;32m~/miniconda3/envs/home/lib/python3.12/site-packages/matplotlib/axes/_axes.py:1777\u001B[0m, in \u001B[0;36mAxes.plot\u001B[0;34m(self, scalex, scaley, data, *args, **kwargs)\u001B[0m\n\u001B[1;32m   1534\u001B[0m \u001B[38;5;250m\u001B[39m\u001B[38;5;124;03m\"\"\"\u001B[39;00m\n\u001B[1;32m   1535\u001B[0m \u001B[38;5;124;03mPlot y versus x as lines and/or markers.\u001B[39;00m\n\u001B[1;32m   1536\u001B[0m \n\u001B[0;32m   (...)\u001B[0m\n\u001B[1;32m   1774\u001B[0m \u001B[38;5;124;03m(``'green'``) or hex strings (``'#008000'``).\u001B[39;00m\n\u001B[1;32m   1775\u001B[0m \u001B[38;5;124;03m\"\"\"\u001B[39;00m\n\u001B[1;32m   1776\u001B[0m kwargs \u001B[38;5;241m=\u001B[39m cbook\u001B[38;5;241m.\u001B[39mnormalize_kwargs(kwargs, mlines\u001B[38;5;241m.\u001B[39mLine2D)\n\u001B[0;32m-> 1777\u001B[0m lines \u001B[38;5;241m=\u001B[39m [\u001B[38;5;241m*\u001B[39m\u001B[38;5;28mself\u001B[39m\u001B[38;5;241m.\u001B[39m_get_lines(\u001B[38;5;28mself\u001B[39m, \u001B[38;5;241m*\u001B[39margs, data\u001B[38;5;241m=\u001B[39mdata, \u001B[38;5;241m*\u001B[39m\u001B[38;5;241m*\u001B[39mkwargs)]\n\u001B[1;32m   1778\u001B[0m \u001B[38;5;28;01mfor\u001B[39;00m line \u001B[38;5;129;01min\u001B[39;00m lines:\n\u001B[1;32m   1779\u001B[0m     \u001B[38;5;28mself\u001B[39m\u001B[38;5;241m.\u001B[39madd_line(line)\n",
      "File \u001B[0;32m~/miniconda3/envs/home/lib/python3.12/site-packages/matplotlib/axes/_base.py:232\u001B[0m, in \u001B[0;36m_process_plot_var_args.__call__\u001B[0;34m(self, axes, data, return_kwargs, *args, **kwargs)\u001B[0m\n\u001B[1;32m    230\u001B[0m \u001B[38;5;28;01mfor\u001B[39;00m pos_only \u001B[38;5;129;01min\u001B[39;00m \u001B[38;5;124m\"\u001B[39m\u001B[38;5;124mxy\u001B[39m\u001B[38;5;124m\"\u001B[39m:\n\u001B[1;32m    231\u001B[0m     \u001B[38;5;28;01mif\u001B[39;00m pos_only \u001B[38;5;129;01min\u001B[39;00m kwargs:\n\u001B[0;32m--> 232\u001B[0m         \u001B[38;5;28;01mraise\u001B[39;00m _api\u001B[38;5;241m.\u001B[39mkwarg_error(inspect\u001B[38;5;241m.\u001B[39mstack()[\u001B[38;5;241m1\u001B[39m]\u001B[38;5;241m.\u001B[39mfunction, pos_only)\n\u001B[1;32m    234\u001B[0m \u001B[38;5;28;01mif\u001B[39;00m \u001B[38;5;129;01mnot\u001B[39;00m args:\n\u001B[1;32m    235\u001B[0m     \u001B[38;5;28;01mreturn\u001B[39;00m\n",
      "\u001B[0;31mTypeError\u001B[0m: plot() got an unexpected keyword argument 'x'"
     ]
    }
   ],
   "execution_count": 11
  },
  {
   "metadata": {
    "ExecuteTime": {
     "end_time": "2025-02-07T20:30:23.015207Z",
     "start_time": "2025-02-07T20:30:22.995962Z"
    }
   },
   "cell_type": "code",
   "source": "print(df2[\"tick\"].head())",
   "id": "99489079a22f38d8",
   "outputs": [
    {
     "name": "stdout",
     "output_type": "stream",
     "text": [
      "61     0\n",
      "119    1\n",
      "177    2\n",
      "235    3\n",
      "293    4\n",
      "Name: tick, dtype: int64\n"
     ]
    }
   ],
   "execution_count": 16
  }
 ],
 "metadata": {
  "kernelspec": {
   "display_name": "Python 3",
   "language": "python",
   "name": "python3"
  },
  "language_info": {
   "codemirror_mode": {
    "name": "ipython",
    "version": 2
   },
   "file_extension": ".py",
   "mimetype": "text/x-python",
   "name": "python",
   "nbconvert_exporter": "python",
   "pygments_lexer": "ipython2",
   "version": "2.7.6"
  }
 },
 "nbformat": 4,
 "nbformat_minor": 5
}
