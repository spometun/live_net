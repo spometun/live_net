{
 "cells": [
  {
   "cell_type": "code",
   "id": "initial_id",
   "metadata": {
    "collapsed": true,
    "ExecuteTime": {
     "end_time": "2025-03-07T22:07:09.251065Z",
     "start_time": "2025-03-07T22:07:06.557009Z"
    }
   },
   "source": [
    "# TODO:\n",
    "%load_ext autoreload\n",
    "%autoreload 2\n",
    "import torch\n",
    "import torch.onnx\n",
    "import numpy as np\n",
    "import pandas as pd\n",
    "from matplotlib import pyplot as plt\n",
    "# matplotlib.use('Qt5Agg')\n",
    "%matplotlib Qt5Agg\n",
    "import livenet\n",
    "from livenet import nets, datasets\n"
   ],
   "outputs": [],
   "execution_count": 2
  },
  {
   "metadata": {
    "ExecuteTime": {
     "end_time": "2025-03-07T22:07:15.701064Z",
     "start_time": "2025-03-07T22:07:09.821017Z"
    }
   },
   "cell_type": "code",
   "source": [
    "downscale = (14, 14)\n",
    "train_x, train_y = datasets.to_plain(*datasets.get_mnist_train(), downscale=downscale, to_odd=True, to_gray=True)\n",
    "\n"
   ],
   "id": "4ad0b6be0754b5f",
   "outputs": [],
   "execution_count": 3
  },
  {
   "metadata": {
    "ExecuteTime": {
     "end_time": "2025-03-07T22:08:46.120213Z",
     "start_time": "2025-03-07T22:08:46.095364Z"
    }
   },
   "cell_type": "code",
   "source": [
    "\n",
    "network = nets.create_perceptron(train_x.shape[1], 2, 2)\n",
    "res = network(train_x)\n",
    "network.context.regularization_l1 = 0.001\n",
    "batch_iterator = livenet.gen_utils.batch_iterator(train_x, train_y, batch_size=1000)\n",
    "criterion = livenet.nets.criterion_classification_n\n",
    "#optimizer = livenet.backend.optimizers.optimizers.LiveNetOptimizer(network, lr=0.01)\n",
    "optimizer = nets.create_optimizer(network)\n",
    "trainer = livenet.net_trainer.NetTrainer(network, batch_iterator, criterion, optimizer, epoch_size=50)\n",
    "trainer.clear_life_stat = False\n",
    "\n"
   ],
   "id": "961f4b65c04b822c",
   "outputs": [
    {
     "name": "stdout",
     "output_type": "stream",
     "text": [
      "LiveNet\n"
     ]
    }
   ],
   "execution_count": 11
  },
  {
   "metadata": {
    "ExecuteTime": {
     "end_time": "2025-03-07T22:08:51.946854Z",
     "start_time": "2025-03-07T22:08:50.081797Z"
    }
   },
   "cell_type": "code",
   "source": [
    "network.mortal = False\n",
    "trainer.step(250)\n",
    "network.mortal = True\n",
    "trainer.step(250)\n",
    "\n"
   ],
   "id": "6f1611c1947db286",
   "outputs": [
    {
     "name": "stdout",
     "output_type": "stream",
     "text": [
      "Iˈ0.000 49 1.000+0.002reg params=16 av_abs_grad 0.003 av_abs_delta: 0.006 av_abs_output 0.03 max_abs_output 0.05 max_abs_param 0.7 hcut 0 lcut 0.4 livenet/net_trainer.py:122\n",
      "Iˈ0.204 99 0.995+0.001reg params=16 av_abs_grad 0.006 av_abs_delta: 0.003 av_abs_output 0.04 max_abs_output 0.05 max_abs_param 0.4 hcut 0 lcut 0.2 livenet/net_trainer.py:122\n",
      "Iˈ0.412 149 0.967+0.002reg params=16 av_abs_grad 0.01 av_abs_delta: 0.003 av_abs_output 0.1 max_abs_output 0.1 max_abs_param 0.9 hcut 0 lcut 0.3 livenet/net_trainer.py:122\n",
      "Iˈ0.617 199 0.923+0.003reg params=16 av_abs_grad 0.02 av_abs_delta: 0.003 av_abs_output 0.1 max_abs_output 0.2 max_abs_param 1.4 hcut 0 lcut 0.3 livenet/net_trainer.py:122\n",
      "Iˈ0.828 249 0.874+0.005reg params=16 av_abs_grad 0.02 av_abs_delta: 0.003 av_abs_output 0.2 max_abs_output 0.3 max_abs_param 1.9 hcut 0 lcut 0.3 livenet/net_trainer.py:122\n",
      "Iˈ0.832 N1 became useless and will die at tick 250 livenet/backend/core.py:83\n",
      "Iˈ0.832 killing DestinationNeuron N1 with b=-0.001, tick=250 livenet/backend/core.py:180\n",
      "Iˈ0.833 killing SourceNeuron N1 tick=250 livenet/backend/core.py:93\n",
      "Iˈ0.964 299 0.839+0.006reg params=9 av_abs_grad 0.05 av_abs_delta: 0.004 av_abs_output 0.4 max_abs_output 0.7 max_abs_param 2.4 hcut 0 lcut 0.0 livenet/net_trainer.py:122\n",
      "Iˈ1.103 349 0.811+0.007reg params=9 av_abs_grad 0.06 av_abs_delta: 0.004 av_abs_output 0.4 max_abs_output 0.8 max_abs_param 2.9 hcut 0 lcut 0.0 livenet/net_trainer.py:122\n",
      "Iˈ1.242 399 0.786+0.008reg params=9 av_abs_grad 0.07 av_abs_delta: 0.004 av_abs_output 0.4 max_abs_output 0.9 max_abs_param 3.4 hcut 0 lcut 0.0 livenet/net_trainer.py:122\n",
      "Iˈ1.381 449 0.768+0.009reg params=9 av_abs_grad 0.06 av_abs_delta: 0.003 av_abs_output 0.5 max_abs_output 0.9 max_abs_param 3.8 hcut 0 lcut 0.0 livenet/net_trainer.py:122\n",
      "Iˈ1.524 499 0.752+0.010reg params=9 av_abs_grad 0.08 av_abs_delta: 0.004 av_abs_output 0.5 max_abs_output 1 max_abs_param 4.3 hcut 0 lcut 0.0 livenet/net_trainer.py:122\n"
     ]
    }
   ],
   "execution_count": 12
  },
  {
   "metadata": {
    "ExecuteTime": {
     "end_time": "2025-03-07T22:08:10.369877Z",
     "start_time": "2025-03-07T22:08:10.317651Z"
    }
   },
   "cell_type": "code",
   "source": [
    "\n",
    "pred = network(train_x)\n",
    "pred_bin = np.argmax(pred.detach().numpy(), axis=1, keepdims=True)\n",
    "diff = train_y.numpy() - pred_bin\n",
    "accuracy = len(diff[diff == 0]) / len(diff)\n",
    "accuracy\n"
   ],
   "id": "13ed5d678d926bd3",
   "outputs": [
    {
     "data": {
      "text/plain": [
       "0.7581166666666667"
      ]
     },
     "execution_count": 8,
     "metadata": {},
     "output_type": "execute_result"
    }
   ],
   "execution_count": 8
  },
  {
   "metadata": {
    "ExecuteTime": {
     "end_time": "2025-03-07T21:39:23.547240Z",
     "start_time": "2025-03-07T21:34:44.168623Z"
    }
   },
   "cell_type": "code",
   "source": [
    "\n",
    "trainer.step(1)\n"
   ],
   "id": "89cbd0764121db5b",
   "outputs": [],
   "execution_count": 34
  },
  {
   "metadata": {
    "ExecuteTime": {
     "end_time": "2025-03-07T21:43:33.788344Z",
     "start_time": "2025-03-07T21:43:33.747829Z"
    }
   },
   "cell_type": "code",
   "source": [
    "#livenet.utils.export_onnx(network, \"/home/spometun/table/home/model.onnx\")\n",
    "print(f\"total: {len(list(network.named_parameters()))}\")\n",
    "print(network.context.topology_stat.get_stat())\n",
    "def name_comp_key(x: str):\n",
    "    if \"->\" in x:\n",
    "        x = \"_\" + x\n",
    "    return x\n",
    "\n",
    "for name, p in sorted(network.named_parameters(), key=lambda x: name_comp_key(x[0])):\n",
    "    print(name, f\"{p.item():.2f}\")\n"
   ],
   "id": "4f1f29af6faa1e59",
   "outputs": [
    {
     "name": "stdout",
     "output_type": "stream",
     "text": [
      "total: 16\n",
      "{'dangle': {'RegularNeuron': 0, 'DestinationNeuron': 0}, 'useless': {'RegularNeuron': 0, 'InputNeuron': 0}}\n",
      "D0 -0.02\n",
      "D1 -0.02\n",
      "N0 0.00\n",
      "N1 0.00\n",
      "I0->N0 0.26\n",
      "I0->N1 0.31\n",
      "I1->N0 0.12\n",
      "I1->N1 0.40\n",
      "I2->N0 -0.25\n",
      "I2->N1 -0.19\n",
      "I3->N0 0.41\n",
      "I3->N1 0.23\n",
      "N0->D0 -0.31\n",
      "N0->D1 0.56\n",
      "N1->D0 0.68\n",
      "N1->D1 0.26\n"
     ]
    }
   ],
   "execution_count": 6
  },
  {
   "metadata": {
    "ExecuteTime": {
     "end_time": "2025-03-07T21:43:36.884265Z",
     "start_time": "2025-03-07T21:43:36.604151Z"
    }
   },
   "cell_type": "code",
   "source": [
    "life_stat = network.context.life_stat\n",
    "df = pd.DataFrame(life_stat)\n",
    "# df2 = df[(df[\"type\"] == \"parameter\") & (df[\"name\"] == \"I0->N0\")]\n",
    "df2 = df[(df[\"type\"] == \"output_low_cut_ratio\") & (df[\"name\"] == \"N0\")]\n",
    "df2.set_index(\"tick\")\n",
    "df2[\"value\"].plot(grid=True, x=\"tick\", y=\"value\", style='.-', use_index=False)\n"
   ],
   "id": "fce704405ac93103",
   "outputs": [
    {
     "data": {
      "text/plain": [
       "<Axes: >"
      ]
     },
     "execution_count": 7,
     "metadata": {},
     "output_type": "execute_result"
    }
   ],
   "execution_count": 7
  },
  {
   "metadata": {
    "ExecuteTime": {
     "end_time": "2025-02-07T20:21:05.542998Z",
     "start_time": "2025-02-07T20:21:04.030981Z"
    }
   },
   "cell_type": "code",
   "source": [
    "values = df2[\"value\"].to_list()\n",
    "ticks = list(df2[\"tick\"])\n",
    "\n",
    "plt.ion()\n",
    "plt.figure(figsize=(16, 9))\n",
    "plt.grid()\n",
    "plt.plot(y=values, x=ticks)\n",
    "# plt.show()"
   ],
   "id": "b5a81068e62a3e9b",
   "outputs": [
    {
     "ename": "TypeError",
     "evalue": "plot() got an unexpected keyword argument 'x'",
     "output_type": "error",
     "traceback": [
      "\u001B[0;31m---------------------------------------------------------------------------\u001B[0m",
      "\u001B[0;31mTypeError\u001B[0m                                 Traceback (most recent call last)",
      "Cell \u001B[0;32mIn[11], line 7\u001B[0m\n\u001B[1;32m      5\u001B[0m plt\u001B[38;5;241m.\u001B[39mfigure(figsize\u001B[38;5;241m=\u001B[39m(\u001B[38;5;241m16\u001B[39m, \u001B[38;5;241m9\u001B[39m))\n\u001B[1;32m      6\u001B[0m plt\u001B[38;5;241m.\u001B[39mgrid()\n\u001B[0;32m----> 7\u001B[0m plt\u001B[38;5;241m.\u001B[39mplot(y\u001B[38;5;241m=\u001B[39mvalues, x\u001B[38;5;241m=\u001B[39mticks)\n",
      "File \u001B[0;32m~/miniconda3/envs/home/lib/python3.12/site-packages/matplotlib/pyplot.py:3829\u001B[0m, in \u001B[0;36mplot\u001B[0;34m(scalex, scaley, data, *args, **kwargs)\u001B[0m\n\u001B[1;32m   3821\u001B[0m \u001B[38;5;129m@_copy_docstring_and_deprecators\u001B[39m(Axes\u001B[38;5;241m.\u001B[39mplot)\n\u001B[1;32m   3822\u001B[0m \u001B[38;5;28;01mdef\u001B[39;00m \u001B[38;5;21mplot\u001B[39m(\n\u001B[1;32m   3823\u001B[0m     \u001B[38;5;241m*\u001B[39margs: \u001B[38;5;28mfloat\u001B[39m \u001B[38;5;241m|\u001B[39m ArrayLike \u001B[38;5;241m|\u001B[39m \u001B[38;5;28mstr\u001B[39m,\n\u001B[0;32m   (...)\u001B[0m\n\u001B[1;32m   3827\u001B[0m     \u001B[38;5;241m*\u001B[39m\u001B[38;5;241m*\u001B[39mkwargs,\n\u001B[1;32m   3828\u001B[0m ) \u001B[38;5;241m-\u001B[39m\u001B[38;5;241m>\u001B[39m \u001B[38;5;28mlist\u001B[39m[Line2D]:\n\u001B[0;32m-> 3829\u001B[0m     \u001B[38;5;28;01mreturn\u001B[39;00m gca()\u001B[38;5;241m.\u001B[39mplot(\n\u001B[1;32m   3830\u001B[0m         \u001B[38;5;241m*\u001B[39margs,\n\u001B[1;32m   3831\u001B[0m         scalex\u001B[38;5;241m=\u001B[39mscalex,\n\u001B[1;32m   3832\u001B[0m         scaley\u001B[38;5;241m=\u001B[39mscaley,\n\u001B[1;32m   3833\u001B[0m         \u001B[38;5;241m*\u001B[39m\u001B[38;5;241m*\u001B[39m({\u001B[38;5;124m\"\u001B[39m\u001B[38;5;124mdata\u001B[39m\u001B[38;5;124m\"\u001B[39m: data} \u001B[38;5;28;01mif\u001B[39;00m data \u001B[38;5;129;01mis\u001B[39;00m \u001B[38;5;129;01mnot\u001B[39;00m \u001B[38;5;28;01mNone\u001B[39;00m \u001B[38;5;28;01melse\u001B[39;00m {}),\n\u001B[1;32m   3834\u001B[0m         \u001B[38;5;241m*\u001B[39m\u001B[38;5;241m*\u001B[39mkwargs,\n\u001B[1;32m   3835\u001B[0m     )\n",
      "File \u001B[0;32m~/miniconda3/envs/home/lib/python3.12/site-packages/matplotlib/axes/_axes.py:1777\u001B[0m, in \u001B[0;36mAxes.plot\u001B[0;34m(self, scalex, scaley, data, *args, **kwargs)\u001B[0m\n\u001B[1;32m   1534\u001B[0m \u001B[38;5;250m\u001B[39m\u001B[38;5;124;03m\"\"\"\u001B[39;00m\n\u001B[1;32m   1535\u001B[0m \u001B[38;5;124;03mPlot y versus x as lines and/or markers.\u001B[39;00m\n\u001B[1;32m   1536\u001B[0m \n\u001B[0;32m   (...)\u001B[0m\n\u001B[1;32m   1774\u001B[0m \u001B[38;5;124;03m(``'green'``) or hex strings (``'#008000'``).\u001B[39;00m\n\u001B[1;32m   1775\u001B[0m \u001B[38;5;124;03m\"\"\"\u001B[39;00m\n\u001B[1;32m   1776\u001B[0m kwargs \u001B[38;5;241m=\u001B[39m cbook\u001B[38;5;241m.\u001B[39mnormalize_kwargs(kwargs, mlines\u001B[38;5;241m.\u001B[39mLine2D)\n\u001B[0;32m-> 1777\u001B[0m lines \u001B[38;5;241m=\u001B[39m [\u001B[38;5;241m*\u001B[39m\u001B[38;5;28mself\u001B[39m\u001B[38;5;241m.\u001B[39m_get_lines(\u001B[38;5;28mself\u001B[39m, \u001B[38;5;241m*\u001B[39margs, data\u001B[38;5;241m=\u001B[39mdata, \u001B[38;5;241m*\u001B[39m\u001B[38;5;241m*\u001B[39mkwargs)]\n\u001B[1;32m   1778\u001B[0m \u001B[38;5;28;01mfor\u001B[39;00m line \u001B[38;5;129;01min\u001B[39;00m lines:\n\u001B[1;32m   1779\u001B[0m     \u001B[38;5;28mself\u001B[39m\u001B[38;5;241m.\u001B[39madd_line(line)\n",
      "File \u001B[0;32m~/miniconda3/envs/home/lib/python3.12/site-packages/matplotlib/axes/_base.py:232\u001B[0m, in \u001B[0;36m_process_plot_var_args.__call__\u001B[0;34m(self, axes, data, return_kwargs, *args, **kwargs)\u001B[0m\n\u001B[1;32m    230\u001B[0m \u001B[38;5;28;01mfor\u001B[39;00m pos_only \u001B[38;5;129;01min\u001B[39;00m \u001B[38;5;124m\"\u001B[39m\u001B[38;5;124mxy\u001B[39m\u001B[38;5;124m\"\u001B[39m:\n\u001B[1;32m    231\u001B[0m     \u001B[38;5;28;01mif\u001B[39;00m pos_only \u001B[38;5;129;01min\u001B[39;00m kwargs:\n\u001B[0;32m--> 232\u001B[0m         \u001B[38;5;28;01mraise\u001B[39;00m _api\u001B[38;5;241m.\u001B[39mkwarg_error(inspect\u001B[38;5;241m.\u001B[39mstack()[\u001B[38;5;241m1\u001B[39m]\u001B[38;5;241m.\u001B[39mfunction, pos_only)\n\u001B[1;32m    234\u001B[0m \u001B[38;5;28;01mif\u001B[39;00m \u001B[38;5;129;01mnot\u001B[39;00m args:\n\u001B[1;32m    235\u001B[0m     \u001B[38;5;28;01mreturn\u001B[39;00m\n",
      "\u001B[0;31mTypeError\u001B[0m: plot() got an unexpected keyword argument 'x'"
     ]
    }
   ],
   "execution_count": 11
  },
  {
   "metadata": {
    "ExecuteTime": {
     "end_time": "2025-02-07T20:30:23.015207Z",
     "start_time": "2025-02-07T20:30:22.995962Z"
    }
   },
   "cell_type": "code",
   "source": "print(df2[\"tick\"].head())",
   "id": "99489079a22f38d8",
   "outputs": [
    {
     "name": "stdout",
     "output_type": "stream",
     "text": [
      "61     0\n",
      "119    1\n",
      "177    2\n",
      "235    3\n",
      "293    4\n",
      "Name: tick, dtype: int64\n"
     ]
    }
   ],
   "execution_count": 16
  }
 ],
 "metadata": {
  "kernelspec": {
   "display_name": "Python 3",
   "language": "python",
   "name": "python3"
  },
  "language_info": {
   "codemirror_mode": {
    "name": "ipython",
    "version": 2
   },
   "file_extension": ".py",
   "mimetype": "text/x-python",
   "name": "python",
   "nbconvert_exporter": "python",
   "pygments_lexer": "ipython2",
   "version": "2.7.6"
  }
 },
 "nbformat": 4,
 "nbformat_minor": 5
}
