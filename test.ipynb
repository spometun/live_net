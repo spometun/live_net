{
 "cells": [
  {
   "cell_type": "code",
   "execution_count": 46,
   "metadata": {
    "collapsed": true,
    "ExecuteTime": {
     "end_time": "2024-02-14T14:13:28.759170852Z",
     "start_time": "2024-02-14T14:13:28.423055667Z"
    }
   },
   "outputs": [
    {
     "name": "stdout",
     "output_type": "stream",
     "text": [
      "Using matplotlib backend: TkAgg\n",
      "2.2.0+cu121\n"
     ]
    },
    {
     "data": {
      "text/plain": "'%.4f'"
     },
     "execution_count": 46,
     "metadata": {},
     "output_type": "execute_result"
    }
   ],
   "source": [
    "import copy\n",
    "# TODO: investigate death works well and internal death stats\n",
    "# TODO: fix die-adaptive lr, show usefull stat instead of logs\n",
    "# TODO: Collect internal statistics of history of Neurons at their death point (like: values, how fast changed, etc.)\n",
    "# \"batch norm analog\" - i.e. collector neuron - when things will go slow with reasonable dataset - likely cifar10, then see if speed improvement\n",
    "# Separate livenet core and high-level api?\n",
    "# TODO: make amount of dangle/useless neurons updated during Neuron creation/connection?\n",
    "\n",
    "import random\n",
    "import numpy as np\n",
    "import torch\n",
    "import torch.nn as nn\n",
    "import torch.utils.data\n",
    "import importlib\n",
    "import livenet\n",
    "importlib.reload(livenet)\n",
    "core = livenet.core\n",
    "import simple_log\n",
    "simple_log.level = simple_log.LogLevel.INFO\n",
    "from simple_log import LOG\n",
    "import math\n",
    "from matplotlib import pyplot as plt\n",
    "%matplotlib\n",
    "plt.ion()\n",
    "livenet.core.utils.set_seed()\n",
    "var = 42\n",
    "print(torch.__version__)\n",
    "np.set_printoptions(precision=3)\n",
    "%precision 4\n",
    "\n"
   ]
  },
  {
   "cell_type": "code",
   "execution_count": 7,
   "metadata": {
    "collapsed": false,
    "ExecuteTime": {
     "end_time": "2024-02-14T13:44:41.396075536Z",
     "start_time": "2024-02-14T13:43:41.290574741Z"
    }
   },
   "outputs": [
    {
     "name": "stderr",
     "output_type": "stream",
     "text": [
      "0.4%"
     ]
    },
    {
     "name": "stdout",
     "output_type": "stream",
     "text": [
      "Downloading https://www.cs.toronto.edu/~kriz/cifar-10-python.tar.gz to /home/spometun/datasets/research/cifar-10-python.tar.gz\n"
     ]
    },
    {
     "name": "stderr",
     "output_type": "stream",
     "text": [
      "100.0%\n"
     ]
    },
    {
     "name": "stdout",
     "output_type": "stream",
     "text": [
      "Extracting /home/spometun/datasets/research/cifar-10-python.tar.gz to /home/spometun/datasets/research\n",
      "Files already downloaded and verified\n"
     ]
    }
   ],
   "source": [
    "downscale = (8, 8)\n",
    "test_x, test_y = livenet.datasets.to_plain(*livenet.datasets.get_cifar10_test(), downscale=downscale)\n",
    "train_x, train_y = livenet.datasets.to_plain(*livenet.datasets.get_cifar10_train(), downscale=downscale)\n"
   ]
  },
  {
   "cell_type": "code",
   "execution_count": 9,
   "metadata": {
    "collapsed": false,
    "ExecuteTime": {
     "end_time": "2024-02-14T13:53:15.044993904Z",
     "start_time": "2024-02-14T13:53:14.988552584Z"
    }
   },
   "outputs": [
    {
     "name": "stdout",
     "output_type": "stream",
     "text": [
      "LiveNet\n"
     ]
    }
   ],
   "source": [
    "context = core.livenet.Context()\n",
    "network = livenet.nets.create_perceptron(train_x.shape[1], 21, 10, context)\n",
    "batch_iterator = livenet.gen_utils.batch_iterator(train_x, train_y, batch_size=1000)\n",
    "criterion = livenet.nets.criterion_classification_n\n",
    "optimizer = livenet.nets.create_optimizer(network)\n",
    "optimizer.learning_rate = 0.01\n",
    "trainer = livenet.net_trainer.NetTrainer(network, batch_iterator, criterion, optimizer, epoch_size=10)"
   ]
  },
  {
   "cell_type": "code",
   "execution_count": 48,
   "metadata": {
    "collapsed": false,
    "ExecuteTime": {
     "end_time": "2024-02-14T14:14:50.276875085Z",
     "start_time": "2024-02-14T14:14:27.183717141Z"
    }
   },
   "outputs": [
    {
     "name": "stdout",
     "output_type": "stream",
     "text": [
      "Iˈ0.000 2.546 = 2.381+0.164 params=202 livenet/net_trainer.py:93\n",
      "Iˈ0.424 2.527 = 2.362+0.164 params=202 livenet/net_trainer.py:93\n",
      "Iˈ0.823 2.561 = 2.397+0.164 params=202 livenet/net_trainer.py:93\n",
      "Iˈ1.219 2.542 = 2.378+0.164 params=202 livenet/net_trainer.py:93\n",
      "Iˈ1.621 2.553 = 2.389+0.165 params=202 livenet/net_trainer.py:93\n",
      "Iˈ2.021 2.545 = 2.381+0.164 params=202 livenet/net_trainer.py:93\n",
      "Iˈ2.418 2.536 = 2.372+0.164 params=202 livenet/net_trainer.py:93\n",
      "Iˈ2.822 2.574 = 2.410+0.164 params=202 livenet/net_trainer.py:93\n",
      "Iˈ3.226 2.536 = 2.372+0.164 params=202 livenet/net_trainer.py:93\n",
      "Iˈ3.628 2.570 = 2.406+0.164 params=202 livenet/net_trainer.py:93\n",
      "Iˈ4.029 2.518 = 2.354+0.164 params=202 livenet/net_trainer.py:93\n",
      "Iˈ4.429 2.552 = 2.388+0.164 params=202 livenet/net_trainer.py:93\n",
      "Iˈ4.833 2.542 = 2.378+0.164 params=202 livenet/net_trainer.py:93\n",
      "Iˈ5.235 2.577 = 2.413+0.164 params=202 livenet/net_trainer.py:93\n",
      "Iˈ5.641 2.543 = 2.380+0.163 params=202 livenet/net_trainer.py:93\n",
      "Iˈ6.047 2.514 = 2.350+0.163 params=202 livenet/net_trainer.py:93\n",
      "Iˈ6.448 2.572 = 2.408+0.163 params=202 livenet/net_trainer.py:93\n",
      "Iˈ6.849 2.548 = 2.385+0.163 params=202 livenet/net_trainer.py:93\n",
      "Iˈ7.197 2.527 = 2.365+0.163 params=202 livenet/net_trainer.py:93\n",
      "Iˈ7.604 2.552 = 2.390+0.163 params=202 livenet/net_trainer.py:93\n",
      "Iˈ8.012 2.527 = 2.364+0.162 params=202 livenet/net_trainer.py:93\n",
      "Iˈ8.424 2.542 = 2.380+0.162 params=202 livenet/net_trainer.py:93\n",
      "Iˈ8.826 2.568 = 2.406+0.162 params=202 livenet/net_trainer.py:93\n",
      "Iˈ9.228 2.518 = 2.357+0.162 params=202 livenet/net_trainer.py:93\n",
      "Iˈ9.631 2.546 = 2.385+0.161 params=202 livenet/net_trainer.py:93\n",
      "Iˈ10.036 2.563 = 2.402+0.161 params=202 livenet/net_trainer.py:93\n",
      "Iˈ10.439 2.541 = 2.380+0.161 params=202 livenet/net_trainer.py:93\n",
      "Iˈ10.844 2.539 = 2.378+0.161 params=202 livenet/net_trainer.py:93\n",
      "Iˈ11.242 2.547 = 2.386+0.161 params=202 livenet/net_trainer.py:93\n",
      "Iˈ11.635 2.552 = 2.391+0.161 params=202 livenet/net_trainer.py:93\n",
      "Iˈ12.027 2.552 = 2.391+0.160 params=202 livenet/net_trainer.py:93\n",
      "Iˈ12.425 2.539 = 2.378+0.160 params=202 livenet/net_trainer.py:93\n",
      "Iˈ12.824 2.530 = 2.370+0.160 params=202 livenet/net_trainer.py:93\n",
      "Iˈ13.222 2.552 = 2.392+0.160 params=202 livenet/net_trainer.py:93\n",
      "Iˈ13.622 2.543 = 2.383+0.160 params=202 livenet/net_trainer.py:93\n",
      "Iˈ13.914 2.563 = 2.403+0.160 params=202 livenet/net_trainer.py:93\n",
      "Iˈ14.049 2.534 = 2.374+0.160 params=202 livenet/net_trainer.py:93\n",
      "Iˈ14.190 2.546 = 2.386+0.160 params=202 livenet/net_trainer.py:93\n",
      "Iˈ14.325 2.551 = 2.391+0.160 params=202 livenet/net_trainer.py:93\n",
      "Iˈ14.486 2.560 = 2.400+0.160 params=202 livenet/net_trainer.py:93\n",
      "Iˈ14.623 2.536 = 2.376+0.160 params=202 livenet/net_trainer.py:93\n",
      "Iˈ14.762 2.545 = 2.384+0.160 params=202 livenet/net_trainer.py:93\n",
      "Iˈ14.903 2.554 = 2.393+0.160 params=202 livenet/net_trainer.py:93\n",
      "Iˈ15.042 2.533 = 2.373+0.160 params=202 livenet/net_trainer.py:93\n",
      "Iˈ15.180 2.568 = 2.408+0.160 params=202 livenet/net_trainer.py:93\n",
      "Iˈ15.326 2.536 = 2.376+0.160 params=202 livenet/net_trainer.py:93\n",
      "Iˈ15.462 2.563 = 2.402+0.161 params=202 livenet/net_trainer.py:93\n",
      "Iˈ15.603 2.510 = 2.350+0.161 params=202 livenet/net_trainer.py:93\n",
      "Iˈ15.737 2.564 = 2.403+0.161 params=202 livenet/net_trainer.py:93\n",
      "Iˈ15.883 2.555 = 2.394+0.161 params=202 livenet/net_trainer.py:93\n",
      "Iˈ16.020 2.539 = 2.378+0.161 params=202 livenet/net_trainer.py:93\n",
      "Iˈ16.161 2.538 = 2.376+0.161 params=202 livenet/net_trainer.py:93\n",
      "Iˈ16.293 2.549 = 2.387+0.162 params=202 livenet/net_trainer.py:93\n",
      "Iˈ16.433 2.542 = 2.380+0.162 params=202 livenet/net_trainer.py:93\n",
      "Iˈ16.569 2.568 = 2.406+0.162 params=202 livenet/net_trainer.py:93\n",
      "Iˈ16.714 2.531 = 2.369+0.162 params=202 livenet/net_trainer.py:93\n",
      "Iˈ16.853 2.543 = 2.381+0.162 params=202 livenet/net_trainer.py:93\n",
      "Iˈ16.994 2.545 = 2.383+0.162 params=202 livenet/net_trainer.py:93\n",
      "Iˈ17.130 2.548 = 2.386+0.162 params=202 livenet/net_trainer.py:93\n",
      "Iˈ17.272 2.552 = 2.390+0.162 params=202 livenet/net_trainer.py:93\n",
      "Iˈ17.411 2.555 = 2.393+0.162 params=202 livenet/net_trainer.py:93\n",
      "Iˈ17.552 2.524 = 2.362+0.162 params=202 livenet/net_trainer.py:93\n",
      "Iˈ17.686 2.546 = 2.384+0.162 params=202 livenet/net_trainer.py:93\n",
      "Iˈ17.828 2.550 = 2.388+0.162 params=202 livenet/net_trainer.py:93\n",
      "Iˈ17.965 2.555 = 2.393+0.162 params=202 livenet/net_trainer.py:93\n",
      "Iˈ18.106 2.555 = 2.393+0.162 params=202 livenet/net_trainer.py:93\n",
      "Iˈ18.245 2.541 = 2.379+0.162 params=202 livenet/net_trainer.py:93\n",
      "Iˈ18.387 2.554 = 2.392+0.162 params=202 livenet/net_trainer.py:93\n",
      "Iˈ18.524 2.534 = 2.372+0.162 params=202 livenet/net_trainer.py:93\n",
      "Iˈ18.665 2.544 = 2.382+0.162 params=202 livenet/net_trainer.py:93\n",
      "Iˈ18.801 2.559 = 2.397+0.162 params=202 livenet/net_trainer.py:93\n",
      "Iˈ18.944 2.554 = 2.392+0.162 params=202 livenet/net_trainer.py:93\n",
      "Iˈ19.078 2.535 = 2.373+0.163 params=202 livenet/net_trainer.py:93\n",
      "Iˈ19.221 2.558 = 2.395+0.163 params=202 livenet/net_trainer.py:93\n",
      "Iˈ19.360 2.543 = 2.380+0.163 params=202 livenet/net_trainer.py:93\n",
      "Iˈ19.503 2.540 = 2.377+0.163 params=202 livenet/net_trainer.py:93\n",
      "Iˈ19.635 2.539 = 2.376+0.163 params=202 livenet/net_trainer.py:93\n",
      "Iˈ19.776 2.533 = 2.370+0.163 params=202 livenet/net_trainer.py:93\n",
      "Iˈ19.918 2.561 = 2.399+0.163 params=202 livenet/net_trainer.py:93\n",
      "Iˈ20.061 2.544 = 2.381+0.163 params=202 livenet/net_trainer.py:93\n",
      "Iˈ20.204 2.554 = 2.391+0.163 params=202 livenet/net_trainer.py:93\n",
      "Iˈ20.342 2.529 = 2.366+0.163 params=202 livenet/net_trainer.py:93\n",
      "Iˈ20.478 2.537 = 2.374+0.163 params=202 livenet/net_trainer.py:93\n",
      "Iˈ20.616 2.549 = 2.386+0.163 params=202 livenet/net_trainer.py:93\n",
      "Iˈ20.749 2.558 = 2.395+0.164 params=202 livenet/net_trainer.py:93\n",
      "Iˈ20.892 2.549 = 2.385+0.164 params=202 livenet/net_trainer.py:93\n",
      "Iˈ21.033 2.531 = 2.367+0.164 params=202 livenet/net_trainer.py:93\n",
      "Iˈ21.174 2.536 = 2.372+0.164 params=202 livenet/net_trainer.py:93\n",
      "Iˈ21.307 2.563 = 2.399+0.164 params=202 livenet/net_trainer.py:93\n",
      "Iˈ21.452 2.563 = 2.399+0.164 params=202 livenet/net_trainer.py:93\n",
      "Iˈ21.588 2.552 = 2.387+0.164 params=202 livenet/net_trainer.py:93\n",
      "Iˈ21.728 2.558 = 2.394+0.164 params=202 livenet/net_trainer.py:93\n",
      "Iˈ21.864 2.551 = 2.387+0.164 params=202 livenet/net_trainer.py:93\n",
      "Iˈ22.003 2.533 = 2.369+0.164 params=202 livenet/net_trainer.py:93\n",
      "Iˈ22.140 2.545 = 2.380+0.164 params=202 livenet/net_trainer.py:93\n",
      "Iˈ22.281 2.541 = 2.376+0.165 params=202 livenet/net_trainer.py:93\n",
      "Iˈ22.416 2.525 = 2.361+0.165 params=202 livenet/net_trainer.py:93\n",
      "Iˈ22.554 2.537 = 2.372+0.165 params=202 livenet/net_trainer.py:93\n",
      "Iˈ22.689 2.556 = 2.391+0.165 params=202 livenet/net_trainer.py:93\n",
      "Iˈ22.827 2.545 = 2.380+0.165 params=202 livenet/net_trainer.py:93\n"
     ]
    }
   ],
   "source": [
    "network.context.regularization_l1 = 0.001\n",
    "optimizer.learning_rate = 0.001\n",
    "network.context.learning_rate = 0.001\n",
    "trainer.step(1000)\n"
   ]
  },
  {
   "cell_type": "code",
   "execution_count": 45,
   "metadata": {
    "collapsed": false,
    "ExecuteTime": {
     "end_time": "2024-02-14T14:13:14.789190035Z",
     "start_time": "2024-02-14T14:13:14.619560562Z"
    }
   },
   "outputs": [
    {
     "data": {
      "text/plain": "'accuracy 0.4117'"
     },
     "execution_count": 45,
     "metadata": {},
     "output_type": "execute_result"
    }
   ],
   "source": [
    "pred = network(test_x)\n",
    "pred_bin = np.argmax(pred.detach().numpy(), axis=1, keepdims=True)\n",
    "diff = test_y - pred_bin\n",
    "f\"accuracy {len(diff[diff == 0]) / len(diff)}\"\n"
   ]
  },
  {
   "cell_type": "code",
   "execution_count": null,
   "metadata": {
    "collapsed": false
   },
   "outputs": [],
   "source": [
    "%matplotlib\n",
    "plt.ion()\n",
    "\n",
    "def param_amount(param):\n",
    "    val = len(param[\"params\"])\n",
    "    return val\n",
    "\n",
    "def param_max(param):\n",
    "    val = np.max(np.abs(param[\"params\"]))\n",
    "    return val\n",
    "\n",
    "def param_picker1(param):\n",
    "    try:\n",
    "        val0 = param[\"params\"][\"S262->D1\"].item()\n",
    "    except KeyError:\n",
    "        val0 = 0.\n",
    "    return val0\n",
    "\n",
    "def get_param_values(history, picker):\n",
    "    values = []\n",
    "    for entry in history:\n",
    "        values.append(picker(entry))\n",
    "    return values\n",
    "\n",
    "plt.figure(figsize=(16, 9))\n",
    "values = get_param_values(trainer.history, param_amount)\n",
    "plt.grid()\n",
    "#plt.plot(values)\n",
    "\n",
    "accum = core.stat_utils.AccumStat()\n",
    "accum.add_value(trainer.network.parameters())\n",
    "accum.plot()\n"
   ]
  },
  {
   "cell_type": "code",
   "execution_count": null,
   "metadata": {
    "collapsed": false
   },
   "outputs": [],
   "source": [
    "for name, p in sorted(network.named_parameters(),key=lambda x: len(x[0]) + ord(x[0][0]) / 1000.):\n",
    "    print(name, f\"{p.item():.1f}\")\n"
   ]
  },
  {
   "cell_type": "code",
   "execution_count": null,
   "metadata": {
    "collapsed": false
   },
   "outputs": [],
   "source": [
    "network._parameters\n"
   ]
  },
  {
   "cell_type": "code",
   "execution_count": null,
   "metadata": {
    "collapsed": false
   },
   "outputs": [],
   "source": [
    "core.livenet.export_onnx(network, \"/home/spometun/model.onnx\")\n"
   ]
  }
 ],
 "metadata": {
  "kernelspec": {
   "display_name": "Python 3",
   "language": "python",
   "name": "python3"
  },
  "language_info": {
   "codemirror_mode": {
    "name": "ipython",
    "version": 3
   },
   "file_extension": ".py",
   "mimetype": "text/x-python",
   "name": "python",
   "nbconvert_exporter": "python",
   "pygments_lexer": "ipython3",
   "version": "3.11.5"
  }
 },
 "nbformat": 4,
 "nbformat_minor": 0
}
