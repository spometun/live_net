{
 "cells": [
  {
   "cell_type": "code",
   "id": "initial_id",
   "metadata": {
    "collapsed": true,
    "ExecuteTime": {
     "end_time": "2025-02-07T21:28:38.465239Z",
     "start_time": "2025-02-07T21:28:35.885519Z"
    }
   },
   "source": [
    "%load_ext autoreload\n",
    "%autoreload 2\n",
    "import torch\n",
    "import torch.onnx\n",
    "import pandas as pd\n",
    "from matplotlib import pyplot as plt\n",
    "# matplotlib.use('Qt5Agg')\n",
    "%matplotlib Qt5Agg\n",
    "import livenet\n"
   ],
   "outputs": [],
   "execution_count": 1
  },
  {
   "metadata": {
    "ExecuteTime": {
     "end_time": "2025-02-07T22:09:45.444974Z",
     "start_time": "2025-02-07T22:09:45.383991Z"
    }
   },
   "cell_type": "code",
   "source": [
    "train_x, train_y = livenet.datasets.get_odd_2()\n",
    "network = livenet.nets.create_livenet_odd_2()\n"
   ],
   "id": "4ad0b6be0754b5f",
   "outputs": [],
   "execution_count": 32
  },
  {
   "metadata": {
    "ExecuteTime": {
     "end_time": "2025-02-07T22:09:46.175952Z",
     "start_time": "2025-02-07T22:09:46.132793Z"
    }
   },
   "cell_type": "code",
   "source": [
    "\n",
    "res = network(train_x)\n",
    "network.context.regularization_l1 = 0.05\n",
    "batch_iterator = livenet.gen_utils.batch_iterator(train_x, train_y, batch_size=len(train_x))\n",
    "criterion = livenet.nets.criterion_classification_n\n",
    "optimizer = livenet.backend.optimizers.optimizers.LiveNetOptimizer(network, lr=0.01)\n",
    "trainer = livenet.net_trainer.NetTrainer(network, batch_iterator, criterion, optimizer, epoch_size=50)\n",
    "trainer.clear_life_stat = False\n",
    "\n"
   ],
   "id": "961f4b65c04b822c",
   "outputs": [],
   "execution_count": 33
  },
  {
   "metadata": {
    "ExecuteTime": {
     "end_time": "2025-02-07T22:57:33.545825Z",
     "start_time": "2025-02-07T22:57:32.824047Z"
    }
   },
   "cell_type": "code",
   "source": "trainer.step(233)\n",
   "id": "6f1611c1947db286",
   "outputs": [
    {
     "name": "stdout",
     "output_type": "stream",
     "text": [
      "Iˈ0.000 499 0.106+0.467reg params=9 av_abs_grad 0.03 av_abs_delta: 0.004 av_abs_output 1 max_abs_output 3 max_abs_param 2.8 hcut 0 lcut 0.2 livenet/net_trainer.py:121\n",
      "Iˈ0.167 549 0.106+0.467reg params=9 av_abs_grad 0.03 av_abs_delta: 0.004 av_abs_output 1 max_abs_output 3 max_abs_param 2.9 hcut 0 lcut 0.2 livenet/net_trainer.py:121\n",
      "Iˈ0.288 599 0.106+0.467reg params=9 av_abs_grad 0.03 av_abs_delta: 0.004 av_abs_output 1 max_abs_output 3 max_abs_param 3.0 hcut 0 lcut 0.2 livenet/net_trainer.py:121\n",
      "Iˈ0.406 649 0.106+0.467reg params=8 av_abs_grad 0.03 av_abs_delta: 0.004 av_abs_output 1 max_abs_output 3 max_abs_param 3.1 hcut 0 lcut 0.2 livenet/net_trainer.py:121\n",
      "Iˈ0.519 699 0.105+0.467reg params=8 av_abs_grad 0.03 av_abs_delta: 0.004 av_abs_output 2 max_abs_output 3 max_abs_param 3.1 hcut 0 lcut 0.2 livenet/net_trainer.py:121\n"
     ]
    }
   ],
   "execution_count": 42
  },
  {
   "metadata": {
    "ExecuteTime": {
     "end_time": "2025-02-07T22:10:08.861625Z",
     "start_time": "2025-02-07T22:10:08.818575Z"
    }
   },
   "cell_type": "code",
   "source": [
    "\n",
    "trainer.step(1)\n"
   ],
   "id": "89cbd0764121db5b",
   "outputs": [],
   "execution_count": 36
  },
  {
   "metadata": {
    "ExecuteTime": {
     "end_time": "2025-02-07T22:57:37.166858Z",
     "start_time": "2025-02-07T22:57:37.131701Z"
    }
   },
   "cell_type": "code",
   "source": [
    "#livenet.utils.export_onnx(network, \"/home/spometun/table/home/model.onnx\")\n",
    "print(f\"total: {len(list(network.named_parameters()))}\")\n",
    "print(network.context.topology_stat.get_stat())\n",
    "def name_comp_key(x: str):\n",
    "    if \"->\" in x:\n",
    "        x = \"_\" + x\n",
    "    return x\n",
    "\n",
    "for name, p in sorted(network.named_parameters(), key=lambda x: name_comp_key(x[0])):\n",
    "    print(name, f\"{p.item():.2f}\")\n"
   ],
   "id": "4f1f29af6faa1e59",
   "outputs": [
    {
     "name": "stdout",
     "output_type": "stream",
     "text": [
      "total: 8\n",
      "{'dangle': {'RegularNeuron': 0, 'DestinationNeuron': 1}, 'useless': {'RegularNeuron': 0, 'InputNeuron': 0}}\n",
      "D0 -0.85\n",
      "D1 1.31\n",
      "N0 -2.65\n",
      "N1 1.54\n",
      "I0->N0 2.65\n",
      "I0->N1 -1.56\n",
      "N0->D1 -2.02\n",
      "N1->D1 -3.10\n"
     ]
    }
   ],
   "execution_count": 43
  },
  {
   "metadata": {
    "ExecuteTime": {
     "end_time": "2025-02-07T22:59:40.733687Z",
     "start_time": "2025-02-07T22:59:40.534549Z"
    }
   },
   "cell_type": "code",
   "source": [
    "life_stat = network.context.life_stat\n",
    "df = pd.DataFrame(life_stat)\n",
    "df2 = df[(df[\"type\"] == \"parameter\") & (df[\"name\"] == \"N1->D0\")]\n",
    "#df2 = df[(df[\"type\"] == \"output_max\") & (df[\"name\"] == \"N1->D0\")]\n",
    "df2.set_index(\"tick\")\n",
    "df2[\"value\"].plot(grid=True, x=\"tick\", y=\"value\", style='.-', use_index=False)\n"
   ],
   "id": "fce704405ac93103",
   "outputs": [
    {
     "data": {
      "text/plain": [
       "<Axes: >"
      ]
     },
     "execution_count": 45,
     "metadata": {},
     "output_type": "execute_result"
    }
   ],
   "execution_count": 45
  },
  {
   "metadata": {
    "ExecuteTime": {
     "end_time": "2025-02-07T20:21:05.542998Z",
     "start_time": "2025-02-07T20:21:04.030981Z"
    }
   },
   "cell_type": "code",
   "source": [
    "values = df2[\"value\"].to_list()\n",
    "ticks = list(df2[\"tick\"])\n",
    "\n",
    "plt.ion()\n",
    "plt.figure(figsize=(16, 9))\n",
    "plt.grid()\n",
    "plt.plot(y=values, x=ticks)\n",
    "# plt.show()"
   ],
   "id": "b5a81068e62a3e9b",
   "outputs": [
    {
     "ename": "TypeError",
     "evalue": "plot() got an unexpected keyword argument 'x'",
     "output_type": "error",
     "traceback": [
      "\u001B[0;31m---------------------------------------------------------------------------\u001B[0m",
      "\u001B[0;31mTypeError\u001B[0m                                 Traceback (most recent call last)",
      "Cell \u001B[0;32mIn[11], line 7\u001B[0m\n\u001B[1;32m      5\u001B[0m plt\u001B[38;5;241m.\u001B[39mfigure(figsize\u001B[38;5;241m=\u001B[39m(\u001B[38;5;241m16\u001B[39m, \u001B[38;5;241m9\u001B[39m))\n\u001B[1;32m      6\u001B[0m plt\u001B[38;5;241m.\u001B[39mgrid()\n\u001B[0;32m----> 7\u001B[0m plt\u001B[38;5;241m.\u001B[39mplot(y\u001B[38;5;241m=\u001B[39mvalues, x\u001B[38;5;241m=\u001B[39mticks)\n",
      "File \u001B[0;32m~/miniconda3/envs/home/lib/python3.12/site-packages/matplotlib/pyplot.py:3829\u001B[0m, in \u001B[0;36mplot\u001B[0;34m(scalex, scaley, data, *args, **kwargs)\u001B[0m\n\u001B[1;32m   3821\u001B[0m \u001B[38;5;129m@_copy_docstring_and_deprecators\u001B[39m(Axes\u001B[38;5;241m.\u001B[39mplot)\n\u001B[1;32m   3822\u001B[0m \u001B[38;5;28;01mdef\u001B[39;00m \u001B[38;5;21mplot\u001B[39m(\n\u001B[1;32m   3823\u001B[0m     \u001B[38;5;241m*\u001B[39margs: \u001B[38;5;28mfloat\u001B[39m \u001B[38;5;241m|\u001B[39m ArrayLike \u001B[38;5;241m|\u001B[39m \u001B[38;5;28mstr\u001B[39m,\n\u001B[0;32m   (...)\u001B[0m\n\u001B[1;32m   3827\u001B[0m     \u001B[38;5;241m*\u001B[39m\u001B[38;5;241m*\u001B[39mkwargs,\n\u001B[1;32m   3828\u001B[0m ) \u001B[38;5;241m-\u001B[39m\u001B[38;5;241m>\u001B[39m \u001B[38;5;28mlist\u001B[39m[Line2D]:\n\u001B[0;32m-> 3829\u001B[0m     \u001B[38;5;28;01mreturn\u001B[39;00m gca()\u001B[38;5;241m.\u001B[39mplot(\n\u001B[1;32m   3830\u001B[0m         \u001B[38;5;241m*\u001B[39margs,\n\u001B[1;32m   3831\u001B[0m         scalex\u001B[38;5;241m=\u001B[39mscalex,\n\u001B[1;32m   3832\u001B[0m         scaley\u001B[38;5;241m=\u001B[39mscaley,\n\u001B[1;32m   3833\u001B[0m         \u001B[38;5;241m*\u001B[39m\u001B[38;5;241m*\u001B[39m({\u001B[38;5;124m\"\u001B[39m\u001B[38;5;124mdata\u001B[39m\u001B[38;5;124m\"\u001B[39m: data} \u001B[38;5;28;01mif\u001B[39;00m data \u001B[38;5;129;01mis\u001B[39;00m \u001B[38;5;129;01mnot\u001B[39;00m \u001B[38;5;28;01mNone\u001B[39;00m \u001B[38;5;28;01melse\u001B[39;00m {}),\n\u001B[1;32m   3834\u001B[0m         \u001B[38;5;241m*\u001B[39m\u001B[38;5;241m*\u001B[39mkwargs,\n\u001B[1;32m   3835\u001B[0m     )\n",
      "File \u001B[0;32m~/miniconda3/envs/home/lib/python3.12/site-packages/matplotlib/axes/_axes.py:1777\u001B[0m, in \u001B[0;36mAxes.plot\u001B[0;34m(self, scalex, scaley, data, *args, **kwargs)\u001B[0m\n\u001B[1;32m   1534\u001B[0m \u001B[38;5;250m\u001B[39m\u001B[38;5;124;03m\"\"\"\u001B[39;00m\n\u001B[1;32m   1535\u001B[0m \u001B[38;5;124;03mPlot y versus x as lines and/or markers.\u001B[39;00m\n\u001B[1;32m   1536\u001B[0m \n\u001B[0;32m   (...)\u001B[0m\n\u001B[1;32m   1774\u001B[0m \u001B[38;5;124;03m(``'green'``) or hex strings (``'#008000'``).\u001B[39;00m\n\u001B[1;32m   1775\u001B[0m \u001B[38;5;124;03m\"\"\"\u001B[39;00m\n\u001B[1;32m   1776\u001B[0m kwargs \u001B[38;5;241m=\u001B[39m cbook\u001B[38;5;241m.\u001B[39mnormalize_kwargs(kwargs, mlines\u001B[38;5;241m.\u001B[39mLine2D)\n\u001B[0;32m-> 1777\u001B[0m lines \u001B[38;5;241m=\u001B[39m [\u001B[38;5;241m*\u001B[39m\u001B[38;5;28mself\u001B[39m\u001B[38;5;241m.\u001B[39m_get_lines(\u001B[38;5;28mself\u001B[39m, \u001B[38;5;241m*\u001B[39margs, data\u001B[38;5;241m=\u001B[39mdata, \u001B[38;5;241m*\u001B[39m\u001B[38;5;241m*\u001B[39mkwargs)]\n\u001B[1;32m   1778\u001B[0m \u001B[38;5;28;01mfor\u001B[39;00m line \u001B[38;5;129;01min\u001B[39;00m lines:\n\u001B[1;32m   1779\u001B[0m     \u001B[38;5;28mself\u001B[39m\u001B[38;5;241m.\u001B[39madd_line(line)\n",
      "File \u001B[0;32m~/miniconda3/envs/home/lib/python3.12/site-packages/matplotlib/axes/_base.py:232\u001B[0m, in \u001B[0;36m_process_plot_var_args.__call__\u001B[0;34m(self, axes, data, return_kwargs, *args, **kwargs)\u001B[0m\n\u001B[1;32m    230\u001B[0m \u001B[38;5;28;01mfor\u001B[39;00m pos_only \u001B[38;5;129;01min\u001B[39;00m \u001B[38;5;124m\"\u001B[39m\u001B[38;5;124mxy\u001B[39m\u001B[38;5;124m\"\u001B[39m:\n\u001B[1;32m    231\u001B[0m     \u001B[38;5;28;01mif\u001B[39;00m pos_only \u001B[38;5;129;01min\u001B[39;00m kwargs:\n\u001B[0;32m--> 232\u001B[0m         \u001B[38;5;28;01mraise\u001B[39;00m _api\u001B[38;5;241m.\u001B[39mkwarg_error(inspect\u001B[38;5;241m.\u001B[39mstack()[\u001B[38;5;241m1\u001B[39m]\u001B[38;5;241m.\u001B[39mfunction, pos_only)\n\u001B[1;32m    234\u001B[0m \u001B[38;5;28;01mif\u001B[39;00m \u001B[38;5;129;01mnot\u001B[39;00m args:\n\u001B[1;32m    235\u001B[0m     \u001B[38;5;28;01mreturn\u001B[39;00m\n",
      "\u001B[0;31mTypeError\u001B[0m: plot() got an unexpected keyword argument 'x'"
     ]
    }
   ],
   "execution_count": 11
  },
  {
   "metadata": {
    "ExecuteTime": {
     "end_time": "2025-02-07T20:30:23.015207Z",
     "start_time": "2025-02-07T20:30:22.995962Z"
    }
   },
   "cell_type": "code",
   "source": "print(df2[\"tick\"].head())",
   "id": "99489079a22f38d8",
   "outputs": [
    {
     "name": "stdout",
     "output_type": "stream",
     "text": [
      "61     0\n",
      "119    1\n",
      "177    2\n",
      "235    3\n",
      "293    4\n",
      "Name: tick, dtype: int64\n"
     ]
    }
   ],
   "execution_count": 16
  }
 ],
 "metadata": {
  "kernelspec": {
   "display_name": "Python 3",
   "language": "python",
   "name": "python3"
  },
  "language_info": {
   "codemirror_mode": {
    "name": "ipython",
    "version": 2
   },
   "file_extension": ".py",
   "mimetype": "text/x-python",
   "name": "python",
   "nbconvert_exporter": "python",
   "pygments_lexer": "ipython2",
   "version": "2.7.6"
  }
 },
 "nbformat": 4,
 "nbformat_minor": 5
}
