{
 "cells": [
  {
   "cell_type": "code",
   "execution_count": 13,
   "metadata": {
    "collapsed": true,
    "ExecuteTime": {
     "end_time": "2024-01-13T15:19:18.092799915Z",
     "start_time": "2024-01-13T15:19:18.071611599Z"
    }
   },
   "outputs": [
    {
     "name": "stdout",
     "output_type": "stream",
     "text": [
      "path ['/opt/pycharm-2023.2.3/plugins/python/helpers-pro/jupyter_debug', '/opt/pycharm-2023.2.3/plugins/python/helpers/pydev', '/home/sergiy/projects/home_project', '/home/sergiy/projects/home_project', '/home/sergiy/projects/home_project/serhii_libs', '/home/sergiy/miniconda3/envs/env311/lib/python311.zip', '/home/sergiy/miniconda3/envs/env311/lib/python3.11', '/home/sergiy/miniconda3/envs/env311/lib/python3.11/lib-dynload', '', '/home/sergiy/miniconda3/envs/env311/lib/python3.11/site-packages']\n",
      "Using matplotlib backend: TkAgg\n",
      "2.1.0+cu121\n"
     ]
    },
    {
     "data": {
      "text/plain": "'%.4f'"
     },
     "execution_count": 13,
     "metadata": {},
     "output_type": "execute_result"
    }
   ],
   "source": [
    "import copy\n",
    "# TODO: investigate death works well and insternal death stats\n",
    "# TODO: fix die-adaptive lr, show usefull stat instead of logs\n",
    "# TODO: Collect internal statistics of history of Neurons at their death point (like: values, how fast changed, etc.)\n",
    "# \"batch norm analog\" - i.e. collector neuron - when things will go slow with reasonable dataset - likely cifar10, then see if speed improvement\n",
    "# Separate livenet core and high-level api?\n",
    "\n",
    "import random\n",
    "import numpy as np\n",
    "import torch\n",
    "import torch.nn as nn\n",
    "import torch.utils.data\n",
    "import importlib\n",
    "import livenet\n",
    "importlib.reload(livenet)\n",
    "core = livenet.core\n",
    "from simple_log import LOG\n",
    "import math\n",
    "from matplotlib import pyplot as plt\n",
    "%matplotlib\n",
    "plt.ion()\n",
    "livenet.core.utils.set_seed()\n",
    "var = 42\n",
    "print(torch.__version__)\n",
    "np.set_printoptions(precision=3)\n",
    "%precision 4\n",
    "\n"
   ]
  },
  {
   "cell_type": "code",
   "execution_count": 14,
   "outputs": [],
   "source": [
    "var2 = 9\n",
    "va = 3\n",
    "mu = 4"
   ],
   "metadata": {
    "collapsed": false,
    "ExecuteTime": {
     "end_time": "2024-01-13T15:19:18.775978882Z",
     "start_time": "2024-01-13T15:19:18.765988771Z"
    }
   }
  },
  {
   "cell_type": "code",
   "execution_count": 15,
   "outputs": [],
   "source": [
    "v1 = 1\n",
    "v2 = 3\n",
    "v3 = 7"
   ],
   "metadata": {
    "collapsed": false,
    "ExecuteTime": {
     "end_time": "2024-01-13T15:19:19.224888670Z",
     "start_time": "2024-01-13T15:19:19.211357745Z"
    }
   }
  },
  {
   "cell_type": "code",
   "execution_count": 16,
   "metadata": {
    "collapsed": false,
    "ExecuteTime": {
     "end_time": "2024-01-13T15:19:30.076259756Z",
     "start_time": "2024-01-13T15:19:19.566358398Z"
    }
   },
   "outputs": [
    {
     "name": "stdout",
     "output_type": "stream",
     "text": [
      "Files already downloaded and verified\n",
      "Files already downloaded and verified\n"
     ]
    }
   ],
   "source": [
    "downscale = (8, 8)\n",
    "test_x, test_y = core.datasets.to_plain(*core.datasets.get_cifar10_test(), downscale=downscale)\n",
    "train_x, train_y = core.datasets.to_plain(*core.datasets.get_cifar10_train(), downscale=downscale)\n"
   ]
  },
  {
   "cell_type": "code",
   "execution_count": 17,
   "metadata": {
    "collapsed": false,
    "ExecuteTime": {
     "end_time": "2024-01-13T15:19:34.860532499Z",
     "start_time": "2024-01-13T15:19:34.777089499Z"
    }
   },
   "outputs": [
    {
     "name": "stdout",
     "output_type": "stream",
     "text": [
      "LiveNet\n"
     ]
    }
   ],
   "source": [
    "context = core.livenet.Context()\n",
    "network = core.livenet.LiveNet.create_perceptron(train_x.shape[1], 21, 10, context)\n",
    "batch_iterator = core.gen_utils.batch_iterator(train_x, train_y, batch_size=1000)\n",
    "criterion = core.nets.criterion_n\n",
    "optimizer = core.nets.create_optimizer(network)\n",
    "optimizer.learning_rate = 0.01\n",
    "trainer = core.net_trainer.NetTrainer(network, batch_iterator, criterion, optimizer, epoch_size=10, adaptive_lr=False)\n"
   ]
  },
  {
   "cell_type": "code",
   "execution_count": null,
   "metadata": {
    "collapsed": false
   },
   "outputs": [],
   "source": [
    "network.context.alpha_l1 = 0.001\n",
    "# optimizer.learning_rate = 0.001\n",
    "# network.context.learning_rate = 0.03\n",
    "trainer.step(100)\n"
   ]
  },
  {
   "cell_type": "code",
   "execution_count": null,
   "metadata": {
    "collapsed": false
   },
   "outputs": [],
   "source": [
    "pred = network(test_x)\n",
    "pred_bin = np.argmax(pred.detach().numpy(), axis=1, keepdims=True)\n",
    "diff = test_y - pred_bin\n",
    "len(diff[diff != 0]) / len(diff)\n"
   ]
  },
  {
   "cell_type": "code",
   "execution_count": null,
   "metadata": {
    "collapsed": false
   },
   "outputs": [],
   "source": [
    "%matplotlib\n",
    "plt.ion()\n",
    "\n",
    "def param_amount(param):\n",
    "    val = len(param[\"params\"])\n",
    "    return val\n",
    "\n",
    "def param_max(param):\n",
    "    val = np.max(np.abs(param[\"params\"]))\n",
    "    return val\n",
    "\n",
    "def param_picker1(param):\n",
    "    try:\n",
    "        val0 = param[\"params\"][\"S262->D1\"].item()\n",
    "    except KeyError:\n",
    "        val0 = 0.\n",
    "    return val0\n",
    "\n",
    "def get_param_values(history, picker):\n",
    "    values = []\n",
    "    for entry in history:\n",
    "        values.append(picker(entry))\n",
    "    return values\n",
    "\n",
    "plt.figure(figsize=(16, 9))\n",
    "values = get_param_values(trainer.history, param_amount)\n",
    "plt.grid()\n",
    "#plt.plot(values)\n",
    "\n",
    "accum = core.stat_utils.AccumStat()\n",
    "accum.add_value(trainer.network.parameters())\n",
    "accum.plot()\n"
   ]
  },
  {
   "cell_type": "code",
   "execution_count": null,
   "metadata": {
    "collapsed": false
   },
   "outputs": [],
   "source": [
    "for name, p in sorted(network.named_parameters(),key=lambda x: len(x[0]) + ord(x[0][0]) / 1000.):\n",
    "    print(name, f\"{p.item():.1f}\")\n"
   ]
  },
  {
   "cell_type": "code",
   "execution_count": null,
   "metadata": {
    "collapsed": false
   },
   "outputs": [],
   "source": [
    "network._parameters\n"
   ]
  },
  {
   "cell_type": "code",
   "execution_count": null,
   "metadata": {
    "collapsed": false
   },
   "outputs": [],
   "source": [
    "core.livenet.export_onnx(network, \"/home/spometun/model.onnx\")\n"
   ]
  }
 ],
 "metadata": {
  "kernelspec": {
   "display_name": "Python 3",
   "language": "python",
   "name": "python3"
  },
  "language_info": {
   "codemirror_mode": {
    "name": "ipython",
    "version": 3
   },
   "file_extension": ".py",
   "mimetype": "text/x-python",
   "name": "python",
   "nbconvert_exporter": "python",
   "pygments_lexer": "ipython3",
   "version": "3.11.5"
  }
 },
 "nbformat": 4,
 "nbformat_minor": 0
}
