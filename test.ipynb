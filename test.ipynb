{
 "cells": [
  {
   "cell_type": "code",
   "metadata": {
    "collapsed": true,
    "ExecuteTime": {
     "end_time": "2024-07-05T00:46:36.146047Z",
     "start_time": "2024-07-05T00:46:36.131410Z"
    }
   },
   "source": [
    "import copy\n",
    "# TODO: investigate death works well and internal death stats\n",
    "# TODO: fix die-adaptive lr, show usefull stat instead of logs\n",
    "# TODO: Collect internal statistics of history of Neurons at their death point (like: values, how fast changed, etc.)\n",
    "# \"batch norm analog\" - i.e. collector neuron - when things will go slow with reasonable dataset - likely cifar10, then see if speed improvement\n",
    "# Separate livenet core and high-level api?\n",
    "# TODO: make amount of dangle/useless neurons updated during Neuron creation/connection?\n",
    "\n",
    "import random\n",
    "import numpy as np\n",
    "import torch\n",
    "import torch.nn as nn\n",
    "import torch.utils.data\n",
    "import importlib\n",
    "from ai_libs.basic.deep_reload import deep_reload\n",
    "import livenet\n",
    "deep_reload(livenet)\n",
    "core = livenet.core\n",
    "import ai_libs.simple_log as simple_log\n",
    "from ai_libs.simple_log import LOG\n",
    "simple_log.level = simple_log.LogLevel.INFO\n",
    "import math\n",
    "from matplotlib import pyplot as plt\n",
    "%matplotlib\n",
    "plt.ion()\n",
    "livenet.core.utils.set_seed()\n",
    "var = 42\n",
    "print(torch.__version__)\n",
    "np.set_printoptions(precision=3)\n",
    "%precision 4\n",
    "\n"
   ],
   "outputs": [
    {
     "name": "stdout",
     "output_type": "stream",
     "text": [
      "Using matplotlib backend: module://matplotlib_inline.backend_inline\n",
      "2.3.1+cu121\n"
     ]
    },
    {
     "data": {
      "text/plain": [
       "'%.4f'"
      ]
     },
     "execution_count": 5,
     "metadata": {},
     "output_type": "execute_result"
    }
   ],
   "execution_count": 5
  },
  {
   "cell_type": "code",
   "execution_count": 8,
   "metadata": {
    "collapsed": false,
    "ExecuteTime": {
     "end_time": "2024-02-23T14:25:02.608517277Z",
     "start_time": "2024-02-23T14:24:58.155937168Z"
    }
   },
   "outputs": [
    {
     "name": "stdout",
     "output_type": "stream",
     "text": [
      "Files already downloaded and verified\n",
      "Files already downloaded and verified\n"
     ]
    }
   ],
   "source": [
    "downscale = (8, 8)\n",
    "test_x, test_y = livenet.datasets.to_plain(*livenet.datasets.get_cifar10_test(), downscale=downscale, to_gray=True)\n",
    "train_x, train_y = livenet.datasets.to_plain(*livenet.datasets.get_cifar10_train(), downscale=downscale, to_gray=True)\n"
   ]
  },
  {
   "cell_type": "code",
   "execution_count": 12,
   "metadata": {
    "collapsed": false,
    "ExecuteTime": {
     "end_time": "2024-02-23T14:49:26.101290123Z",
     "start_time": "2024-02-23T14:49:26.056388883Z"
    }
   },
   "outputs": [
    {
     "name": "stdout",
     "output_type": "stream",
     "text": [
      "LiveNet\n"
     ]
    }
   ],
   "source": [
    "context = core.livenet.Context()\n",
    "network = livenet.nets.create_perceptron(train_x.shape[1], 11, 10, context)\n",
    "batch_iterator = livenet.gen_utils.batch_iterator(train_x, train_y, batch_size=1000)\n",
    "criterion = livenet.nets.criterion_classification_n\n",
    "optimizer = livenet.nets.create_optimizer(network)\n",
    "optimizer.learning_rate = 0.01\n",
    "trainer = livenet.net_trainer.NetTrainer(network, batch_iterator, criterion, optimizer, epoch_size=10)"
   ]
  },
  {
   "cell_type": "code",
   "execution_count": 23,
   "metadata": {
    "collapsed": false,
    "ExecuteTime": {
     "end_time": "2024-02-23T14:57:59.927736353Z",
     "start_time": "2024-02-23T14:57:26.998247414Z"
    }
   },
   "outputs": [
    {
     "name": "stdout",
     "output_type": "stream",
     "text": [
      "Iˈ0.000 2.899 = 2.786+0.113reg params=178 livenet/net_trainer.py:93\n",
      "Iˈ0.362 2.914 = 2.801+0.113reg params=178 livenet/net_trainer.py:93\n",
      "Iˈ0.703 2.905 = 2.792+0.113reg params=178 livenet/net_trainer.py:93\n",
      "Iˈ1.042 2.895 = 2.782+0.113reg params=178 livenet/net_trainer.py:93\n",
      "Iˈ1.381 2.896 = 2.783+0.113reg params=178 livenet/net_trainer.py:93\n",
      "Iˈ1.723 2.911 = 2.798+0.113reg params=178 livenet/net_trainer.py:93\n",
      "Iˈ2.062 2.887 = 2.774+0.113reg params=178 livenet/net_trainer.py:93\n",
      "Iˈ2.400 2.903 = 2.790+0.113reg params=178 livenet/net_trainer.py:93\n",
      "Iˈ2.741 2.896 = 2.783+0.113reg params=178 livenet/net_trainer.py:93\n",
      "Iˈ3.080 2.914 = 2.801+0.113reg params=178 livenet/net_trainer.py:93\n",
      "Iˈ3.416 2.900 = 2.787+0.113reg params=178 livenet/net_trainer.py:93\n",
      "Iˈ3.751 2.900 = 2.786+0.113reg params=178 livenet/net_trainer.py:93\n",
      "Iˈ4.088 2.919 = 2.806+0.113reg params=178 livenet/net_trainer.py:93\n",
      "Iˈ4.426 2.904 = 2.791+0.113reg params=178 livenet/net_trainer.py:93\n",
      "Iˈ4.765 2.891 = 2.778+0.113reg params=178 livenet/net_trainer.py:93\n",
      "Iˈ5.105 2.891 = 2.778+0.113reg params=178 livenet/net_trainer.py:93\n",
      "Iˈ5.444 2.907 = 2.794+0.113reg params=178 livenet/net_trainer.py:93\n",
      "Iˈ5.794 2.912 = 2.799+0.113reg params=178 livenet/net_trainer.py:93\n",
      "Iˈ6.133 2.901 = 2.788+0.113reg params=177 livenet/net_trainer.py:93\n",
      "Iˈ6.469 2.912 = 2.799+0.113reg params=177 livenet/net_trainer.py:93\n",
      "Iˈ6.805 2.912 = 2.799+0.113reg params=175 livenet/net_trainer.py:93\n",
      "Iˈ7.138 2.924 = 2.811+0.113reg params=175 livenet/net_trainer.py:93\n",
      "Iˈ7.472 2.895 = 2.782+0.113reg params=175 livenet/net_trainer.py:93\n",
      "Iˈ7.806 2.899 = 2.787+0.113reg params=175 livenet/net_trainer.py:93\n",
      "Iˈ8.139 2.893 = 2.780+0.113reg params=175 livenet/net_trainer.py:93\n",
      "Iˈ8.470 2.917 = 2.804+0.113reg params=175 livenet/net_trainer.py:93\n",
      "Iˈ8.801 2.901 = 2.788+0.113reg params=175 livenet/net_trainer.py:93\n",
      "Iˈ9.132 2.911 = 2.798+0.113reg params=175 livenet/net_trainer.py:93\n",
      "Iˈ9.462 2.886 = 2.774+0.113reg params=175 livenet/net_trainer.py:93\n",
      "Iˈ9.794 2.915 = 2.803+0.113reg params=175 livenet/net_trainer.py:93\n",
      "Iˈ10.125 2.896 = 2.784+0.113reg params=175 livenet/net_trainer.py:93\n",
      "Iˈ10.456 2.898 = 2.786+0.113reg params=175 livenet/net_trainer.py:93\n",
      "Iˈ10.788 2.902 = 2.790+0.113reg params=175 livenet/net_trainer.py:93\n",
      "Iˈ11.128 2.912 = 2.800+0.112reg params=175 livenet/net_trainer.py:93\n",
      "Iˈ11.459 2.912 = 2.800+0.112reg params=175 livenet/net_trainer.py:93\n",
      "Iˈ11.790 2.898 = 2.785+0.112reg params=175 livenet/net_trainer.py:93\n",
      "Iˈ12.120 2.929 = 2.817+0.112reg params=175 livenet/net_trainer.py:93\n",
      "Iˈ12.448 2.905 = 2.793+0.112reg params=175 livenet/net_trainer.py:93\n",
      "Iˈ12.778 2.891 = 2.779+0.112reg params=174 livenet/net_trainer.py:93\n",
      "Iˈ13.105 2.898 = 2.786+0.112reg params=174 livenet/net_trainer.py:93\n",
      "Iˈ13.433 2.906 = 2.794+0.112reg params=174 livenet/net_trainer.py:93\n",
      "Iˈ13.763 2.888 = 2.777+0.112reg params=174 livenet/net_trainer.py:93\n",
      "Iˈ14.093 2.895 = 2.783+0.112reg params=174 livenet/net_trainer.py:93\n",
      "Iˈ14.422 2.920 = 2.808+0.112reg params=174 livenet/net_trainer.py:93\n",
      "Iˈ14.753 2.913 = 2.801+0.112reg params=174 livenet/net_trainer.py:93\n",
      "Iˈ15.086 2.902 = 2.790+0.112reg params=174 livenet/net_trainer.py:93\n",
      "Iˈ15.414 2.900 = 2.788+0.112reg params=174 livenet/net_trainer.py:93\n",
      "Iˈ15.743 2.896 = 2.784+0.112reg params=173 livenet/net_trainer.py:93\n",
      "Iˈ16.071 2.908 = 2.796+0.112reg params=173 livenet/net_trainer.py:93\n",
      "Iˈ16.400 2.908 = 2.796+0.112reg params=173 livenet/net_trainer.py:93\n",
      "Iˈ16.736 2.887 = 2.775+0.112reg params=173 livenet/net_trainer.py:93\n",
      "Iˈ17.064 2.915 = 2.803+0.112reg params=172 livenet/net_trainer.py:93\n",
      "Iˈ17.389 2.906 = 2.794+0.112reg params=172 livenet/net_trainer.py:93\n",
      "Iˈ17.718 2.893 = 2.781+0.112reg params=172 livenet/net_trainer.py:93\n",
      "Iˈ18.044 2.913 = 2.801+0.112reg params=172 livenet/net_trainer.py:93\n",
      "Iˈ18.371 2.907 = 2.795+0.112reg params=172 livenet/net_trainer.py:93\n",
      "Iˈ18.696 2.902 = 2.790+0.112reg params=172 livenet/net_trainer.py:93\n",
      "Iˈ19.023 2.901 = 2.789+0.112reg params=172 livenet/net_trainer.py:93\n",
      "Iˈ19.353 2.916 = 2.804+0.112reg params=172 livenet/net_trainer.py:93\n",
      "Iˈ19.678 2.889 = 2.777+0.112reg params=172 livenet/net_trainer.py:93\n",
      "Iˈ20.005 2.911 = 2.798+0.112reg params=172 livenet/net_trainer.py:93\n",
      "Iˈ20.329 2.889 = 2.777+0.112reg params=171 livenet/net_trainer.py:93\n",
      "Iˈ20.652 2.882 = 2.770+0.112reg params=170 livenet/net_trainer.py:93\n",
      "Iˈ20.973 2.922 = 2.810+0.112reg params=170 livenet/net_trainer.py:93\n",
      "Iˈ21.295 2.911 = 2.798+0.112reg params=170 livenet/net_trainer.py:93\n",
      "Iˈ21.618 2.893 = 2.781+0.112reg params=170 livenet/net_trainer.py:93\n",
      "Iˈ21.942 2.915 = 2.803+0.112reg params=170 livenet/net_trainer.py:93\n",
      "Iˈ22.268 2.912 = 2.799+0.112reg params=170 livenet/net_trainer.py:93\n",
      "Iˈ22.595 2.887 = 2.774+0.112reg params=170 livenet/net_trainer.py:93\n",
      "Iˈ22.930 2.908 = 2.796+0.112reg params=170 livenet/net_trainer.py:93\n",
      "Iˈ23.256 2.909 = 2.797+0.112reg params=170 livenet/net_trainer.py:93\n",
      "Iˈ23.579 2.896 = 2.783+0.112reg params=170 livenet/net_trainer.py:93\n",
      "Iˈ23.902 2.919 = 2.807+0.112reg params=170 livenet/net_trainer.py:93\n",
      "Iˈ24.224 2.896 = 2.784+0.112reg params=170 livenet/net_trainer.py:93\n",
      "Iˈ24.546 2.902 = 2.790+0.112reg params=170 livenet/net_trainer.py:93\n",
      "Iˈ24.868 2.920 = 2.808+0.112reg params=170 livenet/net_trainer.py:93\n",
      "Iˈ25.192 2.903 = 2.790+0.112reg params=170 livenet/net_trainer.py:93\n",
      "Iˈ25.515 2.899 = 2.787+0.112reg params=170 livenet/net_trainer.py:93\n",
      "Iˈ25.840 2.897 = 2.785+0.112reg params=170 livenet/net_trainer.py:93\n",
      "Iˈ26.165 2.904 = 2.792+0.112reg params=170 livenet/net_trainer.py:93\n",
      "Iˈ26.490 2.908 = 2.796+0.113reg params=170 livenet/net_trainer.py:93\n",
      "Iˈ26.815 2.912 = 2.799+0.113reg params=170 livenet/net_trainer.py:93\n",
      "Iˈ27.140 2.904 = 2.792+0.113reg params=170 livenet/net_trainer.py:93\n",
      "Iˈ27.464 2.898 = 2.786+0.113reg params=170 livenet/net_trainer.py:93\n",
      "Iˈ27.789 2.904 = 2.792+0.113reg params=170 livenet/net_trainer.py:93\n",
      "Iˈ28.114 2.903 = 2.791+0.113reg params=170 livenet/net_trainer.py:93\n",
      "Iˈ28.439 2.911 = 2.799+0.113reg params=170 livenet/net_trainer.py:93\n",
      "Iˈ28.763 2.908 = 2.796+0.113reg params=170 livenet/net_trainer.py:93\n",
      "Iˈ29.086 2.884 = 2.771+0.113reg params=170 livenet/net_trainer.py:93\n",
      "Iˈ29.411 2.919 = 2.806+0.113reg params=170 livenet/net_trainer.py:93\n",
      "Iˈ29.736 2.886 = 2.773+0.113reg params=170 livenet/net_trainer.py:93\n",
      "Iˈ30.061 2.911 = 2.798+0.113reg params=170 livenet/net_trainer.py:93\n",
      "Iˈ30.386 2.913 = 2.799+0.113reg params=170 livenet/net_trainer.py:93\n",
      "Iˈ30.711 2.907 = 2.793+0.113reg params=170 livenet/net_trainer.py:93\n",
      "Iˈ31.037 2.907 = 2.793+0.114reg params=170 livenet/net_trainer.py:93\n",
      "Iˈ31.364 2.914 = 2.800+0.114reg params=170 livenet/net_trainer.py:93\n",
      "Iˈ31.688 2.914 = 2.801+0.114reg params=170 livenet/net_trainer.py:93\n",
      "Iˈ32.014 2.889 = 2.776+0.114reg params=170 livenet/net_trainer.py:93\n",
      "Iˈ32.337 2.889 = 2.775+0.114reg params=169 livenet/net_trainer.py:93\n",
      "Iˈ32.661 2.913 = 2.799+0.114reg params=169 livenet/net_trainer.py:93\n"
     ]
    }
   ],
   "source": [
    "network.context.regularization_l1 = 0.001\n",
    "optimizer.learning_rate = 0.001\n",
    "network.context.learning_rate = 0.001\n",
    "trainer.step(1000)\n"
   ]
  },
  {
   "cell_type": "code",
   "execution_count": 24,
   "metadata": {
    "collapsed": false,
    "ExecuteTime": {
     "end_time": "2024-02-23T14:58:42.905722011Z",
     "start_time": "2024-02-23T14:58:42.861701525Z"
    }
   },
   "outputs": [
    {
     "data": {
      "text/plain": "'accuracy 0.3089'"
     },
     "execution_count": 24,
     "metadata": {},
     "output_type": "execute_result"
    }
   ],
   "source": [
    "pred = network(test_x)\n",
    "pred_bin = np.argmax(pred.detach().numpy(), axis=1, keepdims=True)\n",
    "diff = test_y - pred_bin\n",
    "f\"accuracy {len(diff[diff == 0]) / len(diff)}\"\n"
   ]
  },
  {
   "cell_type": "code",
   "outputs": [
    {
     "ename": "SyntaxError",
     "evalue": "unmatched ')' (1051535749.py, line 3)",
     "output_type": "error",
     "traceback": [
      "\u001B[0;36m  Cell \u001B[0;32mIn[25], line 3\u001B[0;36m\u001B[0m\n\u001B[0;31m    pattern = r\"^from\\s+\\.\\s+import\\s+\\w+\\s+\", content, flags=re.MULTILINE)\u001B[0m\n\u001B[0m                                                                          ^\u001B[0m\n\u001B[0;31mSyntaxError\u001B[0m\u001B[0;31m:\u001B[0m unmatched ')'\n"
     ]
    }
   ],
   "source": [
    "import re\n",
    "name = \"numpy-1.21.6-cp37-cp37m-manylinux_2_12_x86_64.manylinux2010_x86_64.whl\"\n",
    "pattern = r\"^from\\s+\\.\\s+import\\s+\\w+\\s+\"\n",
    "name = re.fullmatch(pattern, name)\n",
    "re.match()\n"
   ],
   "metadata": {
    "collapsed": false,
    "ExecuteTime": {
     "end_time": "2024-02-23T18:38:59.654383662Z",
     "start_time": "2024-02-23T18:38:59.647201209Z"
    }
   },
   "execution_count": 25
  },
  {
   "cell_type": "code",
   "outputs": [
    {
     "name": "stdout",
     "output_type": "stream",
     "text": [
      "MarkupSafe\n"
     ]
    }
   ],
   "source": [
    "import re\n",
    "import os, sys\n",
    "dirpath = \"/home/spometun/table/w3\"\n",
    "files = os.listdir(dirpath)\n",
    "\n",
    "# Regular expression to match a .whl file name and capture the package name\n",
    "# regex = r'^([a-zA-Z0-9_\\-]+)\\-([a-zA-Z0-9_.!+]+)\\-([a-zA-Z0-9_.!+]+)\\-([a-zA-Z0-9_.!+]+)\\-([a-zA-Z0-9_.!+]+)\\.whl$'\n",
    "#    regex = r'^([a-zA-Z0-9_]+)\\-(?:[0-9]|[_\\-\\.]|py3|py2|none|any|linux|manylinux|abi|x86|cp3|cp37m|post)+.whl$'\n",
    "\n",
    "def get_wheel_package_name(file_name: str):\n",
    "    regex = r'^([a-zA-Z0-9_]+)\\-.*\\.whl$'\n",
    "    match = re.match(regex, file_name)\n",
    "    if match:\n",
    "        package_name = match.group(1)\n",
    "    else:\n",
    "        package_name = None\n",
    "    return package_name\n",
    "\n",
    "\n",
    "file_name = \"MarkupSafe-2.1.3-cp37-cp37m-manylinux_2_17_x86_64.manylinux2014_x86_64.whl\"\n",
    "print(get_wheel_package_name(file_name))\n",
    "# n = 0\n",
    "# f = 0\n",
    "# for file_name in files:\n",
    "#     n += 1\n",
    "#     package_name = get_wheel_package_name(file_name)\n",
    "#     if package_name is None:\n",
    "#         f += 1\n",
    "#         print(file_name)\n",
    "#         break\n",
    "#     print(package_name)\n",
    "#     \n",
    "# print(n, f)\n"
   ],
   "metadata": {
    "collapsed": false,
    "ExecuteTime": {
     "end_time": "2024-02-23T19:32:29.097712948Z",
     "start_time": "2024-02-23T19:32:29.052833854Z"
    }
   },
   "execution_count": 56
  },
  {
   "cell_type": "code",
   "execution_count": null,
   "metadata": {
    "collapsed": false
   },
   "outputs": [],
   "source": [
    "%matplotlib\n",
    "plt.ion()\n",
    "\n",
    "def param_amount(param):\n",
    "    val = len(param[\"params\"])\n",
    "    return val\n",
    "\n",
    "def param_max(param):\n",
    "    val = np.max(np.abs(param[\"params\"]))\n",
    "    return val\n",
    "\n",
    "def param_picker1(param):\n",
    "    try:\n",
    "        val0 = param[\"params\"][\"S262->D1\"].item()\n",
    "    except KeyError:\n",
    "        val0 = 0.\n",
    "    return val0\n",
    "\n",
    "def get_param_values(history, picker):\n",
    "    values = []\n",
    "    for entry in history:\n",
    "        values.append(picker(entry))\n",
    "    return values\n",
    "\n",
    "plt.figure(figsize=(16, 9))\n",
    "values = get_param_values(trainer.history, param_amount)\n",
    "plt.grid()\n",
    "#plt.plot(values)\n",
    "\n",
    "accum = core.stat_utils.AccumStat()\n",
    "accum.add_value(trainer.network.parameters())\n",
    "accum.plot()\n"
   ]
  },
  {
   "cell_type": "code",
   "execution_count": null,
   "metadata": {
    "collapsed": false
   },
   "outputs": [],
   "source": [
    "for name, p in sorted(network.named_parameters(),key=lambda x: len(x[0]) + ord(x[0][0]) / 1000.):\n",
    "    print(name, f\"{p.item():.1f}\")\n"
   ]
  },
  {
   "cell_type": "code",
   "metadata": {
    "collapsed": false,
    "ExecuteTime": {
     "end_time": "2024-07-03T15:11:57.395066Z",
     "start_time": "2024-07-03T15:11:57.365321Z"
    }
   },
   "source": [
    "s = set()\n",
    "s.add(2)\n",
    "s.add(1)\n",
    "2 in s\n",
    "s.remove(3)"
   ],
   "outputs": [
    {
     "ename": "KeyError",
     "evalue": "3",
     "output_type": "error",
     "traceback": [
      "\u001B[0;31m---------------------------------------------------------------------------\u001B[0m",
      "\u001B[0;31mKeyError\u001B[0m                                  Traceback (most recent call last)",
      "Cell \u001B[0;32mIn[9], line 5\u001B[0m\n\u001B[1;32m      3\u001B[0m s\u001B[38;5;241m.\u001B[39madd(\u001B[38;5;241m1\u001B[39m)\n\u001B[1;32m      4\u001B[0m \u001B[38;5;241m2\u001B[39m \u001B[38;5;129;01min\u001B[39;00m s\n\u001B[0;32m----> 5\u001B[0m \u001B[43ms\u001B[49m\u001B[38;5;241;43m.\u001B[39;49m\u001B[43mremove\u001B[49m\u001B[43m(\u001B[49m\u001B[38;5;241;43m3\u001B[39;49m\u001B[43m)\u001B[49m\n",
      "\u001B[0;31mKeyError\u001B[0m: 3"
     ]
    }
   ],
   "execution_count": 9
  },
  {
   "cell_type": "code",
   "execution_count": null,
   "metadata": {
    "collapsed": false
   },
   "outputs": [],
   "source": [
    "core.livenet.export_onnx(network, \"/home/spometun/model.onnx\")\n"
   ]
  }
 ],
 "metadata": {
  "kernelspec": {
   "display_name": "Python 3",
   "language": "python",
   "name": "python3"
  },
  "language_info": {
   "codemirror_mode": {
    "name": "ipython",
    "version": 3
   },
   "file_extension": ".py",
   "mimetype": "text/x-python",
   "name": "python",
   "nbconvert_exporter": "python",
   "pygments_lexer": "ipython3",
   "version": "3.11.5"
  }
 },
 "nbformat": 4,
 "nbformat_minor": 0
}
