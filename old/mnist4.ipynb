{
 "cells": [
  {
   "cell_type": "code",
   "execution_count": 14,
   "metadata": {
    "collapsed": true
   },
   "outputs": [
    {
     "name": "stdout",
     "output_type": "stream",
     "text": [
      "Using matplotlib backend: TkAgg\n",
      "2.0.0+cu117\n"
     ]
    },
    {
     "data": {
      "text/plain": "'%.4f'"
     },
     "execution_count": 14,
     "metadata": {},
     "output_type": "execute_result"
    }
   ],
   "source": [
    "import copy\n",
    "import random\n",
    "import numpy as np\n",
    "import torch\n",
    "import torch.nn as nn\n",
    "import torch.utils.data\n",
    "import importlib\n",
    "import life.lib\n",
    "import life.lib as lib\n",
    "import typing\n",
    "importlib.reload(lib)\n",
    "LOG = lib.simple_log.LOG\n",
    "import math\n",
    "from matplotlib import pyplot as plt\n",
    "%matplotlib\n",
    "plt.ion()\n",
    "lib.utils.set_seed()\n",
    "print(torch.__version__)\n",
    "np.set_printoptions(precision=3)\n",
    "%precision 4\n",
    "\n"
   ]
  },
  {
   "cell_type": "code",
   "execution_count": 15,
   "outputs": [],
   "source": [
    "lib.utils.set_seed()\n",
    "downscale = (14, 14)\n",
    "test_x, test_y = lib.datasets.to_plain(*lib.datasets.get_mnist_test(), downscale=downscale, to_odd=True)\n",
    "train_x, train_y = lib.datasets.to_plain(*lib.datasets.get_mnist_train(), downscale=downscale, to_odd=True)\n",
    "network = lib.livenet.LiveNet.create_perceptron(train_x.shape[1], None, 2)"
   ],
   "metadata": {
    "collapsed": false
   }
  },
  {
   "cell_type": "code",
   "execution_count": 8,
   "outputs": [
    {
     "name": "stdout",
     "output_type": "stream",
     "text": [
      "LiveNet\n"
     ]
    }
   ],
   "source": [
    "batch_iterator = lib.gen_utils.batch_iterator(train_x, train_y, batch_size=1000)\n",
    "criterion = lib.nets.criterion_n\n",
    "optimizer = lib.nets.create_optimizer(network)\n",
    "optimizer.learning_rate = 0.01\n",
    "trainer = lib.trainer.Trainer(network, batch_iterator, criterion, optimizer, epoch_size=100)\n"
   ],
   "metadata": {
    "collapsed": false
   }
  },
  {
   "cell_type": "code",
   "execution_count": 9,
   "outputs": [
    {
     "name": "stdout",
     "output_type": "stream",
     "text": [
      "Iˈ0.000 1.018 = 1.005+0.013 lib/trainer.py:92\n",
      "Iˈ0.158 0.963 = 0.939+0.024 lib/trainer.py:92\n",
      "Iˈ0.301 0.915 = 0.858+0.056 lib/trainer.py:92\n",
      "Iˈ0.314 killing S1->D0 at tick 210 with k=0.009 lib/livenet.py:191\n",
      "Iˈ0.336 killing S0->D1 at tick 229 with k=0.007 lib/livenet.py:191\n",
      "Iˈ0.412 0.899 = 0.817+0.082 lib/trainer.py:92\n",
      "Iˈ0.518 0.906 = 0.801+0.104 lib/trainer.py:92\n",
      "Iˈ0.627 0.924 = 0.787+0.136 lib/trainer.py:92\n",
      "Iˈ0.662 killing S0->D0 at tick 535 with k=0.005 lib/livenet.py:191\n",
      "Iˈ0.662 S0 became useless at tick 535 lib/livenet.py:61\n",
      "Iˈ0.662 There is no death for S0 lib/livenet.py:44\n",
      "Iˈ0.724 0.931 = 0.774+0.157 lib/trainer.py:92\n",
      "Iˈ0.818 0.937 = 0.767+0.170 lib/trainer.py:92\n",
      "Iˈ0.916 0.915 = 0.747+0.168 lib/trainer.py:92\n",
      "Iˈ1.015 0.912 = 0.748+0.164 lib/trainer.py:92\n",
      "Iˈ1.110 0.931 = 0.775+0.156 lib/trainer.py:92\n",
      "Iˈ1.203 0.919 = 0.778+0.141 lib/trainer.py:92\n",
      "Iˈ1.303 0.904 = 0.756+0.148 lib/trainer.py:92\n",
      "Iˈ1.395 0.909 = 0.755+0.154 lib/trainer.py:92\n",
      "Iˈ1.489 0.902 = 0.770+0.131 lib/trainer.py:92\n",
      "Iˈ1.590 0.896 = 0.809+0.088 lib/trainer.py:92\n",
      "Iˈ1.686 0.903 = 0.836+0.067 lib/trainer.py:92\n",
      "Iˈ1.778 0.912 = 0.843+0.069 lib/trainer.py:92\n",
      "Iˈ1.873 0.896 = 0.817+0.079 lib/trainer.py:92\n",
      "Iˈ1.963 0.899 = 0.789+0.109 lib/trainer.py:92\n",
      "Iˈ2.055 0.901 = 0.766+0.134 lib/trainer.py:92\n",
      "Iˈ2.066 killing S3->D0 at tick 2011 with k=0.000 lib/livenet.py:191\n",
      "Iˈ2.145 0.900 = 0.768+0.131 lib/trainer.py:92\n",
      "Iˈ2.228 0.905 = 0.771+0.134 lib/trainer.py:92\n",
      "Iˈ2.310 0.903 = 0.745+0.158 lib/trainer.py:92\n",
      "Iˈ2.397 0.902 = 0.755+0.147 lib/trainer.py:92\n",
      "Iˈ2.481 0.900 = 0.779+0.121 lib/trainer.py:92\n",
      "Iˈ2.563 0.895 = 0.794+0.102 lib/trainer.py:92\n",
      "Iˈ2.652 0.898 = 0.804+0.094 lib/trainer.py:92\n",
      "Iˈ2.734 0.901 = 0.822+0.079 lib/trainer.py:92\n",
      "Iˈ2.817 0.898 = 0.827+0.071 lib/trainer.py:92\n",
      "Iˈ2.908 0.897 = 0.824+0.073 lib/trainer.py:92\n",
      "Iˈ2.990 0.896 = 0.814+0.082 lib/trainer.py:92\n",
      "Iˈ3.071 0.895 = 0.802+0.093 lib/trainer.py:92\n",
      "Iˈ3.157 0.898 = 0.795+0.103 lib/trainer.py:92\n",
      "Iˈ3.239 0.898 = 0.785+0.113 lib/trainer.py:92\n",
      "Iˈ3.319 0.896 = 0.785+0.111 lib/trainer.py:92\n",
      "Iˈ3.407 0.901 = 0.791+0.109 lib/trainer.py:92\n",
      "Iˈ3.490 0.899 = 0.779+0.120 lib/trainer.py:92\n",
      "Iˈ3.575 0.898 = 0.782+0.116 lib/trainer.py:92\n",
      "Iˈ3.673 0.896 = 0.794+0.102 lib/trainer.py:92\n",
      "Iˈ3.753 0.897 = 0.810+0.088 lib/trainer.py:92\n",
      "Iˈ3.834 0.894 = 0.816+0.078 lib/trainer.py:92\n",
      "Iˈ3.918 0.898 = 0.819+0.079 lib/trainer.py:92\n",
      "Iˈ4.000 0.897 = 0.807+0.090 lib/trainer.py:92\n",
      "Iˈ4.084 0.897 = 0.794+0.103 lib/trainer.py:92\n",
      "Iˈ4.170 0.896 = 0.789+0.107 lib/trainer.py:92\n",
      "Iˈ4.253 0.895 = 0.794+0.101 lib/trainer.py:92\n",
      "Iˈ4.337 0.895 = 0.793+0.103 lib/trainer.py:92\n",
      "Iˈ4.428 0.895 = 0.785+0.110 lib/trainer.py:92\n",
      "Iˈ4.509 0.896 = 0.792+0.104 lib/trainer.py:92\n",
      "Iˈ4.592 0.896 = 0.800+0.096 lib/trainer.py:92\n",
      "Iˈ4.678 0.896 = 0.815+0.082 lib/trainer.py:92\n",
      "Iˈ4.759 0.899 = 0.820+0.078 lib/trainer.py:92\n",
      "Iˈ4.849 0.895 = 0.798+0.097 lib/trainer.py:92\n",
      "Iˈ4.955 0.895 = 0.783+0.112 lib/trainer.py:92\n",
      "Iˈ5.035 0.895 = 0.793+0.102 lib/trainer.py:92\n",
      "Iˈ5.116 0.902 = 0.808+0.094 lib/trainer.py:92\n",
      "Iˈ5.208 0.897 = 0.809+0.088 lib/trainer.py:92\n",
      "Iˈ5.289 0.900 = 0.814+0.086 lib/trainer.py:92\n",
      "Iˈ5.369 0.901 = 0.811+0.090 lib/trainer.py:92\n",
      "Iˈ5.459 0.897 = 0.799+0.098 lib/trainer.py:92\n",
      "Iˈ5.545 0.896 = 0.789+0.108 lib/trainer.py:92\n",
      "Iˈ5.629 0.894 = 0.793+0.101 lib/trainer.py:92\n",
      "Iˈ5.717 0.895 = 0.799+0.096 lib/trainer.py:92\n",
      "Iˈ5.801 0.898 = 0.796+0.101 lib/trainer.py:92\n",
      "Iˈ5.885 0.895 = 0.799+0.097 lib/trainer.py:92\n",
      "Iˈ5.973 0.896 = 0.809+0.087 lib/trainer.py:92\n",
      "Iˈ6.075 0.898 = 0.808+0.089 lib/trainer.py:92\n",
      "Iˈ6.159 0.899 = 0.801+0.097 lib/trainer.py:92\n",
      "Iˈ6.250 0.898 = 0.799+0.099 lib/trainer.py:92\n",
      "Iˈ6.339 0.897 = 0.800+0.098 lib/trainer.py:92\n",
      "Iˈ6.425 0.895 = 0.799+0.096 lib/trainer.py:92\n",
      "Iˈ6.530 0.897 = 0.805+0.092 lib/trainer.py:92\n",
      "Iˈ6.622 0.898 = 0.807+0.090 lib/trainer.py:92\n",
      "Iˈ6.703 0.897 = 0.802+0.095 lib/trainer.py:92\n",
      "Iˈ6.790 0.895 = 0.788+0.107 lib/trainer.py:92\n",
      "Iˈ6.870 0.895 = 0.788+0.107 lib/trainer.py:92\n",
      "Iˈ6.952 0.898 = 0.809+0.089 lib/trainer.py:92\n",
      "Iˈ7.036 0.896 = 0.808+0.088 lib/trainer.py:92\n",
      "Iˈ7.117 0.897 = 0.804+0.092 lib/trainer.py:92\n",
      "Iˈ7.200 0.896 = 0.800+0.096 lib/trainer.py:92\n",
      "Iˈ7.291 0.897 = 0.797+0.100 lib/trainer.py:92\n",
      "Iˈ7.373 0.897 = 0.796+0.101 lib/trainer.py:92\n",
      "Iˈ7.460 0.898 = 0.804+0.094 lib/trainer.py:92\n",
      "Iˈ7.552 0.902 = 0.814+0.088 lib/trainer.py:92\n",
      "Iˈ7.633 0.896 = 0.808+0.088 lib/trainer.py:92\n",
      "Iˈ7.715 0.896 = 0.798+0.098 lib/trainer.py:92\n",
      "Iˈ7.804 0.897 = 0.788+0.109 lib/trainer.py:92\n",
      "Iˈ7.890 0.901 = 0.794+0.107 lib/trainer.py:92\n",
      "Iˈ7.976 0.900 = 0.799+0.101 lib/trainer.py:92\n",
      "Iˈ8.066 0.897 = 0.806+0.091 lib/trainer.py:92\n",
      "Iˈ8.151 0.898 = 0.815+0.083 lib/trainer.py:92\n",
      "Iˈ8.237 0.903 = 0.820+0.082 lib/trainer.py:92\n",
      "Iˈ8.329 0.897 = 0.809+0.088 lib/trainer.py:92\n",
      "Iˈ8.418 0.895 = 0.794+0.101 lib/trainer.py:92\n",
      "Iˈ8.503 0.897 = 0.784+0.113 lib/trainer.py:92\n",
      "Iˈ8.591 0.895 = 0.791+0.105 lib/trainer.py:92\n",
      "Iˈ8.673 0.897 = 0.805+0.092 lib/trainer.py:92\n",
      "Iˈ8.756 0.900 = 0.812+0.088 lib/trainer.py:92\n",
      "Iˈ8.849 0.896 = 0.807+0.089 lib/trainer.py:92\n",
      "Iˈ8.934 0.898 = 0.802+0.095 lib/trainer.py:92\n",
      "Iˈ9.016 0.900 = 0.798+0.102 lib/trainer.py:92\n",
      "Iˈ9.106 0.899 = 0.797+0.102 lib/trainer.py:92\n",
      "Iˈ9.187 0.897 = 0.802+0.096 lib/trainer.py:92\n",
      "Iˈ9.268 0.896 = 0.807+0.089 lib/trainer.py:92\n",
      "Iˈ9.364 0.897 = 0.810+0.087 lib/trainer.py:92\n",
      "Iˈ9.454 0.895 = 0.799+0.096 lib/trainer.py:92\n",
      "Iˈ9.541 0.895 = 0.789+0.106 lib/trainer.py:92\n",
      "Iˈ9.628 0.897 = 0.796+0.101 lib/trainer.py:92\n",
      "Iˈ9.711 0.899 = 0.804+0.095 lib/trainer.py:92\n",
      "Iˈ9.795 0.896 = 0.806+0.090 lib/trainer.py:92\n",
      "Iˈ9.884 0.897 = 0.806+0.091 lib/trainer.py:92\n",
      "Iˈ9.968 0.898 = 0.801+0.097 lib/trainer.py:92\n",
      "Iˈ10.053 0.893 = 0.790+0.103 lib/trainer.py:92\n",
      "Iˈ10.145 0.897 = 0.800+0.097 lib/trainer.py:92\n",
      "Iˈ10.226 0.895 = 0.809+0.086 lib/trainer.py:92\n",
      "Iˈ10.309 0.898 = 0.808+0.090 lib/trainer.py:92\n",
      "Iˈ10.398 0.897 = 0.799+0.099 lib/trainer.py:92\n",
      "Iˈ10.481 0.899 = 0.798+0.100 lib/trainer.py:92\n",
      "Iˈ10.564 0.897 = 0.799+0.099 lib/trainer.py:92\n",
      "Iˈ10.655 0.896 = 0.800+0.095 lib/trainer.py:92\n",
      "Iˈ10.740 0.896 = 0.809+0.086 lib/trainer.py:92\n",
      "Iˈ10.825 0.897 = 0.810+0.087 lib/trainer.py:92\n",
      "Iˈ10.918 0.894 = 0.794+0.100 lib/trainer.py:92\n",
      "Iˈ11.004 0.895 = 0.785+0.110 lib/trainer.py:92\n",
      "Iˈ11.089 0.896 = 0.793+0.103 lib/trainer.py:92\n",
      "Iˈ11.181 0.897 = 0.803+0.094 lib/trainer.py:92\n",
      "Iˈ11.263 0.897 = 0.807+0.090 lib/trainer.py:92\n",
      "Iˈ11.345 0.896 = 0.808+0.088 lib/trainer.py:92\n",
      "Iˈ11.433 0.896 = 0.799+0.097 lib/trainer.py:92\n",
      "Iˈ11.518 0.896 = 0.791+0.105 lib/trainer.py:92\n",
      "Iˈ11.603 0.895 = 0.801+0.095 lib/trainer.py:92\n",
      "Iˈ11.696 0.897 = 0.811+0.085 lib/trainer.py:92\n",
      "Iˈ11.781 0.899 = 0.810+0.089 lib/trainer.py:92\n",
      "Iˈ11.865 0.895 = 0.795+0.100 lib/trainer.py:92\n",
      "Iˈ11.958 0.898 = 0.794+0.104 lib/trainer.py:92\n",
      "Iˈ12.045 0.900 = 0.801+0.099 lib/trainer.py:92\n",
      "Iˈ12.130 0.897 = 0.802+0.095 lib/trainer.py:92\n",
      "Iˈ12.239 0.899 = 0.809+0.090 lib/trainer.py:92\n",
      "Iˈ12.371 0.899 = 0.811+0.088 lib/trainer.py:92\n",
      "Iˈ12.500 0.893 = 0.797+0.097 lib/trainer.py:92\n",
      "Iˈ12.583 0.896 = 0.787+0.110 lib/trainer.py:92\n",
      "Iˈ12.663 0.894 = 0.787+0.107 lib/trainer.py:92\n",
      "Iˈ12.749 0.896 = 0.808+0.088 lib/trainer.py:92\n",
      "Iˈ12.832 0.896 = 0.815+0.081 lib/trainer.py:92\n",
      "Iˈ12.914 0.894 = 0.802+0.092 lib/trainer.py:92\n",
      "Iˈ13.002 0.898 = 0.794+0.104 lib/trainer.py:92\n",
      "Iˈ13.088 0.900 = 0.794+0.106 lib/trainer.py:92\n",
      "Iˈ13.171 0.897 = 0.798+0.099 lib/trainer.py:92\n",
      "Iˈ13.263 0.896 = 0.811+0.086 lib/trainer.py:92\n",
      "Iˈ13.346 0.896 = 0.815+0.081 lib/trainer.py:92\n",
      "Iˈ13.430 0.897 = 0.807+0.090 lib/trainer.py:92\n",
      "Iˈ13.534 0.895 = 0.793+0.102 lib/trainer.py:92\n",
      "Iˈ13.623 0.899 = 0.790+0.109 lib/trainer.py:92\n",
      "Iˈ13.705 0.899 = 0.790+0.109 lib/trainer.py:92\n",
      "Iˈ13.796 0.896 = 0.792+0.104 lib/trainer.py:92\n",
      "Iˈ13.881 0.898 = 0.805+0.093 lib/trainer.py:92\n",
      "Iˈ13.965 0.898 = 0.813+0.085 lib/trainer.py:92\n",
      "Iˈ14.059 0.897 = 0.811+0.086 lib/trainer.py:92\n",
      "Iˈ14.146 0.896 = 0.800+0.096 lib/trainer.py:92\n",
      "Iˈ14.230 0.897 = 0.795+0.102 lib/trainer.py:92\n",
      "Iˈ14.323 0.900 = 0.797+0.103 lib/trainer.py:92\n",
      "Iˈ14.410 0.897 = 0.796+0.101 lib/trainer.py:92\n",
      "Iˈ14.495 0.899 = 0.808+0.091 lib/trainer.py:92\n",
      "Iˈ14.585 0.904 = 0.821+0.083 lib/trainer.py:92\n",
      "Iˈ14.670 0.902 = 0.818+0.084 lib/trainer.py:92\n",
      "Iˈ14.754 0.900 = 0.806+0.094 lib/trainer.py:92\n",
      "Iˈ14.844 0.899 = 0.792+0.107 lib/trainer.py:92\n",
      "Iˈ14.933 0.899 = 0.787+0.113 lib/trainer.py:92\n",
      "Iˈ15.016 0.900 = 0.795+0.105 lib/trainer.py:92\n",
      "Iˈ15.112 0.899 = 0.806+0.093 lib/trainer.py:92\n",
      "Iˈ15.199 0.895 = 0.811+0.084 lib/trainer.py:92\n",
      "Iˈ15.284 0.896 = 0.815+0.081 lib/trainer.py:92\n",
      "Iˈ15.376 0.896 = 0.808+0.088 lib/trainer.py:92\n",
      "Iˈ15.460 0.896 = 0.791+0.105 lib/trainer.py:92\n",
      "Iˈ15.546 0.898 = 0.786+0.112 lib/trainer.py:92\n",
      "Iˈ15.640 0.896 = 0.796+0.100 lib/trainer.py:92\n",
      "Iˈ15.726 0.894 = 0.801+0.094 lib/trainer.py:92\n",
      "Iˈ15.810 0.894 = 0.793+0.101 lib/trainer.py:92\n",
      "Iˈ15.902 0.897 = 0.804+0.092 lib/trainer.py:92\n",
      "Iˈ15.989 0.895 = 0.803+0.093 lib/trainer.py:92\n",
      "Iˈ16.071 0.897 = 0.801+0.096 lib/trainer.py:92\n",
      "Iˈ16.163 0.895 = 0.801+0.094 lib/trainer.py:92\n",
      "Iˈ16.250 0.899 = 0.804+0.095 lib/trainer.py:92\n",
      "Iˈ16.335 0.897 = 0.799+0.098 lib/trainer.py:92\n",
      "Iˈ16.431 0.900 = 0.802+0.097 lib/trainer.py:92\n",
      "Iˈ16.516 0.900 = 0.807+0.093 lib/trainer.py:92\n",
      "Iˈ16.598 0.898 = 0.805+0.093 lib/trainer.py:92\n",
      "Iˈ16.690 0.901 = 0.805+0.096 lib/trainer.py:92\n",
      "Iˈ16.773 0.898 = 0.801+0.098 lib/trainer.py:92\n",
      "Iˈ16.853 0.899 = 0.802+0.097 lib/trainer.py:92\n",
      "Iˈ16.946 0.900 = 0.805+0.095 lib/trainer.py:92\n",
      "Iˈ17.033 0.899 = 0.804+0.094 lib/trainer.py:92\n",
      "Iˈ17.116 0.895 = 0.799+0.095 lib/trainer.py:92\n",
      "Iˈ17.209 0.896 = 0.805+0.091 lib/trainer.py:92\n",
      "Iˈ17.292 0.895 = 0.800+0.095 lib/trainer.py:92\n",
      "Iˈ17.375 0.894 = 0.797+0.097 lib/trainer.py:92\n",
      "Iˈ17.472 0.896 = 0.801+0.095 lib/trainer.py:92\n",
      "Iˈ17.557 0.898 = 0.791+0.107 lib/trainer.py:92\n",
      "Iˈ17.636 0.897 = 0.791+0.106 lib/trainer.py:92\n",
      "Iˈ17.725 0.896 = 0.801+0.095 lib/trainer.py:92\n",
      "Iˈ17.807 0.896 = 0.811+0.086 lib/trainer.py:92\n",
      "Iˈ17.888 0.897 = 0.808+0.088 lib/trainer.py:92\n",
      "Iˈ17.981 0.897 = 0.801+0.096 lib/trainer.py:92\n",
      "Iˈ18.066 0.897 = 0.795+0.103 lib/trainer.py:92\n",
      "Iˈ18.148 0.895 = 0.794+0.101 lib/trainer.py:92\n",
      "Iˈ18.236 0.894 = 0.803+0.091 lib/trainer.py:92\n",
      "Iˈ18.319 0.896 = 0.810+0.086 lib/trainer.py:92\n",
      "Iˈ18.400 0.897 = 0.801+0.096 lib/trainer.py:92\n",
      "Iˈ18.493 0.896 = 0.794+0.101 lib/trainer.py:92\n",
      "Iˈ18.575 0.897 = 0.797+0.099 lib/trainer.py:92\n",
      "Iˈ18.656 0.899 = 0.806+0.092 lib/trainer.py:92\n",
      "Iˈ18.746 0.896 = 0.802+0.094 lib/trainer.py:92\n",
      "Iˈ18.829 0.896 = 0.795+0.101 lib/trainer.py:92\n",
      "Iˈ18.925 0.898 = 0.798+0.100 lib/trainer.py:92\n",
      "Iˈ19.015 0.899 = 0.804+0.096 lib/trainer.py:92\n",
      "Iˈ19.098 0.895 = 0.804+0.091 lib/trainer.py:92\n",
      "Iˈ19.180 0.895 = 0.808+0.087 lib/trainer.py:92\n",
      "Iˈ19.272 0.897 = 0.803+0.093 lib/trainer.py:92\n",
      "Iˈ19.357 0.895 = 0.791+0.103 lib/trainer.py:92\n",
      "Iˈ19.442 0.896 = 0.800+0.096 lib/trainer.py:92\n",
      "Iˈ19.529 0.896 = 0.806+0.090 lib/trainer.py:92\n",
      "Iˈ19.599 killing S2->D0 at tick 22185 with k=0.006 lib/livenet.py:191\n",
      "Iˈ19.599 D0 became dangle, total dangle = 1 lib/death.py:55\n",
      "Iˈ19.611 0.895 = 0.801+0.094 lib/trainer.py:92\n",
      "Iˈ19.683 0.895 = 0.796+0.099 lib/trainer.py:92\n",
      "Iˈ19.758 0.897 = 0.797+0.101 lib/trainer.py:92\n",
      "Iˈ19.840 0.899 = 0.798+0.101 lib/trainer.py:92\n",
      "Iˈ19.914 0.898 = 0.800+0.098 lib/trainer.py:92\n",
      "Iˈ19.996 0.899 = 0.807+0.093 lib/trainer.py:92\n",
      "Iˈ20.077 0.900 = 0.811+0.089 lib/trainer.py:92\n",
      "Iˈ20.150 0.901 = 0.812+0.089 lib/trainer.py:92\n",
      "Iˈ20.227 0.900 = 0.808+0.092 lib/trainer.py:92\n",
      "Iˈ20.307 0.898 = 0.800+0.098 lib/trainer.py:92\n",
      "Iˈ20.382 0.896 = 0.793+0.103 lib/trainer.py:92\n",
      "Iˈ20.459 0.896 = 0.793+0.103 lib/trainer.py:92\n",
      "Iˈ20.539 0.899 = 0.800+0.099 lib/trainer.py:92\n",
      "Iˈ20.612 0.896 = 0.802+0.094 lib/trainer.py:92\n",
      "Iˈ20.688 0.895 = 0.808+0.087 lib/trainer.py:92\n",
      "Iˈ20.767 0.894 = 0.806+0.088 lib/trainer.py:92\n",
      "Iˈ20.841 0.894 = 0.795+0.099 lib/trainer.py:92\n",
      "Iˈ20.916 0.895 = 0.790+0.106 lib/trainer.py:92\n",
      "Iˈ20.999 0.895 = 0.797+0.097 lib/trainer.py:92\n",
      "Iˈ21.075 0.895 = 0.808+0.087 lib/trainer.py:92\n",
      "Iˈ21.155 0.896 = 0.809+0.087 lib/trainer.py:92\n",
      "Iˈ21.236 0.895 = 0.799+0.096 lib/trainer.py:92\n",
      "Iˈ21.311 0.895 = 0.791+0.104 lib/trainer.py:92\n",
      "Iˈ21.391 0.896 = 0.793+0.103 lib/trainer.py:92\n",
      "Iˈ21.468 0.895 = 0.805+0.090 lib/trainer.py:92\n",
      "Iˈ21.544 0.895 = 0.809+0.086 lib/trainer.py:92\n",
      "Iˈ21.621 0.896 = 0.801+0.096 lib/trainer.py:92\n",
      "Iˈ21.701 0.896 = 0.796+0.099 lib/trainer.py:92\n"
     ]
    }
   ],
   "source": [
    "network.context.alpha_l1 = 0.01\n",
    "trainer.step(25000)\n"
   ],
   "metadata": {
    "collapsed": false
   }
  },
  {
   "cell_type": "code",
   "execution_count": 10,
   "outputs": [
    {
     "data": {
      "text/plain": "0.2653"
     },
     "execution_count": 10,
     "metadata": {},
     "output_type": "execute_result"
    }
   ],
   "source": [
    "pred = network(test_x)\n",
    "pred_bin = np.argmax(pred.detach().numpy(), axis=1, keepdims=True)\n",
    "diff = test_y - pred_bin\n",
    "len(diff[diff != 0]) / len(diff)"
   ],
   "metadata": {
    "collapsed": false
   }
  },
  {
   "cell_type": "code",
   "execution_count": 23,
   "outputs": [
    {
     "name": "stdout",
     "output_type": "stream",
     "text": [
      "Using matplotlib backend: TkAgg\n"
     ]
    }
   ],
   "source": [
    "importlib.reload(lib)\n",
    "%matplotlib\n",
    "plt.ion()\n",
    "\n",
    "def param_amount(param):\n",
    "    val = len(param[\"params\"])\n",
    "    return val\n",
    "\n",
    "def param_max(param):\n",
    "    val = np.max(np.abs(param[\"params\"]))\n",
    "    return val\n",
    "\n",
    "def param_picker1(param):\n",
    "    try:\n",
    "        val0 = param[\"params\"][\"S262->D1\"].item()\n",
    "    except KeyError:\n",
    "        val0 = 0.\n",
    "    return val0\n",
    "\n",
    "def get_param_values(history, picker):\n",
    "    values = []\n",
    "    for entry in history:\n",
    "        values.append(picker(entry))\n",
    "    return values\n",
    "\n",
    "plt.figure(figsize=(16, 9))\n",
    "values = get_param_values(trainer.history, param_amount)\n",
    "plt.plot(values)\n",
    "plt.grid()\n",
    "\n",
    "accum = lib.stat_utils.AccumStat()\n",
    "accum.add_value(trainer.network.parameters())\n",
    "# accum.plot()"
   ],
   "metadata": {
    "collapsed": false
   }
  },
  {
   "cell_type": "code",
   "execution_count": 11,
   "outputs": [
    {
     "name": "stdout",
     "output_type": "stream",
     "text": [
      "D0 2.6\n",
      "D1 -2.7\n",
      "S1->D1 1.6\n",
      "S2->D1 -7.1\n",
      "S3->D1 -1.5\n"
     ]
    }
   ],
   "source": [
    "for name, p in sorted(network.named_parameters(),key=lambda x: len(x[0]) + ord(x[0][0]) / 1000.):\n",
    "    print(name, f\"{p.item():.1f}\")"
   ],
   "metadata": {
    "collapsed": false
   }
  },
  {
   "cell_type": "code",
   "execution_count": 19,
   "outputs": [
    {
     "data": {
      "text/plain": "OrderedDict([('D0',\n              Parameter containing:\n              tensor(-0.0146, requires_grad=True)),\n             ('D1',\n              Parameter containing:\n              tensor(0.0146, requires_grad=True)),\n             ('N4',\n              Parameter containing:\n              tensor(-0.0045, requires_grad=True))])"
     },
     "execution_count": 19,
     "metadata": {},
     "output_type": "execute_result"
    }
   ],
   "source": [
    "network._parameters"
   ],
   "metadata": {
    "collapsed": false
   }
  },
  {
   "cell_type": "code",
   "execution_count": 151,
   "outputs": [
    {
     "name": "stdout",
     "output_type": "stream",
     "text": [
      "============= Diagnostic Run torch.onnx.export version 2.0.0+cu117 =============\n",
      "verbose: False, log level: Level.ERROR\n",
      "======================= 0 NONE 0 NOTE 0 WARNING 0 ERROR ========================\n",
      "\n"
     ]
    }
   ],
   "source": [
    "lib.livenet.export_onnx(network, \"/home/spometun/model.onnx\")"
   ],
   "metadata": {
    "collapsed": false
   }
  }
 ],
 "metadata": {
  "kernelspec": {
   "display_name": "Python 3",
   "language": "python",
   "name": "python3"
  },
  "language_info": {
   "codemirror_mode": {
    "name": "ipython",
    "version": 2
   },
   "file_extension": ".py",
   "mimetype": "text/x-python",
   "name": "python",
   "nbconvert_exporter": "python",
   "pygments_lexer": "ipython2",
   "version": "2.7.6"
  }
 },
 "nbformat": 4,
 "nbformat_minor": 0
}
