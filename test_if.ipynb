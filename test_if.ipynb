{
 "cells": [
  {
   "cell_type": "code",
   "id": "initial_id",
   "metadata": {
    "collapsed": true,
    "ExecuteTime": {
     "end_time": "2025-02-14T18:54:57.335731Z",
     "start_time": "2025-02-14T18:54:57.330053Z"
    }
   },
   "source": [
    "import torch\n",
    "import torch.nn as nn"
   ],
   "outputs": [],
   "execution_count": 3
  },
  {
   "metadata": {
    "ExecuteTime": {
     "end_time": "2025-02-14T19:10:33.561348Z",
     "start_time": "2025-02-14T19:10:33.404912Z"
    }
   },
   "cell_type": "code",
   "source": [
    "class IfNet(torch.nn.Module):\n",
    "    def __init__(self):\n",
    "        super().__init__()\n",
    "\n",
    "    def forward(self, x, y):\n",
    "        if y[0] > 0:\n",
    "            return x * x\n",
    "        else:\n",
    "            return x + x\n",
    "\n",
    "\n",
    "ifnet = IfNet()\n",
    "scripted_net = torch.jit.script(IfNet())\n",
    "dummy_input = torch.tensor([2.0, 3.0]), torch.tensor([-5.0])\n",
    "torch.onnx.export(scripted_net, dummy_input, \"/home/spometun/table/home_project/model.onnx\")\n",
    "scripted_net(*dummy_input)"
   ],
   "id": "4f34d1663371be46",
   "outputs": [
    {
     "data": {
      "text/plain": [
       "tensor([4., 6.])"
      ]
     },
     "execution_count": 20,
     "metadata": {},
     "output_type": "execute_result"
    }
   ],
   "execution_count": 20
  }
 ],
 "metadata": {
  "kernelspec": {
   "display_name": "Python 3",
   "language": "python",
   "name": "python3"
  },
  "language_info": {
   "codemirror_mode": {
    "name": "ipython",
    "version": 2
   },
   "file_extension": ".py",
   "mimetype": "text/x-python",
   "name": "python",
   "nbconvert_exporter": "python",
   "pygments_lexer": "ipython2",
   "version": "2.7.6"
  }
 },
 "nbformat": 4,
 "nbformat_minor": 5
}
