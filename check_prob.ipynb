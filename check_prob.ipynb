{
 "cells": [
  {
   "cell_type": "code",
   "execution_count": 73,
   "outputs": [],
   "source": [
    "import numpy as np\n",
    "import importlib\n",
    "import calibration\n",
    "importlib.reload(calibration)\n",
    "import tensorflow as tf\n",
    "from tensorflow import keras\n",
    "from keras import layers\n",
    "import sklearn\n",
    "import sklearn.metrics\n",
    "tf.keras.utils.set_random_seed(1)\n",
    "tf.config.experimental.enable_op_determinism()\n"
   ],
   "metadata": {
    "collapsed": false
   }
  },
  {
   "cell_type": "code",
   "execution_count": 229,
   "outputs": [],
   "source": [
    "(x_train, y_train), (x_test, y_test) = keras.datasets.mnist.load_data()\n",
    "x_test = x_test[..., np.newaxis] / 255\n",
    "x_train = x_train[..., np.newaxis] / 255\n",
    "y_test = y_test[..., np.newaxis]\n",
    "y_train = y_train[..., np.newaxis]\n",
    "\n",
    "def group_in_two(y):\n",
    "    y[y < 5] = 0\n",
    "    y[y >= 5] = 1\n",
    "\n",
    "group_in_two(y_train)\n",
    "group_in_two(y_test)\n",
    "\n",
    "rng = np.random.default_rng()\n",
    "# rng.shuffle(x_train)\n",
    "# rng.shuffle(x_test)\n"
   ],
   "metadata": {
    "collapsed": false
   }
  },
  {
   "cell_type": "code",
   "execution_count": 430,
   "outputs": [
    {
     "name": "stdout",
     "output_type": "stream",
     "text": [
      "Model: \"sequential_27\"\n",
      "_________________________________________________________________\n",
      " Layer (type)                Output Shape              Param #   \n",
      "=================================================================\n",
      " flatten_27 (Flatten)        (None, 784)               0         \n",
      "                                                                 \n",
      " dense_111 (Dense)           (None, 1)                 785       \n",
      "                                                                 \n",
      " dense_112 (Dense)           (None, 4)                 8         \n",
      "                                                                 \n",
      " dense_113 (Dense)           (None, 4)                 20        \n",
      "                                                                 \n",
      " dense_114 (Dense)           (None, 4)                 20        \n",
      "                                                                 \n",
      " dense_115 (Dense)           (None, 4)                 20        \n",
      "                                                                 \n",
      " dense_116 (Dense)           (None, 1)                 5         \n",
      "                                                                 \n",
      " activation_22 (Activation)  (None, 1)                 0         \n",
      "                                                                 \n",
      "=================================================================\n",
      "Total params: 858\n",
      "Trainable params: 858\n",
      "Non-trainable params: 0\n",
      "_________________________________________________________________\n"
     ]
    }
   ],
   "source": [
    "input_shape = x_train.shape[1:3]\n",
    "model = keras.Sequential([\n",
    "    layers.Input(shape=input_shape),\n",
    "    layers.Flatten(),\n",
    "    layers.Dense(1, activation=keras.activations.softplus),\n",
    "    layers.Dense(4, activation=keras.activations.sigmoid),\n",
    "    layers.Dense(4, activation=keras.activations.sigmoid),\n",
    "    layers.Dense(4, activation=keras.activations.sigmoid),\n",
    "    layers.Dense(4, activation=keras.activations.sigmoid),\n",
    "    # layers.Dense(4, activation=keras.activations.softplus),\n",
    "    layers.Dense(1),\n",
    "    layers.Activation(\"sigmoid\")\n",
    "    ]\n",
    ")\n",
    "\n",
    "def loss_func_entropy(y_true, y_pred):\n",
    "    y_pred = tf.convert_to_tensor(y_pred)\n",
    "    y_true = tf.cast(y_true, y_pred.dtype)\n",
    "    y_true = y_true[:, 0]\n",
    "    eps = 1e-6\n",
    "    p0 = tf.clip_by_value(1 - y_pred[:,0] + eps, 0, 1)\n",
    "    p1 = tf.clip_by_value(y_pred[:,0] + eps, 0, 1)\n",
    "    loss = -tf.math.xlogy(y_true, p1) - tf.math.xlogy(1 - y_true, p0)\n",
    "    loss /= tf.math.log(2.0)\n",
    "    return loss\n",
    "\n",
    "loss_func = keras.losses.mse\n",
    "loss_func = loss_func_entropy\n",
    "optimizer = keras.optimizers.Adam(learning_rate=0.001)\n",
    "model.compile(loss=loss_func, optimizer=optimizer)\n",
    "model.summary()"
   ],
   "metadata": {
    "collapsed": false
   }
  },
  {
   "cell_type": "code",
   "execution_count": 449,
   "outputs": [
    {
     "name": "stdout",
     "output_type": "stream",
     "text": [
      "Epoch 1/100\n",
      "1/1 [==============================] - 0s 92ms/step - loss: 0.4349\n",
      "Epoch 2/100\n",
      "1/1 [==============================] - 0s 21ms/step - loss: 0.4349\n",
      "Epoch 3/100\n",
      "1/1 [==============================] - 0s 21ms/step - loss: 0.4349\n",
      "Epoch 4/100\n",
      "1/1 [==============================] - 0s 20ms/step - loss: 0.4349\n",
      "Epoch 5/100\n",
      "1/1 [==============================] - 0s 19ms/step - loss: 0.4349\n",
      "Epoch 6/100\n",
      "1/1 [==============================] - 0s 21ms/step - loss: 0.4349\n",
      "Epoch 7/100\n",
      "1/1 [==============================] - 0s 25ms/step - loss: 0.4349\n",
      "Epoch 8/100\n",
      "1/1 [==============================] - 0s 24ms/step - loss: 0.4349\n",
      "Epoch 9/100\n",
      "1/1 [==============================] - 0s 28ms/step - loss: 0.4349\n",
      "Epoch 10/100\n",
      "1/1 [==============================] - 0s 27ms/step - loss: 0.4349\n",
      "Epoch 11/100\n",
      "1/1 [==============================] - 0s 25ms/step - loss: 0.4349\n",
      "Epoch 12/100\n",
      "1/1 [==============================] - 0s 26ms/step - loss: 0.4349\n",
      "Epoch 13/100\n",
      "1/1 [==============================] - 0s 23ms/step - loss: 0.4349\n",
      "Epoch 14/100\n",
      "1/1 [==============================] - 0s 26ms/step - loss: 0.4349\n",
      "Epoch 15/100\n",
      "1/1 [==============================] - 0s 31ms/step - loss: 0.4349\n",
      "Epoch 16/100\n",
      "1/1 [==============================] - 0s 24ms/step - loss: 0.4349\n",
      "Epoch 17/100\n",
      "1/1 [==============================] - 0s 29ms/step - loss: 0.4349\n",
      "Epoch 18/100\n",
      "1/1 [==============================] - 0s 23ms/step - loss: 0.4349\n",
      "Epoch 19/100\n",
      "1/1 [==============================] - 0s 28ms/step - loss: 0.4349\n",
      "Epoch 20/100\n",
      "1/1 [==============================] - 0s 24ms/step - loss: 0.4349\n",
      "Epoch 21/100\n",
      "1/1 [==============================] - 0s 28ms/step - loss: 0.4349\n",
      "Epoch 22/100\n",
      "1/1 [==============================] - 0s 25ms/step - loss: 0.4349\n",
      "Epoch 23/100\n",
      "1/1 [==============================] - 0s 25ms/step - loss: 0.4349\n",
      "Epoch 24/100\n",
      "1/1 [==============================] - 0s 27ms/step - loss: 0.4349\n",
      "Epoch 25/100\n",
      "1/1 [==============================] - 0s 25ms/step - loss: 0.4349\n",
      "Epoch 26/100\n",
      "1/1 [==============================] - 0s 26ms/step - loss: 0.4349\n",
      "Epoch 27/100\n",
      "1/1 [==============================] - 0s 27ms/step - loss: 0.4349\n",
      "Epoch 28/100\n",
      "1/1 [==============================] - 0s 26ms/step - loss: 0.4349\n",
      "Epoch 29/100\n",
      "1/1 [==============================] - 0s 25ms/step - loss: 0.4348\n",
      "Epoch 30/100\n",
      "1/1 [==============================] - 0s 29ms/step - loss: 0.4348\n",
      "Epoch 31/100\n",
      "1/1 [==============================] - 0s 25ms/step - loss: 0.4348\n",
      "Epoch 32/100\n",
      "1/1 [==============================] - 0s 27ms/step - loss: 0.4348\n",
      "Epoch 33/100\n",
      "1/1 [==============================] - 0s 29ms/step - loss: 0.4348\n",
      "Epoch 34/100\n",
      "1/1 [==============================] - 0s 27ms/step - loss: 0.4348\n",
      "Epoch 35/100\n",
      "1/1 [==============================] - 0s 27ms/step - loss: 0.4348\n",
      "Epoch 36/100\n",
      "1/1 [==============================] - 0s 28ms/step - loss: 0.4348\n",
      "Epoch 37/100\n",
      "1/1 [==============================] - 0s 29ms/step - loss: 0.4348\n",
      "Epoch 38/100\n",
      "1/1 [==============================] - 0s 27ms/step - loss: 0.4348\n",
      "Epoch 39/100\n",
      "1/1 [==============================] - 0s 28ms/step - loss: 0.4348\n",
      "Epoch 40/100\n",
      "1/1 [==============================] - 0s 27ms/step - loss: 0.4348\n",
      "Epoch 41/100\n",
      "1/1 [==============================] - 0s 29ms/step - loss: 0.4348\n",
      "Epoch 42/100\n",
      "1/1 [==============================] - 0s 26ms/step - loss: 0.4348\n",
      "Epoch 43/100\n",
      "1/1 [==============================] - 0s 30ms/step - loss: 0.4348\n",
      "Epoch 44/100\n",
      "1/1 [==============================] - 0s 27ms/step - loss: 0.4348\n",
      "Epoch 45/100\n",
      "1/1 [==============================] - 0s 31ms/step - loss: 0.4348\n",
      "Epoch 46/100\n",
      "1/1 [==============================] - 0s 28ms/step - loss: 0.4348\n",
      "Epoch 47/100\n",
      "1/1 [==============================] - 0s 31ms/step - loss: 0.4348\n",
      "Epoch 48/100\n",
      "1/1 [==============================] - 0s 27ms/step - loss: 0.4348\n",
      "Epoch 49/100\n",
      "1/1 [==============================] - 0s 29ms/step - loss: 0.4348\n",
      "Epoch 50/100\n",
      "1/1 [==============================] - 0s 29ms/step - loss: 0.4348\n",
      "Epoch 51/100\n",
      "1/1 [==============================] - 0s 28ms/step - loss: 0.4348\n",
      "Epoch 52/100\n",
      "1/1 [==============================] - 0s 29ms/step - loss: 0.4348\n",
      "Epoch 53/100\n",
      "1/1 [==============================] - 0s 27ms/step - loss: 0.4348\n",
      "Epoch 54/100\n",
      "1/1 [==============================] - 0s 30ms/step - loss: 0.4348\n",
      "Epoch 55/100\n",
      "1/1 [==============================] - 0s 30ms/step - loss: 0.4348\n",
      "Epoch 56/100\n",
      "1/1 [==============================] - 0s 26ms/step - loss: 0.4348\n",
      "Epoch 57/100\n",
      "1/1 [==============================] - 0s 32ms/step - loss: 0.4348\n",
      "Epoch 58/100\n",
      "1/1 [==============================] - 0s 28ms/step - loss: 0.4348\n",
      "Epoch 59/100\n",
      "1/1 [==============================] - 0s 31ms/step - loss: 0.4348\n",
      "Epoch 60/100\n",
      "1/1 [==============================] - 0s 29ms/step - loss: 0.4348\n",
      "Epoch 61/100\n",
      "1/1 [==============================] - 0s 29ms/step - loss: 0.4348\n",
      "Epoch 62/100\n",
      "1/1 [==============================] - 0s 29ms/step - loss: 0.4348\n",
      "Epoch 63/100\n",
      "1/1 [==============================] - 0s 27ms/step - loss: 0.4348\n",
      "Epoch 64/100\n",
      "1/1 [==============================] - 0s 32ms/step - loss: 0.4348\n",
      "Epoch 65/100\n",
      "1/1 [==============================] - 0s 29ms/step - loss: 0.4348\n",
      "Epoch 66/100\n",
      "1/1 [==============================] - 0s 30ms/step - loss: 0.4348\n",
      "Epoch 67/100\n",
      "1/1 [==============================] - 0s 28ms/step - loss: 0.4347\n",
      "Epoch 68/100\n",
      "1/1 [==============================] - 0s 29ms/step - loss: 0.4347\n",
      "Epoch 69/100\n",
      "1/1 [==============================] - 0s 29ms/step - loss: 0.4347\n",
      "Epoch 70/100\n",
      "1/1 [==============================] - 0s 30ms/step - loss: 0.4347\n",
      "Epoch 71/100\n",
      "1/1 [==============================] - 0s 27ms/step - loss: 0.4347\n",
      "Epoch 72/100\n",
      "1/1 [==============================] - 0s 29ms/step - loss: 0.4347\n",
      "Epoch 73/100\n",
      "1/1 [==============================] - 0s 29ms/step - loss: 0.4347\n",
      "Epoch 74/100\n",
      "1/1 [==============================] - 0s 28ms/step - loss: 0.4347\n",
      "Epoch 75/100\n",
      "1/1 [==============================] - 0s 31ms/step - loss: 0.4347\n",
      "Epoch 76/100\n",
      "1/1 [==============================] - 0s 27ms/step - loss: 0.4347\n",
      "Epoch 77/100\n",
      "1/1 [==============================] - 0s 30ms/step - loss: 0.4347\n",
      "Epoch 78/100\n",
      "1/1 [==============================] - 0s 30ms/step - loss: 0.4347\n",
      "Epoch 79/100\n",
      "1/1 [==============================] - 0s 30ms/step - loss: 0.4347\n",
      "Epoch 80/100\n",
      "1/1 [==============================] - 0s 29ms/step - loss: 0.4347\n",
      "Epoch 81/100\n",
      "1/1 [==============================] - 0s 29ms/step - loss: 0.4347\n",
      "Epoch 82/100\n",
      "1/1 [==============================] - 0s 28ms/step - loss: 0.4347\n",
      "Epoch 83/100\n",
      "1/1 [==============================] - 0s 32ms/step - loss: 0.4347\n",
      "Epoch 84/100\n",
      "1/1 [==============================] - 0s 29ms/step - loss: 0.4347\n",
      "Epoch 85/100\n",
      "1/1 [==============================] - 0s 28ms/step - loss: 0.4347\n",
      "Epoch 86/100\n",
      "1/1 [==============================] - 0s 26ms/step - loss: 0.4347\n",
      "Epoch 87/100\n",
      "1/1 [==============================] - 0s 30ms/step - loss: 0.4347\n",
      "Epoch 88/100\n",
      "1/1 [==============================] - 0s 29ms/step - loss: 0.4347\n",
      "Epoch 89/100\n",
      "1/1 [==============================] - 0s 32ms/step - loss: 0.4347\n",
      "Epoch 90/100\n",
      "1/1 [==============================] - 0s 32ms/step - loss: 0.4347\n",
      "Epoch 91/100\n",
      "1/1 [==============================] - 0s 30ms/step - loss: 0.4347\n",
      "Epoch 92/100\n",
      "1/1 [==============================] - 0s 31ms/step - loss: 0.4347\n",
      "Epoch 93/100\n",
      "1/1 [==============================] - 0s 32ms/step - loss: 0.4347\n",
      "Epoch 94/100\n",
      "1/1 [==============================] - 0s 30ms/step - loss: 0.4347\n",
      "Epoch 95/100\n",
      "1/1 [==============================] - 0s 29ms/step - loss: 0.4347\n",
      "Epoch 96/100\n",
      "1/1 [==============================] - 0s 29ms/step - loss: 0.4347\n",
      "Epoch 97/100\n",
      "1/1 [==============================] - 0s 28ms/step - loss: 0.4347\n",
      "Epoch 98/100\n",
      "1/1 [==============================] - 0s 25ms/step - loss: 0.4347\n",
      "Epoch 99/100\n",
      "1/1 [==============================] - 0s 24ms/step - loss: 0.4347\n",
      "Epoch 100/100\n",
      "1/1 [==============================] - 0s 23ms/step - loss: 0.4347\n"
     ]
    },
    {
     "data": {
      "text/plain": "<keras.callbacks.History at 0x7f5269cc0df0>"
     },
     "execution_count": 449,
     "metadata": {},
     "output_type": "execute_result"
    }
   ],
   "source": [
    "model.optimizer.learning_rate = 0.004\n",
    "model.fit(x_train, y_train, batch_size=60000, epochs=100)"
   ],
   "metadata": {
    "collapsed": false
   }
  },
  {
   "cell_type": "code",
   "execution_count": 450,
   "outputs": [
    {
     "name": "stdout",
     "output_type": "stream",
     "text": [
      "train  entropy=0.9997 accuracy=0.8916 loss=0.4347 entropy_loss=0.4347\n",
      "test  entropy=0.9994 accuracy=0.8834 loss=0.4505 entropy_loss=0.4505\n"
     ]
    }
   ],
   "source": [
    "def print_res(x, y_true, name):\n",
    "    scores = model(x).numpy()\n",
    "    y_pred = scores >= 0.5\n",
    "    loss = loss_func(y_true, scores).numpy()\n",
    "    loss_av = np.average(loss)\n",
    "    e_loss = loss_func_entropy(y_true, scores)\n",
    "    e_loss_av = np.average(e_loss)\n",
    "    accuracy = sklearn.metrics.accuracy_score(y_true, y_pred)\n",
    "    entropy = calibration.get_binary_entropy(y_true)\n",
    "    print(f\"{name}  entropy={entropy:.4} accuracy={accuracy:.4} loss={loss_av:.4} entropy_loss={e_loss_av:.4}\")\n",
    "\n",
    "print_res(x_train, y_train, \"train\")\n",
    "print_res(x_test, y_test, \"test\")\n"
   ],
   "metadata": {
    "collapsed": false
   }
  },
  {
   "cell_type": "code",
   "execution_count": 451,
   "outputs": [
    {
     "name": "stdout",
     "output_type": "stream",
     "text": [
      "***** train ******\n"
     ]
    },
    {
     "data": {
      "text/plain": "<Figure size 640x480 with 1 Axes>",
      "image/png": "[encoded data removed]"
     },
     "metadata": {},
     "output_type": "display_data"
    },
    {
     "name": "stdout",
     "output_type": "stream",
     "text": [
      "loss=0.4347 loss_calib=0.4312 accuracy=0.8916\n",
      "***** test ******\n"
     ]
    },
    {
     "data": {
      "text/plain": "<Figure size 640x480 with 1 Axes>",
      "image/png": "[encoded data removed]"
     },
     "metadata": {},
     "output_type": "display_data"
    },
    {
     "name": "stdout",
     "output_type": "stream",
     "text": [
      "loss=0.4505 loss_calib=0.4485 accuracy=0.8834\n"
     ]
    }
   ],
   "source": [
    "scores_train = model(x_train).numpy()\n",
    "calib_func = calibration.get_calibration_function(y_train.squeeze(1), scores_train.squeeze(1))\n",
    "\n",
    "def print_calib(x, y_true, name):\n",
    "    print(f\"***** {name} ******\")\n",
    "    scores = model(x).numpy().squeeze(1)\n",
    "    y_pred = scores >= 0.5\n",
    "    accuracy = sklearn.metrics.accuracy_score(y_true, y_pred)\n",
    "    calib_scores = np.vectorize(calib_func)(scores).astype(np.float32)\n",
    "    calibration.plot_calibrated_curve(scores, calib_scores)\n",
    "    loss = loss_func(y_true, scores[:, None])\n",
    "    loss_calib = loss_func(y_true, calib_scores[:, None])\n",
    "    print(f\"loss={np.average(loss):.4} loss_calib={np.average(loss_calib):.4} accuracy={accuracy:.4}\")\n",
    "\n",
    "print_calib(x_train, y_train, \"train\")\n",
    "print_calib(x_test, y_test, \"test\")\n",
    "\n"
   ],
   "metadata": {
    "collapsed": false
   }
  },
  {
   "cell_type": "code",
   "execution_count": 64,
   "outputs": [],
   "source": [
    "w = model.weights\n",
    "w0 = w[0].numpy()\n",
    "w1 = w[1].numpy()"
   ],
   "metadata": {
    "collapsed": false
   }
  },
  {
   "cell_type": "code",
   "execution_count": null,
   "outputs": [],
   "source": [],
   "metadata": {
    "collapsed": false
   }
  }
 ],
 "metadata": {
  "kernelspec": {
   "display_name": "Python 3",
   "language": "python",
   "name": "python3"
  },
  "language_info": {
   "codemirror_mode": {
    "name": "ipython",
    "version": 2
   },
   "file_extension": ".py",
   "mimetype": "text/x-python",
   "name": "python",
   "nbconvert_exporter": "python",
   "pygments_lexer": "ipython2",
   "version": "2.7.6"
  }
 },
 "nbformat": 4,
 "nbformat_minor": 0
}
