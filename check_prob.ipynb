{
 "cells": [
  {
   "cell_type": "code",
   "execution_count": 1,
   "outputs": [
    {
     "name": "stderr",
     "output_type": "stream",
     "text": [
      "2023-02-17 17:11:19.750670: I tensorflow/core/util/port.cc:110] oneDNN custom operations are on. You may see slightly different numerical results due to floating-point round-off errors from different computation orders. To turn them off, set the environment variable `TF_ENABLE_ONEDNN_OPTS=0`.\n",
      "2023-02-17 17:11:19.810487: I tensorflow/tsl/cuda/cudart_stub.cc:28] Could not find cuda drivers on your machine, GPU will not be used.\n",
      "2023-02-17 17:11:20.052094: I tensorflow/tsl/cuda/cudart_stub.cc:28] Could not find cuda drivers on your machine, GPU will not be used.\n",
      "2023-02-17 17:11:20.053364: I tensorflow/core/platform/cpu_feature_guard.cc:182] This TensorFlow binary is optimized to use available CPU instructions in performance-critical operations.\n",
      "To enable the following instructions: AVX2 AVX512F AVX512_VNNI FMA, in other operations, rebuild TensorFlow with the appropriate compiler flags.\n",
      "2023-02-17 17:11:21.986211: W tensorflow/compiler/tf2tensorrt/utils/py_utils.cc:38] TF-TRT Warning: Could not find TensorRT\n"
     ]
    }
   ],
   "source": [
    "import numpy as np\n",
    "import importlib\n",
    "import calibration\n",
    "importlib.reload(calibration)\n",
    "import datasets\n",
    "importlib.reload(datasets)\n",
    "import tensorflow as tf\n",
    "from tensorflow import keras\n",
    "from keras import layers\n",
    "import sklearn\n",
    "import sklearn.metrics\n",
    "tf.keras.utils.set_random_seed(1)\n",
    "tf.config.experimental.enable_op_determinism()\n"
   ],
   "metadata": {
    "collapsed": false
   }
  },
  {
   "cell_type": "code",
   "execution_count": 244,
   "outputs": [],
   "source": [
    "(x_train, y_train), (x_test, y_test) = keras.datasets.fashion_mnist.load_data()\n",
    "def fix_dim(arg, n=4):\n",
    "    arg = arg.copy()\n",
    "    if arg.ndim == n - 1:\n",
    "        arg = arg[..., np.newaxis]\n",
    "    return arg\n",
    "\n",
    "x_test = fix_dim(x_test / 255)\n",
    "x_train = fix_dim(x_train / 255)\n",
    "y_test = fix_dim(y_test, 2)\n",
    "y_train = fix_dim(y_train, 2)\n",
    "\n",
    "def group_in_two(y):\n",
    "    inds = (y != 0) * (y != 2) * (y != 4) * (y != 5) * (y != 7)\n",
    "    y[inds] = 0\n",
    "    y[np.invert(inds)] = 1\n",
    "\n",
    "\n",
    "group_in_two(y_train)\n",
    "group_in_two(y_test)\n",
    "\n",
    "rng = np.random.default_rng()\n",
    "# rng.shuffle(x_train)\n",
    "# rng.shuffle(x_test)\n"
   ],
   "metadata": {
    "collapsed": false
   }
  },
  {
   "cell_type": "code",
   "execution_count": 234,
   "outputs": [
    {
     "name": "stdout",
     "output_type": "stream",
     "text": [
      "Model: \"sequential_24\"\n",
      "_________________________________________________________________\n",
      " Layer (type)                Output Shape              Param #   \n",
      "=================================================================\n",
      " flatten_24 (Flatten)        (None, 2)                 0         \n",
      "                                                                 \n",
      " dense_73 (Dense)            (None, 1)                 3         \n",
      "                                                                 \n",
      "=================================================================\n",
      "Total params: 3\n",
      "Trainable params: 3\n",
      "Non-trainable params: 0\n",
      "_________________________________________________________________\n"
     ]
    }
   ],
   "source": [
    "x_train, y_train = datasets.get_xor0()\n",
    "x_test, y_test = x_train, y_train\n",
    "input_shape = (2, )\n",
    "model = keras.Sequential([\n",
    "    layers.Input(shape=input_shape),\n",
    "    layers.Flatten(),\n",
    "    layers.Dense(1, activation=keras.activations.sigmoid),\n",
    "    # layers.Dense(1, use_bias=False, activation=\"relu\")\n",
    "])\n",
    "model.summary()"
   ],
   "metadata": {
    "collapsed": false
   }
  },
  {
   "cell_type": "code",
   "execution_count": 245,
   "outputs": [],
   "source": [
    "input_shape = x_train.shape[1:]\n",
    "model = keras.Sequential([\n",
    "    layers.Input(shape=input_shape),\n",
    "    layers.Flatten(),\n",
    "    # layers.Dense(1),\n",
    "    # layers.Dense(4, activation=keras.activations.sigmoid),\n",
    "    # layers.Dense(4, activation=keras.activations.sigmoid),\n",
    "    # layers.Dense(4, activation=keras.activations.sigmoid),\n",
    "    # layers.Dense(4, activation=keras.activations.sigmoid),\n",
    "    layers.Dense(1),\n",
    "    layers.Activation(\"sigmoid\")\n",
    "    ]\n",
    ")\n"
   ],
   "metadata": {
    "collapsed": false
   }
  },
  {
   "cell_type": "code",
   "execution_count": 246,
   "outputs": [
    {
     "name": "stdout",
     "output_type": "stream",
     "text": [
      "Model: \"sequential_26\"\n",
      "_________________________________________________________________\n",
      " Layer (type)                Output Shape              Param #   \n",
      "=================================================================\n",
      " flatten_26 (Flatten)        (None, 784)               0         \n",
      "                                                                 \n",
      " dense_75 (Dense)            (None, 1)                 785       \n",
      "                                                                 \n",
      " activation_18 (Activation)  (None, 1)                 0         \n",
      "                                                                 \n",
      "=================================================================\n",
      "Total params: 785\n",
      "Trainable params: 785\n",
      "Non-trainable params: 0\n",
      "_________________________________________________________________\n"
     ]
    }
   ],
   "source": [
    "def loss_func_entropy(y_true, y_pred):\n",
    "    y_pred = tf.convert_to_tensor(y_pred)\n",
    "    y_true = tf.cast(y_true, y_pred.dtype)\n",
    "    y_true = y_true[:, 0]\n",
    "    eps = 1e-6\n",
    "    p0 = tf.clip_by_value(1 - y_pred[:,0] + eps, 0, 1)\n",
    "    p1 = tf.clip_by_value(y_pred[:,0] + eps, 0, 1)\n",
    "    loss = -tf.math.xlogy(y_true, p1) - tf.math.xlogy(1 - y_true, p0)\n",
    "    loss /= tf.math.log(2.0)\n",
    "    return loss\n",
    "\n",
    "# loss_func = keras.losses.mse\n",
    "loss_func = loss_func_entropy\n",
    "optimizer = keras.optimizers.Adam(learning_rate=0.001)\n",
    "model.compile(loss=loss_func, optimizer=optimizer, metrics=[\"accuracy\"])\n",
    "model.summary()\n"
   ],
   "metadata": {
    "collapsed": false
   }
  },
  {
   "cell_type": "code",
   "execution_count": 253,
   "outputs": [
    {
     "name": "stdout",
     "output_type": "stream",
     "text": [
      "Epoch 1/100\n",
      "1/1 [==============================] - 0s 71ms/step - loss: 0.4860 - accuracy: 0.8551\n",
      "Epoch 2/100\n",
      "1/1 [==============================] - 0s 24ms/step - loss: 0.4860 - accuracy: 0.8552\n",
      "Epoch 3/100\n",
      "1/1 [==============================] - 0s 13ms/step - loss: 0.4860 - accuracy: 0.8552\n",
      "Epoch 4/100\n",
      "1/1 [==============================] - 0s 15ms/step - loss: 0.4860 - accuracy: 0.8552\n",
      "Epoch 5/100\n",
      "1/1 [==============================] - 0s 16ms/step - loss: 0.4859 - accuracy: 0.8552\n",
      "Epoch 6/100\n",
      "1/1 [==============================] - 0s 18ms/step - loss: 0.4859 - accuracy: 0.8552\n",
      "Epoch 7/100\n"
     ]
    },
    {
     "name": "stderr",
     "output_type": "stream",
     "text": [
      "2023-02-17 18:12:18.057907: I tensorflow/core/common_runtime/executor.cc:1197] [/device:CPU:0] (DEBUG INFO) Executor start aborting (this does not indicate an error and you can ignore this message): INVALID_ARGUMENT: You must feed a value for placeholder tensor 'Placeholder/_10' with dtype float and shape [60000,28,28,1]\n",
      "\t [[{{node Placeholder/_10}}]]\n",
      "2023-02-17 18:12:18.058263: I tensorflow/core/common_runtime/executor.cc:1197] [/device:CPU:0] (DEBUG INFO) Executor start aborting (this does not indicate an error and you can ignore this message): INVALID_ARGUMENT: You must feed a value for placeholder tensor 'Placeholder/_11' with dtype uint8 and shape [60000,1]\n",
      "\t [[{{node Placeholder/_11}}]]\n"
     ]
    },
    {
     "name": "stdout",
     "output_type": "stream",
     "text": [
      "1/1 [==============================] - 0s 25ms/step - loss: 0.4859 - accuracy: 0.8552\n",
      "Epoch 8/100\n",
      "1/1 [==============================] - 0s 19ms/step - loss: 0.4859 - accuracy: 0.8552\n",
      "Epoch 9/100\n",
      "1/1 [==============================] - 0s 20ms/step - loss: 0.4859 - accuracy: 0.8552\n",
      "Epoch 10/100\n",
      "1/1 [==============================] - 0s 21ms/step - loss: 0.4859 - accuracy: 0.8552\n",
      "Epoch 11/100\n",
      "1/1 [==============================] - 0s 20ms/step - loss: 0.4859 - accuracy: 0.8552\n",
      "Epoch 12/100\n",
      "1/1 [==============================] - 0s 24ms/step - loss: 0.4859 - accuracy: 0.8552\n",
      "Epoch 13/100\n",
      "1/1 [==============================] - 0s 20ms/step - loss: 0.4858 - accuracy: 0.8552\n",
      "Epoch 14/100\n",
      "1/1 [==============================] - 0s 24ms/step - loss: 0.4858 - accuracy: 0.8553\n",
      "Epoch 15/100\n",
      "1/1 [==============================] - 0s 19ms/step - loss: 0.4858 - accuracy: 0.8553\n",
      "Epoch 16/100\n",
      "1/1 [==============================] - 0s 20ms/step - loss: 0.4858 - accuracy: 0.8552\n",
      "Epoch 17/100\n",
      "1/1 [==============================] - 0s 20ms/step - loss: 0.4858 - accuracy: 0.8552\n",
      "Epoch 18/100\n",
      "1/1 [==============================] - 0s 24ms/step - loss: 0.4858 - accuracy: 0.8552\n",
      "Epoch 19/100\n",
      "1/1 [==============================] - 0s 20ms/step - loss: 0.4858 - accuracy: 0.8552\n",
      "Epoch 20/100\n",
      "1/1 [==============================] - 0s 20ms/step - loss: 0.4857 - accuracy: 0.8552\n",
      "Epoch 21/100\n",
      "1/1 [==============================] - 0s 19ms/step - loss: 0.4857 - accuracy: 0.8552\n",
      "Epoch 22/100\n",
      "1/1 [==============================] - 0s 22ms/step - loss: 0.4857 - accuracy: 0.8552\n",
      "Epoch 23/100\n",
      "1/1 [==============================] - 0s 19ms/step - loss: 0.4857 - accuracy: 0.8552\n",
      "Epoch 24/100\n",
      "1/1 [==============================] - 0s 22ms/step - loss: 0.4857 - accuracy: 0.8551\n",
      "Epoch 25/100\n",
      "1/1 [==============================] - 0s 23ms/step - loss: 0.4857 - accuracy: 0.8551\n",
      "Epoch 26/100\n",
      "1/1 [==============================] - 0s 20ms/step - loss: 0.4857 - accuracy: 0.8551\n",
      "Epoch 27/100\n",
      "1/1 [==============================] - 0s 21ms/step - loss: 0.4857 - accuracy: 0.8551\n",
      "Epoch 28/100\n",
      "1/1 [==============================] - 0s 21ms/step - loss: 0.4856 - accuracy: 0.8552\n",
      "Epoch 29/100\n",
      "1/1 [==============================] - 0s 23ms/step - loss: 0.4856 - accuracy: 0.8552\n",
      "Epoch 30/100\n",
      "1/1 [==============================] - 0s 21ms/step - loss: 0.4856 - accuracy: 0.8552\n",
      "Epoch 31/100\n",
      "1/1 [==============================] - 0s 21ms/step - loss: 0.4856 - accuracy: 0.8552\n",
      "Epoch 32/100\n",
      "1/1 [==============================] - 0s 21ms/step - loss: 0.4856 - accuracy: 0.8552\n",
      "Epoch 33/100\n",
      "1/1 [==============================] - 0s 21ms/step - loss: 0.4856 - accuracy: 0.8552\n",
      "Epoch 34/100\n",
      "1/1 [==============================] - 0s 18ms/step - loss: 0.4856 - accuracy: 0.8552\n",
      "Epoch 35/100\n",
      "1/1 [==============================] - 0s 23ms/step - loss: 0.4856 - accuracy: 0.8552\n",
      "Epoch 36/100\n",
      "1/1 [==============================] - 0s 19ms/step - loss: 0.4855 - accuracy: 0.8552\n",
      "Epoch 37/100\n",
      "1/1 [==============================] - 0s 21ms/step - loss: 0.4855 - accuracy: 0.8552\n",
      "Epoch 38/100\n",
      "1/1 [==============================] - 0s 20ms/step - loss: 0.4855 - accuracy: 0.8552\n",
      "Epoch 39/100\n",
      "1/1 [==============================] - 0s 20ms/step - loss: 0.4855 - accuracy: 0.8553\n",
      "Epoch 40/100\n",
      "1/1 [==============================] - 0s 23ms/step - loss: 0.4855 - accuracy: 0.8553\n",
      "Epoch 41/100\n",
      "1/1 [==============================] - 0s 19ms/step - loss: 0.4855 - accuracy: 0.8553\n",
      "Epoch 42/100\n",
      "1/1 [==============================] - 0s 22ms/step - loss: 0.4855 - accuracy: 0.8553\n",
      "Epoch 43/100\n",
      "1/1 [==============================] - 0s 22ms/step - loss: 0.4854 - accuracy: 0.8553\n",
      "Epoch 44/100\n",
      "1/1 [==============================] - 0s 22ms/step - loss: 0.4854 - accuracy: 0.8553\n",
      "Epoch 45/100\n",
      "1/1 [==============================] - 0s 19ms/step - loss: 0.4854 - accuracy: 0.8553\n",
      "Epoch 46/100\n",
      "1/1 [==============================] - 0s 22ms/step - loss: 0.4854 - accuracy: 0.8553\n",
      "Epoch 47/100\n",
      "1/1 [==============================] - 0s 22ms/step - loss: 0.4854 - accuracy: 0.8553\n",
      "Epoch 48/100\n",
      "1/1 [==============================] - 0s 18ms/step - loss: 0.4854 - accuracy: 0.8554\n",
      "Epoch 49/100\n",
      "1/1 [==============================] - 0s 25ms/step - loss: 0.4854 - accuracy: 0.8554\n",
      "Epoch 50/100\n",
      "1/1 [==============================] - 0s 22ms/step - loss: 0.4854 - accuracy: 0.8554\n",
      "Epoch 51/100\n",
      "1/1 [==============================] - 0s 22ms/step - loss: 0.4853 - accuracy: 0.8554\n",
      "Epoch 52/100\n",
      "1/1 [==============================] - 0s 20ms/step - loss: 0.4853 - accuracy: 0.8554\n",
      "Epoch 53/100\n",
      "1/1 [==============================] - 0s 22ms/step - loss: 0.4853 - accuracy: 0.8554\n",
      "Epoch 54/100\n",
      "1/1 [==============================] - 0s 18ms/step - loss: 0.4853 - accuracy: 0.8554\n",
      "Epoch 55/100\n",
      "1/1 [==============================] - 0s 20ms/step - loss: 0.4853 - accuracy: 0.8554\n",
      "Epoch 56/100\n",
      "1/1 [==============================] - 0s 22ms/step - loss: 0.4853 - accuracy: 0.8554\n",
      "Epoch 57/100\n",
      "1/1 [==============================] - 0s 22ms/step - loss: 0.4853 - accuracy: 0.8554\n",
      "Epoch 58/100\n",
      "1/1 [==============================] - 0s 19ms/step - loss: 0.4853 - accuracy: 0.8554\n",
      "Epoch 59/100\n",
      "1/1 [==============================] - 0s 21ms/step - loss: 0.4852 - accuracy: 0.8555\n",
      "Epoch 60/100\n",
      "1/1 [==============================] - 0s 23ms/step - loss: 0.4852 - accuracy: 0.8555\n",
      "Epoch 61/100\n",
      "1/1 [==============================] - 0s 19ms/step - loss: 0.4852 - accuracy: 0.8555\n",
      "Epoch 62/100\n",
      "1/1 [==============================] - 0s 24ms/step - loss: 0.4852 - accuracy: 0.8555\n",
      "Epoch 63/100\n",
      "1/1 [==============================] - 0s 20ms/step - loss: 0.4852 - accuracy: 0.8555\n",
      "Epoch 64/100\n",
      "1/1 [==============================] - 0s 21ms/step - loss: 0.4852 - accuracy: 0.8555\n",
      "Epoch 65/100\n",
      "1/1 [==============================] - 0s 22ms/step - loss: 0.4852 - accuracy: 0.8555\n",
      "Epoch 66/100\n",
      "1/1 [==============================] - 0s 20ms/step - loss: 0.4851 - accuracy: 0.8555\n",
      "Epoch 67/100\n",
      "1/1 [==============================] - 0s 18ms/step - loss: 0.4851 - accuracy: 0.8555\n",
      "Epoch 68/100\n",
      "1/1 [==============================] - 0s 23ms/step - loss: 0.4851 - accuracy: 0.8555\n",
      "Epoch 69/100\n",
      "1/1 [==============================] - 0s 24ms/step - loss: 0.4851 - accuracy: 0.8555\n",
      "Epoch 70/100\n",
      "1/1 [==============================] - 0s 21ms/step - loss: 0.4851 - accuracy: 0.8555\n",
      "Epoch 71/100\n",
      "1/1 [==============================] - 0s 20ms/step - loss: 0.4851 - accuracy: 0.8555\n",
      "Epoch 72/100\n",
      "1/1 [==============================] - 0s 19ms/step - loss: 0.4851 - accuracy: 0.8555\n",
      "Epoch 73/100\n",
      "1/1 [==============================] - 0s 22ms/step - loss: 0.4851 - accuracy: 0.8555\n",
      "Epoch 74/100\n",
      "1/1 [==============================] - 0s 20ms/step - loss: 0.4850 - accuracy: 0.8555\n",
      "Epoch 75/100\n",
      "1/1 [==============================] - 0s 20ms/step - loss: 0.4850 - accuracy: 0.8555\n",
      "Epoch 76/100\n",
      "1/1 [==============================] - 0s 23ms/step - loss: 0.4850 - accuracy: 0.8555\n",
      "Epoch 77/100\n",
      "1/1 [==============================] - 0s 20ms/step - loss: 0.4850 - accuracy: 0.8555\n",
      "Epoch 78/100\n",
      "1/1 [==============================] - 0s 23ms/step - loss: 0.4850 - accuracy: 0.8555\n",
      "Epoch 79/100\n",
      "1/1 [==============================] - 0s 18ms/step - loss: 0.4850 - accuracy: 0.8555\n",
      "Epoch 80/100\n",
      "1/1 [==============================] - 0s 20ms/step - loss: 0.4850 - accuracy: 0.8555\n",
      "Epoch 81/100\n",
      "1/1 [==============================] - 0s 19ms/step - loss: 0.4850 - accuracy: 0.8555\n",
      "Epoch 82/100\n",
      "1/1 [==============================] - 0s 20ms/step - loss: 0.4849 - accuracy: 0.8556\n",
      "Epoch 83/100\n",
      "1/1 [==============================] - 0s 20ms/step - loss: 0.4849 - accuracy: 0.8556\n",
      "Epoch 84/100\n",
      "1/1 [==============================] - 0s 22ms/step - loss: 0.4849 - accuracy: 0.8556\n",
      "Epoch 85/100\n",
      "1/1 [==============================] - 0s 18ms/step - loss: 0.4849 - accuracy: 0.8556\n",
      "Epoch 86/100\n",
      "1/1 [==============================] - 0s 19ms/step - loss: 0.4849 - accuracy: 0.8557\n",
      "Epoch 87/100\n",
      "1/1 [==============================] - 0s 22ms/step - loss: 0.4849 - accuracy: 0.8557\n",
      "Epoch 88/100\n",
      "1/1 [==============================] - 0s 20ms/step - loss: 0.4849 - accuracy: 0.8557\n",
      "Epoch 89/100\n",
      "1/1 [==============================] - 0s 18ms/step - loss: 0.4849 - accuracy: 0.8557\n",
      "Epoch 90/100\n",
      "1/1 [==============================] - 0s 22ms/step - loss: 0.4848 - accuracy: 0.8557\n",
      "Epoch 91/100\n",
      "1/1 [==============================] - 0s 22ms/step - loss: 0.4848 - accuracy: 0.8557\n",
      "Epoch 92/100\n",
      "1/1 [==============================] - 0s 22ms/step - loss: 0.4848 - accuracy: 0.8557\n",
      "Epoch 93/100\n",
      "1/1 [==============================] - 0s 22ms/step - loss: 0.4848 - accuracy: 0.8557\n",
      "Epoch 94/100\n",
      "1/1 [==============================] - 0s 21ms/step - loss: 0.4848 - accuracy: 0.8557\n",
      "Epoch 95/100\n",
      "1/1 [==============================] - 0s 18ms/step - loss: 0.4848 - accuracy: 0.8557\n",
      "Epoch 96/100\n",
      "1/1 [==============================] - 0s 15ms/step - loss: 0.4848 - accuracy: 0.8557\n",
      "Epoch 97/100\n",
      "1/1 [==============================] - 0s 14ms/step - loss: 0.4848 - accuracy: 0.8557\n",
      "Epoch 98/100\n",
      "1/1 [==============================] - 0s 13ms/step - loss: 0.4847 - accuracy: 0.8557\n",
      "Epoch 99/100\n",
      "1/1 [==============================] - 0s 14ms/step - loss: 0.4847 - accuracy: 0.8557\n",
      "Epoch 100/100\n",
      "1/1 [==============================] - 0s 14ms/step - loss: 0.4847 - accuracy: 0.8558\n"
     ]
    }
   ],
   "source": [
    "w = model.get_weights()\n",
    "# model.layers[1].set_weights([np.array([[10.], [10.]]), np.array([-5])])\n",
    "# model.layers[2].set_weights([np.array([[0.67]])])\n",
    "model.optimizer.learning_rate = 0.004\n",
    "model.fit(x_train, y_train, batch_size=60000, epochs=100)\n",
    "y_pred = model(x_train).numpy()\n",
    "np.set_printoptions(precision=3)\n"
   ],
   "metadata": {
    "collapsed": false
   }
  },
  {
   "cell_type": "code",
   "execution_count": 254,
   "outputs": [
    {
     "name": "stdout",
     "output_type": "stream",
     "text": [
      "train  entropy=1.0 accuracy=0.8558 loss=0.4847 entropy_loss=0.4847\n",
      "test  entropy=1.0 accuracy=0.8526 loss=0.4965 entropy_loss=0.4965\n"
     ]
    }
   ],
   "source": [
    "def print_res(x, y_true, name):\n",
    "    scores = model(x).numpy()\n",
    "    y_pred = scores >= 0.5\n",
    "    loss = loss_func(y_true, scores).numpy()\n",
    "    loss_av = np.average(loss)\n",
    "    e_loss = loss_func_entropy(y_true, scores)\n",
    "    e_loss_av = np.average(e_loss)\n",
    "    accuracy = sklearn.metrics.accuracy_score(y_true, y_pred)\n",
    "    entropy = calibration.get_binary_entropy(y_true)\n",
    "    print(f\"{name}  entropy={entropy:.4} accuracy={accuracy:.4} loss={loss_av:.4} entropy_loss={e_loss_av:.4}\")\n",
    "\n",
    "print_res(x_train, y_train, \"train\")\n",
    "print_res(x_test, y_test, \"test\")\n"
   ],
   "metadata": {
    "collapsed": false
   }
  },
  {
   "cell_type": "code",
   "execution_count": 255,
   "outputs": [
    {
     "name": "stdout",
     "output_type": "stream",
     "text": [
      "***** train ******\n"
     ]
    },
    {
     "data": {
      "text/plain": "<Figure size 640x480 with 1 Axes>",
      "image/png": "[encoded data removed]"
     },
     "metadata": {},
     "output_type": "display_data"
    },
    {
     "name": "stdout",
     "output_type": "stream",
     "text": [
      "loss=0.4847 loss_calib=0.4806 accuracy=0.8558\n",
      "***** test ******\n"
     ]
    },
    {
     "data": {
      "text/plain": "<Figure size 640x480 with 1 Axes>",
      "image/png": "[encoded data removed]"
     },
     "metadata": {},
     "output_type": "display_data"
    },
    {
     "name": "stdout",
     "output_type": "stream",
     "text": [
      "loss=0.4965 loss_calib=0.4953 accuracy=0.8526\n"
     ]
    }
   ],
   "source": [
    "scores_train = model(x_train).numpy()\n",
    "calib_func = calibration.get_calibration_function(y_train.squeeze(1), scores_train.squeeze(1))\n",
    "\n",
    "def print_calib(x, y_true, name):\n",
    "    print(f\"***** {name} ******\")\n",
    "    scores = model(x).numpy().squeeze(1)\n",
    "    y_pred = scores >= 0.5\n",
    "    accuracy = sklearn.metrics.accuracy_score(y_true, y_pred)\n",
    "    calib_scores = np.vectorize(calib_func)(scores).astype(np.float32)\n",
    "    calibration.plot_calibrated_curve(scores, calib_scores)\n",
    "    loss = loss_func(y_true, scores[:, None])\n",
    "    loss_calib = loss_func(y_true, calib_scores[:, None])\n",
    "    print(f\"loss={np.average(loss):.4} loss_calib={np.average(loss_calib):.4} accuracy={accuracy:.4}\")\n",
    "\n",
    "print_calib(x_train, y_train, \"train\")\n",
    "print_calib(x_test, y_test, \"test\")\n",
    "\n"
   ],
   "metadata": {
    "collapsed": false
   }
  },
  {
   "cell_type": "code",
   "execution_count": 64,
   "outputs": [],
   "source": [
    "w = model.weights\n",
    "w0 = w[0].numpy()\n",
    "w1 = w[1].numpy()"
   ],
   "metadata": {
    "collapsed": false
   }
  },
  {
   "cell_type": "code",
   "execution_count": 1,
   "outputs": [
    {
     "name": "stdout",
     "output_type": "stream",
     "text": [
      "3.10.6 (main, Nov 14 2022, 16:10:14) [GCC 11.3.0]\n"
     ]
    },
    {
     "ename": "KeyError",
     "evalue": "'aab'",
     "output_type": "error",
     "traceback": [
      "\u001B[0;31m---------------------------------------------------------------------------\u001B[0m",
      "\u001B[0;31mKeyError\u001B[0m                                  Traceback (most recent call last)",
      "Cell \u001B[0;32mIn[1], line 4\u001B[0m\n\u001B[1;32m      2\u001B[0m \u001B[38;5;28mprint\u001B[39m(sys\u001B[38;5;241m.\u001B[39mversion)\n\u001B[1;32m      3\u001B[0m d \u001B[38;5;241m=\u001B[39m {\u001B[38;5;124m\"\u001B[39m\u001B[38;5;124maa\u001B[39m\u001B[38;5;124m\"\u001B[39m: \u001B[38;5;241m3\u001B[39m, \u001B[38;5;124m\"\u001B[39m\u001B[38;5;124mbb\u001B[39m\u001B[38;5;124m\"\u001B[39m: \u001B[38;5;241m5\u001B[39m}\n\u001B[0;32m----> 4\u001B[0m \u001B[38;5;28mprint\u001B[39m(\u001B[43md\u001B[49m\u001B[43m[\u001B[49m\u001B[38;5;124;43m\"\u001B[39;49m\u001B[38;5;124;43maab\u001B[39;49m\u001B[38;5;124;43m\"\u001B[39;49m\u001B[43m]\u001B[49m \u001B[38;5;241m+\u001B[39m d[\u001B[38;5;124m\"\u001B[39m\u001B[38;5;124mbb\u001B[39m\u001B[38;5;124m\"\u001B[39m])\n",
      "\u001B[0;31mKeyError\u001B[0m: 'aab'"
     ]
    }
   ],
   "source": [
    "import sys\n",
    "print(sys.version)\n",
    "d = {\"aa\": 3, \"bb\": 5}\n",
    "print(d[\"aab\"] + d[\"bb\"])"
   ],
   "metadata": {
    "collapsed": false
   }
  },
  {
   "cell_type": "code",
   "execution_count": null,
   "outputs": [],
   "source": [],
   "metadata": {
    "collapsed": false
   }
  }
 ],
 "metadata": {
  "kernelspec": {
   "display_name": "Python 3",
   "language": "python",
   "name": "python3"
  },
  "language_info": {
   "codemirror_mode": {
    "name": "ipython",
    "version": 2
   },
   "file_extension": ".py",
   "mimetype": "text/x-python",
   "name": "python",
   "nbconvert_exporter": "python",
   "pygments_lexer": "ipython2",
   "version": "2.7.6"
  }
 },
 "nbformat": 4,
 "nbformat_minor": 0
}
