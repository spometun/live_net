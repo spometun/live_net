{
 "cells": [
  {
   "cell_type": "code",
   "execution_count": 1,
   "outputs": [
    {
     "name": "stderr",
     "output_type": "stream",
     "text": [
      "2022-11-27 22:21:16.165057: I tensorflow/core/platform/cpu_feature_guard.cc:193] This TensorFlow binary is optimized with oneAPI Deep Neural Network Library (oneDNN) to use the following CPU instructions in performance-critical operations:  AVX2 AVX512F AVX512_VNNI FMA\n",
      "To enable them in other operations, rebuild TensorFlow with the appropriate compiler flags.\n",
      "2022-11-27 22:21:16.246960: I tensorflow/core/util/port.cc:104] oneDNN custom operations are on. You may see slightly different numerical results due to floating-point round-off errors from different computation orders. To turn them off, set the environment variable `TF_ENABLE_ONEDNN_OPTS=0`.\n",
      "2022-11-27 22:21:16.249190: W tensorflow/compiler/xla/stream_executor/platform/default/dso_loader.cc:64] Could not load dynamic library 'libcudart.so.11.0'; dlerror: libcudart.so.11.0: cannot open shared object file: No such file or directory\n",
      "2022-11-27 22:21:16.249200: I tensorflow/compiler/xla/stream_executor/cuda/cudart_stub.cc:29] Ignore above cudart dlerror if you do not have a GPU set up on your machine.\n",
      "2022-11-27 22:21:16.695100: W tensorflow/compiler/xla/stream_executor/platform/default/dso_loader.cc:64] Could not load dynamic library 'libnvinfer.so.7'; dlerror: libnvinfer.so.7: cannot open shared object file: No such file or directory\n",
      "2022-11-27 22:21:16.695135: W tensorflow/compiler/xla/stream_executor/platform/default/dso_loader.cc:64] Could not load dynamic library 'libnvinfer_plugin.so.7'; dlerror: libnvinfer_plugin.so.7: cannot open shared object file: No such file or directory\n",
      "2022-11-27 22:21:16.695138: W tensorflow/compiler/tf2tensorrt/utils/py_utils.cc:38] TF-TRT Warning: Cannot dlopen some TensorRT libraries. If you would like to use Nvidia GPU with TensorRT, please make sure the missing libraries mentioned above are installed properly.\n"
     ]
    }
   ],
   "source": [
    "import numpy as np\n",
    "import importlib\n",
    "import calibration\n",
    "importlib.reload(calibration)\n",
    "import tensorflow as tf\n",
    "from tensorflow import keras\n",
    "from keras import layers\n",
    "import sklearn\n",
    "import sklearn.metrics\n",
    "tf.keras.utils.set_random_seed(1)\n",
    "tf.config.experimental.enable_op_determinism()\n"
   ],
   "metadata": {
    "collapsed": false
   }
  },
  {
   "cell_type": "code",
   "execution_count": 2,
   "outputs": [],
   "source": [
    "(x_train, y_train), (x_test, y_test) = keras.datasets.mnist.load_data()\n",
    "x_test = x_train[..., np.newaxis]\n",
    "x_train = x_train[..., np.newaxis]\n",
    "y_test = y_test[..., np.newaxis]\n",
    "y_train = y_train[..., np.newaxis]\n",
    "\n",
    "def group_in_two(y):\n",
    "    y[y < 5] = 0\n",
    "    y[y >= 5] = 1\n",
    "\n",
    "group_in_two(y_train)\n",
    "group_in_two(y_test)\n"
   ],
   "metadata": {
    "collapsed": false
   }
  },
  {
   "cell_type": "code",
   "execution_count": 36,
   "outputs": [],
   "source": [
    "input_shape = x_train.shape[1:3]\n",
    "model = keras.Sequential([\n",
    "    layers.Input(shape=input_shape),\n",
    "    layers.Flatten(),\n",
    "    layers.Dense(2, activation=keras.activations.relu),\n",
    "    layers.Dense(4, activation=keras.activations.relu),\n",
    "    layers.Dense(4, activation=keras.activations.relu),\n",
    "    layers.Dense(4, activation=keras.activations.relu),\n",
    "    layers.Dense(4, activation=keras.activations.relu),\n",
    "    layers.Dense(1, activation=keras.activations.sigmoid),\n",
    "    ]\n",
    ")\n",
    "def loss_func(y_true, y_pred):\n",
    "    y_pred = tf.convert_to_tensor(y_pred)\n",
    "    y_true = tf.cast(y_true, y_pred.dtype)\n",
    "    y_true = y_true[:, 0]\n",
    "    eps = 1e-6\n",
    "    p0 = tf.clip_by_value(1 - y_pred[:,0] + eps, 0, 1)\n",
    "    p1 = tf.clip_by_value(y_pred[:,0] + eps, 0, 1)\n",
    "    loss = -tf.math.xlogy(y_true, p1) - tf.math.xlogy(1 - y_true, p0)\n",
    "    loss /= tf.math.log(2.0)\n",
    "    return loss\n",
    "\n",
    "optimizer = keras.optimizers.RMSprop(learning_rate=0.001)\n",
    "model.compile(loss=loss_func, optimizer=optimizer)\n"
   ],
   "metadata": {
    "collapsed": false
   }
  },
  {
   "cell_type": "code",
   "execution_count": 41,
   "outputs": [
    {
     "name": "stdout",
     "output_type": "stream",
     "text": [
      "Epoch 1/100\n",
      "1/1 [==============================] - 0s 67ms/step - loss: 0.7877\n",
      "Epoch 2/100\n",
      "1/1 [==============================] - 0s 42ms/step - loss: 0.8726\n",
      "Epoch 3/100\n",
      "1/1 [==============================] - 0s 39ms/step - loss: 1.2889\n",
      "Epoch 4/100\n",
      "1/1 [==============================] - 0s 41ms/step - loss: 0.7815\n",
      "Epoch 5/100\n",
      "1/1 [==============================] - 0s 39ms/step - loss: 0.7793\n",
      "Epoch 6/100\n",
      "1/1 [==============================] - 0s 37ms/step - loss: 0.7773\n",
      "Epoch 7/100\n",
      "1/1 [==============================] - 0s 36ms/step - loss: 0.7754\n",
      "Epoch 8/100\n",
      "1/1 [==============================] - 0s 39ms/step - loss: 0.7737\n",
      "Epoch 9/100\n",
      "1/1 [==============================] - 0s 40ms/step - loss: 0.7724\n",
      "Epoch 10/100\n",
      "1/1 [==============================] - 0s 42ms/step - loss: 0.7718\n",
      "Epoch 11/100\n",
      "1/1 [==============================] - 0s 40ms/step - loss: 0.7721\n",
      "Epoch 12/100\n",
      "1/1 [==============================] - 0s 37ms/step - loss: 0.7770\n",
      "Epoch 13/100\n",
      "1/1 [==============================] - 0s 38ms/step - loss: 0.7813\n",
      "Epoch 14/100\n",
      "1/1 [==============================] - 0s 39ms/step - loss: 0.8069\n",
      "Epoch 15/100\n",
      "1/1 [==============================] - 0s 38ms/step - loss: 0.7756\n",
      "Epoch 16/100\n",
      "1/1 [==============================] - 0s 37ms/step - loss: 0.7927\n",
      "Epoch 17/100\n",
      "1/1 [==============================] - 0s 37ms/step - loss: 0.7740\n",
      "Epoch 18/100\n",
      "1/1 [==============================] - 0s 38ms/step - loss: 0.7902\n",
      "Epoch 19/100\n",
      "1/1 [==============================] - 0s 36ms/step - loss: 0.7708\n",
      "Epoch 20/100\n",
      "1/1 [==============================] - 0s 40ms/step - loss: 0.7862\n",
      "Epoch 21/100\n",
      "1/1 [==============================] - 0s 39ms/step - loss: 0.7667\n",
      "Epoch 22/100\n",
      "1/1 [==============================] - 0s 38ms/step - loss: 0.7801\n",
      "Epoch 23/100\n",
      "1/1 [==============================] - 0s 39ms/step - loss: 0.7636\n",
      "Epoch 24/100\n",
      "1/1 [==============================] - 0s 39ms/step - loss: 0.7777\n",
      "Epoch 25/100\n",
      "1/1 [==============================] - 0s 39ms/step - loss: 0.7612\n",
      "Epoch 26/100\n",
      "1/1 [==============================] - 0s 37ms/step - loss: 0.7764\n",
      "Epoch 27/100\n",
      "1/1 [==============================] - 0s 36ms/step - loss: 0.7593\n",
      "Epoch 28/100\n",
      "1/1 [==============================] - 0s 36ms/step - loss: 0.7771\n",
      "Epoch 29/100\n",
      "1/1 [==============================] - 0s 36ms/step - loss: 0.7577\n",
      "Epoch 30/100\n",
      "1/1 [==============================] - 0s 38ms/step - loss: 0.7756\n",
      "Epoch 31/100\n",
      "1/1 [==============================] - 0s 40ms/step - loss: 0.7532\n",
      "Epoch 32/100\n",
      "1/1 [==============================] - 0s 37ms/step - loss: 0.7684\n",
      "Epoch 33/100\n",
      "1/1 [==============================] - 0s 36ms/step - loss: 0.7506\n",
      "Epoch 34/100\n",
      "1/1 [==============================] - 0s 39ms/step - loss: 0.7677\n",
      "Epoch 35/100\n",
      "1/1 [==============================] - 0s 37ms/step - loss: 0.7484\n",
      "Epoch 36/100\n",
      "1/1 [==============================] - 0s 43ms/step - loss: 0.7665\n",
      "Epoch 37/100\n",
      "1/1 [==============================] - 0s 37ms/step - loss: 0.7469\n",
      "Epoch 38/100\n",
      "1/1 [==============================] - 0s 39ms/step - loss: 0.7668\n",
      "Epoch 39/100\n",
      "1/1 [==============================] - 0s 36ms/step - loss: 0.7438\n",
      "Epoch 40/100\n",
      "1/1 [==============================] - 0s 39ms/step - loss: 0.7607\n",
      "Epoch 41/100\n",
      "1/1 [==============================] - 0s 40ms/step - loss: 0.7397\n",
      "Epoch 42/100\n",
      "1/1 [==============================] - 0s 38ms/step - loss: 0.7550\n",
      "Epoch 43/100\n",
      "1/1 [==============================] - 0s 39ms/step - loss: 0.7394\n",
      "Epoch 44/100\n",
      "1/1 [==============================] - 0s 38ms/step - loss: 0.7577\n",
      "Epoch 45/100\n",
      "1/1 [==============================] - 0s 39ms/step - loss: 0.7359\n",
      "Epoch 46/100\n",
      "1/1 [==============================] - 0s 35ms/step - loss: 0.7521\n",
      "Epoch 47/100\n",
      "1/1 [==============================] - 0s 35ms/step - loss: 0.7363\n",
      "Epoch 48/100\n",
      "1/1 [==============================] - 0s 38ms/step - loss: 0.7565\n",
      "Epoch 49/100\n",
      "1/1 [==============================] - 0s 42ms/step - loss: 0.7317\n",
      "Epoch 50/100\n",
      "1/1 [==============================] - 0s 40ms/step - loss: 0.7465\n",
      "Epoch 51/100\n",
      "1/1 [==============================] - 0s 39ms/step - loss: 0.7295\n",
      "Epoch 52/100\n",
      "1/1 [==============================] - 0s 40ms/step - loss: 0.7456\n",
      "Epoch 53/100\n",
      "1/1 [==============================] - 0s 40ms/step - loss: 0.7271\n",
      "Epoch 54/100\n",
      "1/1 [==============================] - 0s 39ms/step - loss: 0.7436\n",
      "Epoch 55/100\n",
      "1/1 [==============================] - 0s 40ms/step - loss: 0.7236\n",
      "Epoch 56/100\n",
      "1/1 [==============================] - 0s 38ms/step - loss: 0.7380\n",
      "Epoch 57/100\n",
      "1/1 [==============================] - 0s 40ms/step - loss: 0.7241\n",
      "Epoch 58/100\n",
      "1/1 [==============================] - 0s 38ms/step - loss: 0.7425\n",
      "Epoch 59/100\n",
      "1/1 [==============================] - 0s 38ms/step - loss: 0.7209\n",
      "Epoch 60/100\n",
      "1/1 [==============================] - 0s 39ms/step - loss: 0.7372\n",
      "Epoch 61/100\n",
      "1/1 [==============================] - 0s 39ms/step - loss: 0.7175\n",
      "Epoch 62/100\n",
      "1/1 [==============================] - 0s 40ms/step - loss: 0.7320\n",
      "Epoch 63/100\n",
      "1/1 [==============================] - 0s 38ms/step - loss: 0.7160\n",
      "Epoch 64/100\n",
      "1/1 [==============================] - 0s 39ms/step - loss: 0.7309\n",
      "Epoch 65/100\n",
      "1/1 [==============================] - 0s 40ms/step - loss: 0.7143\n",
      "Epoch 66/100\n",
      "1/1 [==============================] - 0s 38ms/step - loss: 0.7289\n",
      "Epoch 67/100\n",
      "1/1 [==============================] - 0s 40ms/step - loss: 0.7134\n",
      "Epoch 68/100\n",
      "1/1 [==============================] - 0s 36ms/step - loss: 0.7300\n",
      "Epoch 69/100\n",
      "1/1 [==============================] - 0s 40ms/step - loss: 0.7106\n",
      "Epoch 70/100\n",
      "1/1 [==============================] - 0s 38ms/step - loss: 0.7256\n",
      "Epoch 71/100\n",
      "1/1 [==============================] - 0s 38ms/step - loss: 0.7076\n",
      "Epoch 72/100\n",
      "1/1 [==============================] - 0s 39ms/step - loss: 0.7212\n",
      "Epoch 73/100\n",
      "1/1 [==============================] - 0s 39ms/step - loss: 0.7052\n",
      "Epoch 74/100\n",
      "1/1 [==============================] - 0s 41ms/step - loss: 0.7184\n",
      "Epoch 75/100\n",
      "1/1 [==============================] - 0s 39ms/step - loss: 0.7032\n",
      "Epoch 76/100\n",
      "1/1 [==============================] - 0s 39ms/step - loss: 0.7164\n",
      "Epoch 77/100\n",
      "1/1 [==============================] - 0s 39ms/step - loss: 0.7025\n",
      "Epoch 78/100\n",
      "1/1 [==============================] - 0s 38ms/step - loss: 0.7173\n",
      "Epoch 79/100\n",
      "1/1 [==============================] - 0s 41ms/step - loss: 0.6996\n",
      "Epoch 80/100\n",
      "1/1 [==============================] - 0s 38ms/step - loss: 0.7130\n",
      "Epoch 81/100\n",
      "1/1 [==============================] - 0s 39ms/step - loss: 0.6988\n",
      "Epoch 82/100\n",
      "1/1 [==============================] - 0s 39ms/step - loss: 0.7134\n",
      "Epoch 83/100\n",
      "1/1 [==============================] - 0s 38ms/step - loss: 0.6965\n",
      "Epoch 84/100\n",
      "1/1 [==============================] - 0s 40ms/step - loss: 0.7097\n",
      "Epoch 85/100\n",
      "1/1 [==============================] - 0s 39ms/step - loss: 0.6950\n",
      "Epoch 86/100\n",
      "1/1 [==============================] - 0s 38ms/step - loss: 0.7089\n",
      "Epoch 87/100\n",
      "1/1 [==============================] - 0s 39ms/step - loss: 0.6926\n",
      "Epoch 88/100\n",
      "1/1 [==============================] - 0s 39ms/step - loss: 0.7047\n",
      "Epoch 89/100\n",
      "1/1 [==============================] - 0s 39ms/step - loss: 0.6904\n",
      "Epoch 90/100\n",
      "1/1 [==============================] - 0s 40ms/step - loss: 0.7020\n",
      "Epoch 91/100\n",
      "1/1 [==============================] - 0s 38ms/step - loss: 0.6898\n",
      "Epoch 92/100\n",
      "1/1 [==============================] - 0s 40ms/step - loss: 0.7035\n",
      "Epoch 93/100\n",
      "1/1 [==============================] - 0s 36ms/step - loss: 0.6883\n",
      "Epoch 94/100\n",
      "1/1 [==============================] - 0s 37ms/step - loss: 0.7026\n",
      "Epoch 95/100\n",
      "1/1 [==============================] - 0s 35ms/step - loss: 0.6855\n",
      "Epoch 96/100\n",
      "1/1 [==============================] - 0s 37ms/step - loss: 0.6966\n",
      "Epoch 97/100\n",
      "1/1 [==============================] - 0s 36ms/step - loss: 0.6833\n",
      "Epoch 98/100\n",
      "1/1 [==============================] - 0s 38ms/step - loss: 0.6937\n",
      "Epoch 99/100\n",
      "1/1 [==============================] - 0s 36ms/step - loss: 0.6832\n",
      "Epoch 100/100\n",
      "1/1 [==============================] - 0s 36ms/step - loss: 0.6977\n"
     ]
    },
    {
     "data": {
      "text/plain": "<keras.callbacks.History at 0x7fa332a065f0>"
     },
     "execution_count": 41,
     "metadata": {},
     "output_type": "execute_result"
    }
   ],
   "source": [
    "model.optimizer.learning_rate = 0.0011\n",
    "model.fit(x_train, y_train, batch_size=60000, epochs=100)"
   ],
   "metadata": {
    "collapsed": false
   }
  },
  {
   "cell_type": "code",
   "execution_count": 20,
   "outputs": [
    {
     "data": {
      "text/plain": "0.48077837"
     },
     "execution_count": 20,
     "metadata": {},
     "output_type": "execute_result"
    }
   ],
   "source": [
    "y_pred = model(x_train).numpy()\n",
    "scores = y_pred[:, 0]\n",
    "y_pred_bin = scores >= 0.5\n",
    "loss = loss_func(y_train, y_pred).numpy()\n",
    "np.average(loss)"
   ],
   "metadata": {
    "collapsed": false
   }
  },
  {
   "cell_type": "code",
   "execution_count": 21,
   "outputs": [
    {
     "data": {
      "text/plain": "0.87445"
     },
     "execution_count": 21,
     "metadata": {},
     "output_type": "execute_result"
    }
   ],
   "source": [
    "sklearn.metrics.accuracy_score(y_train, y_pred_bin)"
   ],
   "metadata": {
    "collapsed": false
   }
  },
  {
   "cell_type": "code",
   "execution_count": 22,
   "outputs": [
    {
     "data": {
      "text/plain": "<Figure size 432x288 with 1 Axes>",
      "image/png": "[encoded data removed]"
     },
     "metadata": {
      "needs_background": "light"
     },
     "output_type": "display_data"
    },
    {
     "data": {
      "text/plain": "0.4622363"
     },
     "execution_count": 22,
     "metadata": {},
     "output_type": "execute_result"
    }
   ],
   "source": [
    "calibration.get_binary_entropy(y_train)\n",
    "calib_scores = calibration.get_calibrated_scores(y_train.squeeze(1), scores)\n",
    "calibration.plot_calibrated_curve(scores, calib_scores)\n",
    "y_pred_calib = calib_scores[:, np.newaxis]\n",
    "loss_calib = loss_func(y_train, y_pred_calib)\n",
    "np.average(loss_calib)\n"
   ],
   "metadata": {
    "collapsed": false
   }
  },
  {
   "cell_type": "code",
   "execution_count": 210,
   "outputs": [],
   "source": [
    "w = model.weights\n",
    "w0 = w[0].numpy()\n",
    "w1 = w[1].numpy()"
   ],
   "metadata": {
    "collapsed": false
   }
  },
  {
   "cell_type": "code",
   "execution_count": null,
   "outputs": [],
   "source": [],
   "metadata": {
    "collapsed": false
   }
  }
 ],
 "metadata": {
  "kernelspec": {
   "display_name": "Python 3",
   "language": "python",
   "name": "python3"
  },
  "language_info": {
   "codemirror_mode": {
    "name": "ipython",
    "version": 2
   },
   "file_extension": ".py",
   "mimetype": "text/x-python",
   "name": "python",
   "nbconvert_exporter": "python",
   "pygments_lexer": "ipython2",
   "version": "2.7.6"
  }
 },
 "nbformat": 4,
 "nbformat_minor": 0
}
